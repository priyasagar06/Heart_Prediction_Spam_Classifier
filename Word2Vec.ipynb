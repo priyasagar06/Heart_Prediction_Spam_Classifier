{
 "cells": [
  {
   "cell_type": "code",
   "execution_count": 1,
   "id": "54936be5",
   "metadata": {},
   "outputs": [],
   "source": [
    "import gensim\n",
    "import pandas as pd"
   ]
  },
  {
   "cell_type": "markdown",
   "id": "a0bad180",
   "metadata": {},
   "source": [
    "## dataset link: \n",
    "http://snap.stanford.edu/data/amazon/productGraph/categoryFiles/reviews_Sports_and_Outdoors_5.json.gz"
   ]
  },
  {
   "cell_type": "code",
   "execution_count": 4,
   "id": "19a72b42",
   "metadata": {},
   "outputs": [
    {
     "data": {
      "text/html": [
       "<div>\n",
       "<style scoped>\n",
       "    .dataframe tbody tr th:only-of-type {\n",
       "        vertical-align: middle;\n",
       "    }\n",
       "\n",
       "    .dataframe tbody tr th {\n",
       "        vertical-align: top;\n",
       "    }\n",
       "\n",
       "    .dataframe thead th {\n",
       "        text-align: right;\n",
       "    }\n",
       "</style>\n",
       "<table border=\"1\" class=\"dataframe\">\n",
       "  <thead>\n",
       "    <tr style=\"text-align: right;\">\n",
       "      <th></th>\n",
       "      <th>reviewerID</th>\n",
       "      <th>asin</th>\n",
       "      <th>reviewerName</th>\n",
       "      <th>helpful</th>\n",
       "      <th>reviewText</th>\n",
       "      <th>overall</th>\n",
       "      <th>summary</th>\n",
       "      <th>unixReviewTime</th>\n",
       "      <th>reviewTime</th>\n",
       "    </tr>\n",
       "  </thead>\n",
       "  <tbody>\n",
       "    <tr>\n",
       "      <th>0</th>\n",
       "      <td>AIXZKN4ACSKI</td>\n",
       "      <td>1881509818</td>\n",
       "      <td>David Briner</td>\n",
       "      <td>[0, 0]</td>\n",
       "      <td>This came in on time and I am veru happy with ...</td>\n",
       "      <td>5</td>\n",
       "      <td>Woks very good</td>\n",
       "      <td>1390694400</td>\n",
       "      <td>01 26, 2014</td>\n",
       "    </tr>\n",
       "    <tr>\n",
       "      <th>1</th>\n",
       "      <td>A1L5P841VIO02V</td>\n",
       "      <td>1881509818</td>\n",
       "      <td>Jason A. Kramer</td>\n",
       "      <td>[1, 1]</td>\n",
       "      <td>I had a factory Glock tool that I was using fo...</td>\n",
       "      <td>5</td>\n",
       "      <td>Works as well as the factory tool</td>\n",
       "      <td>1328140800</td>\n",
       "      <td>02 2, 2012</td>\n",
       "    </tr>\n",
       "    <tr>\n",
       "      <th>2</th>\n",
       "      <td>AB2W04NI4OEAD</td>\n",
       "      <td>1881509818</td>\n",
       "      <td>J. Fernald</td>\n",
       "      <td>[2, 2]</td>\n",
       "      <td>If you don't have a 3/32 punch or would like t...</td>\n",
       "      <td>4</td>\n",
       "      <td>It's a punch, that's all.</td>\n",
       "      <td>1330387200</td>\n",
       "      <td>02 28, 2012</td>\n",
       "    </tr>\n",
       "    <tr>\n",
       "      <th>3</th>\n",
       "      <td>A148SVSWKTJKU6</td>\n",
       "      <td>1881509818</td>\n",
       "      <td>Jusitn A. Watts \"Maverick9614\"</td>\n",
       "      <td>[0, 0]</td>\n",
       "      <td>This works no better than any 3/32 punch you w...</td>\n",
       "      <td>4</td>\n",
       "      <td>It's a punch with a Glock logo.</td>\n",
       "      <td>1328400000</td>\n",
       "      <td>02 5, 2012</td>\n",
       "    </tr>\n",
       "    <tr>\n",
       "      <th>4</th>\n",
       "      <td>AAAWJ6LW9WMOO</td>\n",
       "      <td>1881509818</td>\n",
       "      <td>Material Man</td>\n",
       "      <td>[0, 0]</td>\n",
       "      <td>I purchased this thinking maybe I need a speci...</td>\n",
       "      <td>4</td>\n",
       "      <td>Ok,tool does what a regular punch does.</td>\n",
       "      <td>1366675200</td>\n",
       "      <td>04 23, 2013</td>\n",
       "    </tr>\n",
       "  </tbody>\n",
       "</table>\n",
       "</div>"
      ],
      "text/plain": [
       "       reviewerID        asin                    reviewerName helpful  \\\n",
       "0    AIXZKN4ACSKI  1881509818                    David Briner  [0, 0]   \n",
       "1  A1L5P841VIO02V  1881509818                 Jason A. Kramer  [1, 1]   \n",
       "2   AB2W04NI4OEAD  1881509818                      J. Fernald  [2, 2]   \n",
       "3  A148SVSWKTJKU6  1881509818  Jusitn A. Watts \"Maverick9614\"  [0, 0]   \n",
       "4   AAAWJ6LW9WMOO  1881509818                    Material Man  [0, 0]   \n",
       "\n",
       "                                          reviewText  overall  \\\n",
       "0  This came in on time and I am veru happy with ...        5   \n",
       "1  I had a factory Glock tool that I was using fo...        5   \n",
       "2  If you don't have a 3/32 punch or would like t...        4   \n",
       "3  This works no better than any 3/32 punch you w...        4   \n",
       "4  I purchased this thinking maybe I need a speci...        4   \n",
       "\n",
       "                                   summary  unixReviewTime   reviewTime  \n",
       "0                           Woks very good      1390694400  01 26, 2014  \n",
       "1        Works as well as the factory tool      1328140800   02 2, 2012  \n",
       "2                It's a punch, that's all.      1330387200  02 28, 2012  \n",
       "3          It's a punch with a Glock logo.      1328400000   02 5, 2012  \n",
       "4  Ok,tool does what a regular punch does.      1366675200  04 23, 2013  "
      ]
     },
     "execution_count": 4,
     "metadata": {},
     "output_type": "execute_result"
    }
   ],
   "source": [
    "df = pd.read_json(\"Sports_and_Outdoors_5.json\", lines=True)\n",
    "df.head()"
   ]
  },
  {
   "cell_type": "code",
   "execution_count": 5,
   "id": "833ed021",
   "metadata": {},
   "outputs": [
    {
     "data": {
      "text/plain": [
       "(296337, 9)"
      ]
     },
     "execution_count": 5,
     "metadata": {},
     "output_type": "execute_result"
    }
   ],
   "source": [
    "df.shape"
   ]
  },
  {
   "cell_type": "code",
   "execution_count": 6,
   "id": "a51815d7",
   "metadata": {},
   "outputs": [
    {
     "name": "stdout",
     "output_type": "stream",
     "text": [
      "<class 'pandas.core.frame.DataFrame'>\n",
      "RangeIndex: 296337 entries, 0 to 296336\n",
      "Data columns (total 9 columns):\n",
      " #   Column          Non-Null Count   Dtype \n",
      "---  ------          --------------   ----- \n",
      " 0   reviewerID      296337 non-null  object\n",
      " 1   asin            296337 non-null  object\n",
      " 2   reviewerName    294935 non-null  object\n",
      " 3   helpful         296337 non-null  object\n",
      " 4   reviewText      296337 non-null  object\n",
      " 5   overall         296337 non-null  int64 \n",
      " 6   summary         296337 non-null  object\n",
      " 7   unixReviewTime  296337 non-null  int64 \n",
      " 8   reviewTime      296337 non-null  object\n",
      "dtypes: int64(2), object(7)\n",
      "memory usage: 20.3+ MB\n"
     ]
    }
   ],
   "source": [
    "df.info()"
   ]
  },
  {
   "cell_type": "code",
   "execution_count": 7,
   "id": "6c633262",
   "metadata": {},
   "outputs": [
    {
     "data": {
      "text/html": [
       "<div>\n",
       "<style scoped>\n",
       "    .dataframe tbody tr th:only-of-type {\n",
       "        vertical-align: middle;\n",
       "    }\n",
       "\n",
       "    .dataframe tbody tr th {\n",
       "        vertical-align: top;\n",
       "    }\n",
       "\n",
       "    .dataframe thead th {\n",
       "        text-align: right;\n",
       "    }\n",
       "</style>\n",
       "<table border=\"1\" class=\"dataframe\">\n",
       "  <thead>\n",
       "    <tr style=\"text-align: right;\">\n",
       "      <th></th>\n",
       "      <th>overall</th>\n",
       "      <th>unixReviewTime</th>\n",
       "    </tr>\n",
       "  </thead>\n",
       "  <tbody>\n",
       "    <tr>\n",
       "      <th>count</th>\n",
       "      <td>296337.000000</td>\n",
       "      <td>2.963370e+05</td>\n",
       "    </tr>\n",
       "    <tr>\n",
       "      <th>mean</th>\n",
       "      <td>4.393451</td>\n",
       "      <td>1.364133e+09</td>\n",
       "    </tr>\n",
       "    <tr>\n",
       "      <th>std</th>\n",
       "      <td>0.986905</td>\n",
       "      <td>3.534551e+07</td>\n",
       "    </tr>\n",
       "    <tr>\n",
       "      <th>min</th>\n",
       "      <td>1.000000</td>\n",
       "      <td>1.015459e+09</td>\n",
       "    </tr>\n",
       "    <tr>\n",
       "      <th>25%</th>\n",
       "      <td>4.000000</td>\n",
       "      <td>1.353802e+09</td>\n",
       "    </tr>\n",
       "    <tr>\n",
       "      <th>50%</th>\n",
       "      <td>5.000000</td>\n",
       "      <td>1.371427e+09</td>\n",
       "    </tr>\n",
       "    <tr>\n",
       "      <th>75%</th>\n",
       "      <td>5.000000</td>\n",
       "      <td>1.388966e+09</td>\n",
       "    </tr>\n",
       "    <tr>\n",
       "      <th>max</th>\n",
       "      <td>5.000000</td>\n",
       "      <td>1.406074e+09</td>\n",
       "    </tr>\n",
       "  </tbody>\n",
       "</table>\n",
       "</div>"
      ],
      "text/plain": [
       "             overall  unixReviewTime\n",
       "count  296337.000000    2.963370e+05\n",
       "mean        4.393451    1.364133e+09\n",
       "std         0.986905    3.534551e+07\n",
       "min         1.000000    1.015459e+09\n",
       "25%         4.000000    1.353802e+09\n",
       "50%         5.000000    1.371427e+09\n",
       "75%         5.000000    1.388966e+09\n",
       "max         5.000000    1.406074e+09"
      ]
     },
     "execution_count": 7,
     "metadata": {},
     "output_type": "execute_result"
    }
   ],
   "source": [
    "df.describe()"
   ]
  },
  {
   "cell_type": "markdown",
   "id": "07c8765a",
   "metadata": {},
   "source": [
    "## Simple Preprocessing & Tokenization\n",
    "- converting all the words to lower case\n",
    "- trimming spaces\n",
    "- removing punctuations\n",
    "- remove stop words like 'and', 'or', 'is', 'the', 'a', 'an'\n",
    "- convert words to root forms like 'running' to 'run'."
   ]
  },
  {
   "cell_type": "code",
   "execution_count": 10,
   "id": "a6180985",
   "metadata": {},
   "outputs": [
    {
     "data": {
      "text/plain": [
       "'This came in on time and I am veru happy with it, I haved used it already and it makes taking out the pins in my glock 32 very easy'"
      ]
     },
     "execution_count": 10,
     "metadata": {},
     "output_type": "execute_result"
    }
   ],
   "source": [
    "df.reviewText[0]"
   ]
  },
  {
   "cell_type": "code",
   "execution_count": 13,
   "id": "9935959a",
   "metadata": {
    "collapsed": true
   },
   "outputs": [
    {
     "data": {
      "text/plain": [
       "['this',\n",
       " 'came',\n",
       " 'in',\n",
       " 'on',\n",
       " 'time',\n",
       " 'and',\n",
       " 'am',\n",
       " 'veru',\n",
       " 'happy',\n",
       " 'with',\n",
       " 'it',\n",
       " 'haved',\n",
       " 'used',\n",
       " 'it',\n",
       " 'already',\n",
       " 'and',\n",
       " 'it',\n",
       " 'makes',\n",
       " 'taking',\n",
       " 'out',\n",
       " 'the',\n",
       " 'pins',\n",
       " 'in',\n",
       " 'my',\n",
       " 'glock',\n",
       " 'very',\n",
       " 'easy']"
      ]
     },
     "execution_count": 13,
     "metadata": {},
     "output_type": "execute_result"
    }
   ],
   "source": [
    "gensim.utils.simple_preprocess(df.reviewText[0],)"
   ]
  },
  {
   "cell_type": "code",
   "execution_count": 11,
   "id": "457b72fe",
   "metadata": {},
   "outputs": [
    {
     "data": {
      "text/plain": [
       "0         [this, came, in, on, time, and, am, veru, happ...\n",
       "1         [had, factory, glock, tool, that, was, using, ...\n",
       "2         [if, you, don, have, punch, or, would, like, t...\n",
       "3         [this, works, no, better, than, any, punch, yo...\n",
       "4         [purchased, this, thinking, maybe, need, speci...\n",
       "                                ...                        \n",
       "296332    [this, is, water, bottle, done, right, it, is,...\n",
       "296333    [if, you, re, looking, for, an, insulated, wat...\n",
       "296334    [this, hydracentials, sporty, oz, double, insu...\n",
       "296335    [as, usual, received, this, item, free, in, ex...\n",
       "296336    [hydracentials, insulated, oz, water, bottle, ...\n",
       "Name: reviewText, Length: 296337, dtype: object"
      ]
     },
     "execution_count": 11,
     "metadata": {},
     "output_type": "execute_result"
    }
   ],
   "source": [
    "review_text = df.reviewText.apply(gensim.utils.simple_preprocess)\n",
    "review_text"
   ]
  },
  {
   "cell_type": "code",
   "execution_count": 74,
   "id": "9093eecc",
   "metadata": {},
   "outputs": [
    {
     "name": "stderr",
     "output_type": "stream",
     "text": [
      "[nltk_data] Downloading package stopwords to\n",
      "[nltk_data]     /home/shubham/nltk_data...\n",
      "[nltk_data]   Unzipping corpora/stopwords.zip.\n"
     ]
    }
   ],
   "source": [
    "# import nltk\n",
    "# from nltk.corpus import stopwords\n",
    "# nltk.download('stopwords')\n",
    "# stop_words = set(stopwords.words('english'))"
   ]
  },
  {
   "cell_type": "code",
   "execution_count": 79,
   "id": "7052deca",
   "metadata": {},
   "outputs": [
    {
     "name": "stderr",
     "output_type": "stream",
     "text": [
      "IOPub data rate exceeded.\n",
      "The notebook server will temporarily stop sending output\n",
      "to the client in order to avoid crashing it.\n",
      "To change this limit, set the config variable\n",
      "`--NotebookApp.iopub_data_rate_limit`.\n",
      "\n",
      "Current values:\n",
      "NotebookApp.iopub_data_rate_limit=1000000.0 (bytes/sec)\n",
      "NotebookApp.rate_limit_window=3.0 (secs)\n",
      "\n"
     ]
    }
   ],
   "source": [
    "# new_review_text=[]\n",
    "\n",
    "# for sentence in review_text:\n",
    "#     print(sentence)\n",
    "#     new_senetece = [word for word in sentence if word not in stop_words]\n",
    "#     new_review_text.append(new_review_text)"
   ]
  },
  {
   "cell_type": "markdown",
   "id": "24623229",
   "metadata": {},
   "source": [
    "## Training the Word2Vec Model\n"
   ]
  },
  {
   "cell_type": "code",
   "execution_count": 16,
   "id": "b25455e2",
   "metadata": {},
   "outputs": [],
   "source": [
    "model = gensim.models.Word2Vec(window=10,\n",
    "                               min_count=2)"
   ]
  },
  {
   "cell_type": "markdown",
   "id": "19d1879d",
   "metadata": {},
   "source": [
    "## Build Vocabulary\n"
   ]
  },
  {
   "cell_type": "code",
   "execution_count": 19,
   "id": "41568798",
   "metadata": {},
   "outputs": [],
   "source": [
    "model.build_vocab(review_text)"
   ]
  },
  {
   "cell_type": "markdown",
   "id": "bc86fee9",
   "metadata": {},
   "source": [
    "## Train the Word2Vec Model"
   ]
  },
  {
   "cell_type": "code",
   "execution_count": 20,
   "id": "b6c16825",
   "metadata": {},
   "outputs": [
    {
     "data": {
      "text/plain": [
       "5"
      ]
     },
     "execution_count": 20,
     "metadata": {},
     "output_type": "execute_result"
    }
   ],
   "source": [
    "model.epochs"
   ]
  },
  {
   "cell_type": "code",
   "execution_count": 21,
   "id": "81486829",
   "metadata": {},
   "outputs": [
    {
     "data": {
      "text/plain": [
       "296337"
      ]
     },
     "execution_count": 21,
     "metadata": {},
     "output_type": "execute_result"
    }
   ],
   "source": [
    "model.corpus_count"
   ]
  },
  {
   "cell_type": "code",
   "execution_count": 22,
   "id": "3218eb03",
   "metadata": {},
   "outputs": [
    {
     "data": {
      "text/plain": [
       "100"
      ]
     },
     "execution_count": 22,
     "metadata": {},
     "output_type": "execute_result"
    }
   ],
   "source": [
    "model.vector_size"
   ]
  },
  {
   "cell_type": "code",
   "execution_count": 23,
   "id": "2730d696",
   "metadata": {},
   "outputs": [
    {
     "data": {
      "text/plain": [
       "(91339307, 121496535)"
      ]
     },
     "execution_count": 23,
     "metadata": {},
     "output_type": "execute_result"
    }
   ],
   "source": [
    "model.train(review_text, total_examples=model.corpus_count, epochs=model.epochs)"
   ]
  },
  {
   "cell_type": "markdown",
   "id": "0087d9be",
   "metadata": {},
   "source": [
    "## Check Similar Words\n"
   ]
  },
  {
   "cell_type": "code",
   "execution_count": 36,
   "id": "fb11f7e8",
   "metadata": {},
   "outputs": [
    {
     "data": {
      "text/plain": [
       "[('terrible', 0.6956256031990051),\n",
       " ('horrible', 0.6848190426826477),\n",
       " ('shabby', 0.6655095815658569),\n",
       " ('greatest', 0.5339285731315613),\n",
       " ('good', 0.5174598097801208),\n",
       " ('funny', 0.517078161239624),\n",
       " ('lame', 0.5094628930091858),\n",
       " ('upset', 0.5083186626434326),\n",
       " ('poor', 0.49905991554260254),\n",
       " ('spectacular', 0.49051475524902344)]"
      ]
     },
     "execution_count": 36,
     "metadata": {},
     "output_type": "execute_result"
    }
   ],
   "source": [
    "model.wv.most_similar(\"bad\")"
   ]
  },
  {
   "cell_type": "code",
   "execution_count": 37,
   "id": "c2b7dde0",
   "metadata": {},
   "outputs": [
    {
     "data": {
      "text/plain": [
       "[('decent', 0.8643445372581482),\n",
       " ('great', 0.7861530184745789),\n",
       " ('nice', 0.7386904954910278),\n",
       " ('fantastic', 0.716711699962616),\n",
       " ('reasonable', 0.6301575899124146),\n",
       " ('terrific', 0.6268160939216614),\n",
       " ('excellent', 0.6212188005447388),\n",
       " ('superb', 0.6079545021057129),\n",
       " ('awesome', 0.6011907458305359),\n",
       " ('wonderful', 0.5676171183586121)]"
      ]
     },
     "execution_count": 37,
     "metadata": {},
     "output_type": "execute_result"
    }
   ],
   "source": [
    "model.wv.most_similar(\"good\")"
   ]
  },
  {
   "cell_type": "markdown",
   "id": "ebb8b540",
   "metadata": {},
   "source": [
    "## Similarity between words"
   ]
  },
  {
   "cell_type": "code",
   "execution_count": 34,
   "id": "cc2b9084",
   "metadata": {},
   "outputs": [
    {
     "data": {
      "text/plain": [
       "0.7861529"
      ]
     },
     "execution_count": 34,
     "metadata": {},
     "output_type": "execute_result"
    }
   ],
   "source": [
    "model.wv.similarity(w1=\"good\", w2=\"great\")"
   ]
  },
  {
   "cell_type": "code",
   "execution_count": 35,
   "id": "2017c064",
   "metadata": {},
   "outputs": [
    {
     "data": {
      "text/plain": [
       "0.51745975"
      ]
     },
     "execution_count": 35,
     "metadata": {},
     "output_type": "execute_result"
    }
   ],
   "source": [
    "model.wv.similarity(w1=\"good\", w2=\"bad\")"
   ]
  },
  {
   "cell_type": "code",
   "execution_count": 28,
   "id": "a31e22dd",
   "metadata": {},
   "outputs": [
    {
     "data": {
      "text/plain": [
       "0.544945"
      ]
     },
     "execution_count": 28,
     "metadata": {},
     "output_type": "execute_result"
    }
   ],
   "source": [
    "model.wv.similarity(w1=\"slow\", w2=\"fast\")"
   ]
  },
  {
   "cell_type": "code",
   "execution_count": 38,
   "id": "0ad7d1c7",
   "metadata": {},
   "outputs": [
    {
     "data": {
      "text/plain": [
       "0.18570927"
      ]
     },
     "execution_count": 38,
     "metadata": {},
     "output_type": "execute_result"
    }
   ],
   "source": [
    "model.wv.similarity(w1=\"yes\", w2=\"no\")"
   ]
  },
  {
   "cell_type": "markdown",
   "id": "db05972a",
   "metadata": {},
   "source": [
    "## Odd Man Out"
   ]
  },
  {
   "cell_type": "code",
   "execution_count": 41,
   "id": "cdbb91c2",
   "metadata": {},
   "outputs": [
    {
     "data": {
      "text/plain": [
       "'monkey'"
      ]
     },
     "execution_count": 41,
     "metadata": {},
     "output_type": "execute_result"
    }
   ],
   "source": [
    "model.wv.doesnt_match([\"man\",\"woman\",\"girl\",\"boy\",\"monkey\"])"
   ]
  },
  {
   "cell_type": "code",
   "execution_count": 44,
   "id": "43aa1bc2",
   "metadata": {},
   "outputs": [
    {
     "data": {
      "text/plain": [
       "'water'"
      ]
     },
     "execution_count": 44,
     "metadata": {},
     "output_type": "execute_result"
    }
   ],
   "source": [
    "model.wv.doesnt_match([\"man\",\"water\",\"woman\",\"girl\",\"boy\",\"monkey\",])"
   ]
  },
  {
   "cell_type": "code",
   "execution_count": 53,
   "id": "73933fd6",
   "metadata": {},
   "outputs": [
    {
     "data": {
      "text/plain": [
       "'monkey'"
      ]
     },
     "execution_count": 53,
     "metadata": {},
     "output_type": "execute_result"
    }
   ],
   "source": [
    "model.wv.doesnt_match([\"Football\",\"Cricket\",\"Hockey\",\"monkey\"])"
   ]
  },
  {
   "cell_type": "code",
   "execution_count": 54,
   "id": "735b941c",
   "metadata": {},
   "outputs": [
    {
     "data": {
      "text/plain": [
       "'shoes'"
      ]
     },
     "execution_count": 54,
     "metadata": {},
     "output_type": "execute_result"
    }
   ],
   "source": [
    "model.wv.doesnt_match([\"bat\",\"ball\",\"stick\",\"shoes\"])"
   ]
  },
  {
   "cell_type": "code",
   "execution_count": 59,
   "id": "fb17289f",
   "metadata": {},
   "outputs": [
    {
     "data": {
      "text/plain": [
       "'bat'"
      ]
     },
     "execution_count": 59,
     "metadata": {},
     "output_type": "execute_result"
    }
   ],
   "source": [
    "model.wv.doesnt_match([\"shoes\",\"helmet\",\"gloves\",\"bat\"])"
   ]
  },
  {
   "cell_type": "markdown",
   "id": "507ced29",
   "metadata": {},
   "source": [
    "## Check vector shape"
   ]
  },
  {
   "cell_type": "code",
   "execution_count": 60,
   "id": "b8ff6ea2",
   "metadata": {},
   "outputs": [
    {
     "data": {
      "text/plain": [
       "array([ 6.85842335e-02, -3.28962058e-02,  1.13055706e-01, -8.80391076e-02,\n",
       "        2.15301644e-02, -8.92385095e-02, -1.77110478e-01,  2.45463744e-01,\n",
       "        7.22914487e-02,  7.16788694e-02, -1.63633108e-01, -3.20149846e-02,\n",
       "        7.32564032e-02, -4.33639972e-04,  1.02927513e-01, -4.25332338e-02,\n",
       "        6.44274727e-02, -5.03031313e-02,  3.87843810e-02,  3.97912487e-02,\n",
       "       -2.20517829e-01, -7.90867135e-02, -1.67399570e-02, -2.18250719e-03,\n",
       "       -5.56909107e-02,  4.18169983e-02, -3.19030851e-01, -4.41530973e-01,\n",
       "        2.38790419e-02, -1.83072731e-01,  2.93621328e-02, -1.24943547e-01,\n",
       "       -2.99461111e-02,  1.47645921e-02,  7.61857703e-02,  3.41494232e-02,\n",
       "        1.35593712e-01, -8.88454989e-02, -6.20736033e-02, -1.45303130e-01,\n",
       "       -1.25636503e-01, -1.44416943e-01, -2.25140810e-01, -9.77870524e-02,\n",
       "       -4.14099872e-01, -9.71712731e-03, -1.18797980e-01,  2.94372112e-01,\n",
       "       -6.31308779e-02,  7.96763375e-02, -1.81690037e-01, -1.33500725e-01,\n",
       "       -5.51025234e-02, -2.51237988e-01,  2.61605140e-02, -9.15813223e-02,\n",
       "       -9.01325792e-03, -3.04167330e-01, -1.21374078e-01, -4.30587381e-02,\n",
       "       -1.48103878e-01, -2.72008806e-01, -1.48067042e-01, -1.46316662e-01,\n",
       "       -5.40240519e-02,  2.16889128e-01,  7.08052069e-02,  1.34519087e-02,\n",
       "       -9.55712423e-02,  2.14287981e-01, -2.00190693e-01, -7.05548078e-02,\n",
       "       -7.09136156e-03,  1.00227058e-01,  1.92189157e-01,  1.11234792e-01,\n",
       "       -1.71488017e-01, -8.57790634e-02,  1.13293327e-01, -2.08894461e-01,\n",
       "       -4.41686288e-02,  2.05677703e-01,  1.76757753e-01,  4.79865782e-02,\n",
       "        6.38861358e-02, -1.98191032e-02,  1.41535671e-02,  3.83151144e-01,\n",
       "        2.31149152e-01, -2.57642657e-01, -2.67002918e-02, -2.51633793e-01,\n",
       "       -1.39848620e-01,  2.43038386e-01, -1.73525125e-01, -4.54101749e-02,\n",
       "        9.21369120e-02, -1.31573796e-01, -1.51515082e-01,  8.58922601e-02],\n",
       "      dtype=float32)"
      ]
     },
     "execution_count": 60,
     "metadata": {},
     "output_type": "execute_result"
    }
   ],
   "source": [
    "model.wv[\"cricket\"]"
   ]
  },
  {
   "cell_type": "code",
   "execution_count": 62,
   "id": "abe034bb",
   "metadata": {},
   "outputs": [
    {
     "data": {
      "text/plain": [
       "array([ 2.2948425 ,  0.526114  , -0.6732951 , -0.33091363, -1.6623371 ,\n",
       "        3.0956216 , -0.64146584,  2.1122074 , -1.6500059 ,  1.5365368 ,\n",
       "       -0.9235963 , -1.2684898 , -0.01061213,  1.5176959 ,  1.6249678 ,\n",
       "        0.3282571 ,  1.0423957 , -0.9532238 , -1.3097931 , -1.0739422 ,\n",
       "        0.23510012, -0.98886704, -1.2247269 , -2.6018019 , -2.0065677 ,\n",
       "       -0.00525048,  0.9527548 ,  1.7160814 , -0.14275678, -2.9274027 ,\n",
       "       -1.3319973 , -2.240692  , -1.1651824 , -0.24061438,  3.386044  ,\n",
       "        0.30302316, -2.6883929 ,  0.7880923 ,  0.0094882 ,  3.9116902 ,\n",
       "        1.2037975 ,  1.5011297 ,  1.3766896 ,  0.09592403, -1.5119945 ,\n",
       "        2.0241165 , -1.470567  ,  0.7000056 ,  0.89275974, -2.1287968 ,\n",
       "       -3.2609394 ,  0.78231734, -1.0618527 ,  0.7821663 ,  0.27127382,\n",
       "       -1.3543626 ,  2.0986319 , -1.779901  , -3.049952  ,  2.8613675 ,\n",
       "       -1.2915593 ,  0.19855657,  2.879675  , -1.6712861 ,  2.2224708 ,\n",
       "       -0.89319277, -2.6474202 , -1.2715802 ,  0.53480077,  1.3291106 ,\n",
       "        1.5399717 , -0.6609744 , -1.5664599 ,  1.0930644 ,  1.6031255 ,\n",
       "        0.12820674,  2.2753274 ,  2.3029706 ,  1.5431442 , -3.1670415 ,\n",
       "       -0.09034609, -0.72939086, -0.45354956, -0.9234271 ,  1.5439993 ,\n",
       "        2.2473433 , -0.36052266, -3.035871  , -0.7984651 , -0.81111175,\n",
       "       -0.59559184, -3.8786747 ,  1.1716594 , -0.1459815 , -2.1933913 ,\n",
       "        3.82527   ,  1.0932988 , -0.84027666,  1.793289  ,  0.18468364],\n",
       "      dtype=float32)"
      ]
     },
     "execution_count": 62,
     "metadata": {},
     "output_type": "execute_result"
    }
   ],
   "source": [
    "model.wv[\"bat\"]"
   ]
  },
  {
   "cell_type": "code",
   "execution_count": 63,
   "id": "d303b346",
   "metadata": {},
   "outputs": [
    {
     "data": {
      "text/plain": [
       "(53233, 100)"
      ]
     },
     "execution_count": 63,
     "metadata": {},
     "output_type": "execute_result"
    }
   ],
   "source": [
    "model.wv.get_normed_vectors().shape"
   ]
  },
  {
   "cell_type": "code",
   "execution_count": 64,
   "id": "f8269001",
   "metadata": {
    "collapsed": true
   },
   "outputs": [
    {
     "data": {
      "text/plain": [
       "array([[ 0.08280678, -0.18233357,  0.18295455, ..., -0.00072405,\n",
       "         0.13484894, -0.02581779],\n",
       "       [ 0.05883162, -0.06710979, -0.05279383, ..., -0.19814937,\n",
       "        -0.00053101,  0.02517627],\n",
       "       [-0.03445325,  0.01406901,  0.0087341 , ...,  0.0112638 ,\n",
       "        -0.04579254,  0.02023666],\n",
       "       ...,\n",
       "       [ 0.22199908,  0.00476774, -0.199237  , ...,  0.07107933,\n",
       "         0.03882146, -0.07948396],\n",
       "       [-0.13405459, -0.02162415,  0.01085088, ..., -0.18782485,\n",
       "         0.12993535,  0.15114996],\n",
       "       [-0.17251235,  0.00070891,  0.02797342, ..., -0.07939284,\n",
       "         0.11023235,  0.01787119]], dtype=float32)"
      ]
     },
     "execution_count": 64,
     "metadata": {},
     "output_type": "execute_result"
    }
   ],
   "source": [
    "model.wv.get_normed_vectors()"
   ]
  },
  {
   "cell_type": "code",
   "execution_count": 71,
   "id": "8e53e0ce",
   "metadata": {},
   "outputs": [
    {
     "data": {
      "text/plain": [
       "53233"
      ]
     },
     "execution_count": 71,
     "metadata": {},
     "output_type": "execute_result"
    }
   ],
   "source": [
    "y = model.wv.index_to_key\n",
    "len(y)"
   ]
  },
  {
   "cell_type": "code",
   "execution_count": 80,
   "id": "9eb5231b",
   "metadata": {
    "collapsed": true
   },
   "outputs": [
    {
     "data": {
      "text/plain": [
       "['the',\n",
       " 'and',\n",
       " 'it',\n",
       " 'to',\n",
       " 'is',\n",
       " 'of',\n",
       " 'for',\n",
       " 'this',\n",
       " 'in',\n",
       " 'my',\n",
       " 'you',\n",
       " 'on',\n",
       " 'that',\n",
       " 'with',\n",
       " 'but',\n",
       " 'have',\n",
       " 'not',\n",
       " 'as',\n",
       " 'are',\n",
       " 'was',\n",
       " 'be',\n",
       " 'so',\n",
       " 'they',\n",
       " 'very',\n",
       " 'one',\n",
       " 'if',\n",
       " 'or',\n",
       " 'can',\n",
       " 'great',\n",
       " 'these',\n",
       " 'use',\n",
       " 'like',\n",
       " 'well',\n",
       " 'at',\n",
       " 'just',\n",
       " 'good',\n",
       " 'will',\n",
       " 'up',\n",
       " 'out',\n",
       " 'your',\n",
       " 'would',\n",
       " 'when',\n",
       " 'all',\n",
       " 'more',\n",
       " 'get',\n",
       " 'them',\n",
       " 'from',\n",
       " 'an',\n",
       " 'knife',\n",
       " 'had',\n",
       " 'than',\n",
       " 'has',\n",
       " 'me',\n",
       " 'no',\n",
       " 'about',\n",
       " 'do',\n",
       " 'some',\n",
       " 'little',\n",
       " 'only',\n",
       " 'other',\n",
       " 'there',\n",
       " 'really',\n",
       " 'also',\n",
       " 'don',\n",
       " 'easy',\n",
       " 'what',\n",
       " 'much',\n",
       " 'time',\n",
       " 'price',\n",
       " 'used',\n",
       " 'fit',\n",
       " 'product',\n",
       " 'which',\n",
       " 'made',\n",
       " 'light',\n",
       " 'nice',\n",
       " 'work',\n",
       " 'off',\n",
       " 'too',\n",
       " 'quality',\n",
       " 'works',\n",
       " 'after',\n",
       " 'bought',\n",
       " 'because',\n",
       " 'any',\n",
       " 'need',\n",
       " 'bike',\n",
       " 'even',\n",
       " 'its',\n",
       " 'better',\n",
       " 'back',\n",
       " 'bag',\n",
       " 'does',\n",
       " 'small',\n",
       " 've',\n",
       " 'put',\n",
       " 'am',\n",
       " 'by',\n",
       " 'over',\n",
       " 'two',\n",
       " 'buy',\n",
       " 'enough',\n",
       " 'got',\n",
       " 'first',\n",
       " 'still',\n",
       " 'could',\n",
       " 'way',\n",
       " 'into',\n",
       " 'size',\n",
       " 'down',\n",
       " 'recommend',\n",
       " 'make',\n",
       " 'using',\n",
       " 'now',\n",
       " 'then',\n",
       " 'around',\n",
       " 'water',\n",
       " 'go',\n",
       " 'blade',\n",
       " 'long',\n",
       " 'how',\n",
       " 'thing',\n",
       " 'bit',\n",
       " 'while',\n",
       " 'keep',\n",
       " 'want',\n",
       " 'we',\n",
       " 'right',\n",
       " 'were',\n",
       " 'been',\n",
       " 'gun',\n",
       " 'did',\n",
       " 'see',\n",
       " 'few',\n",
       " 'perfect',\n",
       " 'love',\n",
       " 'think',\n",
       " 'set',\n",
       " 'without',\n",
       " 're',\n",
       " 'fits',\n",
       " 'pretty',\n",
       " 'handle',\n",
       " 'lot',\n",
       " 'take',\n",
       " 'most',\n",
       " 'case',\n",
       " 'sure',\n",
       " 'should',\n",
       " 'easily',\n",
       " 'scope',\n",
       " 'carry',\n",
       " 'weight',\n",
       " 'side',\n",
       " 'big',\n",
       " 'hold',\n",
       " 'plastic',\n",
       " 'makes',\n",
       " 'best',\n",
       " 'another',\n",
       " 'say',\n",
       " 'feel',\n",
       " 'know',\n",
       " 'doesn',\n",
       " 'far',\n",
       " 'day',\n",
       " 'seems',\n",
       " 'going',\n",
       " 'comfortable',\n",
       " 'looking',\n",
       " 'through',\n",
       " 'fine',\n",
       " 'something',\n",
       " 'hand',\n",
       " 'll',\n",
       " 'though',\n",
       " 'hard',\n",
       " 'find',\n",
       " 'new',\n",
       " 'looks',\n",
       " 'same',\n",
       " 'look',\n",
       " 'since',\n",
       " 'top',\n",
       " 'tool',\n",
       " 'their',\n",
       " 'where',\n",
       " 'both',\n",
       " 'before',\n",
       " 'range',\n",
       " 'didn',\n",
       " 'many',\n",
       " 'last',\n",
       " 'large',\n",
       " 'grip',\n",
       " 'however',\n",
       " 'heavy',\n",
       " 'never',\n",
       " 'again',\n",
       " 'pocket',\n",
       " 'bottle',\n",
       " 'high',\n",
       " 'mount',\n",
       " 'problem',\n",
       " 'rifle',\n",
       " 'may',\n",
       " 'sharp',\n",
       " 'money',\n",
       " 'years',\n",
       " 'pack',\n",
       " 'being',\n",
       " 'comes',\n",
       " 'steel',\n",
       " 'every',\n",
       " 'box',\n",
       " 'sight',\n",
       " 'solid',\n",
       " 'came',\n",
       " 'cheap',\n",
       " 'purchased',\n",
       " 'different',\n",
       " 'getting',\n",
       " 'needed',\n",
       " 'wear',\n",
       " 'once',\n",
       " 'found',\n",
       " 'those',\n",
       " 'amazon',\n",
       " 'who',\n",
       " 'place',\n",
       " 'front',\n",
       " 'come',\n",
       " 'worth',\n",
       " 'give',\n",
       " 'probably',\n",
       " 'old',\n",
       " 'end',\n",
       " 'less',\n",
       " 'extra',\n",
       " 'belt',\n",
       " 'tight',\n",
       " 'perfectly',\n",
       " 'able',\n",
       " 'inside',\n",
       " 'actually',\n",
       " 'things',\n",
       " 'holster',\n",
       " 'quite',\n",
       " 'item',\n",
       " 'sturdy',\n",
       " 'yet',\n",
       " 'job',\n",
       " 'open',\n",
       " 'lock',\n",
       " 'times',\n",
       " 'holds',\n",
       " 'he',\n",
       " 'might',\n",
       " 'highly',\n",
       " 'overall',\n",
       " 'took',\n",
       " 'knives',\n",
       " 'happy',\n",
       " 'people',\n",
       " 'several',\n",
       " 'having',\n",
       " 'own',\n",
       " 'stars',\n",
       " 'excellent',\n",
       " 'design',\n",
       " 'always',\n",
       " 'try',\n",
       " 'under',\n",
       " 'anything',\n",
       " 'bad',\n",
       " 'each',\n",
       " 'purchase',\n",
       " 'camping',\n",
       " 'kit',\n",
       " 'couple',\n",
       " 'definitely',\n",
       " 'everything',\n",
       " 'wanted',\n",
       " 'tried',\n",
       " 'here',\n",
       " 'stuff',\n",
       " 'full',\n",
       " 'worked',\n",
       " 'reviews',\n",
       " 'edge',\n",
       " 'sheath',\n",
       " 'clip',\n",
       " 'point',\n",
       " 'metal',\n",
       " 'shooting',\n",
       " 'won',\n",
       " 'ordered',\n",
       " 'hands',\n",
       " 'thought',\n",
       " 'ever',\n",
       " 'said',\n",
       " 'mine',\n",
       " 'strap',\n",
       " 'bottom',\n",
       " 'away',\n",
       " 'watch',\n",
       " 'piece',\n",
       " 'almost',\n",
       " 'part',\n",
       " 'feels',\n",
       " 'real',\n",
       " 'our',\n",
       " 'air',\n",
       " 'black',\n",
       " 'strong',\n",
       " 'review',\n",
       " 'year',\n",
       " 'durable',\n",
       " 'pistol',\n",
       " 'quick',\n",
       " 'low',\n",
       " 'room',\n",
       " 'material',\n",
       " 'battery',\n",
       " 'isn',\n",
       " 'ride',\n",
       " 'clean',\n",
       " 'stock',\n",
       " 'ar',\n",
       " 'simple',\n",
       " 'install',\n",
       " 'cut',\n",
       " 'bright',\n",
       " 'smaller',\n",
       " 'seem',\n",
       " 'cold',\n",
       " 'three',\n",
       " 'red',\n",
       " 'tent',\n",
       " 'days',\n",
       " 'either',\n",
       " 'head',\n",
       " 'anyone',\n",
       " 'straps',\n",
       " 'etc',\n",
       " 'fast',\n",
       " 'must',\n",
       " 'issue',\n",
       " 'pump',\n",
       " 'seat',\n",
       " 'minutes',\n",
       " 'easier',\n",
       " 'built',\n",
       " 'longer',\n",
       " 'home',\n",
       " 'nothing',\n",
       " 'others',\n",
       " 'quickly',\n",
       " 'problems',\n",
       " 'short',\n",
       " 'why',\n",
       " 'target',\n",
       " 'haven',\n",
       " 'close',\n",
       " 'ones',\n",
       " 'deal',\n",
       " 'expensive',\n",
       " 'help',\n",
       " 'cleaning',\n",
       " 'bar',\n",
       " 'larger',\n",
       " 'pull',\n",
       " 'night',\n",
       " 'went',\n",
       " 'maybe',\n",
       " 'wish',\n",
       " 'left',\n",
       " 'second',\n",
       " 'rubber',\n",
       " 'rack',\n",
       " 'cool',\n",
       " 'break',\n",
       " 'order',\n",
       " 'buying',\n",
       " 'super',\n",
       " 'rounds',\n",
       " 'ball',\n",
       " 'cost',\n",
       " 'type',\n",
       " 'read',\n",
       " 'fire',\n",
       " 'between',\n",
       " 'products',\n",
       " 'such',\n",
       " 'done',\n",
       " 'batteries',\n",
       " 'line',\n",
       " 'screw',\n",
       " 'needs',\n",
       " 'gear',\n",
       " 'awesome',\n",
       " 'together',\n",
       " 'rear',\n",
       " 'store',\n",
       " 'add',\n",
       " 'least',\n",
       " 'especially',\n",
       " 'during',\n",
       " 'unit',\n",
       " 'exactly',\n",
       " 'instead',\n",
       " 'secure',\n",
       " 'thick',\n",
       " 'rail',\n",
       " 'tube',\n",
       " 'let',\n",
       " 'car',\n",
       " 'pouch',\n",
       " 'expected',\n",
       " 'color',\n",
       " 'road',\n",
       " 'gloves',\n",
       " 'takes',\n",
       " 'pair',\n",
       " 'barrel',\n",
       " 'doing',\n",
       " 'issues',\n",
       " 'run',\n",
       " 'ok',\n",
       " 'remove',\n",
       " 'next',\n",
       " 'plus',\n",
       " 'feet',\n",
       " 'inch',\n",
       " 'dry',\n",
       " 'safe',\n",
       " 'mm',\n",
       " 'cover',\n",
       " 'already',\n",
       " 'itself',\n",
       " 'expect',\n",
       " 'chain',\n",
       " 'riding',\n",
       " 'model',\n",
       " 'loose',\n",
       " 'tools',\n",
       " 'she',\n",
       " 'tire',\n",
       " 'mounted',\n",
       " 'designed',\n",
       " 'else',\n",
       " 'although',\n",
       " 'shot',\n",
       " 'kind',\n",
       " 'update',\n",
       " 'months',\n",
       " 'system',\n",
       " 'gets',\n",
       " 'length',\n",
       " 'decent',\n",
       " 'his',\n",
       " 'sights',\n",
       " 'reason',\n",
       " 'screws',\n",
       " 'wouldn',\n",
       " 'adjust',\n",
       " 'fact',\n",
       " 'until',\n",
       " 'dot',\n",
       " 'half',\n",
       " 'value',\n",
       " 'flat',\n",
       " 'ammo',\n",
       " 'instructions',\n",
       " 'wrong',\n",
       " 'standard',\n",
       " 'nicely',\n",
       " 'received',\n",
       " 'life',\n",
       " 'working',\n",
       " 'laser',\n",
       " 'space',\n",
       " 'trying',\n",
       " 'due',\n",
       " 'shoot',\n",
       " 'hit',\n",
       " 'frame',\n",
       " 'items',\n",
       " 'power',\n",
       " 'brand',\n",
       " 'stove',\n",
       " 'rather',\n",
       " 'stay',\n",
       " 'keeps',\n",
       " 'recommended',\n",
       " 'wife',\n",
       " 'difficult',\n",
       " 'extremely',\n",
       " 'accurate',\n",
       " 'star',\n",
       " 'thin',\n",
       " 'free',\n",
       " 'finish',\n",
       " 'shipping',\n",
       " 'velcro',\n",
       " 'seen',\n",
       " 'stand',\n",
       " 'fairly',\n",
       " 'warm',\n",
       " 'making',\n",
       " 'tell',\n",
       " 'bikes',\n",
       " 'compact',\n",
       " 'held',\n",
       " 'replace',\n",
       " 'hot',\n",
       " 'clear',\n",
       " 'area',\n",
       " 'slightly',\n",
       " 'version',\n",
       " 'pockets',\n",
       " 'guns',\n",
       " 'speed',\n",
       " 'outside',\n",
       " 'included',\n",
       " 'hours',\n",
       " 'week',\n",
       " 'soft',\n",
       " 'fun',\n",
       " 'cap',\n",
       " 'plenty',\n",
       " 'myself',\n",
       " 'style',\n",
       " 'move',\n",
       " 'someone',\n",
       " 'trip',\n",
       " 'along',\n",
       " 'installed',\n",
       " 'zero',\n",
       " 'body',\n",
       " 'uses',\n",
       " 'start',\n",
       " 'wasn',\n",
       " 'her',\n",
       " 'goes',\n",
       " 'construction',\n",
       " 'handy',\n",
       " 'useful',\n",
       " 'spring',\n",
       " 'mag',\n",
       " 'arrived',\n",
       " 'practice',\n",
       " 'weapon',\n",
       " 'decided',\n",
       " 'parts',\n",
       " 'wide',\n",
       " 'bags',\n",
       " 'pleased',\n",
       " 'position',\n",
       " 'opening',\n",
       " 'round',\n",
       " 'lightweight',\n",
       " 'hole',\n",
       " 'tires',\n",
       " 'turn',\n",
       " 'shape',\n",
       " 'pay',\n",
       " 'gave',\n",
       " 'push',\n",
       " 'amount',\n",
       " 'single',\n",
       " 'slide',\n",
       " 'unless',\n",
       " 'workout',\n",
       " 'difference',\n",
       " 'kids',\n",
       " 'wearing',\n",
       " 'regular',\n",
       " 'started',\n",
       " 'grips',\n",
       " 'smooth',\n",
       " 'saw',\n",
       " 'simply',\n",
       " 'pad',\n",
       " 'adjustable',\n",
       " 'carrying',\n",
       " 'socks',\n",
       " 'change',\n",
       " 'holding',\n",
       " 'mounting',\n",
       " 'tape',\n",
       " 'glock',\n",
       " 'lower',\n",
       " 'running',\n",
       " 'attached',\n",
       " 'putting',\n",
       " 'magazine',\n",
       " 'duty',\n",
       " 'feature',\n",
       " 'allows',\n",
       " 'lbs',\n",
       " 'bottles',\n",
       " 'trigger',\n",
       " 'yes',\n",
       " 'device',\n",
       " 'against',\n",
       " 'rest',\n",
       " 'yards',\n",
       " 'guess',\n",
       " 'emergency',\n",
       " 'storage',\n",
       " 'son',\n",
       " 'original',\n",
       " 'tactical',\n",
       " 'phone',\n",
       " 'miles',\n",
       " 'pressure',\n",
       " 'couldn',\n",
       " 'cheaper',\n",
       " 'button',\n",
       " 'completely',\n",
       " 'protection',\n",
       " 'helps',\n",
       " 'ground',\n",
       " 'attach',\n",
       " 'load',\n",
       " 'us',\n",
       " 'bigger',\n",
       " 'mat',\n",
       " 'four',\n",
       " 'spend',\n",
       " 'inches',\n",
       " 'mags',\n",
       " 'beat',\n",
       " 'tough',\n",
       " 'ago',\n",
       " 'similar',\n",
       " 'green',\n",
       " 'mind',\n",
       " 'course',\n",
       " 'idea',\n",
       " 'tip',\n",
       " 'test',\n",
       " 'medium',\n",
       " 'leave',\n",
       " 'weather',\n",
       " 'prefer',\n",
       " 'stick',\n",
       " 'purpose',\n",
       " 'wood',\n",
       " 'helmet',\n",
       " 'lights',\n",
       " 'play',\n",
       " 'cannot',\n",
       " 'handles',\n",
       " 'hunting',\n",
       " 'whole',\n",
       " 'leather',\n",
       " 'believe',\n",
       " 'onto',\n",
       " 'says',\n",
       " 'gives',\n",
       " 'person',\n",
       " 'usually',\n",
       " 'bolt',\n",
       " 'house',\n",
       " 'safety',\n",
       " 'backpack',\n",
       " 'compared',\n",
       " 'package',\n",
       " 'finger',\n",
       " 'huge',\n",
       " 'added',\n",
       " 'survival',\n",
       " 'rain',\n",
       " 'replacement',\n",
       " 'sized',\n",
       " 'level',\n",
       " 'shirt',\n",
       " 'holes',\n",
       " 'plan',\n",
       " 'rings',\n",
       " 'allow',\n",
       " 'looked',\n",
       " 'release',\n",
       " 'band',\n",
       " 'training',\n",
       " 'field',\n",
       " 'clips',\n",
       " 'often',\n",
       " 'note',\n",
       " 'sometimes',\n",
       " 'hiking',\n",
       " 'main',\n",
       " 'adjustment',\n",
       " 'properly',\n",
       " 'fall',\n",
       " 'glad',\n",
       " 'drop',\n",
       " 'five',\n",
       " 'addition',\n",
       " 'higher',\n",
       " 'picture',\n",
       " 'thumb',\n",
       " 'weeks',\n",
       " 'base',\n",
       " 'snap',\n",
       " 'means',\n",
       " 'cutting',\n",
       " 'build',\n",
       " 'foam',\n",
       " 'anyway',\n",
       " 'dont',\n",
       " 'double',\n",
       " 'impressed',\n",
       " 'heat',\n",
       " 'felt',\n",
       " 'care',\n",
       " 'company',\n",
       " 'ring',\n",
       " 'shorts',\n",
       " 'switch',\n",
       " 'save',\n",
       " 'past',\n",
       " 'otherwise',\n",
       " 'cord',\n",
       " 'legs',\n",
       " 'non',\n",
       " 'advertised',\n",
       " 'lighter',\n",
       " 'lots',\n",
       " 'hope',\n",
       " 'wheel',\n",
       " 'straight',\n",
       " 'taking',\n",
       " 'oil',\n",
       " 'holder',\n",
       " 'mountain',\n",
       " 'shoulder',\n",
       " 'padding',\n",
       " 'stays',\n",
       " 'pants',\n",
       " 'experience',\n",
       " 'check',\n",
       " 'true',\n",
       " 'normal',\n",
       " 'eye',\n",
       " 'face',\n",
       " 'pellets',\n",
       " 'keeping',\n",
       " 'supposed',\n",
       " 'stainless',\n",
       " 'rod',\n",
       " 'liked',\n",
       " 'snug',\n",
       " 'disappointed',\n",
       " 'sling',\n",
       " 'inexpensive',\n",
       " 'distance',\n",
       " 'finally',\n",
       " 'pain',\n",
       " 'rifles',\n",
       " 'amazing',\n",
       " 'available',\n",
       " 'wet',\n",
       " 'option',\n",
       " 'bicycle',\n",
       " 'magazines',\n",
       " 'features',\n",
       " 'friend',\n",
       " 'sleeping',\n",
       " 'stop',\n",
       " 'exercise',\n",
       " 'pin',\n",
       " 'bucks',\n",
       " 'edc',\n",
       " 'cup',\n",
       " 'absolutely',\n",
       " 'broke',\n",
       " 'aluminum',\n",
       " 'door',\n",
       " 'pros',\n",
       " 'targets',\n",
       " 'complaint',\n",
       " 'noticed',\n",
       " 'lost',\n",
       " 'wrench',\n",
       " 'apart',\n",
       " 'gym',\n",
       " 'rides',\n",
       " 'later',\n",
       " 'fingers',\n",
       " 'guy',\n",
       " 'shotgun',\n",
       " 'oz',\n",
       " 'cable',\n",
       " 'ruger',\n",
       " 'valve',\n",
       " 'throw',\n",
       " 'slip',\n",
       " 'kept',\n",
       " 'equipment',\n",
       " 'return',\n",
       " 'yourself',\n",
       " 'choice',\n",
       " 'within',\n",
       " 'owned',\n",
       " 'given',\n",
       " 'careful',\n",
       " 'service',\n",
       " 'camp',\n",
       " 'support',\n",
       " 'aren',\n",
       " 'forward',\n",
       " 'opinion',\n",
       " 'above',\n",
       " 'ready',\n",
       " 'function',\n",
       " 'nylon',\n",
       " 'floor',\n",
       " 'lid',\n",
       " 'live',\n",
       " 'dark',\n",
       " 'loop',\n",
       " 'friends',\n",
       " 'paper',\n",
       " 'tighten',\n",
       " 'fully',\n",
       " 'securely',\n",
       " 'spare',\n",
       " 'backpacking',\n",
       " 'post',\n",
       " 'white',\n",
       " 'recoil',\n",
       " 'flashlight',\n",
       " 'bars',\n",
       " 'center',\n",
       " 'surprised',\n",
       " 'setting',\n",
       " 'wrist',\n",
       " 'reading',\n",
       " 'everyone',\n",
       " 'foot',\n",
       " 'factory',\n",
       " 'sit',\n",
       " 'height',\n",
       " 'key',\n",
       " 'behind',\n",
       " 'local',\n",
       " 'provide',\n",
       " 'pot',\n",
       " 'balls',\n",
       " 'surface',\n",
       " 'pro',\n",
       " 'number',\n",
       " 'based',\n",
       " 'near',\n",
       " 'daily',\n",
       " 'effective',\n",
       " 'complaints',\n",
       " 'blue',\n",
       " 'soon',\n",
       " 'game',\n",
       " 'paid',\n",
       " 'control',\n",
       " 'shots',\n",
       " 'important',\n",
       " 'him',\n",
       " 'replaced',\n",
       " 'matter',\n",
       " 'sides',\n",
       " 'wind',\n",
       " 'favorite',\n",
       " 'worry',\n",
       " 'likely',\n",
       " 'hour',\n",
       " 'protect',\n",
       " 'food',\n",
       " 'seemed',\n",
       " 'leg',\n",
       " 'resistance',\n",
       " 'vest',\n",
       " 'basic',\n",
       " 'glove',\n",
       " 'except',\n",
       " 'zipper',\n",
       " 'press',\n",
       " 'mounts',\n",
       " 'pieces',\n",
       " 'locking',\n",
       " 'glasses',\n",
       " 'month',\n",
       " 'appears',\n",
       " 'self',\n",
       " 'filter',\n",
       " 'pedals',\n",
       " 'fill',\n",
       " 'name',\n",
       " 'twice',\n",
       " 'trips',\n",
       " 'show',\n",
       " 'multiple',\n",
       " 'angle',\n",
       " 'coming',\n",
       " 'certainly',\n",
       " 'arms',\n",
       " 'whatever',\n",
       " 'locks',\n",
       " 'arm',\n",
       " 'comfort',\n",
       " 'setup',\n",
       " 'draw',\n",
       " 'provides',\n",
       " 'touch',\n",
       " 'mirror',\n",
       " 'fixed',\n",
       " 'razor',\n",
       " 'heavier',\n",
       " 'lose',\n",
       " 'intended',\n",
       " 'seconds',\n",
       " 'compartment',\n",
       " 'cause',\n",
       " 'accuracy',\n",
       " 'action',\n",
       " 'ended',\n",
       " 'damage',\n",
       " 'consider',\n",
       " 'pellet',\n",
       " 'tiny',\n",
       " 'brass',\n",
       " 'pads',\n",
       " 'priced',\n",
       " 'today',\n",
       " 'options',\n",
       " 'rope',\n",
       " 'charge',\n",
       " 'chance',\n",
       " 'waist',\n",
       " 'possible',\n",
       " 'flip',\n",
       " 'family',\n",
       " 'removed',\n",
       " 'bore',\n",
       " 'molle',\n",
       " 'summer',\n",
       " 'fabric',\n",
       " 'sweat',\n",
       " 'spot',\n",
       " 'average',\n",
       " 'sound',\n",
       " 'hang',\n",
       " 'fantastic',\n",
       " 'military',\n",
       " 'winter',\n",
       " 'fuel',\n",
       " 'strength',\n",
       " 'figure',\n",
       " 'led',\n",
       " 'recently',\n",
       " 'cant',\n",
       " 'lens',\n",
       " 'bulky',\n",
       " 'co',\n",
       " 'colors',\n",
       " 'carbon',\n",
       " 'serious',\n",
       " 'guard',\n",
       " 'loaded',\n",
       " 'roll',\n",
       " 'thanks',\n",
       " 'gift',\n",
       " 'rate',\n",
       " 'magpul',\n",
       " 'notice',\n",
       " 'materials',\n",
       " 'entire',\n",
       " 'nearly',\n",
       " 'pick',\n",
       " 'bb',\n",
       " 'paracord',\n",
       " 'installation',\n",
       " 'bow',\n",
       " 'closed',\n",
       " 'rating',\n",
       " 'functional',\n",
       " 'middle',\n",
       " 'packs',\n",
       " 'mini',\n",
       " 'satisfied',\n",
       " 'performance',\n",
       " 'folding',\n",
       " 'worn',\n",
       " 'glass',\n",
       " 'loading',\n",
       " 'china',\n",
       " 'considering',\n",
       " 'weights',\n",
       " 'blades',\n",
       " 'customer',\n",
       " ...]"
      ]
     },
     "execution_count": 80,
     "metadata": {},
     "output_type": "execute_result"
    }
   ],
   "source": [
    "y"
   ]
  },
  {
   "cell_type": "code",
   "execution_count": 81,
   "id": "30c2acb4",
   "metadata": {},
   "outputs": [],
   "source": [
    "from sklearn.decomposition import PCA\n",
    "pca = PCA(n_components=3)"
   ]
  },
  {
   "cell_type": "code",
   "execution_count": 82,
   "id": "1b2ea844",
   "metadata": {},
   "outputs": [],
   "source": [
    "x = pca.fit_transform(model.wv.get_normed_vectors())"
   ]
  },
  {
   "cell_type": "code",
   "execution_count": 83,
   "id": "fca89811",
   "metadata": {},
   "outputs": [
    {
     "data": {
      "text/plain": [
       "array([[ 0.57165885,  0.28144214,  0.12690541],\n",
       "       [ 0.47565535,  0.16409336,  0.1110385 ],\n",
       "       [ 0.6883061 ,  0.00506638,  0.08113156],\n",
       "       ...,\n",
       "       [ 0.38179034, -0.02260034,  0.08597445],\n",
       "       [-0.19586895, -0.18410781,  0.00814727],\n",
       "       [-0.01783826,  0.03663317, -0.02925671]], dtype=float32)"
      ]
     },
     "execution_count": 83,
     "metadata": {},
     "output_type": "execute_result"
    }
   ],
   "source": [
    "x"
   ]
  },
  {
   "cell_type": "code",
   "execution_count": 84,
   "id": "dc742c10",
   "metadata": {},
   "outputs": [
    {
     "data": {
      "text/plain": [
       "(53233, 3)"
      ]
     },
     "execution_count": 84,
     "metadata": {},
     "output_type": "execute_result"
    }
   ],
   "source": [
    "x.shape"
   ]
  },
  {
   "cell_type": "code",
   "execution_count": 96,
   "id": "99476e83",
   "metadata": {},
   "outputs": [
    {
     "data": {
      "application/vnd.plotly.v1+json": {
       "config": {
        "plotlyServerURL": "https://plot.ly"
       },
       "data": [
        {
         "hovertemplate": "color=the<br>0=%{x}<br>1=%{y}<br>2=%{z}<extra></extra>",
         "legendgroup": "the",
         "marker": {
          "color": "#636efa",
          "symbol": "circle"
         },
         "mode": "markers",
         "name": "the",
         "scene": "scene",
         "showlegend": true,
         "type": "scatter3d",
         "x": [
          0.5716588497161865
         ],
         "y": [
          0.28144213557243347
         ],
         "z": [
          0.1269054114818573
         ]
        },
        {
         "hovertemplate": "color=and<br>0=%{x}<br>1=%{y}<br>2=%{z}<extra></extra>",
         "legendgroup": "and",
         "marker": {
          "color": "#EF553B",
          "symbol": "circle"
         },
         "mode": "markers",
         "name": "and",
         "scene": "scene",
         "showlegend": true,
         "type": "scatter3d",
         "x": [
          0.47565534710884094
         ],
         "y": [
          0.16409336030483246
         ],
         "z": [
          0.11103849858045578
         ]
        },
        {
         "hovertemplate": "color=it<br>0=%{x}<br>1=%{y}<br>2=%{z}<extra></extra>",
         "legendgroup": "it",
         "marker": {
          "color": "#00cc96",
          "symbol": "circle"
         },
         "mode": "markers",
         "name": "it",
         "scene": "scene",
         "showlegend": true,
         "type": "scatter3d",
         "x": [
          0.6883060932159424
         ],
         "y": [
          0.005066382698714733
         ],
         "z": [
          0.08113156259059906
         ]
        },
        {
         "hovertemplate": "color=to<br>0=%{x}<br>1=%{y}<br>2=%{z}<extra></extra>",
         "legendgroup": "to",
         "marker": {
          "color": "#ab63fa",
          "symbol": "circle"
         },
         "mode": "markers",
         "name": "to",
         "scene": "scene",
         "showlegend": true,
         "type": "scatter3d",
         "x": [
          0.5724985003471375
         ],
         "y": [
          0.09257330000400543
         ],
         "z": [
          0.09233423322439194
         ]
        },
        {
         "hovertemplate": "color=is<br>0=%{x}<br>1=%{y}<br>2=%{z}<extra></extra>",
         "legendgroup": "is",
         "marker": {
          "color": "#FFA15A",
          "symbol": "circle"
         },
         "mode": "markers",
         "name": "is",
         "scene": "scene",
         "showlegend": true,
         "type": "scatter3d",
         "x": [
          0.312045693397522
         ],
         "y": [
          0.28951510787010193
         ],
         "z": [
          0.017370685935020447
         ]
        },
        {
         "hovertemplate": "color=of<br>0=%{x}<br>1=%{y}<br>2=%{z}<extra></extra>",
         "legendgroup": "of",
         "marker": {
          "color": "#19d3f3",
          "symbol": "circle"
         },
         "mode": "markers",
         "name": "of",
         "scene": "scene",
         "showlegend": true,
         "type": "scatter3d",
         "x": [
          0.3685722053050995
         ],
         "y": [
          0.12822267413139343
         ],
         "z": [
          0.059295911341905594
         ]
        },
        {
         "hovertemplate": "color=for<br>0=%{x}<br>1=%{y}<br>2=%{z}<extra></extra>",
         "legendgroup": "for",
         "marker": {
          "color": "#FF6692",
          "symbol": "circle"
         },
         "mode": "markers",
         "name": "for",
         "scene": "scene",
         "showlegend": true,
         "type": "scatter3d",
         "x": [
          0.2530149519443512
         ],
         "y": [
          0.10862527042627335
         ],
         "z": [
          -0.16349256038665771
         ]
        },
        {
         "hovertemplate": "color=this<br>0=%{x}<br>1=%{y}<br>2=%{z}<extra></extra>",
         "legendgroup": "this",
         "marker": {
          "color": "#B6E880",
          "symbol": "circle"
         },
         "mode": "markers",
         "name": "this",
         "scene": "scene",
         "showlegend": true,
         "type": "scatter3d",
         "x": [
          0.5081862211227417
         ],
         "y": [
          0.0017301407642662525
         ],
         "z": [
          -0.28488054871559143
         ]
        },
        {
         "hovertemplate": "color=in<br>0=%{x}<br>1=%{y}<br>2=%{z}<extra></extra>",
         "legendgroup": "in",
         "marker": {
          "color": "#FF97FF",
          "symbol": "circle"
         },
         "mode": "markers",
         "name": "in",
         "scene": "scene",
         "showlegend": true,
         "type": "scatter3d",
         "x": [
          0.3634507358074188
         ],
         "y": [
          0.07234407961368561
         ],
         "z": [
          0.13396917283535004
         ]
        },
        {
         "hovertemplate": "color=my<br>0=%{x}<br>1=%{y}<br>2=%{z}<extra></extra>",
         "legendgroup": "my",
         "marker": {
          "color": "#FECB52",
          "symbol": "circle"
         },
         "mode": "markers",
         "name": "my",
         "scene": "scene",
         "showlegend": true,
         "type": "scatter3d",
         "x": [
          0.26227980852127075
         ],
         "y": [
          0.1053924709558487
         ],
         "z": [
          -0.04450824856758118
         ]
        },
        {
         "hovertemplate": "color=you<br>0=%{x}<br>1=%{y}<br>2=%{z}<extra></extra>",
         "legendgroup": "you",
         "marker": {
          "color": "#636efa",
          "symbol": "circle"
         },
         "mode": "markers",
         "name": "you",
         "scene": "scene",
         "showlegend": true,
         "type": "scatter3d",
         "x": [
          0.5451639890670776
         ],
         "y": [
          0.026163382455706596
         ],
         "z": [
          0.09672311693429947
         ]
        },
        {
         "hovertemplate": "color=on<br>0=%{x}<br>1=%{y}<br>2=%{z}<extra></extra>",
         "legendgroup": "on",
         "marker": {
          "color": "#EF553B",
          "symbol": "circle"
         },
         "mode": "markers",
         "name": "on",
         "scene": "scene",
         "showlegend": true,
         "type": "scatter3d",
         "x": [
          0.3649147152900696
         ],
         "y": [
          0.28988105058670044
         ],
         "z": [
          0.10823062062263489
         ]
        },
        {
         "hovertemplate": "color=that<br>0=%{x}<br>1=%{y}<br>2=%{z}<extra></extra>",
         "legendgroup": "that",
         "marker": {
          "color": "#00cc96",
          "symbol": "circle"
         },
         "mode": "markers",
         "name": "that",
         "scene": "scene",
         "showlegend": true,
         "type": "scatter3d",
         "x": [
          0.6091954112052917
         ],
         "y": [
          0.043971382081508636
         ],
         "z": [
          -0.07513009011745453
         ]
        },
        {
         "hovertemplate": "color=with<br>0=%{x}<br>1=%{y}<br>2=%{z}<extra></extra>",
         "legendgroup": "with",
         "marker": {
          "color": "#ab63fa",
          "symbol": "circle"
         },
         "mode": "markers",
         "name": "with",
         "scene": "scene",
         "showlegend": true,
         "type": "scatter3d",
         "x": [
          0.28609994053840637
         ],
         "y": [
          0.3198077976703644
         ],
         "z": [
          0.06849721819162369
         ]
        },
        {
         "hovertemplate": "color=but<br>0=%{x}<br>1=%{y}<br>2=%{z}<extra></extra>",
         "legendgroup": "but",
         "marker": {
          "color": "#FFA15A",
          "symbol": "circle"
         },
         "mode": "markers",
         "name": "but",
         "scene": "scene",
         "showlegend": true,
         "type": "scatter3d",
         "x": [
          0.6302816867828369
         ],
         "y": [
          0.053855497390031815
         ],
         "z": [
          0.022428179159760475
         ]
        },
        {
         "hovertemplate": "color=have<br>0=%{x}<br>1=%{y}<br>2=%{z}<extra></extra>",
         "legendgroup": "have",
         "marker": {
          "color": "#19d3f3",
          "symbol": "circle"
         },
         "mode": "markers",
         "name": "have",
         "scene": "scene",
         "showlegend": true,
         "type": "scatter3d",
         "x": [
          0.31873494386672974
         ],
         "y": [
          0.06639541685581207
         ],
         "z": [
          -0.0066189756616950035
         ]
        },
        {
         "hovertemplate": "color=not<br>0=%{x}<br>1=%{y}<br>2=%{z}<extra></extra>",
         "legendgroup": "not",
         "marker": {
          "color": "#FF6692",
          "symbol": "circle"
         },
         "mode": "markers",
         "name": "not",
         "scene": "scene",
         "showlegend": true,
         "type": "scatter3d",
         "x": [
          0.41425350308418274
         ],
         "y": [
          0.16084758937358856
         ],
         "z": [
          0.013698970898985863
         ]
        },
        {
         "hovertemplate": "color=as<br>0=%{x}<br>1=%{y}<br>2=%{z}<extra></extra>",
         "legendgroup": "as",
         "marker": {
          "color": "#B6E880",
          "symbol": "circle"
         },
         "mode": "markers",
         "name": "as",
         "scene": "scene",
         "showlegend": true,
         "type": "scatter3d",
         "x": [
          0.3786461651325226
         ],
         "y": [
          0.07119324058294296
         ],
         "z": [
          -0.029155932366847992
         ]
        },
        {
         "hovertemplate": "color=are<br>0=%{x}<br>1=%{y}<br>2=%{z}<extra></extra>",
         "legendgroup": "are",
         "marker": {
          "color": "#FF97FF",
          "symbol": "circle"
         },
         "mode": "markers",
         "name": "are",
         "scene": "scene",
         "showlegend": true,
         "type": "scatter3d",
         "x": [
          0.19151049852371216
         ],
         "y": [
          0.18620917201042175
         ],
         "z": [
          0.07468488812446594
         ]
        },
        {
         "hovertemplate": "color=was<br>0=%{x}<br>1=%{y}<br>2=%{z}<extra></extra>",
         "legendgroup": "was",
         "marker": {
          "color": "#FECB52",
          "symbol": "circle"
         },
         "mode": "markers",
         "name": "was",
         "scene": "scene",
         "showlegend": true,
         "type": "scatter3d",
         "x": [
          0.2339329570531845
         ],
         "y": [
          0.1363137662410736
         ],
         "z": [
          -0.018831228837370872
         ]
        },
        {
         "hovertemplate": "color=be<br>0=%{x}<br>1=%{y}<br>2=%{z}<extra></extra>",
         "legendgroup": "be",
         "marker": {
          "color": "#636efa",
          "symbol": "circle"
         },
         "mode": "markers",
         "name": "be",
         "scene": "scene",
         "showlegend": true,
         "type": "scatter3d",
         "x": [
          0.4225839674472809
         ],
         "y": [
          0.05609292909502983
         ],
         "z": [
          0.02815343253314495
         ]
        },
        {
         "hovertemplate": "color=so<br>0=%{x}<br>1=%{y}<br>2=%{z}<extra></extra>",
         "legendgroup": "so",
         "marker": {
          "color": "#EF553B",
          "symbol": "circle"
         },
         "mode": "markers",
         "name": "so",
         "scene": "scene",
         "showlegend": true,
         "type": "scatter3d",
         "x": [
          0.555646538734436
         ],
         "y": [
          0.03260459378361702
         ],
         "z": [
          0.11683639138936996
         ]
        },
        {
         "hovertemplate": "color=they<br>0=%{x}<br>1=%{y}<br>2=%{z}<extra></extra>",
         "legendgroup": "they",
         "marker": {
          "color": "#00cc96",
          "symbol": "circle"
         },
         "mode": "markers",
         "name": "they",
         "scene": "scene",
         "showlegend": true,
         "type": "scatter3d",
         "x": [
          0.4362083673477173
         ],
         "y": [
          -0.025670873001217842
         ],
         "z": [
          0.047838859260082245
         ]
        },
        {
         "hovertemplate": "color=very<br>0=%{x}<br>1=%{y}<br>2=%{z}<extra></extra>",
         "legendgroup": "very",
         "marker": {
          "color": "#ab63fa",
          "symbol": "circle"
         },
         "mode": "markers",
         "name": "very",
         "scene": "scene",
         "showlegend": true,
         "type": "scatter3d",
         "x": [
          0.3799484670162201
         ],
         "y": [
          0.2810862064361572
         ],
         "z": [
          0.05170969292521477
         ]
        },
        {
         "hovertemplate": "color=one<br>0=%{x}<br>1=%{y}<br>2=%{z}<extra></extra>",
         "legendgroup": "one",
         "marker": {
          "color": "#FFA15A",
          "symbol": "circle"
         },
         "mode": "markers",
         "name": "one",
         "scene": "scene",
         "showlegend": true,
         "type": "scatter3d",
         "x": [
          0.414183646440506
         ],
         "y": [
          0.02204885333776474
         ],
         "z": [
          -0.28728288412094116
         ]
        },
        {
         "hovertemplate": "color=if<br>0=%{x}<br>1=%{y}<br>2=%{z}<extra></extra>",
         "legendgroup": "if",
         "marker": {
          "color": "#19d3f3",
          "symbol": "circle"
         },
         "mode": "markers",
         "name": "if",
         "scene": "scene",
         "showlegend": true,
         "type": "scatter3d",
         "x": [
          0.47303783893585205
         ],
         "y": [
          0.06187230721116066
         ],
         "z": [
          0.04479329288005829
         ]
        },
        {
         "hovertemplate": "color=or<br>0=%{x}<br>1=%{y}<br>2=%{z}<extra></extra>",
         "legendgroup": "or",
         "marker": {
          "color": "#FF6692",
          "symbol": "circle"
         },
         "mode": "markers",
         "name": "or",
         "scene": "scene",
         "showlegend": true,
         "type": "scatter3d",
         "x": [
          0.38849395513534546
         ],
         "y": [
          0.012592446990311146
         ],
         "z": [
          0.2438019961118698
         ]
        },
        {
         "hovertemplate": "color=can<br>0=%{x}<br>1=%{y}<br>2=%{z}<extra></extra>",
         "legendgroup": "can",
         "marker": {
          "color": "#B6E880",
          "symbol": "circle"
         },
         "mode": "markers",
         "name": "can",
         "scene": "scene",
         "showlegend": true,
         "type": "scatter3d",
         "x": [
          0.3350312411785126
         ],
         "y": [
          0.13711096346378326
         ],
         "z": [
          0.10903525352478027
         ]
        },
        {
         "hovertemplate": "color=great<br>0=%{x}<br>1=%{y}<br>2=%{z}<extra></extra>",
         "legendgroup": "great",
         "marker": {
          "color": "#FF97FF",
          "symbol": "circle"
         },
         "mode": "markers",
         "name": "great",
         "scene": "scene",
         "showlegend": true,
         "type": "scatter3d",
         "x": [
          0.29451602697372437
         ],
         "y": [
          0.2849341332912445
         ],
         "z": [
          -0.08682011812925339
         ]
        },
        {
         "hovertemplate": "color=these<br>0=%{x}<br>1=%{y}<br>2=%{z}<extra></extra>",
         "legendgroup": "these",
         "marker": {
          "color": "#FECB52",
          "symbol": "circle"
         },
         "mode": "markers",
         "name": "these",
         "scene": "scene",
         "showlegend": true,
         "type": "scatter3d",
         "x": [
          0.34193554520606995
         ],
         "y": [
          -0.10220038890838623
         ],
         "z": [
          -0.10774032026529312
         ]
        },
        {
         "hovertemplate": "color=use<br>0=%{x}<br>1=%{y}<br>2=%{z}<extra></extra>",
         "legendgroup": "use",
         "marker": {
          "color": "#636efa",
          "symbol": "circle"
         },
         "mode": "markers",
         "name": "use",
         "scene": "scene",
         "showlegend": true,
         "type": "scatter3d",
         "x": [
          0.3922124207019806
         ],
         "y": [
          0.014309024438261986
         ],
         "z": [
          0.14268876612186432
         ]
        },
        {
         "hovertemplate": "color=like<br>0=%{x}<br>1=%{y}<br>2=%{z}<extra></extra>",
         "legendgroup": "like",
         "marker": {
          "color": "#EF553B",
          "symbol": "circle"
         },
         "mode": "markers",
         "name": "like",
         "scene": "scene",
         "showlegend": true,
         "type": "scatter3d",
         "x": [
          0.38454991579055786
         ],
         "y": [
          0.20685160160064697
         ],
         "z": [
          0.07611019164323807
         ]
        },
        {
         "hovertemplate": "color=well<br>0=%{x}<br>1=%{y}<br>2=%{z}<extra></extra>",
         "legendgroup": "well",
         "marker": {
          "color": "#00cc96",
          "symbol": "circle"
         },
         "mode": "markers",
         "name": "well",
         "scene": "scene",
         "showlegend": true,
         "type": "scatter3d",
         "x": [
          0.3487098813056946
         ],
         "y": [
          0.26242679357528687
         ],
         "z": [
          -0.02287447638809681
         ]
        },
        {
         "hovertemplate": "color=at<br>0=%{x}<br>1=%{y}<br>2=%{z}<extra></extra>",
         "legendgroup": "at",
         "marker": {
          "color": "#ab63fa",
          "symbol": "circle"
         },
         "mode": "markers",
         "name": "at",
         "scene": "scene",
         "showlegend": true,
         "type": "scatter3d",
         "x": [
          0.34216606616973877
         ],
         "y": [
          0.06281338632106781
         ],
         "z": [
          0.035663142800331116
         ]
        },
        {
         "hovertemplate": "color=just<br>0=%{x}<br>1=%{y}<br>2=%{z}<extra></extra>",
         "legendgroup": "just",
         "marker": {
          "color": "#FFA15A",
          "symbol": "circle"
         },
         "mode": "markers",
         "name": "just",
         "scene": "scene",
         "showlegend": true,
         "type": "scatter3d",
         "x": [
          0.5870760083198547
         ],
         "y": [
          0.07026438415050507
         ],
         "z": [
          0.06400244683027267
         ]
        },
        {
         "hovertemplate": "color=good<br>0=%{x}<br>1=%{y}<br>2=%{z}<extra></extra>",
         "legendgroup": "good",
         "marker": {
          "color": "#19d3f3",
          "symbol": "circle"
         },
         "mode": "markers",
         "name": "good",
         "scene": "scene",
         "showlegend": true,
         "type": "scatter3d",
         "x": [
          0.34568682312965393
         ],
         "y": [
          0.29463672637939453
         ],
         "z": [
          -0.04869075119495392
         ]
        },
        {
         "hovertemplate": "color=will<br>0=%{x}<br>1=%{y}<br>2=%{z}<extra></extra>",
         "legendgroup": "will",
         "marker": {
          "color": "#FF6692",
          "symbol": "circle"
         },
         "mode": "markers",
         "name": "will",
         "scene": "scene",
         "showlegend": true,
         "type": "scatter3d",
         "x": [
          0.32568037509918213
         ],
         "y": [
          0.125753715634346
         ],
         "z": [
          0.10511314868927002
         ]
        },
        {
         "hovertemplate": "color=up<br>0=%{x}<br>1=%{y}<br>2=%{z}<extra></extra>",
         "legendgroup": "up",
         "marker": {
          "color": "#B6E880",
          "symbol": "circle"
         },
         "mode": "markers",
         "name": "up",
         "scene": "scene",
         "showlegend": true,
         "type": "scatter3d",
         "x": [
          0.4035191833972931
         ],
         "y": [
          0.09519735723733902
         ],
         "z": [
          0.20072337985038757
         ]
        },
        {
         "hovertemplate": "color=out<br>0=%{x}<br>1=%{y}<br>2=%{z}<extra></extra>",
         "legendgroup": "out",
         "marker": {
          "color": "#FF97FF",
          "symbol": "circle"
         },
         "mode": "markers",
         "name": "out",
         "scene": "scene",
         "showlegend": true,
         "type": "scatter3d",
         "x": [
          0.38004276156425476
         ],
         "y": [
          0.08249137550592422
         ],
         "z": [
          0.18360839784145355
         ]
        },
        {
         "hovertemplate": "color=your<br>0=%{x}<br>1=%{y}<br>2=%{z}<extra></extra>",
         "legendgroup": "your",
         "marker": {
          "color": "#FECB52",
          "symbol": "circle"
         },
         "mode": "markers",
         "name": "your",
         "scene": "scene",
         "showlegend": true,
         "type": "scatter3d",
         "x": [
          0.42380306124687195
         ],
         "y": [
          0.13403362035751343
         ],
         "z": [
          0.23571273684501648
         ]
        },
        {
         "hovertemplate": "color=would<br>0=%{x}<br>1=%{y}<br>2=%{z}<extra></extra>",
         "legendgroup": "would",
         "marker": {
          "color": "#636efa",
          "symbol": "circle"
         },
         "mode": "markers",
         "name": "would",
         "scene": "scene",
         "showlegend": true,
         "type": "scatter3d",
         "x": [
          0.3509361445903778
         ],
         "y": [
          0.1529834121465683
         ],
         "z": [
          -0.029592027887701988
         ]
        },
        {
         "hovertemplate": "color=when<br>0=%{x}<br>1=%{y}<br>2=%{z}<extra></extra>",
         "legendgroup": "when",
         "marker": {
          "color": "#EF553B",
          "symbol": "circle"
         },
         "mode": "markers",
         "name": "when",
         "scene": "scene",
         "showlegend": true,
         "type": "scatter3d",
         "x": [
          0.4281235337257385
         ],
         "y": [
          0.027523797005414963
         ],
         "z": [
          0.20437310636043549
         ]
        },
        {
         "hovertemplate": "color=all<br>0=%{x}<br>1=%{y}<br>2=%{z}<extra></extra>",
         "legendgroup": "all",
         "marker": {
          "color": "#00cc96",
          "symbol": "circle"
         },
         "mode": "markers",
         "name": "all",
         "scene": "scene",
         "showlegend": true,
         "type": "scatter3d",
         "x": [
          0.40365928411483765
         ],
         "y": [
          0.03489018976688385
         ],
         "z": [
          0.0018273198511451483
         ]
        },
        {
         "hovertemplate": "color=more<br>0=%{x}<br>1=%{y}<br>2=%{z}<extra></extra>",
         "legendgroup": "more",
         "marker": {
          "color": "#ab63fa",
          "symbol": "circle"
         },
         "mode": "markers",
         "name": "more",
         "scene": "scene",
         "showlegend": true,
         "type": "scatter3d",
         "x": [
          0.4081672430038452
         ],
         "y": [
          0.06694550812244415
         ],
         "z": [
          -0.09514787048101425
         ]
        },
        {
         "hovertemplate": "color=get<br>0=%{x}<br>1=%{y}<br>2=%{z}<extra></extra>",
         "legendgroup": "get",
         "marker": {
          "color": "#FFA15A",
          "symbol": "circle"
         },
         "mode": "markers",
         "name": "get",
         "scene": "scene",
         "showlegend": true,
         "type": "scatter3d",
         "x": [
          0.487648606300354
         ],
         "y": [
          0.0002660670434124768
         ],
         "z": [
          0.21104876697063446
         ]
        },
        {
         "hovertemplate": "color=them<br>0=%{x}<br>1=%{y}<br>2=%{z}<extra></extra>",
         "legendgroup": "them",
         "marker": {
          "color": "#19d3f3",
          "symbol": "circle"
         },
         "mode": "markers",
         "name": "them",
         "scene": "scene",
         "showlegend": true,
         "type": "scatter3d",
         "x": [
          0.44832125306129456
         ],
         "y": [
          -0.1714591681957245
         ],
         "z": [
          0.12871471047401428
         ]
        },
        {
         "hovertemplate": "color=from<br>0=%{x}<br>1=%{y}<br>2=%{z}<extra></extra>",
         "legendgroup": "from",
         "marker": {
          "color": "#FF6692",
          "symbol": "circle"
         },
         "mode": "markers",
         "name": "from",
         "scene": "scene",
         "showlegend": true,
         "type": "scatter3d",
         "x": [
          0.1818198561668396
         ],
         "y": [
          0.1561840921640396
         ],
         "z": [
          0.10257579386234283
         ]
        },
        {
         "hovertemplate": "color=an<br>0=%{x}<br>1=%{y}<br>2=%{z}<extra></extra>",
         "legendgroup": "an",
         "marker": {
          "color": "#B6E880",
          "symbol": "circle"
         },
         "mode": "markers",
         "name": "an",
         "scene": "scene",
         "showlegend": true,
         "type": "scatter3d",
         "x": [
          0.27618110179901123
         ],
         "y": [
          0.12104440480470657
         ],
         "z": [
          -0.0799059197306633
         ]
        },
        {
         "hovertemplate": "color=knife<br>0=%{x}<br>1=%{y}<br>2=%{z}<extra></extra>",
         "legendgroup": "knife",
         "marker": {
          "color": "#FF97FF",
          "symbol": "circle"
         },
         "mode": "markers",
         "name": "knife",
         "scene": "scene",
         "showlegend": true,
         "type": "scatter3d",
         "x": [
          0.29993167519569397
         ],
         "y": [
          -0.03872978687286377
         ],
         "z": [
          -0.18622824549674988
         ]
        },
        {
         "hovertemplate": "color=had<br>0=%{x}<br>1=%{y}<br>2=%{z}<extra></extra>",
         "legendgroup": "had",
         "marker": {
          "color": "#FECB52",
          "symbol": "circle"
         },
         "mode": "markers",
         "name": "had",
         "scene": "scene",
         "showlegend": true,
         "type": "scatter3d",
         "x": [
          0.20980627834796906
         ],
         "y": [
          0.12912897765636444
         ],
         "z": [
          0.03861633688211441
         ]
        },
        {
         "hovertemplate": "color=than<br>0=%{x}<br>1=%{y}<br>2=%{z}<extra></extra>",
         "legendgroup": "than",
         "marker": {
          "color": "#636efa",
          "symbol": "circle"
         },
         "mode": "markers",
         "name": "than",
         "scene": "scene",
         "showlegend": true,
         "type": "scatter3d",
         "x": [
          0.33064237236976624
         ],
         "y": [
          0.12655560672283173
         ],
         "z": [
          -0.00752970390021801
         ]
        },
        {
         "hovertemplate": "color=has<br>0=%{x}<br>1=%{y}<br>2=%{z}<extra></extra>",
         "legendgroup": "has",
         "marker": {
          "color": "#EF553B",
          "symbol": "circle"
         },
         "mode": "markers",
         "name": "has",
         "scene": "scene",
         "showlegend": true,
         "type": "scatter3d",
         "x": [
          0.21606335043907166
         ],
         "y": [
          0.22960537672042847
         ],
         "z": [
          0.01677095890045166
         ]
        },
        {
         "hovertemplate": "color=me<br>0=%{x}<br>1=%{y}<br>2=%{z}<extra></extra>",
         "legendgroup": "me",
         "marker": {
          "color": "#00cc96",
          "symbol": "circle"
         },
         "mode": "markers",
         "name": "me",
         "scene": "scene",
         "showlegend": true,
         "type": "scatter3d",
         "x": [
          0.39232611656188965
         ],
         "y": [
          -0.10067927092313766
         ],
         "z": [
          -0.11394541710615158
         ]
        },
        {
         "hovertemplate": "color=no<br>0=%{x}<br>1=%{y}<br>2=%{z}<extra></extra>",
         "legendgroup": "no",
         "marker": {
          "color": "#ab63fa",
          "symbol": "circle"
         },
         "mode": "markers",
         "name": "no",
         "scene": "scene",
         "showlegend": true,
         "type": "scatter3d",
         "x": [
          0.240870863199234
         ],
         "y": [
          0.23525792360305786
         ],
         "z": [
          0.07735322415828705
         ]
        },
        {
         "hovertemplate": "color=about<br>0=%{x}<br>1=%{y}<br>2=%{z}<extra></extra>",
         "legendgroup": "about",
         "marker": {
          "color": "#FFA15A",
          "symbol": "circle"
         },
         "mode": "markers",
         "name": "about",
         "scene": "scene",
         "showlegend": true,
         "type": "scatter3d",
         "x": [
          0.25173407793045044
         ],
         "y": [
          0.1307128220796585
         ],
         "z": [
          0.004210168495774269
         ]
        },
        {
         "hovertemplate": "color=do<br>0=%{x}<br>1=%{y}<br>2=%{z}<extra></extra>",
         "legendgroup": "do",
         "marker": {
          "color": "#19d3f3",
          "symbol": "circle"
         },
         "mode": "markers",
         "name": "do",
         "scene": "scene",
         "showlegend": true,
         "type": "scatter3d",
         "x": [
          0.41465890407562256
         ],
         "y": [
          0.021018503233790398
         ],
         "z": [
          0.11245609819889069
         ]
        },
        {
         "hovertemplate": "color=some<br>0=%{x}<br>1=%{y}<br>2=%{z}<extra></extra>",
         "legendgroup": "some",
         "marker": {
          "color": "#FF6692",
          "symbol": "circle"
         },
         "mode": "markers",
         "name": "some",
         "scene": "scene",
         "showlegend": true,
         "type": "scatter3d",
         "x": [
          0.3125544488430023
         ],
         "y": [
          0.0735245868563652
         ],
         "z": [
          0.10340093076229095
         ]
        },
        {
         "hovertemplate": "color=little<br>0=%{x}<br>1=%{y}<br>2=%{z}<extra></extra>",
         "legendgroup": "little",
         "marker": {
          "color": "#B6E880",
          "symbol": "circle"
         },
         "mode": "markers",
         "name": "little",
         "scene": "scene",
         "showlegend": true,
         "type": "scatter3d",
         "x": [
          0.5197443962097168
         ],
         "y": [
          0.2676631510257721
         ],
         "z": [
          0.2080942541360855
         ]
        },
        {
         "hovertemplate": "color=only<br>0=%{x}<br>1=%{y}<br>2=%{z}<extra></extra>",
         "legendgroup": "only",
         "marker": {
          "color": "#FF97FF",
          "symbol": "circle"
         },
         "mode": "markers",
         "name": "only",
         "scene": "scene",
         "showlegend": true,
         "type": "scatter3d",
         "x": [
          0.4183107912540436
         ],
         "y": [
          0.21788443624973297
         ],
         "z": [
          -0.018434680998325348
         ]
        },
        {
         "hovertemplate": "color=other<br>0=%{x}<br>1=%{y}<br>2=%{z}<extra></extra>",
         "legendgroup": "other",
         "marker": {
          "color": "#FECB52",
          "symbol": "circle"
         },
         "mode": "markers",
         "name": "other",
         "scene": "scene",
         "showlegend": true,
         "type": "scatter3d",
         "x": [
          0.32420459389686584
         ],
         "y": [
          0.10604620724916458
         ],
         "z": [
          -0.07802505791187286
         ]
        },
        {
         "hovertemplate": "color=there<br>0=%{x}<br>1=%{y}<br>2=%{z}<extra></extra>",
         "legendgroup": "there",
         "marker": {
          "color": "#636efa",
          "symbol": "circle"
         },
         "mode": "markers",
         "name": "there",
         "scene": "scene",
         "showlegend": true,
         "type": "scatter3d",
         "x": [
          0.4802520275115967
         ],
         "y": [
          0.07140719145536423
         ],
         "z": [
          0.04270193725824356
         ]
        },
        {
         "hovertemplate": "color=really<br>0=%{x}<br>1=%{y}<br>2=%{z}<extra></extra>",
         "legendgroup": "really",
         "marker": {
          "color": "#EF553B",
          "symbol": "circle"
         },
         "mode": "markers",
         "name": "really",
         "scene": "scene",
         "showlegend": true,
         "type": "scatter3d",
         "x": [
          0.5078642964363098
         ],
         "y": [
          0.08289109170436859
         ],
         "z": [
          0.05686315894126892
         ]
        },
        {
         "hovertemplate": "color=also<br>0=%{x}<br>1=%{y}<br>2=%{z}<extra></extra>",
         "legendgroup": "also",
         "marker": {
          "color": "#00cc96",
          "symbol": "circle"
         },
         "mode": "markers",
         "name": "also",
         "scene": "scene",
         "showlegend": true,
         "type": "scatter3d",
         "x": [
          0.4560159742832184
         ],
         "y": [
          0.20206595957279205
         ],
         "z": [
          0.1129230186343193
         ]
        },
        {
         "hovertemplate": "color=don<br>0=%{x}<br>1=%{y}<br>2=%{z}<extra></extra>",
         "legendgroup": "don",
         "marker": {
          "color": "#ab63fa",
          "symbol": "circle"
         },
         "mode": "markers",
         "name": "don",
         "scene": "scene",
         "showlegend": true,
         "type": "scatter3d",
         "x": [
          0.32214048504829407
         ],
         "y": [
          0.10416299104690552
         ],
         "z": [
          0.11044201254844666
         ]
        },
        {
         "hovertemplate": "color=easy<br>0=%{x}<br>1=%{y}<br>2=%{z}<extra></extra>",
         "legendgroup": "easy",
         "marker": {
          "color": "#FFA15A",
          "symbol": "circle"
         },
         "mode": "markers",
         "name": "easy",
         "scene": "scene",
         "showlegend": true,
         "type": "scatter3d",
         "x": [
          0.37877053022384644
         ],
         "y": [
          0.2752845287322998
         ],
         "z": [
          0.06234923005104065
         ]
        },
        {
         "hovertemplate": "color=what<br>0=%{x}<br>1=%{y}<br>2=%{z}<extra></extra>",
         "legendgroup": "what",
         "marker": {
          "color": "#19d3f3",
          "symbol": "circle"
         },
         "mode": "markers",
         "name": "what",
         "scene": "scene",
         "showlegend": true,
         "type": "scatter3d",
         "x": [
          0.41555550694465637
         ],
         "y": [
          0.020768294110894203
         ],
         "z": [
          -0.1909065693616867
         ]
        },
        {
         "hovertemplate": "color=much<br>0=%{x}<br>1=%{y}<br>2=%{z}<extra></extra>",
         "legendgroup": "much",
         "marker": {
          "color": "#FF6692",
          "symbol": "circle"
         },
         "mode": "markers",
         "name": "much",
         "scene": "scene",
         "showlegend": true,
         "type": "scatter3d",
         "x": [
          0.41517403721809387
         ],
         "y": [
          0.11098919808864594
         ],
         "z": [
          -0.015245131216943264
         ]
        },
        {
         "hovertemplate": "color=time<br>0=%{x}<br>1=%{y}<br>2=%{z}<extra></extra>",
         "legendgroup": "time",
         "marker": {
          "color": "#B6E880",
          "symbol": "circle"
         },
         "mode": "markers",
         "name": "time",
         "scene": "scene",
         "showlegend": true,
         "type": "scatter3d",
         "x": [
          0.44979265332221985
         ],
         "y": [
          -0.13417883217334747
         ],
         "z": [
          0.03992033749818802
         ]
        },
        {
         "hovertemplate": "color=price<br>0=%{x}<br>1=%{y}<br>2=%{z}<extra></extra>",
         "legendgroup": "price",
         "marker": {
          "color": "#FF97FF",
          "symbol": "circle"
         },
         "mode": "markers",
         "name": "price",
         "scene": "scene",
         "showlegend": true,
         "type": "scatter3d",
         "x": [
          0.30581140518188477
         ],
         "y": [
          0.09271272271871567
         ],
         "z": [
          -0.28488650918006897
         ]
        },
        {
         "hovertemplate": "color=used<br>0=%{x}<br>1=%{y}<br>2=%{z}<extra></extra>",
         "legendgroup": "used",
         "marker": {
          "color": "#FECB52",
          "symbol": "circle"
         },
         "mode": "markers",
         "name": "used",
         "scene": "scene",
         "showlegend": true,
         "type": "scatter3d",
         "x": [
          0.25547486543655396
         ],
         "y": [
          0.061859749257564545
         ],
         "z": [
          0.08825609087944031
         ]
        },
        {
         "hovertemplate": "color=fit<br>0=%{x}<br>1=%{y}<br>2=%{z}<extra></extra>",
         "legendgroup": "fit",
         "marker": {
          "color": "#636efa",
          "symbol": "circle"
         },
         "mode": "markers",
         "name": "fit",
         "scene": "scene",
         "showlegend": true,
         "type": "scatter3d",
         "x": [
          0.4357934892177582
         ],
         "y": [
          0.3239259719848633
         ],
         "z": [
          -0.006964932661503553
         ]
        },
        {
         "hovertemplate": "color=product<br>0=%{x}<br>1=%{y}<br>2=%{z}<extra></extra>",
         "legendgroup": "product",
         "marker": {
          "color": "#EF553B",
          "symbol": "circle"
         },
         "mode": "markers",
         "name": "product",
         "scene": "scene",
         "showlegend": true,
         "type": "scatter3d",
         "x": [
          0.25519129633903503
         ],
         "y": [
          -0.016079027205705643
         ],
         "z": [
          -0.3035980463027954
         ]
        },
        {
         "hovertemplate": "color=which<br>0=%{x}<br>1=%{y}<br>2=%{z}<extra></extra>",
         "legendgroup": "which",
         "marker": {
          "color": "#00cc96",
          "symbol": "circle"
         },
         "mode": "markers",
         "name": "which",
         "scene": "scene",
         "showlegend": true,
         "type": "scatter3d",
         "x": [
          0.5526686906814575
         ],
         "y": [
          0.07407984882593155
         ],
         "z": [
          -0.09131212532520294
         ]
        },
        {
         "hovertemplate": "color=made<br>0=%{x}<br>1=%{y}<br>2=%{z}<extra></extra>",
         "legendgroup": "made",
         "marker": {
          "color": "#ab63fa",
          "symbol": "circle"
         },
         "mode": "markers",
         "name": "made",
         "scene": "scene",
         "showlegend": true,
         "type": "scatter3d",
         "x": [
          0.2463071048259735
         ],
         "y": [
          0.23813864588737488
         ],
         "z": [
          -0.07282321900129318
         ]
        },
        {
         "hovertemplate": "color=light<br>0=%{x}<br>1=%{y}<br>2=%{z}<extra></extra>",
         "legendgroup": "light",
         "marker": {
          "color": "#FFA15A",
          "symbol": "circle"
         },
         "mode": "markers",
         "name": "light",
         "scene": "scene",
         "showlegend": true,
         "type": "scatter3d",
         "x": [
          0.43016666173934937
         ],
         "y": [
          0.0893903598189354
         ],
         "z": [
          0.03064381144940853
         ]
        },
        {
         "hovertemplate": "color=nice<br>0=%{x}<br>1=%{y}<br>2=%{z}<extra></extra>",
         "legendgroup": "nice",
         "marker": {
          "color": "#19d3f3",
          "symbol": "circle"
         },
         "mode": "markers",
         "name": "nice",
         "scene": "scene",
         "showlegend": true,
         "type": "scatter3d",
         "x": [
          0.37691614031791687
         ],
         "y": [
          0.44232335686683655
         ],
         "z": [
          0.05541910231113434
         ]
        },
        {
         "hovertemplate": "color=work<br>0=%{x}<br>1=%{y}<br>2=%{z}<extra></extra>",
         "legendgroup": "work",
         "marker": {
          "color": "#FF6692",
          "symbol": "circle"
         },
         "mode": "markers",
         "name": "work",
         "scene": "scene",
         "showlegend": true,
         "type": "scatter3d",
         "x": [
          0.41207683086395264
         ],
         "y": [
          0.031974907964468
         ],
         "z": [
          0.0801825076341629
         ]
        },
        {
         "hovertemplate": "color=off<br>0=%{x}<br>1=%{y}<br>2=%{z}<extra></extra>",
         "legendgroup": "off",
         "marker": {
          "color": "#B6E880",
          "symbol": "circle"
         },
         "mode": "markers",
         "name": "off",
         "scene": "scene",
         "showlegend": true,
         "type": "scatter3d",
         "x": [
          0.42242589592933655
         ],
         "y": [
          0.21716859936714172
         ],
         "z": [
          0.2638147473335266
         ]
        },
        {
         "hovertemplate": "color=too<br>0=%{x}<br>1=%{y}<br>2=%{z}<extra></extra>",
         "legendgroup": "too",
         "marker": {
          "color": "#FF97FF",
          "symbol": "circle"
         },
         "mode": "markers",
         "name": "too",
         "scene": "scene",
         "showlegend": true,
         "type": "scatter3d",
         "x": [
          0.4997815191745758
         ],
         "y": [
          0.16806034743785858
         ],
         "z": [
          0.14058855175971985
         ]
        },
        {
         "hovertemplate": "color=quality<br>0=%{x}<br>1=%{y}<br>2=%{z}<extra></extra>",
         "legendgroup": "quality",
         "marker": {
          "color": "#FECB52",
          "symbol": "circle"
         },
         "mode": "markers",
         "name": "quality",
         "scene": "scene",
         "showlegend": true,
         "type": "scatter3d",
         "x": [
          0.26332712173461914
         ],
         "y": [
          0.21410344541072845
         ],
         "z": [
          -0.21906231343746185
         ]
        },
        {
         "hovertemplate": "color=works<br>0=%{x}<br>1=%{y}<br>2=%{z}<extra></extra>",
         "legendgroup": "works",
         "marker": {
          "color": "#636efa",
          "symbol": "circle"
         },
         "mode": "markers",
         "name": "works",
         "scene": "scene",
         "showlegend": true,
         "type": "scatter3d",
         "x": [
          0.29774531722068787
         ],
         "y": [
          0.19972115755081177
         ],
         "z": [
          0.025685954838991165
         ]
        },
        {
         "hovertemplate": "color=after<br>0=%{x}<br>1=%{y}<br>2=%{z}<extra></extra>",
         "legendgroup": "after",
         "marker": {
          "color": "#EF553B",
          "symbol": "circle"
         },
         "mode": "markers",
         "name": "after",
         "scene": "scene",
         "showlegend": true,
         "type": "scatter3d",
         "x": [
          0.2288232445716858
         ],
         "y": [
          0.07653229683637619
         ],
         "z": [
          0.14926904439926147
         ]
        },
        {
         "hovertemplate": "color=bought<br>0=%{x}<br>1=%{y}<br>2=%{z}<extra></extra>",
         "legendgroup": "bought",
         "marker": {
          "color": "#00cc96",
          "symbol": "circle"
         },
         "mode": "markers",
         "name": "bought",
         "scene": "scene",
         "showlegend": true,
         "type": "scatter3d",
         "x": [
          0.13002702593803406
         ],
         "y": [
          0.08124116063117981
         ],
         "z": [
          -0.24456726014614105
         ]
        },
        {
         "hovertemplate": "color=because<br>0=%{x}<br>1=%{y}<br>2=%{z}<extra></extra>",
         "legendgroup": "because",
         "marker": {
          "color": "#ab63fa",
          "symbol": "circle"
         },
         "mode": "markers",
         "name": "because",
         "scene": "scene",
         "showlegend": true,
         "type": "scatter3d",
         "x": [
          0.48127317428588867
         ],
         "y": [
          0.10027681291103363
         ],
         "z": [
          -0.007922222837805748
         ]
        },
        {
         "hovertemplate": "color=any<br>0=%{x}<br>1=%{y}<br>2=%{z}<extra></extra>",
         "legendgroup": "any",
         "marker": {
          "color": "#FFA15A",
          "symbol": "circle"
         },
         "mode": "markers",
         "name": "any",
         "scene": "scene",
         "showlegend": true,
         "type": "scatter3d",
         "x": [
          0.37067711353302
         ],
         "y": [
          0.10898848623037338
         ],
         "z": [
          0.043485578149557114
         ]
        },
        {
         "hovertemplate": "color=need<br>0=%{x}<br>1=%{y}<br>2=%{z}<extra></extra>",
         "legendgroup": "need",
         "marker": {
          "color": "#19d3f3",
          "symbol": "circle"
         },
         "mode": "markers",
         "name": "need",
         "scene": "scene",
         "showlegend": true,
         "type": "scatter3d",
         "x": [
          0.42535126209259033
         ],
         "y": [
          0.11364319175481796
         ],
         "z": [
          0.10585394501686096
         ]
        },
        {
         "hovertemplate": "color=bike<br>0=%{x}<br>1=%{y}<br>2=%{z}<extra></extra>",
         "legendgroup": "bike",
         "marker": {
          "color": "#FF6692",
          "symbol": "circle"
         },
         "mode": "markers",
         "name": "bike",
         "scene": "scene",
         "showlegend": true,
         "type": "scatter3d",
         "x": [
          0.42645034193992615
         ],
         "y": [
          -0.03200218826532364
         ],
         "z": [
          -0.10935323685407639
         ]
        },
        {
         "hovertemplate": "color=even<br>0=%{x}<br>1=%{y}<br>2=%{z}<extra></extra>",
         "legendgroup": "even",
         "marker": {
          "color": "#B6E880",
          "symbol": "circle"
         },
         "mode": "markers",
         "name": "even",
         "scene": "scene",
         "showlegend": true,
         "type": "scatter3d",
         "x": [
          0.4943467080593109
         ],
         "y": [
          0.05317409336566925
         ],
         "z": [
          0.24484680593013763
         ]
        },
        {
         "hovertemplate": "color=its<br>0=%{x}<br>1=%{y}<br>2=%{z}<extra></extra>",
         "legendgroup": "its",
         "marker": {
          "color": "#FF97FF",
          "symbol": "circle"
         },
         "mode": "markers",
         "name": "its",
         "scene": "scene",
         "showlegend": true,
         "type": "scatter3d",
         "x": [
          0.45791375637054443
         ],
         "y": [
          0.16803137958049774
         ],
         "z": [
          0.01883394829928875
         ]
        },
        {
         "hovertemplate": "color=better<br>0=%{x}<br>1=%{y}<br>2=%{z}<extra></extra>",
         "legendgroup": "better",
         "marker": {
          "color": "#FECB52",
          "symbol": "circle"
         },
         "mode": "markers",
         "name": "better",
         "scene": "scene",
         "showlegend": true,
         "type": "scatter3d",
         "x": [
          0.3712623715400696
         ],
         "y": [
          0.20844712853431702
         ],
         "z": [
          -0.12013254314661026
         ]
        },
        {
         "hovertemplate": "color=back<br>0=%{x}<br>1=%{y}<br>2=%{z}<extra></extra>",
         "legendgroup": "back",
         "marker": {
          "color": "#636efa",
          "symbol": "circle"
         },
         "mode": "markers",
         "name": "back",
         "scene": "scene",
         "showlegend": true,
         "type": "scatter3d",
         "x": [
          0.4690474569797516
         ],
         "y": [
          0.10688871890306473
         ],
         "z": [
          0.2043408751487732
         ]
        },
        {
         "hovertemplate": "color=bag<br>0=%{x}<br>1=%{y}<br>2=%{z}<extra></extra>",
         "legendgroup": "bag",
         "marker": {
          "color": "#EF553B",
          "symbol": "circle"
         },
         "mode": "markers",
         "name": "bag",
         "scene": "scene",
         "showlegend": true,
         "type": "scatter3d",
         "x": [
          0.41321271657943726
         ],
         "y": [
          -0.06835059821605682
         ],
         "z": [
          0.030760766938328743
         ]
        },
        {
         "hovertemplate": "color=does<br>0=%{x}<br>1=%{y}<br>2=%{z}<extra></extra>",
         "legendgroup": "does",
         "marker": {
          "color": "#00cc96",
          "symbol": "circle"
         },
         "mode": "markers",
         "name": "does",
         "scene": "scene",
         "showlegend": true,
         "type": "scatter3d",
         "x": [
          0.35602298378944397
         ],
         "y": [
          0.22833770513534546
         ],
         "z": [
          0.10242429375648499
         ]
        },
        {
         "hovertemplate": "color=small<br>0=%{x}<br>1=%{y}<br>2=%{z}<extra></extra>",
         "legendgroup": "small",
         "marker": {
          "color": "#ab63fa",
          "symbol": "circle"
         },
         "mode": "markers",
         "name": "small",
         "scene": "scene",
         "showlegend": true,
         "type": "scatter3d",
         "x": [
          0.40869221091270447
         ],
         "y": [
          0.247014582157135
         ],
         "z": [
          0.12683594226837158
         ]
        },
        {
         "hovertemplate": "color=ve<br>0=%{x}<br>1=%{y}<br>2=%{z}<extra></extra>",
         "legendgroup": "ve",
         "marker": {
          "color": "#FFA15A",
          "symbol": "circle"
         },
         "mode": "markers",
         "name": "ve",
         "scene": "scene",
         "showlegend": true,
         "type": "scatter3d",
         "x": [
          0.21258597075939178
         ],
         "y": [
          -0.02967672608792782
         ],
         "z": [
          -0.018400024622678757
         ]
        },
        {
         "hovertemplate": "color=put<br>0=%{x}<br>1=%{y}<br>2=%{z}<extra></extra>",
         "legendgroup": "put",
         "marker": {
          "color": "#19d3f3",
          "symbol": "circle"
         },
         "mode": "markers",
         "name": "put",
         "scene": "scene",
         "showlegend": true,
         "type": "scatter3d",
         "x": [
          0.45808088779449463
         ],
         "y": [
          0.2029312252998352
         ],
         "z": [
          0.2837930917739868
         ]
        },
        {
         "hovertemplate": "color=am<br>0=%{x}<br>1=%{y}<br>2=%{z}<extra></extra>",
         "legendgroup": "am",
         "marker": {
          "color": "#FF6692",
          "symbol": "circle"
         },
         "mode": "markers",
         "name": "am",
         "scene": "scene",
         "showlegend": true,
         "type": "scatter3d",
         "x": [
          0.19752168655395508
         ],
         "y": [
          -0.0025808855425566435
         ],
         "z": [
          -0.12495741993188858
         ]
        },
        {
         "hovertemplate": "color=by<br>0=%{x}<br>1=%{y}<br>2=%{z}<extra></extra>",
         "legendgroup": "by",
         "marker": {
          "color": "#B6E880",
          "symbol": "circle"
         },
         "mode": "markers",
         "name": "by",
         "scene": "scene",
         "showlegend": true,
         "type": "scatter3d",
         "x": [
          0.22369100153446198
         ],
         "y": [
          0.12354448437690735
         ],
         "z": [
          -0.01846587099134922
         ]
        },
        {
         "hovertemplate": "color=over<br>0=%{x}<br>1=%{y}<br>2=%{z}<extra></extra>",
         "legendgroup": "over",
         "marker": {
          "color": "#FF97FF",
          "symbol": "circle"
         },
         "mode": "markers",
         "name": "over",
         "scene": "scene",
         "showlegend": true,
         "type": "scatter3d",
         "x": [
          0.3159109652042389
         ],
         "y": [
          0.15285728871822357
         ],
         "z": [
          0.20506466925144196
         ]
        },
        {
         "hovertemplate": "color=two<br>0=%{x}<br>1=%{y}<br>2=%{z}<extra></extra>",
         "legendgroup": "two",
         "marker": {
          "color": "#FECB52",
          "symbol": "circle"
         },
         "mode": "markers",
         "name": "two",
         "scene": "scene",
         "showlegend": true,
         "type": "scatter3d",
         "x": [
          0.2946273982524872
         ],
         "y": [
          0.18164612352848053
         ],
         "z": [
          -0.04779037460684776
         ]
        },
        {
         "hovertemplate": "color=buy<br>0=%{x}<br>1=%{y}<br>2=%{z}<extra></extra>",
         "legendgroup": "buy",
         "marker": {
          "color": "#636efa",
          "symbol": "circle"
         },
         "mode": "markers",
         "name": "buy",
         "scene": "scene",
         "showlegend": true,
         "type": "scatter3d",
         "x": [
          0.33451205492019653
         ],
         "y": [
          0.05853840708732605
         ],
         "z": [
          -0.15769478678703308
         ]
        },
        {
         "hovertemplate": "color=enough<br>0=%{x}<br>1=%{y}<br>2=%{z}<extra></extra>",
         "legendgroup": "enough",
         "marker": {
          "color": "#EF553B",
          "symbol": "circle"
         },
         "mode": "markers",
         "name": "enough",
         "scene": "scene",
         "showlegend": true,
         "type": "scatter3d",
         "x": [
          0.4462292492389679
         ],
         "y": [
          0.15264767408370972
         ],
         "z": [
          0.21921822428703308
         ]
        },
        {
         "hovertemplate": "color=got<br>0=%{x}<br>1=%{y}<br>2=%{z}<extra></extra>",
         "legendgroup": "got",
         "marker": {
          "color": "#00cc96",
          "symbol": "circle"
         },
         "mode": "markers",
         "name": "got",
         "scene": "scene",
         "showlegend": true,
         "type": "scatter3d",
         "x": [
          0.18617060780525208
         ],
         "y": [
          0.04557037726044655
         ],
         "z": [
          -0.01560969278216362
         ]
        },
        {
         "hovertemplate": "color=first<br>0=%{x}<br>1=%{y}<br>2=%{z}<extra></extra>",
         "legendgroup": "first",
         "marker": {
          "color": "#ab63fa",
          "symbol": "circle"
         },
         "mode": "markers",
         "name": "first",
         "scene": "scene",
         "showlegend": true,
         "type": "scatter3d",
         "x": [
          0.3407764732837677
         ],
         "y": [
          0.05476248636841774
         ],
         "z": [
          -0.03420446813106537
         ]
        },
        {
         "hovertemplate": "color=still<br>0=%{x}<br>1=%{y}<br>2=%{z}<extra></extra>",
         "legendgroup": "still",
         "marker": {
          "color": "#FFA15A",
          "symbol": "circle"
         },
         "mode": "markers",
         "name": "still",
         "scene": "scene",
         "showlegend": true,
         "type": "scatter3d",
         "x": [
          0.44675305485725403
         ],
         "y": [
          0.07068566232919693
         ],
         "z": [
          0.15074755251407623
         ]
        },
        {
         "hovertemplate": "color=could<br>0=%{x}<br>1=%{y}<br>2=%{z}<extra></extra>",
         "legendgroup": "could",
         "marker": {
          "color": "#19d3f3",
          "symbol": "circle"
         },
         "mode": "markers",
         "name": "could",
         "scene": "scene",
         "showlegend": true,
         "type": "scatter3d",
         "x": [
          0.34459003806114197
         ],
         "y": [
          0.1468735933303833
         ],
         "z": [
          0.06238896772265434
         ]
        },
        {
         "hovertemplate": "color=way<br>0=%{x}<br>1=%{y}<br>2=%{z}<extra></extra>",
         "legendgroup": "way",
         "marker": {
          "color": "#FF6692",
          "symbol": "circle"
         },
         "mode": "markers",
         "name": "way",
         "scene": "scene",
         "showlegend": true,
         "type": "scatter3d",
         "x": [
          0.5673693418502808
         ],
         "y": [
          0.11093467473983765
         ],
         "z": [
          0.08693182468414307
         ]
        },
        {
         "hovertemplate": "color=into<br>0=%{x}<br>1=%{y}<br>2=%{z}<extra></extra>",
         "legendgroup": "into",
         "marker": {
          "color": "#B6E880",
          "symbol": "circle"
         },
         "mode": "markers",
         "name": "into",
         "scene": "scene",
         "showlegend": true,
         "type": "scatter3d",
         "x": [
          0.3413321375846863
         ],
         "y": [
          0.24468518793582916
         ],
         "z": [
          0.2693338990211487
         ]
        },
        {
         "hovertemplate": "color=size<br>0=%{x}<br>1=%{y}<br>2=%{z}<extra></extra>",
         "legendgroup": "size",
         "marker": {
          "color": "#FF97FF",
          "symbol": "circle"
         },
         "mode": "markers",
         "name": "size",
         "scene": "scene",
         "showlegend": true,
         "type": "scatter3d",
         "x": [
          0.42647403478622437
         ],
         "y": [
          0.09656152129173279
         ],
         "z": [
          -0.14234298467636108
         ]
        },
        {
         "hovertemplate": "color=down<br>0=%{x}<br>1=%{y}<br>2=%{z}<extra></extra>",
         "legendgroup": "down",
         "marker": {
          "color": "#FECB52",
          "symbol": "circle"
         },
         "mode": "markers",
         "name": "down",
         "scene": "scene",
         "showlegend": true,
         "type": "scatter3d",
         "x": [
          0.48235538601875305
         ],
         "y": [
          0.22573843598365784
         ],
         "z": [
          0.33420330286026
         ]
        },
        {
         "hovertemplate": "color=recommend<br>0=%{x}<br>1=%{y}<br>2=%{z}<extra></extra>",
         "legendgroup": "recommend",
         "marker": {
          "color": "#636efa",
          "symbol": "circle"
         },
         "mode": "markers",
         "name": "recommend",
         "scene": "scene",
         "showlegend": true,
         "type": "scatter3d",
         "x": [
          0.20132967829704285
         ],
         "y": [
          0.18233172595500946
         ],
         "z": [
          -0.02704940363764763
         ]
        },
        {
         "hovertemplate": "color=make<br>0=%{x}<br>1=%{y}<br>2=%{z}<extra></extra>",
         "legendgroup": "make",
         "marker": {
          "color": "#EF553B",
          "symbol": "circle"
         },
         "mode": "markers",
         "name": "make",
         "scene": "scene",
         "showlegend": true,
         "type": "scatter3d",
         "x": [
          0.3539167642593384
         ],
         "y": [
          0.1991153508424759
         ],
         "z": [
          0.14613869786262512
         ]
        },
        {
         "hovertemplate": "color=using<br>0=%{x}<br>1=%{y}<br>2=%{z}<extra></extra>",
         "legendgroup": "using",
         "marker": {
          "color": "#00cc96",
          "symbol": "circle"
         },
         "mode": "markers",
         "name": "using",
         "scene": "scene",
         "showlegend": true,
         "type": "scatter3d",
         "x": [
          0.32558128237724304
         ],
         "y": [
          0.06861264258623123
         ],
         "z": [
          0.10618625581264496
         ]
        },
        {
         "hovertemplate": "color=now<br>0=%{x}<br>1=%{y}<br>2=%{z}<extra></extra>",
         "legendgroup": "now",
         "marker": {
          "color": "#ab63fa",
          "symbol": "circle"
         },
         "mode": "markers",
         "name": "now",
         "scene": "scene",
         "showlegend": true,
         "type": "scatter3d",
         "x": [
          0.28839659690856934
         ],
         "y": [
          -0.042508289217948914
         ],
         "z": [
          -0.12365122139453888
         ]
        },
        {
         "hovertemplate": "color=then<br>0=%{x}<br>1=%{y}<br>2=%{z}<extra></extra>",
         "legendgroup": "then",
         "marker": {
          "color": "#FFA15A",
          "symbol": "circle"
         },
         "mode": "markers",
         "name": "then",
         "scene": "scene",
         "showlegend": true,
         "type": "scatter3d",
         "x": [
          0.4303453862667084
         ],
         "y": [
          0.0671643391251564
         ],
         "z": [
          0.19833257794380188
         ]
        },
        {
         "hovertemplate": "color=around<br>0=%{x}<br>1=%{y}<br>2=%{z}<extra></extra>",
         "legendgroup": "around",
         "marker": {
          "color": "#19d3f3",
          "symbol": "circle"
         },
         "mode": "markers",
         "name": "around",
         "scene": "scene",
         "showlegend": true,
         "type": "scatter3d",
         "x": [
          0.3560197353363037
         ],
         "y": [
          0.11477874964475632
         ],
         "z": [
          0.27876463532447815
         ]
        },
        {
         "hovertemplate": "color=water<br>0=%{x}<br>1=%{y}<br>2=%{z}<extra></extra>",
         "legendgroup": "water",
         "marker": {
          "color": "#FF6692",
          "symbol": "circle"
         },
         "mode": "markers",
         "name": "water",
         "scene": "scene",
         "showlegend": true,
         "type": "scatter3d",
         "x": [
          0.40623998641967773
         ],
         "y": [
          -0.3492741882801056
         ],
         "z": [
          0.3336668610572815
         ]
        },
        {
         "hovertemplate": "color=go<br>0=%{x}<br>1=%{y}<br>2=%{z}<extra></extra>",
         "legendgroup": "go",
         "marker": {
          "color": "#B6E880",
          "symbol": "circle"
         },
         "mode": "markers",
         "name": "go",
         "scene": "scene",
         "showlegend": true,
         "type": "scatter3d",
         "x": [
          0.40425536036491394
         ],
         "y": [
          -0.07301206141710281
         ],
         "z": [
          0.007379760034382343
         ]
        },
        {
         "hovertemplate": "color=blade<br>0=%{x}<br>1=%{y}<br>2=%{z}<extra></extra>",
         "legendgroup": "blade",
         "marker": {
          "color": "#FF97FF",
          "symbol": "circle"
         },
         "mode": "markers",
         "name": "blade",
         "scene": "scene",
         "showlegend": true,
         "type": "scatter3d",
         "x": [
          0.39058414101600647
         ],
         "y": [
          0.11084084957838058
         ],
         "z": [
          -0.010103888809680939
         ]
        },
        {
         "hovertemplate": "color=long<br>0=%{x}<br>1=%{y}<br>2=%{z}<extra></extra>",
         "legendgroup": "long",
         "marker": {
          "color": "#FECB52",
          "symbol": "circle"
         },
         "mode": "markers",
         "name": "long",
         "scene": "scene",
         "showlegend": true,
         "type": "scatter3d",
         "x": [
          0.41279441118240356
         ],
         "y": [
          0.09529265016317368
         ],
         "z": [
          0.0843452736735344
         ]
        },
        {
         "hovertemplate": "color=how<br>0=%{x}<br>1=%{y}<br>2=%{z}<extra></extra>",
         "legendgroup": "how",
         "marker": {
          "color": "#636efa",
          "symbol": "circle"
         },
         "mode": "markers",
         "name": "how",
         "scene": "scene",
         "showlegend": true,
         "type": "scatter3d",
         "x": [
          0.445946604013443
         ],
         "y": [
          0.01283931639045477
         ],
         "z": [
          0.006083866581320763
         ]
        },
        {
         "hovertemplate": "color=thing<br>0=%{x}<br>1=%{y}<br>2=%{z}<extra></extra>",
         "legendgroup": "thing",
         "marker": {
          "color": "#EF553B",
          "symbol": "circle"
         },
         "mode": "markers",
         "name": "thing",
         "scene": "scene",
         "showlegend": true,
         "type": "scatter3d",
         "x": [
          0.502170979976654
         ],
         "y": [
          -0.0192936472594738
         ],
         "z": [
          0.012132775038480759
         ]
        },
        {
         "hovertemplate": "color=bit<br>0=%{x}<br>1=%{y}<br>2=%{z}<extra></extra>",
         "legendgroup": "bit",
         "marker": {
          "color": "#00cc96",
          "symbol": "circle"
         },
         "mode": "markers",
         "name": "bit",
         "scene": "scene",
         "showlegend": true,
         "type": "scatter3d",
         "x": [
          0.5131577849388123
         ],
         "y": [
          0.24384059011936188
         ],
         "z": [
          0.20587877929210663
         ]
        },
        {
         "hovertemplate": "color=while<br>0=%{x}<br>1=%{y}<br>2=%{z}<extra></extra>",
         "legendgroup": "while",
         "marker": {
          "color": "#ab63fa",
          "symbol": "circle"
         },
         "mode": "markers",
         "name": "while",
         "scene": "scene",
         "showlegend": true,
         "type": "scatter3d",
         "x": [
          0.3874155282974243
         ],
         "y": [
          -0.024693818762898445
         ],
         "z": [
          0.24134403467178345
         ]
        },
        {
         "hovertemplate": "color=keep<br>0=%{x}<br>1=%{y}<br>2=%{z}<extra></extra>",
         "legendgroup": "keep",
         "marker": {
          "color": "#FFA15A",
          "symbol": "circle"
         },
         "mode": "markers",
         "name": "keep",
         "scene": "scene",
         "showlegend": true,
         "type": "scatter3d",
         "x": [
          0.34926506876945496
         ],
         "y": [
          0.03506048768758774
         ],
         "z": [
          0.30511850118637085
         ]
        },
        {
         "hovertemplate": "color=want<br>0=%{x}<br>1=%{y}<br>2=%{z}<extra></extra>",
         "legendgroup": "want",
         "marker": {
          "color": "#19d3f3",
          "symbol": "circle"
         },
         "mode": "markers",
         "name": "want",
         "scene": "scene",
         "showlegend": true,
         "type": "scatter3d",
         "x": [
          0.36710798740386963
         ],
         "y": [
          0.06330316513776779
         ],
         "z": [
          0.04570654407143593
         ]
        },
        {
         "hovertemplate": "color=we<br>0=%{x}<br>1=%{y}<br>2=%{z}<extra></extra>",
         "legendgroup": "we",
         "marker": {
          "color": "#FF6692",
          "symbol": "circle"
         },
         "mode": "markers",
         "name": "we",
         "scene": "scene",
         "showlegend": true,
         "type": "scatter3d",
         "x": [
          0.3217571973800659
         ],
         "y": [
          -0.40799111127853394
         ],
         "z": [
          0.022067667916417122
         ]
        },
        {
         "hovertemplate": "color=right<br>0=%{x}<br>1=%{y}<br>2=%{z}<extra></extra>",
         "legendgroup": "right",
         "marker": {
          "color": "#B6E880",
          "symbol": "circle"
         },
         "mode": "markers",
         "name": "right",
         "scene": "scene",
         "showlegend": true,
         "type": "scatter3d",
         "x": [
          0.4453459084033966
         ],
         "y": [
          0.28922703862190247
         ],
         "z": [
          0.06472931057214737
         ]
        },
        {
         "hovertemplate": "color=were<br>0=%{x}<br>1=%{y}<br>2=%{z}<extra></extra>",
         "legendgroup": "were",
         "marker": {
          "color": "#FF97FF",
          "symbol": "circle"
         },
         "mode": "markers",
         "name": "were",
         "scene": "scene",
         "showlegend": true,
         "type": "scatter3d",
         "x": [
          0.17209675908088684
         ],
         "y": [
          0.11015858501195908
         ],
         "z": [
          0.07039956003427505
         ]
        },
        {
         "hovertemplate": "color=been<br>0=%{x}<br>1=%{y}<br>2=%{z}<extra></extra>",
         "legendgroup": "been",
         "marker": {
          "color": "#FECB52",
          "symbol": "circle"
         },
         "mode": "markers",
         "name": "been",
         "scene": "scene",
         "showlegend": true,
         "type": "scatter3d",
         "x": [
          0.19814342260360718
         ],
         "y": [
          -0.0412510447204113
         ],
         "z": [
          -0.0720347911119461
         ]
        },
        {
         "hovertemplate": "color=gun<br>0=%{x}<br>1=%{y}<br>2=%{z}<extra></extra>",
         "legendgroup": "gun",
         "marker": {
          "color": "#636efa",
          "symbol": "circle"
         },
         "mode": "markers",
         "name": "gun",
         "scene": "scene",
         "showlegend": true,
         "type": "scatter3d",
         "x": [
          0.44814807176589966
         ],
         "y": [
          0.18146231770515442
         ],
         "z": [
          -0.12782345712184906
         ]
        },
        {
         "hovertemplate": "color=did<br>0=%{x}<br>1=%{y}<br>2=%{z}<extra></extra>",
         "legendgroup": "did",
         "marker": {
          "color": "#EF553B",
          "symbol": "circle"
         },
         "mode": "markers",
         "name": "did",
         "scene": "scene",
         "showlegend": true,
         "type": "scatter3d",
         "x": [
          0.2798061668872833
         ],
         "y": [
          0.13073669373989105
         ],
         "z": [
          0.04489332064986229
         ]
        },
        {
         "hovertemplate": "color=see<br>0=%{x}<br>1=%{y}<br>2=%{z}<extra></extra>",
         "legendgroup": "see",
         "marker": {
          "color": "#00cc96",
          "symbol": "circle"
         },
         "mode": "markers",
         "name": "see",
         "scene": "scene",
         "showlegend": true,
         "type": "scatter3d",
         "x": [
          0.37295395135879517
         ],
         "y": [
          0.00749014550819993
         ],
         "z": [
          0.026953060179948807
         ]
        },
        {
         "hovertemplate": "color=few<br>0=%{x}<br>1=%{y}<br>2=%{z}<extra></extra>",
         "legendgroup": "few",
         "marker": {
          "color": "#ab63fa",
          "symbol": "circle"
         },
         "mode": "markers",
         "name": "few",
         "scene": "scene",
         "showlegend": true,
         "type": "scatter3d",
         "x": [
          0.2288789004087448
         ],
         "y": [
          0.08990289270877838
         ],
         "z": [
          0.07393325865268707
         ]
        },
        {
         "hovertemplate": "color=perfect<br>0=%{x}<br>1=%{y}<br>2=%{z}<extra></extra>",
         "legendgroup": "perfect",
         "marker": {
          "color": "#FFA15A",
          "symbol": "circle"
         },
         "mode": "markers",
         "name": "perfect",
         "scene": "scene",
         "showlegend": true,
         "type": "scatter3d",
         "x": [
          0.2885509729385376
         ],
         "y": [
          0.3053347170352936
         ],
         "z": [
          -0.10128127038478851
         ]
        },
        {
         "hovertemplate": "color=love<br>0=%{x}<br>1=%{y}<br>2=%{z}<extra></extra>",
         "legendgroup": "love",
         "marker": {
          "color": "#19d3f3",
          "symbol": "circle"
         },
         "mode": "markers",
         "name": "love",
         "scene": "scene",
         "showlegend": true,
         "type": "scatter3d",
         "x": [
          0.1449260115623474
         ],
         "y": [
          0.2086731642484665
         ],
         "z": [
          -0.06181453913450241
         ]
        },
        {
         "hovertemplate": "color=think<br>0=%{x}<br>1=%{y}<br>2=%{z}<extra></extra>",
         "legendgroup": "think",
         "marker": {
          "color": "#FF6692",
          "symbol": "circle"
         },
         "mode": "markers",
         "name": "think",
         "scene": "scene",
         "showlegend": true,
         "type": "scatter3d",
         "x": [
          0.44473451375961304
         ],
         "y": [
          0.008960595354437828
         ],
         "z": [
          -0.05879557132720947
         ]
        },
        {
         "hovertemplate": "color=set<br>0=%{x}<br>1=%{y}<br>2=%{z}<extra></extra>",
         "legendgroup": "set",
         "marker": {
          "color": "#B6E880",
          "symbol": "circle"
         },
         "mode": "markers",
         "name": "set",
         "scene": "scene",
         "showlegend": true,
         "type": "scatter3d",
         "x": [
          0.4128500819206238
         ],
         "y": [
          0.08473239094018936
         ],
         "z": [
          -0.08203204721212387
         ]
        },
        {
         "hovertemplate": "color=without<br>0=%{x}<br>1=%{y}<br>2=%{z}<extra></extra>",
         "legendgroup": "without",
         "marker": {
          "color": "#FF97FF",
          "symbol": "circle"
         },
         "mode": "markers",
         "name": "without",
         "scene": "scene",
         "showlegend": true,
         "type": "scatter3d",
         "x": [
          0.2538071870803833
         ],
         "y": [
          0.2553970217704773
         ],
         "z": [
          0.2268398553133011
         ]
        },
        {
         "hovertemplate": "color=re<br>0=%{x}<br>1=%{y}<br>2=%{z}<extra></extra>",
         "legendgroup": "re",
         "marker": {
          "color": "#FECB52",
          "symbol": "circle"
         },
         "mode": "markers",
         "name": "re",
         "scene": "scene",
         "showlegend": true,
         "type": "scatter3d",
         "x": [
          0.25572407245635986
         ],
         "y": [
          0.07959549129009247
         ],
         "z": [
          0.15768234431743622
         ]
        },
        {
         "hovertemplate": "color=fits<br>0=%{x}<br>1=%{y}<br>2=%{z}<extra></extra>",
         "legendgroup": "fits",
         "marker": {
          "color": "#636efa",
          "symbol": "circle"
         },
         "mode": "markers",
         "name": "fits",
         "scene": "scene",
         "showlegend": true,
         "type": "scatter3d",
         "x": [
          0.32467031478881836
         ],
         "y": [
          0.34226417541503906
         ],
         "z": [
          0.0014070336474105716
         ]
        },
        {
         "hovertemplate": "color=pretty<br>0=%{x}<br>1=%{y}<br>2=%{z}<extra></extra>",
         "legendgroup": "pretty",
         "marker": {
          "color": "#EF553B",
          "symbol": "circle"
         },
         "mode": "markers",
         "name": "pretty",
         "scene": "scene",
         "showlegend": true,
         "type": "scatter3d",
         "x": [
          0.4029708206653595
         ],
         "y": [
          0.2053489238023758
         ],
         "z": [
          0.12486739456653595
         ]
        },
        {
         "hovertemplate": "color=handle<br>0=%{x}<br>1=%{y}<br>2=%{z}<extra></extra>",
         "legendgroup": "handle",
         "marker": {
          "color": "#00cc96",
          "symbol": "circle"
         },
         "mode": "markers",
         "name": "handle",
         "scene": "scene",
         "showlegend": true,
         "type": "scatter3d",
         "x": [
          0.49331822991371155
         ],
         "y": [
          0.3413817584514618
         ],
         "z": [
          0.15068665146827698
         ]
        },
        {
         "hovertemplate": "color=lot<br>0=%{x}<br>1=%{y}<br>2=%{z}<extra></extra>",
         "legendgroup": "lot",
         "marker": {
          "color": "#ab63fa",
          "symbol": "circle"
         },
         "mode": "markers",
         "name": "lot",
         "scene": "scene",
         "showlegend": true,
         "type": "scatter3d",
         "x": [
          0.32159194350242615
         ],
         "y": [
          -0.01508786529302597
         ],
         "z": [
          0.023673539981245995
         ]
        },
        {
         "hovertemplate": "color=take<br>0=%{x}<br>1=%{y}<br>2=%{z}<extra></extra>",
         "legendgroup": "take",
         "marker": {
          "color": "#FFA15A",
          "symbol": "circle"
         },
         "mode": "markers",
         "name": "take",
         "scene": "scene",
         "showlegend": true,
         "type": "scatter3d",
         "x": [
          0.4163014888763428
         ],
         "y": [
          0.010743369348347187
         ],
         "z": [
          0.21448521316051483
         ]
        },
        {
         "hovertemplate": "color=most<br>0=%{x}<br>1=%{y}<br>2=%{z}<extra></extra>",
         "legendgroup": "most",
         "marker": {
          "color": "#19d3f3",
          "symbol": "circle"
         },
         "mode": "markers",
         "name": "most",
         "scene": "scene",
         "showlegend": true,
         "type": "scatter3d",
         "x": [
          0.30060821771621704
         ],
         "y": [
          0.04746513068675995
         ],
         "z": [
          -0.09478909522294998
         ]
        },
        {
         "hovertemplate": "color=case<br>0=%{x}<br>1=%{y}<br>2=%{z}<extra></extra>",
         "legendgroup": "case",
         "marker": {
          "color": "#FF6692",
          "symbol": "circle"
         },
         "mode": "markers",
         "name": "case",
         "scene": "scene",
         "showlegend": true,
         "type": "scatter3d",
         "x": [
          0.3925536572933197
         ],
         "y": [
          0.19087530672550201
         ],
         "z": [
          -0.09849753975868225
         ]
        },
        {
         "hovertemplate": "color=sure<br>0=%{x}<br>1=%{y}<br>2=%{z}<extra></extra>",
         "legendgroup": "sure",
         "marker": {
          "color": "#B6E880",
          "symbol": "circle"
         },
         "mode": "markers",
         "name": "sure",
         "scene": "scene",
         "showlegend": true,
         "type": "scatter3d",
         "x": [
          0.4563111960887909
         ],
         "y": [
          0.07789917290210724
         ],
         "z": [
          0.029676107689738274
         ]
        },
        {
         "hovertemplate": "color=should<br>0=%{x}<br>1=%{y}<br>2=%{z}<extra></extra>",
         "legendgroup": "should",
         "marker": {
          "color": "#FF97FF",
          "symbol": "circle"
         },
         "mode": "markers",
         "name": "should",
         "scene": "scene",
         "showlegend": true,
         "type": "scatter3d",
         "x": [
          0.2713627219200134
         ],
         "y": [
          0.17412199079990387
         ],
         "z": [
          -0.05754447355866432
         ]
        },
        {
         "hovertemplate": "color=easily<br>0=%{x}<br>1=%{y}<br>2=%{z}<extra></extra>",
         "legendgroup": "easily",
         "marker": {
          "color": "#FECB52",
          "symbol": "circle"
         },
         "mode": "markers",
         "name": "easily",
         "scene": "scene",
         "showlegend": true,
         "type": "scatter3d",
         "x": [
          0.4366353750228882
         ],
         "y": [
          0.34889522194862366
         ],
         "z": [
          0.22540804743766785
         ]
        },
        {
         "hovertemplate": "color=scope<br>0=%{x}<br>1=%{y}<br>2=%{z}<extra></extra>",
         "legendgroup": "scope",
         "marker": {
          "color": "#636efa",
          "symbol": "circle"
         },
         "mode": "markers",
         "name": "scope",
         "scene": "scene",
         "showlegend": true,
         "type": "scatter3d",
         "x": [
          0.3835548460483551
         ],
         "y": [
          0.2543611228466034
         ],
         "z": [
          -0.27483466267585754
         ]
        },
        {
         "hovertemplate": "color=carry<br>0=%{x}<br>1=%{y}<br>2=%{z}<extra></extra>",
         "legendgroup": "carry",
         "marker": {
          "color": "#EF553B",
          "symbol": "circle"
         },
         "mode": "markers",
         "name": "carry",
         "scene": "scene",
         "showlegend": true,
         "type": "scatter3d",
         "x": [
          0.389278769493103
         ],
         "y": [
          0.05419974401593208
         ],
         "z": [
          0.004904075525701046
         ]
        },
        {
         "hovertemplate": "color=weight<br>0=%{x}<br>1=%{y}<br>2=%{z}<extra></extra>",
         "legendgroup": "weight",
         "marker": {
          "color": "#00cc96",
          "symbol": "circle"
         },
         "mode": "markers",
         "name": "weight",
         "scene": "scene",
         "showlegend": true,
         "type": "scatter3d",
         "x": [
          0.4362618625164032
         ],
         "y": [
          0.11018835753202438
         ],
         "z": [
          0.053180865943431854
         ]
        },
        {
         "hovertemplate": "color=side<br>0=%{x}<br>1=%{y}<br>2=%{z}<extra></extra>",
         "legendgroup": "side",
         "marker": {
          "color": "#ab63fa",
          "symbol": "circle"
         },
         "mode": "markers",
         "name": "side",
         "scene": "scene",
         "showlegend": true,
         "type": "scatter3d",
         "x": [
          0.5471948981285095
         ],
         "y": [
          0.2990599572658539
         ],
         "z": [
          0.16788648068904877
         ]
        },
        {
         "hovertemplate": "color=big<br>0=%{x}<br>1=%{y}<br>2=%{z}<extra></extra>",
         "legendgroup": "big",
         "marker": {
          "color": "#FFA15A",
          "symbol": "circle"
         },
         "mode": "markers",
         "name": "big",
         "scene": "scene",
         "showlegend": true,
         "type": "scatter3d",
         "x": [
          0.3847978711128235
         ],
         "y": [
          0.15899384021759033
         ],
         "z": [
          0.007134325336664915
         ]
        },
        {
         "hovertemplate": "color=hold<br>0=%{x}<br>1=%{y}<br>2=%{z}<extra></extra>",
         "legendgroup": "hold",
         "marker": {
          "color": "#19d3f3",
          "symbol": "circle"
         },
         "mode": "markers",
         "name": "hold",
         "scene": "scene",
         "showlegend": true,
         "type": "scatter3d",
         "x": [
          0.4863618314266205
         ],
         "y": [
          0.29151901602745056
         ],
         "z": [
          0.24257102608680725
         ]
        },
        {
         "hovertemplate": "color=plastic<br>0=%{x}<br>1=%{y}<br>2=%{z}<extra></extra>",
         "legendgroup": "plastic",
         "marker": {
          "color": "#FF6692",
          "symbol": "circle"
         },
         "mode": "markers",
         "name": "plastic",
         "scene": "scene",
         "showlegend": true,
         "type": "scatter3d",
         "x": [
          0.4806823134422302
         ],
         "y": [
          0.3495767414569855
         ],
         "z": [
          0.24749979376792908
         ]
        },
        {
         "hovertemplate": "color=makes<br>0=%{x}<br>1=%{y}<br>2=%{z}<extra></extra>",
         "legendgroup": "makes",
         "marker": {
          "color": "#B6E880",
          "symbol": "circle"
         },
         "mode": "markers",
         "name": "makes",
         "scene": "scene",
         "showlegend": true,
         "type": "scatter3d",
         "x": [
          0.2007649540901184
         ],
         "y": [
          0.3045734465122223
         ],
         "z": [
          0.14267759025096893
         ]
        },
        {
         "hovertemplate": "color=best<br>0=%{x}<br>1=%{y}<br>2=%{z}<extra></extra>",
         "legendgroup": "best",
         "marker": {
          "color": "#FF97FF",
          "symbol": "circle"
         },
         "mode": "markers",
         "name": "best",
         "scene": "scene",
         "showlegend": true,
         "type": "scatter3d",
         "x": [
          0.2717708647251129
         ],
         "y": [
          0.1236901730298996
         ],
         "z": [
          -0.20110246539115906
         ]
        },
        {
         "hovertemplate": "color=another<br>0=%{x}<br>1=%{y}<br>2=%{z}<extra></extra>",
         "legendgroup": "another",
         "marker": {
          "color": "#FECB52",
          "symbol": "circle"
         },
         "mode": "markers",
         "name": "another",
         "scene": "scene",
         "showlegend": true,
         "type": "scatter3d",
         "x": [
          0.3340549170970917
         ],
         "y": [
          0.11979854106903076
         ],
         "z": [
          -0.24028818309307098
         ]
        },
        {
         "hovertemplate": "color=say<br>0=%{x}<br>1=%{y}<br>2=%{z}<extra></extra>",
         "legendgroup": "say",
         "marker": {
          "color": "#636efa",
          "symbol": "circle"
         },
         "mode": "markers",
         "name": "say",
         "scene": "scene",
         "showlegend": true,
         "type": "scatter3d",
         "x": [
          0.3367123603820801
         ],
         "y": [
          0.03332166746258736
         ],
         "z": [
          -0.08822626620531082
         ]
        },
        {
         "hovertemplate": "color=feel<br>0=%{x}<br>1=%{y}<br>2=%{z}<extra></extra>",
         "legendgroup": "feel",
         "marker": {
          "color": "#EF553B",
          "symbol": "circle"
         },
         "mode": "markers",
         "name": "feel",
         "scene": "scene",
         "showlegend": true,
         "type": "scatter3d",
         "x": [
          0.43619129061698914
         ],
         "y": [
          0.10614316910505295
         ],
         "z": [
          0.14154772460460663
         ]
        },
        {
         "hovertemplate": "color=know<br>0=%{x}<br>1=%{y}<br>2=%{z}<extra></extra>",
         "legendgroup": "know",
         "marker": {
          "color": "#00cc96",
          "symbol": "circle"
         },
         "mode": "markers",
         "name": "know",
         "scene": "scene",
         "showlegend": true,
         "type": "scatter3d",
         "x": [
          0.35661405324935913
         ],
         "y": [
          -0.06392142921686172
         ],
         "z": [
          -0.051369283348321915
         ]
        },
        {
         "hovertemplate": "color=doesn<br>0=%{x}<br>1=%{y}<br>2=%{z}<extra></extra>",
         "legendgroup": "doesn",
         "marker": {
          "color": "#ab63fa",
          "symbol": "circle"
         },
         "mode": "markers",
         "name": "doesn",
         "scene": "scene",
         "showlegend": true,
         "type": "scatter3d",
         "x": [
          0.351080060005188
         ],
         "y": [
          0.2269611805677414
         ],
         "z": [
          0.15812692046165466
         ]
        },
        {
         "hovertemplate": "color=far<br>0=%{x}<br>1=%{y}<br>2=%{z}<extra></extra>",
         "legendgroup": "far",
         "marker": {
          "color": "#FFA15A",
          "symbol": "circle"
         },
         "mode": "markers",
         "name": "far",
         "scene": "scene",
         "showlegend": true,
         "type": "scatter3d",
         "x": [
          0.31147581338882446
         ],
         "y": [
          0.09528833627700806
         ],
         "z": [
          -0.016867825761437416
         ]
        },
        {
         "hovertemplate": "color=day<br>0=%{x}<br>1=%{y}<br>2=%{z}<extra></extra>",
         "legendgroup": "day",
         "marker": {
          "color": "#19d3f3",
          "symbol": "circle"
         },
         "mode": "markers",
         "name": "day",
         "scene": "scene",
         "showlegend": true,
         "type": "scatter3d",
         "x": [
          0.35642826557159424
         ],
         "y": [
          -0.3103801906108856
         ],
         "z": [
          0.03044407069683075
         ]
        },
        {
         "hovertemplate": "color=seems<br>0=%{x}<br>1=%{y}<br>2=%{z}<extra></extra>",
         "legendgroup": "seems",
         "marker": {
          "color": "#FF6692",
          "symbol": "circle"
         },
         "mode": "markers",
         "name": "seems",
         "scene": "scene",
         "showlegend": true,
         "type": "scatter3d",
         "x": [
          0.3153286874294281
         ],
         "y": [
          0.25849729776382446
         ],
         "z": [
          0.09883781522512436
         ]
        },
        {
         "hovertemplate": "color=going<br>0=%{x}<br>1=%{y}<br>2=%{z}<extra></extra>",
         "legendgroup": "going",
         "marker": {
          "color": "#B6E880",
          "symbol": "circle"
         },
         "mode": "markers",
         "name": "going",
         "scene": "scene",
         "showlegend": true,
         "type": "scatter3d",
         "x": [
          0.40330833196640015
         ],
         "y": [
          -0.07160349935293198
         ],
         "z": [
          0.06683116406202316
         ]
        },
        {
         "hovertemplate": "color=comfortable<br>0=%{x}<br>1=%{y}<br>2=%{z}<extra></extra>",
         "legendgroup": "comfortable",
         "marker": {
          "color": "#FF97FF",
          "symbol": "circle"
         },
         "mode": "markers",
         "name": "comfortable",
         "scene": "scene",
         "showlegend": true,
         "type": "scatter3d",
         "x": [
          0.3734257221221924
         ],
         "y": [
          0.15641845762729645
         ],
         "z": [
          0.11073151230812073
         ]
        },
        {
         "hovertemplate": "color=looking<br>0=%{x}<br>1=%{y}<br>2=%{z}<extra></extra>",
         "legendgroup": "looking",
         "marker": {
          "color": "#FECB52",
          "symbol": "circle"
         },
         "mode": "markers",
         "name": "looking",
         "scene": "scene",
         "showlegend": true,
         "type": "scatter3d",
         "x": [
          0.32280394434928894
         ],
         "y": [
          0.06831767410039902
         ],
         "z": [
          -0.12242193520069122
         ]
        },
        {
         "hovertemplate": "color=through<br>0=%{x}<br>1=%{y}<br>2=%{z}<extra></extra>",
         "legendgroup": "through",
         "marker": {
          "color": "#636efa",
          "symbol": "circle"
         },
         "mode": "markers",
         "name": "through",
         "scene": "scene",
         "showlegend": true,
         "type": "scatter3d",
         "x": [
          0.26828545331954956
         ],
         "y": [
          0.14118380844593048
         ],
         "z": [
          0.2556377649307251
         ]
        },
        {
         "hovertemplate": "color=fine<br>0=%{x}<br>1=%{y}<br>2=%{z}<extra></extra>",
         "legendgroup": "fine",
         "marker": {
          "color": "#EF553B",
          "symbol": "circle"
         },
         "mode": "markers",
         "name": "fine",
         "scene": "scene",
         "showlegend": true,
         "type": "scatter3d",
         "x": [
          0.38555818796157837
         ],
         "y": [
          0.3079439103603363
         ],
         "z": [
          0.03199314326047897
         ]
        },
        {
         "hovertemplate": "color=something<br>0=%{x}<br>1=%{y}<br>2=%{z}<extra></extra>",
         "legendgroup": "something",
         "marker": {
          "color": "#00cc96",
          "symbol": "circle"
         },
         "mode": "markers",
         "name": "something",
         "scene": "scene",
         "showlegend": true,
         "type": "scatter3d",
         "x": [
          0.4610944092273712
         ],
         "y": [
          -0.10153581202030182
         ],
         "z": [
          -0.02088516391813755
         ]
        },
        {
         "hovertemplate": "color=hand<br>0=%{x}<br>1=%{y}<br>2=%{z}<extra></extra>",
         "legendgroup": "hand",
         "marker": {
          "color": "#ab63fa",
          "symbol": "circle"
         },
         "mode": "markers",
         "name": "hand",
         "scene": "scene",
         "showlegend": true,
         "type": "scatter3d",
         "x": [
          0.49451130628585815
         ],
         "y": [
          0.17003943026065826
         ],
         "z": [
          0.12930279970169067
         ]
        },
        {
         "hovertemplate": "color=ll<br>0=%{x}<br>1=%{y}<br>2=%{z}<extra></extra>",
         "legendgroup": "ll",
         "marker": {
          "color": "#FFA15A",
          "symbol": "circle"
         },
         "mode": "markers",
         "name": "ll",
         "scene": "scene",
         "showlegend": true,
         "type": "scatter3d",
         "x": [
          0.30606403946876526
         ],
         "y": [
          0.038787711411714554
         ],
         "z": [
          0.07020241022109985
         ]
        },
        {
         "hovertemplate": "color=though<br>0=%{x}<br>1=%{y}<br>2=%{z}<extra></extra>",
         "legendgroup": "though",
         "marker": {
          "color": "#19d3f3",
          "symbol": "circle"
         },
         "mode": "markers",
         "name": "though",
         "scene": "scene",
         "showlegend": true,
         "type": "scatter3d",
         "x": [
          0.5187366604804993
         ],
         "y": [
          0.11605360358953476
         ],
         "z": [
          0.07946940511465073
         ]
        },
        {
         "hovertemplate": "color=hard<br>0=%{x}<br>1=%{y}<br>2=%{z}<extra></extra>",
         "legendgroup": "hard",
         "marker": {
          "color": "#FF6692",
          "symbol": "circle"
         },
         "mode": "markers",
         "name": "hard",
         "scene": "scene",
         "showlegend": true,
         "type": "scatter3d",
         "x": [
          0.40982964634895325
         ],
         "y": [
          0.2092248648405075
         ],
         "z": [
          0.21946297585964203
         ]
        },
        {
         "hovertemplate": "color=find<br>0=%{x}<br>1=%{y}<br>2=%{z}<extra></extra>",
         "legendgroup": "find",
         "marker": {
          "color": "#B6E880",
          "symbol": "circle"
         },
         "mode": "markers",
         "name": "find",
         "scene": "scene",
         "showlegend": true,
         "type": "scatter3d",
         "x": [
          0.4014715254306793
         ],
         "y": [
          0.04791710898280144
         ],
         "z": [
          0.00015075659030117095
         ]
        },
        {
         "hovertemplate": "color=new<br>0=%{x}<br>1=%{y}<br>2=%{z}<extra></extra>",
         "legendgroup": "new",
         "marker": {
          "color": "#FF97FF",
          "symbol": "circle"
         },
         "mode": "markers",
         "name": "new",
         "scene": "scene",
         "showlegend": true,
         "type": "scatter3d",
         "x": [
          0.21329301595687866
         ],
         "y": [
          0.09142591059207916
         ],
         "z": [
          -0.25236812233924866
         ]
        },
        {
         "hovertemplate": "color=looks<br>0=%{x}<br>1=%{y}<br>2=%{z}<extra></extra>",
         "legendgroup": "looks",
         "marker": {
          "color": "#FECB52",
          "symbol": "circle"
         },
         "mode": "markers",
         "name": "looks",
         "scene": "scene",
         "showlegend": true,
         "type": "scatter3d",
         "x": [
          0.32946133613586426
         ],
         "y": [
          0.24007055163383484
         ],
         "z": [
          -0.0553019642829895
         ]
        },
        {
         "hovertemplate": "color=same<br>0=%{x}<br>1=%{y}<br>2=%{z}<extra></extra>",
         "legendgroup": "same",
         "marker": {
          "color": "#636efa",
          "symbol": "circle"
         },
         "mode": "markers",
         "name": "same",
         "scene": "scene",
         "showlegend": true,
         "type": "scatter3d",
         "x": [
          0.3070893883705139
         ],
         "y": [
          0.16317561268806458
         ],
         "z": [
          -0.25474733114242554
         ]
        },
        {
         "hovertemplate": "color=look<br>0=%{x}<br>1=%{y}<br>2=%{z}<extra></extra>",
         "legendgroup": "look",
         "marker": {
          "color": "#EF553B",
          "symbol": "circle"
         },
         "mode": "markers",
         "name": "look",
         "scene": "scene",
         "showlegend": true,
         "type": "scatter3d",
         "x": [
          0.3725297152996063
         ],
         "y": [
          0.08057434111833572
         ],
         "z": [
          -0.07199708372354507
         ]
        },
        {
         "hovertemplate": "color=since<br>0=%{x}<br>1=%{y}<br>2=%{z}<extra></extra>",
         "legendgroup": "since",
         "marker": {
          "color": "#00cc96",
          "symbol": "circle"
         },
         "mode": "markers",
         "name": "since",
         "scene": "scene",
         "showlegend": true,
         "type": "scatter3d",
         "x": [
          0.3928440809249878
         ],
         "y": [
          -0.00723378686234355
         ],
         "z": [
          -0.06990136951208115
         ]
        },
        {
         "hovertemplate": "color=top<br>0=%{x}<br>1=%{y}<br>2=%{z}<extra></extra>",
         "legendgroup": "top",
         "marker": {
          "color": "#ab63fa",
          "symbol": "circle"
         },
         "mode": "markers",
         "name": "top",
         "scene": "scene",
         "showlegend": true,
         "type": "scatter3d",
         "x": [
          0.48322585225105286
         ],
         "y": [
          0.3092636466026306
         ],
         "z": [
          0.19908678531646729
         ]
        },
        {
         "hovertemplate": "color=tool<br>0=%{x}<br>1=%{y}<br>2=%{z}<extra></extra>",
         "legendgroup": "tool",
         "marker": {
          "color": "#FFA15A",
          "symbol": "circle"
         },
         "mode": "markers",
         "name": "tool",
         "scene": "scene",
         "showlegend": true,
         "type": "scatter3d",
         "x": [
          0.3669777512550354
         ],
         "y": [
          0.14157430827617645
         ],
         "z": [
          -0.20734232664108276
         ]
        },
        {
         "hovertemplate": "color=their<br>0=%{x}<br>1=%{y}<br>2=%{z}<extra></extra>",
         "legendgroup": "their",
         "marker": {
          "color": "#19d3f3",
          "symbol": "circle"
         },
         "mode": "markers",
         "name": "their",
         "scene": "scene",
         "showlegend": true,
         "type": "scatter3d",
         "x": [
          0.1432604044675827
         ],
         "y": [
          -0.037821050733327866
         ],
         "z": [
          -0.18302223086357117
         ]
        },
        {
         "hovertemplate": "color=where<br>0=%{x}<br>1=%{y}<br>2=%{z}<extra></extra>",
         "legendgroup": "where",
         "marker": {
          "color": "#FF6692",
          "symbol": "circle"
         },
         "mode": "markers",
         "name": "where",
         "scene": "scene",
         "showlegend": true,
         "type": "scatter3d",
         "x": [
          0.4508455693721771
         ],
         "y": [
          0.044423963874578476
         ],
         "z": [
          0.1495503932237625
         ]
        },
        {
         "hovertemplate": "color=both<br>0=%{x}<br>1=%{y}<br>2=%{z}<extra></extra>",
         "legendgroup": "both",
         "marker": {
          "color": "#B6E880",
          "symbol": "circle"
         },
         "mode": "markers",
         "name": "both",
         "scene": "scene",
         "showlegend": true,
         "type": "scatter3d",
         "x": [
          0.19574782252311707
         ],
         "y": [
          0.2341451495885849
         ],
         "z": [
          -0.12443694472312927
         ]
        },
        {
         "hovertemplate": "color=before<br>0=%{x}<br>1=%{y}<br>2=%{z}<extra></extra>",
         "legendgroup": "before",
         "marker": {
          "color": "#FF97FF",
          "symbol": "circle"
         },
         "mode": "markers",
         "name": "before",
         "scene": "scene",
         "showlegend": true,
         "type": "scatter3d",
         "x": [
          0.26255717873573303
         ],
         "y": [
          -0.013309020549058914
         ],
         "z": [
          0.07314533740282059
         ]
        },
        {
         "hovertemplate": "color=range<br>0=%{x}<br>1=%{y}<br>2=%{z}<extra></extra>",
         "legendgroup": "range",
         "marker": {
          "color": "#FECB52",
          "symbol": "circle"
         },
         "mode": "markers",
         "name": "range",
         "scene": "scene",
         "showlegend": true,
         "type": "scatter3d",
         "x": [
          0.3678240478038788
         ],
         "y": [
          0.01432899571955204
         ],
         "z": [
          -0.1378301978111267
         ]
        },
        {
         "hovertemplate": "color=didn<br>0=%{x}<br>1=%{y}<br>2=%{z}<extra></extra>",
         "legendgroup": "didn",
         "marker": {
          "color": "#636efa",
          "symbol": "circle"
         },
         "mode": "markers",
         "name": "didn",
         "scene": "scene",
         "showlegend": true,
         "type": "scatter3d",
         "x": [
          0.28451016545295715
         ],
         "y": [
          0.14368665218353271
         ],
         "z": [
          0.019790176302194595
         ]
        },
        {
         "hovertemplate": "color=many<br>0=%{x}<br>1=%{y}<br>2=%{z}<extra></extra>",
         "legendgroup": "many",
         "marker": {
          "color": "#EF553B",
          "symbol": "circle"
         },
         "mode": "markers",
         "name": "many",
         "scene": "scene",
         "showlegend": true,
         "type": "scatter3d",
         "x": [
          0.19166135787963867
         ],
         "y": [
          0.0034381323494017124
         ],
         "z": [
          -0.12850543856620789
         ]
        },
        {
         "hovertemplate": "color=last<br>0=%{x}<br>1=%{y}<br>2=%{z}<extra></extra>",
         "legendgroup": "last",
         "marker": {
          "color": "#00cc96",
          "symbol": "circle"
         },
         "mode": "markers",
         "name": "last",
         "scene": "scene",
         "showlegend": true,
         "type": "scatter3d",
         "x": [
          0.33281999826431274
         ],
         "y": [
          0.029257815331220627
         ],
         "z": [
          0.026992784813046455
         ]
        },
        {
         "hovertemplate": "color=large<br>0=%{x}<br>1=%{y}<br>2=%{z}<extra></extra>",
         "legendgroup": "large",
         "marker": {
          "color": "#ab63fa",
          "symbol": "circle"
         },
         "mode": "markers",
         "name": "large",
         "scene": "scene",
         "showlegend": true,
         "type": "scatter3d",
         "x": [
          0.3791504204273224
         ],
         "y": [
          0.21037141978740692
         ],
         "z": [
          0.01677103526890278
         ]
        },
        {
         "hovertemplate": "color=grip<br>0=%{x}<br>1=%{y}<br>2=%{z}<extra></extra>",
         "legendgroup": "grip",
         "marker": {
          "color": "#FFA15A",
          "symbol": "circle"
         },
         "mode": "markers",
         "name": "grip",
         "scene": "scene",
         "showlegend": true,
         "type": "scatter3d",
         "x": [
          0.4630278944969177
         ],
         "y": [
          0.3731984496116638
         ],
         "z": [
          0.05666916444897652
         ]
        },
        {
         "hovertemplate": "color=however<br>0=%{x}<br>1=%{y}<br>2=%{z}<extra></extra>",
         "legendgroup": "however",
         "marker": {
          "color": "#19d3f3",
          "symbol": "circle"
         },
         "mode": "markers",
         "name": "however",
         "scene": "scene",
         "showlegend": true,
         "type": "scatter3d",
         "x": [
          0.5343490839004517
         ],
         "y": [
          0.14268872141838074
         ],
         "z": [
          -0.034238431602716446
         ]
        },
        {
         "hovertemplate": "color=heavy<br>0=%{x}<br>1=%{y}<br>2=%{z}<extra></extra>",
         "legendgroup": "heavy",
         "marker": {
          "color": "#FF6692",
          "symbol": "circle"
         },
         "mode": "markers",
         "name": "heavy",
         "scene": "scene",
         "showlegend": true,
         "type": "scatter3d",
         "x": [
          0.39957162737846375
         ],
         "y": [
          0.22763298451900482
         ],
         "z": [
          0.10750089585781097
         ]
        },
        {
         "hovertemplate": "color=never<br>0=%{x}<br>1=%{y}<br>2=%{z}<extra></extra>",
         "legendgroup": "never",
         "marker": {
          "color": "#B6E880",
          "symbol": "circle"
         },
         "mode": "markers",
         "name": "never",
         "scene": "scene",
         "showlegend": true,
         "type": "scatter3d",
         "x": [
          0.2990724742412567
         ],
         "y": [
          -0.047357041388750076
         ],
         "z": [
          0.020915698260068893
         ]
        },
        {
         "hovertemplate": "color=again<br>0=%{x}<br>1=%{y}<br>2=%{z}<extra></extra>",
         "legendgroup": "again",
         "marker": {
          "color": "#FF97FF",
          "symbol": "circle"
         },
         "mode": "markers",
         "name": "again",
         "scene": "scene",
         "showlegend": true,
         "type": "scatter3d",
         "x": [
          0.388517826795578
         ],
         "y": [
          0.08588118106126785
         ],
         "z": [
          -0.014851325191557407
         ]
        },
        {
         "hovertemplate": "color=pocket<br>0=%{x}<br>1=%{y}<br>2=%{z}<extra></extra>",
         "legendgroup": "pocket",
         "marker": {
          "color": "#FECB52",
          "symbol": "circle"
         },
         "mode": "markers",
         "name": "pocket",
         "scene": "scene",
         "showlegend": true,
         "type": "scatter3d",
         "x": [
          0.46723002195358276
         ],
         "y": [
          0.11833655089139938
         ],
         "z": [
          0.04316597431898117
         ]
        },
        {
         "hovertemplate": "color=bottle<br>0=%{x}<br>1=%{y}<br>2=%{z}<extra></extra>",
         "legendgroup": "bottle",
         "marker": {
          "color": "#636efa",
          "symbol": "circle"
         },
         "mode": "markers",
         "name": "bottle",
         "scene": "scene",
         "showlegend": true,
         "type": "scatter3d",
         "x": [
          0.39811021089553833
         ],
         "y": [
          -0.0764605700969696
         ],
         "z": [
          0.06939252465963364
         ]
        },
        {
         "hovertemplate": "color=high<br>0=%{x}<br>1=%{y}<br>2=%{z}<extra></extra>",
         "legendgroup": "high",
         "marker": {
          "color": "#EF553B",
          "symbol": "circle"
         },
         "mode": "markers",
         "name": "high",
         "scene": "scene",
         "showlegend": true,
         "type": "scatter3d",
         "x": [
          0.3153565227985382
         ],
         "y": [
          0.2013503760099411
         ],
         "z": [
          -0.08988962322473526
         ]
        },
        {
         "hovertemplate": "color=mount<br>0=%{x}<br>1=%{y}<br>2=%{z}<extra></extra>",
         "legendgroup": "mount",
         "marker": {
          "color": "#00cc96",
          "symbol": "circle"
         },
         "mode": "markers",
         "name": "mount",
         "scene": "scene",
         "showlegend": true,
         "type": "scatter3d",
         "x": [
          0.43204256892204285
         ],
         "y": [
          0.49939772486686707
         ],
         "z": [
          -0.19520795345306396
         ]
        },
        {
         "hovertemplate": "color=problem<br>0=%{x}<br>1=%{y}<br>2=%{z}<extra></extra>",
         "legendgroup": "problem",
         "marker": {
          "color": "#ab63fa",
          "symbol": "circle"
         },
         "mode": "markers",
         "name": "problem",
         "scene": "scene",
         "showlegend": true,
         "type": "scatter3d",
         "x": [
          0.4721103310585022
         ],
         "y": [
          0.11379452794790268
         ],
         "z": [
          0.0699051097035408
         ]
        },
        {
         "hovertemplate": "color=rifle<br>0=%{x}<br>1=%{y}<br>2=%{z}<extra></extra>",
         "legendgroup": "rifle",
         "marker": {
          "color": "#FFA15A",
          "symbol": "circle"
         },
         "mode": "markers",
         "name": "rifle",
         "scene": "scene",
         "showlegend": true,
         "type": "scatter3d",
         "x": [
          0.40919315814971924
         ],
         "y": [
          0.2573370039463043
         ],
         "z": [
          -0.1854449361562729
         ]
        },
        {
         "hovertemplate": "color=may<br>0=%{x}<br>1=%{y}<br>2=%{z}<extra></extra>",
         "legendgroup": "may",
         "marker": {
          "color": "#19d3f3",
          "symbol": "circle"
         },
         "mode": "markers",
         "name": "may",
         "scene": "scene",
         "showlegend": true,
         "type": "scatter3d",
         "x": [
          0.31761619448661804
         ],
         "y": [
          0.11149334907531738
         ],
         "z": [
          0.06403206288814545
         ]
        },
        {
         "hovertemplate": "color=sharp<br>0=%{x}<br>1=%{y}<br>2=%{z}<extra></extra>",
         "legendgroup": "sharp",
         "marker": {
          "color": "#FF6692",
          "symbol": "circle"
         },
         "mode": "markers",
         "name": "sharp",
         "scene": "scene",
         "showlegend": true,
         "type": "scatter3d",
         "x": [
          0.3506784737110138
         ],
         "y": [
          0.18535342812538147
         ],
         "z": [
          0.07010658830404282
         ]
        },
        {
         "hovertemplate": "color=money<br>0=%{x}<br>1=%{y}<br>2=%{z}<extra></extra>",
         "legendgroup": "money",
         "marker": {
          "color": "#B6E880",
          "symbol": "circle"
         },
         "mode": "markers",
         "name": "money",
         "scene": "scene",
         "showlegend": true,
         "type": "scatter3d",
         "x": [
          0.3262903094291687
         ],
         "y": [
          0.08175969868898392
         ],
         "z": [
          -0.20559436082839966
         ]
        },
        {
         "hovertemplate": "color=years<br>0=%{x}<br>1=%{y}<br>2=%{z}<extra></extra>",
         "legendgroup": "years",
         "marker": {
          "color": "#FF97FF",
          "symbol": "circle"
         },
         "mode": "markers",
         "name": "years",
         "scene": "scene",
         "showlegend": true,
         "type": "scatter3d",
         "x": [
          0.2696343958377838
         ],
         "y": [
          -0.17284636199474335
         ],
         "z": [
          -0.15320025384426117
         ]
        },
        {
         "hovertemplate": "color=pack<br>0=%{x}<br>1=%{y}<br>2=%{z}<extra></extra>",
         "legendgroup": "pack",
         "marker": {
          "color": "#FECB52",
          "symbol": "circle"
         },
         "mode": "markers",
         "name": "pack",
         "scene": "scene",
         "showlegend": true,
         "type": "scatter3d",
         "x": [
          0.3923652172088623
         ],
         "y": [
          -0.11549180001020432
         ],
         "z": [
          0.0041449060663580894
         ]
        },
        {
         "hovertemplate": "color=being<br>0=%{x}<br>1=%{y}<br>2=%{z}<extra></extra>",
         "legendgroup": "being",
         "marker": {
          "color": "#636efa",
          "symbol": "circle"
         },
         "mode": "markers",
         "name": "being",
         "scene": "scene",
         "showlegend": true,
         "type": "scatter3d",
         "x": [
          0.36450377106666565
         ],
         "y": [
          -0.022097274661064148
         ],
         "z": [
          0.06031019240617752
         ]
        },
        {
         "hovertemplate": "color=comes<br>0=%{x}<br>1=%{y}<br>2=%{z}<extra></extra>",
         "legendgroup": "comes",
         "marker": {
          "color": "#EF553B",
          "symbol": "circle"
         },
         "mode": "markers",
         "name": "comes",
         "scene": "scene",
         "showlegend": true,
         "type": "scatter3d",
         "x": [
          0.3211752772331238
         ],
         "y": [
          0.2379181981086731
         ],
         "z": [
          0.09209548681974411
         ]
        },
        {
         "hovertemplate": "color=steel<br>0=%{x}<br>1=%{y}<br>2=%{z}<extra></extra>",
         "legendgroup": "steel",
         "marker": {
          "color": "#00cc96",
          "symbol": "circle"
         },
         "mode": "markers",
         "name": "steel",
         "scene": "scene",
         "showlegend": true,
         "type": "scatter3d",
         "x": [
          0.2766839861869812
         ],
         "y": [
          0.1531812995672226
         ],
         "z": [
          -0.056266456842422485
         ]
        },
        {
         "hovertemplate": "color=every<br>0=%{x}<br>1=%{y}<br>2=%{z}<extra></extra>",
         "legendgroup": "every",
         "marker": {
          "color": "#ab63fa",
          "symbol": "circle"
         },
         "mode": "markers",
         "name": "every",
         "scene": "scene",
         "showlegend": true,
         "type": "scatter3d",
         "x": [
          0.3039276599884033
         ],
         "y": [
          0.02432098425924778
         ],
         "z": [
          0.006814142689108849
         ]
        },
        {
         "hovertemplate": "color=box<br>0=%{x}<br>1=%{y}<br>2=%{z}<extra></extra>",
         "legendgroup": "box",
         "marker": {
          "color": "#FFA15A",
          "symbol": "circle"
         },
         "mode": "markers",
         "name": "box",
         "scene": "scene",
         "showlegend": true,
         "type": "scatter3d",
         "x": [
          0.40357518196105957
         ],
         "y": [
          0.08988845348358154
         ],
         "z": [
          0.003470512107014656
         ]
        },
        {
         "hovertemplate": "color=sight<br>0=%{x}<br>1=%{y}<br>2=%{z}<extra></extra>",
         "legendgroup": "sight",
         "marker": {
          "color": "#19d3f3",
          "symbol": "circle"
         },
         "mode": "markers",
         "name": "sight",
         "scene": "scene",
         "showlegend": true,
         "type": "scatter3d",
         "x": [
          0.41932201385498047
         ],
         "y": [
          0.2719923257827759
         ],
         "z": [
          -0.22630976140499115
         ]
        },
        {
         "hovertemplate": "color=solid<br>0=%{x}<br>1=%{y}<br>2=%{z}<extra></extra>",
         "legendgroup": "solid",
         "marker": {
          "color": "#FF6692",
          "symbol": "circle"
         },
         "mode": "markers",
         "name": "solid",
         "scene": "scene",
         "showlegend": true,
         "type": "scatter3d",
         "x": [
          0.37825968861579895
         ],
         "y": [
          0.49279749393463135
         ],
         "z": [
          -0.024518636986613274
         ]
        },
        {
         "hovertemplate": "color=came<br>0=%{x}<br>1=%{y}<br>2=%{z}<extra></extra>",
         "legendgroup": "came",
         "marker": {
          "color": "#B6E880",
          "symbol": "circle"
         },
         "mode": "markers",
         "name": "came",
         "scene": "scene",
         "showlegend": true,
         "type": "scatter3d",
         "x": [
          0.25001245737075806
         ],
         "y": [
          0.230612114071846
         ],
         "z": [
          0.011101914569735527
         ]
        },
        {
         "hovertemplate": "color=cheap<br>0=%{x}<br>1=%{y}<br>2=%{z}<extra></extra>",
         "legendgroup": "cheap",
         "marker": {
          "color": "#FF97FF",
          "symbol": "circle"
         },
         "mode": "markers",
         "name": "cheap",
         "scene": "scene",
         "showlegend": true,
         "type": "scatter3d",
         "x": [
          0.3461299240589142
         ],
         "y": [
          0.3000586926937103
         ],
         "z": [
          -0.08654014021158218
         ]
        },
        {
         "hovertemplate": "color=purchased<br>0=%{x}<br>1=%{y}<br>2=%{z}<extra></extra>",
         "legendgroup": "purchased",
         "marker": {
          "color": "#FECB52",
          "symbol": "circle"
         },
         "mode": "markers",
         "name": "purchased",
         "scene": "scene",
         "showlegend": true,
         "type": "scatter3d",
         "x": [
          0.10411856323480606
         ],
         "y": [
          0.1071854680776596
         ],
         "z": [
          -0.297024130821228
         ]
        },
        {
         "hovertemplate": "color=different<br>0=%{x}<br>1=%{y}<br>2=%{z}<extra></extra>",
         "legendgroup": "different",
         "marker": {
          "color": "#636efa",
          "symbol": "circle"
         },
         "mode": "markers",
         "name": "different",
         "scene": "scene",
         "showlegend": true,
         "type": "scatter3d",
         "x": [
          0.36635661125183105
         ],
         "y": [
          0.13475319743156433
         ],
         "z": [
          -0.21414701640605927
         ]
        },
        {
         "hovertemplate": "color=getting<br>0=%{x}<br>1=%{y}<br>2=%{z}<extra></extra>",
         "legendgroup": "getting",
         "marker": {
          "color": "#EF553B",
          "symbol": "circle"
         },
         "mode": "markers",
         "name": "getting",
         "scene": "scene",
         "showlegend": true,
         "type": "scatter3d",
         "x": [
          0.4355009198188782
         ],
         "y": [
          -0.0644884705543518
         ],
         "z": [
          0.18827638030052185
         ]
        },
        {
         "hovertemplate": "color=needed<br>0=%{x}<br>1=%{y}<br>2=%{z}<extra></extra>",
         "legendgroup": "needed",
         "marker": {
          "color": "#00cc96",
          "symbol": "circle"
         },
         "mode": "markers",
         "name": "needed",
         "scene": "scene",
         "showlegend": true,
         "type": "scatter3d",
         "x": [
          0.3256341516971588
         ],
         "y": [
          0.1918962150812149
         ],
         "z": [
          0.012295214459300041
         ]
        },
        {
         "hovertemplate": "color=wear<br>0=%{x}<br>1=%{y}<br>2=%{z}<extra></extra>",
         "legendgroup": "wear",
         "marker": {
          "color": "#ab63fa",
          "symbol": "circle"
         },
         "mode": "markers",
         "name": "wear",
         "scene": "scene",
         "showlegend": true,
         "type": "scatter3d",
         "x": [
          0.4023039638996124
         ],
         "y": [
          -0.09694419056177139
         ],
         "z": [
          0.20944583415985107
         ]
        },
        {
         "hovertemplate": "color=once<br>0=%{x}<br>1=%{y}<br>2=%{z}<extra></extra>",
         "legendgroup": "once",
         "marker": {
          "color": "#FFA15A",
          "symbol": "circle"
         },
         "mode": "markers",
         "name": "once",
         "scene": "scene",
         "showlegend": true,
         "type": "scatter3d",
         "x": [
          0.45961812138557434
         ],
         "y": [
          0.14063407480716705
         ],
         "z": [
          0.20860324800014496
         ]
        },
        {
         "hovertemplate": "color=found<br>0=%{x}<br>1=%{y}<br>2=%{z}<extra></extra>",
         "legendgroup": "found",
         "marker": {
          "color": "#19d3f3",
          "symbol": "circle"
         },
         "mode": "markers",
         "name": "found",
         "scene": "scene",
         "showlegend": true,
         "type": "scatter3d",
         "x": [
          0.2535512149333954
         ],
         "y": [
          0.1077859178185463
         ],
         "z": [
          -0.00797104649245739
         ]
        },
        {
         "hovertemplate": "color=those<br>0=%{x}<br>1=%{y}<br>2=%{z}<extra></extra>",
         "legendgroup": "those",
         "marker": {
          "color": "#FF6692",
          "symbol": "circle"
         },
         "mode": "markers",
         "name": "those",
         "scene": "scene",
         "showlegend": true,
         "type": "scatter3d",
         "x": [
          0.24157224595546722
         ],
         "y": [
          -0.06536107510328293
         ],
         "z": [
          -0.06854971498250961
         ]
        },
        {
         "hovertemplate": "color=amazon<br>0=%{x}<br>1=%{y}<br>2=%{z}<extra></extra>",
         "legendgroup": "amazon",
         "marker": {
          "color": "#B6E880",
          "symbol": "circle"
         },
         "mode": "markers",
         "name": "amazon",
         "scene": "scene",
         "showlegend": true,
         "type": "scatter3d",
         "x": [
          0.2524861991405487
         ],
         "y": [
          -0.0438164584338665
         ],
         "z": [
          -0.36327698826789856
         ]
        },
        {
         "hovertemplate": "color=who<br>0=%{x}<br>1=%{y}<br>2=%{z}<extra></extra>",
         "legendgroup": "who",
         "marker": {
          "color": "#FF97FF",
          "symbol": "circle"
         },
         "mode": "markers",
         "name": "who",
         "scene": "scene",
         "showlegend": true,
         "type": "scatter3d",
         "x": [
          0.27356255054473877
         ],
         "y": [
          -0.1576816588640213
         ],
         "z": [
          -0.19261786341667175
         ]
        },
        {
         "hovertemplate": "color=place<br>0=%{x}<br>1=%{y}<br>2=%{z}<extra></extra>",
         "legendgroup": "place",
         "marker": {
          "color": "#FECB52",
          "symbol": "circle"
         },
         "mode": "markers",
         "name": "place",
         "scene": "scene",
         "showlegend": true,
         "type": "scatter3d",
         "x": [
          0.5364508032798767
         ],
         "y": [
          0.2555418908596039
         ],
         "z": [
          0.23173527419567108
         ]
        },
        {
         "hovertemplate": "color=front<br>0=%{x}<br>1=%{y}<br>2=%{z}<extra></extra>",
         "legendgroup": "front",
         "marker": {
          "color": "#636efa",
          "symbol": "circle"
         },
         "mode": "markers",
         "name": "front",
         "scene": "scene",
         "showlegend": true,
         "type": "scatter3d",
         "x": [
          0.4721609055995941
         ],
         "y": [
          0.3598988652229309
         ],
         "z": [
          0.043527036905288696
         ]
        },
        {
         "hovertemplate": "color=come<br>0=%{x}<br>1=%{y}<br>2=%{z}<extra></extra>",
         "legendgroup": "come",
         "marker": {
          "color": "#EF553B",
          "symbol": "circle"
         },
         "mode": "markers",
         "name": "come",
         "scene": "scene",
         "showlegend": true,
         "type": "scatter3d",
         "x": [
          0.4231003224849701
         ],
         "y": [
          0.09048191457986832
         ],
         "z": [
          0.10366888344287872
         ]
        },
        {
         "hovertemplate": "color=worth<br>0=%{x}<br>1=%{y}<br>2=%{z}<extra></extra>",
         "legendgroup": "worth",
         "marker": {
          "color": "#00cc96",
          "symbol": "circle"
         },
         "mode": "markers",
         "name": "worth",
         "scene": "scene",
         "showlegend": true,
         "type": "scatter3d",
         "x": [
          0.23959852755069733
         ],
         "y": [
          0.15081551671028137
         ],
         "z": [
          -0.05026160553097725
         ]
        },
        {
         "hovertemplate": "color=give<br>0=%{x}<br>1=%{y}<br>2=%{z}<extra></extra>",
         "legendgroup": "give",
         "marker": {
          "color": "#ab63fa",
          "symbol": "circle"
         },
         "mode": "markers",
         "name": "give",
         "scene": "scene",
         "showlegend": true,
         "type": "scatter3d",
         "x": [
          0.30755308270454407
         ],
         "y": [
          0.1090821698307991
         ],
         "z": [
          0.055197302252054214
         ]
        },
        {
         "hovertemplate": "color=probably<br>0=%{x}<br>1=%{y}<br>2=%{z}<extra></extra>",
         "legendgroup": "probably",
         "marker": {
          "color": "#FFA15A",
          "symbol": "circle"
         },
         "mode": "markers",
         "name": "probably",
         "scene": "scene",
         "showlegend": true,
         "type": "scatter3d",
         "x": [
          0.46594908833503723
         ],
         "y": [
          -0.01710308901965618
         ],
         "z": [
          -0.022627651691436768
         ]
        },
        {
         "hovertemplate": "color=old<br>0=%{x}<br>1=%{y}<br>2=%{z}<extra></extra>",
         "legendgroup": "old",
         "marker": {
          "color": "#19d3f3",
          "symbol": "circle"
         },
         "mode": "markers",
         "name": "old",
         "scene": "scene",
         "showlegend": true,
         "type": "scatter3d",
         "x": [
          0.282036155462265
         ],
         "y": [
          0.023062454536557198
         ],
         "z": [
          -0.07133927941322327
         ]
        },
        {
         "hovertemplate": "color=end<br>0=%{x}<br>1=%{y}<br>2=%{z}<extra></extra>",
         "legendgroup": "end",
         "marker": {
          "color": "#FF6692",
          "symbol": "circle"
         },
         "mode": "markers",
         "name": "end",
         "scene": "scene",
         "showlegend": true,
         "type": "scatter3d",
         "x": [
          0.46178320050239563
         ],
         "y": [
          0.2145714908838272
         ],
         "z": [
          0.1342305690050125
         ]
        },
        {
         "hovertemplate": "color=less<br>0=%{x}<br>1=%{y}<br>2=%{z}<extra></extra>",
         "legendgroup": "less",
         "marker": {
          "color": "#B6E880",
          "symbol": "circle"
         },
         "mode": "markers",
         "name": "less",
         "scene": "scene",
         "showlegend": true,
         "type": "scatter3d",
         "x": [
          0.31992411613464355
         ],
         "y": [
          0.0971541702747345
         ],
         "z": [
          -0.05229616537690163
         ]
        },
        {
         "hovertemplate": "color=extra<br>0=%{x}<br>1=%{y}<br>2=%{z}<extra></extra>",
         "legendgroup": "extra",
         "marker": {
          "color": "#FF97FF",
          "symbol": "circle"
         },
         "mode": "markers",
         "name": "extra",
         "scene": "scene",
         "showlegend": true,
         "type": "scatter3d",
         "x": [
          0.408237099647522
         ],
         "y": [
          0.24727772176265717
         ],
         "z": [
          -0.02804720588028431
         ]
        },
        {
         "hovertemplate": "color=belt<br>0=%{x}<br>1=%{y}<br>2=%{z}<extra></extra>",
         "legendgroup": "belt",
         "marker": {
          "color": "#FECB52",
          "symbol": "circle"
         },
         "mode": "markers",
         "name": "belt",
         "scene": "scene",
         "showlegend": true,
         "type": "scatter3d",
         "x": [
          0.4707082509994507
         ],
         "y": [
          0.21763068437576294
         ],
         "z": [
          -0.06964394450187683
         ]
        },
        {
         "hovertemplate": "color=tight<br>0=%{x}<br>1=%{y}<br>2=%{z}<extra></extra>",
         "legendgroup": "tight",
         "marker": {
          "color": "#636efa",
          "symbol": "circle"
         },
         "mode": "markers",
         "name": "tight",
         "scene": "scene",
         "showlegend": true,
         "type": "scatter3d",
         "x": [
          0.5279621481895447
         ],
         "y": [
          0.4556449055671692
         ],
         "z": [
          0.21412856876850128
         ]
        },
        {
         "hovertemplate": "color=perfectly<br>0=%{x}<br>1=%{y}<br>2=%{z}<extra></extra>",
         "legendgroup": "perfectly",
         "marker": {
          "color": "#EF553B",
          "symbol": "circle"
         },
         "mode": "markers",
         "name": "perfectly",
         "scene": "scene",
         "showlegend": true,
         "type": "scatter3d",
         "x": [
          0.2956908345222473
         ],
         "y": [
          0.41464701294898987
         ],
         "z": [
          -0.07367094606161118
         ]
        },
        {
         "hovertemplate": "color=able<br>0=%{x}<br>1=%{y}<br>2=%{z}<extra></extra>",
         "legendgroup": "able",
         "marker": {
          "color": "#00cc96",
          "symbol": "circle"
         },
         "mode": "markers",
         "name": "able",
         "scene": "scene",
         "showlegend": true,
         "type": "scatter3d",
         "x": [
          0.3807375729084015
         ],
         "y": [
          0.10958230495452881
         ],
         "z": [
          0.07042805850505829
         ]
        },
        {
         "hovertemplate": "color=inside<br>0=%{x}<br>1=%{y}<br>2=%{z}<extra></extra>",
         "legendgroup": "inside",
         "marker": {
          "color": "#ab63fa",
          "symbol": "circle"
         },
         "mode": "markers",
         "name": "inside",
         "scene": "scene",
         "showlegend": true,
         "type": "scatter3d",
         "x": [
          0.4628860354423523
         ],
         "y": [
          0.20965120196342468
         ],
         "z": [
          0.417488157749176
         ]
        },
        {
         "hovertemplate": "color=actually<br>0=%{x}<br>1=%{y}<br>2=%{z}<extra></extra>",
         "legendgroup": "actually",
         "marker": {
          "color": "#FFA15A",
          "symbol": "circle"
         },
         "mode": "markers",
         "name": "actually",
         "scene": "scene",
         "showlegend": true,
         "type": "scatter3d",
         "x": [
          0.5218942761421204
         ],
         "y": [
          0.08068829774856567
         ],
         "z": [
          -0.01721571758389473
         ]
        },
        {
         "hovertemplate": "color=things<br>0=%{x}<br>1=%{y}<br>2=%{z}<extra></extra>",
         "legendgroup": "things",
         "marker": {
          "color": "#19d3f3",
          "symbol": "circle"
         },
         "mode": "markers",
         "name": "things",
         "scene": "scene",
         "showlegend": true,
         "type": "scatter3d",
         "x": [
          0.4627951979637146
         ],
         "y": [
          -0.2152578979730606
         ],
         "z": [
          0.07822961360216141
         ]
        },
        {
         "hovertemplate": "color=holster<br>0=%{x}<br>1=%{y}<br>2=%{z}<extra></extra>",
         "legendgroup": "holster",
         "marker": {
          "color": "#FF6692",
          "symbol": "circle"
         },
         "mode": "markers",
         "name": "holster",
         "scene": "scene",
         "showlegend": true,
         "type": "scatter3d",
         "x": [
          0.4270191192626953
         ],
         "y": [
          0.1736329346895218
         ],
         "z": [
          -0.18890604376792908
         ]
        },
        {
         "hovertemplate": "color=quite<br>0=%{x}<br>1=%{y}<br>2=%{z}<extra></extra>",
         "legendgroup": "quite",
         "marker": {
          "color": "#B6E880",
          "symbol": "circle"
         },
         "mode": "markers",
         "name": "quite",
         "scene": "scene",
         "showlegend": true,
         "type": "scatter3d",
         "x": [
          0.4395945966243744
         ],
         "y": [
          0.14422352612018585
         ],
         "z": [
          0.1167808324098587
         ]
        },
        {
         "hovertemplate": "color=item<br>0=%{x}<br>1=%{y}<br>2=%{z}<extra></extra>",
         "legendgroup": "item",
         "marker": {
          "color": "#FF97FF",
          "symbol": "circle"
         },
         "mode": "markers",
         "name": "item",
         "scene": "scene",
         "showlegend": true,
         "type": "scatter3d",
         "x": [
          0.28080353140830994
         ],
         "y": [
          -0.021561522036790848
         ],
         "z": [
          -0.3471969962120056
         ]
        },
        {
         "hovertemplate": "color=sturdy<br>0=%{x}<br>1=%{y}<br>2=%{z}<extra></extra>",
         "legendgroup": "sturdy",
         "marker": {
          "color": "#FECB52",
          "symbol": "circle"
         },
         "mode": "markers",
         "name": "sturdy",
         "scene": "scene",
         "showlegend": true,
         "type": "scatter3d",
         "x": [
          0.40633854269981384
         ],
         "y": [
          0.40362441539764404
         ],
         "z": [
          0.061008937656879425
         ]
        },
        {
         "hovertemplate": "color=yet<br>0=%{x}<br>1=%{y}<br>2=%{z}<extra></extra>",
         "legendgroup": "yet",
         "marker": {
          "color": "#636efa",
          "symbol": "circle"
         },
         "mode": "markers",
         "name": "yet",
         "scene": "scene",
         "showlegend": true,
         "type": "scatter3d",
         "x": [
          0.4018927216529846
         ],
         "y": [
          0.07491615414619446
         ],
         "z": [
          0.07183477282524109
         ]
        },
        {
         "hovertemplate": "color=job<br>0=%{x}<br>1=%{y}<br>2=%{z}<extra></extra>",
         "legendgroup": "job",
         "marker": {
          "color": "#EF553B",
          "symbol": "circle"
         },
         "mode": "markers",
         "name": "job",
         "scene": "scene",
         "showlegend": true,
         "type": "scatter3d",
         "x": [
          0.3622131943702698
         ],
         "y": [
          0.11064638197422028
         ],
         "z": [
          0.02819446660578251
         ]
        },
        {
         "hovertemplate": "color=open<br>0=%{x}<br>1=%{y}<br>2=%{z}<extra></extra>",
         "legendgroup": "open",
         "marker": {
          "color": "#00cc96",
          "symbol": "circle"
         },
         "mode": "markers",
         "name": "open",
         "scene": "scene",
         "showlegend": true,
         "type": "scatter3d",
         "x": [
          0.5156569480895996
         ],
         "y": [
          0.17643137276172638
         ],
         "z": [
          0.2766060531139374
         ]
        },
        {
         "hovertemplate": "color=lock<br>0=%{x}<br>1=%{y}<br>2=%{z}<extra></extra>",
         "legendgroup": "lock",
         "marker": {
          "color": "#ab63fa",
          "symbol": "circle"
         },
         "mode": "markers",
         "name": "lock",
         "scene": "scene",
         "showlegend": true,
         "type": "scatter3d",
         "x": [
          0.49819499254226685
         ],
         "y": [
          0.29761019349098206
         ],
         "z": [
          -0.009233786724507809
         ]
        },
        {
         "hovertemplate": "color=times<br>0=%{x}<br>1=%{y}<br>2=%{z}<extra></extra>",
         "legendgroup": "times",
         "marker": {
          "color": "#FFA15A",
          "symbol": "circle"
         },
         "mode": "markers",
         "name": "times",
         "scene": "scene",
         "showlegend": true,
         "type": "scatter3d",
         "x": [
          0.4291437268257141
         ],
         "y": [
          -0.13236264884471893
         ],
         "z": [
          0.11262591928243637
         ]
        },
        {
         "hovertemplate": "color=holds<br>0=%{x}<br>1=%{y}<br>2=%{z}<extra></extra>",
         "legendgroup": "holds",
         "marker": {
          "color": "#19d3f3",
          "symbol": "circle"
         },
         "mode": "markers",
         "name": "holds",
         "scene": "scene",
         "showlegend": true,
         "type": "scatter3d",
         "x": [
          0.32930800318717957
         ],
         "y": [
          0.376138299703598
         ],
         "z": [
          0.17126227915287018
         ]
        },
        {
         "hovertemplate": "color=he<br>0=%{x}<br>1=%{y}<br>2=%{z}<extra></extra>",
         "legendgroup": "he",
         "marker": {
          "color": "#FF6692",
          "symbol": "circle"
         },
         "mode": "markers",
         "name": "he",
         "scene": "scene",
         "showlegend": true,
         "type": "scatter3d",
         "x": [
          0.30903494358062744
         ],
         "y": [
          -0.17584608495235443
         ],
         "z": [
          -0.04984382912516594
         ]
        },
        {
         "hovertemplate": "color=might<br>0=%{x}<br>1=%{y}<br>2=%{z}<extra></extra>",
         "legendgroup": "might",
         "marker": {
          "color": "#B6E880",
          "symbol": "circle"
         },
         "mode": "markers",
         "name": "might",
         "scene": "scene",
         "showlegend": true,
         "type": "scatter3d",
         "x": [
          0.3329187333583832
         ],
         "y": [
          0.09460823237895966
         ],
         "z": [
          0.08684170991182327
         ]
        },
        {
         "hovertemplate": "color=highly<br>0=%{x}<br>1=%{y}<br>2=%{z}<extra></extra>",
         "legendgroup": "highly",
         "marker": {
          "color": "#FF97FF",
          "symbol": "circle"
         },
         "mode": "markers",
         "name": "highly",
         "scene": "scene",
         "showlegend": true,
         "type": "scatter3d",
         "x": [
          0.23638702929019928
         ],
         "y": [
          0.14021198451519012
         ],
         "z": [
          -0.09450438618659973
         ]
        },
        {
         "hovertemplate": "color=overall<br>0=%{x}<br>1=%{y}<br>2=%{z}<extra></extra>",
         "legendgroup": "overall",
         "marker": {
          "color": "#FECB52",
          "symbol": "circle"
         },
         "mode": "markers",
         "name": "overall",
         "scene": "scene",
         "showlegend": true,
         "type": "scatter3d",
         "x": [
          0.3404026925563812
         ],
         "y": [
          0.31584468483924866
         ],
         "z": [
          -0.04275649040937424
         ]
        },
        {
         "hovertemplate": "color=took<br>0=%{x}<br>1=%{y}<br>2=%{z}<extra></extra>",
         "legendgroup": "took",
         "marker": {
          "color": "#636efa",
          "symbol": "circle"
         },
         "mode": "markers",
         "name": "took",
         "scene": "scene",
         "showlegend": true,
         "type": "scatter3d",
         "x": [
          0.17706139385700226
         ],
         "y": [
          0.1551264077425003
         ],
         "z": [
          0.13317471742630005
         ]
        },
        {
         "hovertemplate": "color=knives<br>0=%{x}<br>1=%{y}<br>2=%{z}<extra></extra>",
         "legendgroup": "knives",
         "marker": {
          "color": "#EF553B",
          "symbol": "circle"
         },
         "mode": "markers",
         "name": "knives",
         "scene": "scene",
         "showlegend": true,
         "type": "scatter3d",
         "x": [
          0.2511792480945587
         ],
         "y": [
          -0.1372940093278885
         ],
         "z": [
          -0.2430461049079895
         ]
        },
        {
         "hovertemplate": "color=happy<br>0=%{x}<br>1=%{y}<br>2=%{z}<extra></extra>",
         "legendgroup": "happy",
         "marker": {
          "color": "#00cc96",
          "symbol": "circle"
         },
         "mode": "markers",
         "name": "happy",
         "scene": "scene",
         "showlegend": true,
         "type": "scatter3d",
         "x": [
          0.25769850611686707
         ],
         "y": [
          0.1393430233001709
         ],
         "z": [
          -0.1468169093132019
         ]
        },
        {
         "hovertemplate": "color=people<br>0=%{x}<br>1=%{y}<br>2=%{z}<extra></extra>",
         "legendgroup": "people",
         "marker": {
          "color": "#ab63fa",
          "symbol": "circle"
         },
         "mode": "markers",
         "name": "people",
         "scene": "scene",
         "showlegend": true,
         "type": "scatter3d",
         "x": [
          0.3463982045650482
         ],
         "y": [
          -0.2300967127084732
         ],
         "z": [
          -0.06657592207193375
         ]
        },
        {
         "hovertemplate": "color=several<br>0=%{x}<br>1=%{y}<br>2=%{z}<extra></extra>",
         "legendgroup": "several",
         "marker": {
          "color": "#FFA15A",
          "symbol": "circle"
         },
         "mode": "markers",
         "name": "several",
         "scene": "scene",
         "showlegend": true,
         "type": "scatter3d",
         "x": [
          0.13947796821594238
         ],
         "y": [
          0.06793128699064255
         ],
         "z": [
          -0.052824731916189194
         ]
        },
        {
         "hovertemplate": "color=having<br>0=%{x}<br>1=%{y}<br>2=%{z}<extra></extra>",
         "legendgroup": "having",
         "marker": {
          "color": "#19d3f3",
          "symbol": "circle"
         },
         "mode": "markers",
         "name": "having",
         "scene": "scene",
         "showlegend": true,
         "type": "scatter3d",
         "x": [
          0.3344818651676178
         ],
         "y": [
          -0.04127703234553337
         ],
         "z": [
          0.09545228630304337
         ]
        },
        {
         "hovertemplate": "color=own<br>0=%{x}<br>1=%{y}<br>2=%{z}<extra></extra>",
         "legendgroup": "own",
         "marker": {
          "color": "#FF6692",
          "symbol": "circle"
         },
         "mode": "markers",
         "name": "own",
         "scene": "scene",
         "showlegend": true,
         "type": "scatter3d",
         "x": [
          0.2649223208427429
         ],
         "y": [
          0.005284968297928572
         ],
         "z": [
          -0.3042623996734619
         ]
        },
        {
         "hovertemplate": "color=stars<br>0=%{x}<br>1=%{y}<br>2=%{z}<extra></extra>",
         "legendgroup": "stars",
         "marker": {
          "color": "#B6E880",
          "symbol": "circle"
         },
         "mode": "markers",
         "name": "stars",
         "scene": "scene",
         "showlegend": true,
         "type": "scatter3d",
         "x": [
          0.39996472001075745
         ],
         "y": [
          0.13780339062213898
         ],
         "z": [
          -0.10729548335075378
         ]
        },
        {
         "hovertemplate": "color=excellent<br>0=%{x}<br>1=%{y}<br>2=%{z}<extra></extra>",
         "legendgroup": "excellent",
         "marker": {
          "color": "#FF97FF",
          "symbol": "circle"
         },
         "mode": "markers",
         "name": "excellent",
         "scene": "scene",
         "showlegend": true,
         "type": "scatter3d",
         "x": [
          0.18617907166481018
         ],
         "y": [
          0.280546635389328
         ],
         "z": [
          -0.20484456419944763
         ]
        },
        {
         "hovertemplate": "color=design<br>0=%{x}<br>1=%{y}<br>2=%{z}<extra></extra>",
         "legendgroup": "design",
         "marker": {
          "color": "#FECB52",
          "symbol": "circle"
         },
         "mode": "markers",
         "name": "design",
         "scene": "scene",
         "showlegend": true,
         "type": "scatter3d",
         "x": [
          0.35872653126716614
         ],
         "y": [
          0.2297794669866562
         ],
         "z": [
          -0.16591031849384308
         ]
        },
        {
         "hovertemplate": "color=always<br>0=%{x}<br>1=%{y}<br>2=%{z}<extra></extra>",
         "legendgroup": "always",
         "marker": {
          "color": "#636efa",
          "symbol": "circle"
         },
         "mode": "markers",
         "name": "always",
         "scene": "scene",
         "showlegend": true,
         "type": "scatter3d",
         "x": [
          0.306174099445343
         ],
         "y": [
          -0.17065656185150146
         ],
         "z": [
          -0.02724229171872139
         ]
        },
        {
         "hovertemplate": "color=try<br>0=%{x}<br>1=%{y}<br>2=%{z}<extra></extra>",
         "legendgroup": "try",
         "marker": {
          "color": "#EF553B",
          "symbol": "circle"
         },
         "mode": "markers",
         "name": "try",
         "scene": "scene",
         "showlegend": true,
         "type": "scatter3d",
         "x": [
          0.4071885049343109
         ],
         "y": [
          -0.041705358773469925
         ],
         "z": [
          0.03519069403409958
         ]
        },
        {
         "hovertemplate": "color=under<br>0=%{x}<br>1=%{y}<br>2=%{z}<extra></extra>",
         "legendgroup": "under",
         "marker": {
          "color": "#00cc96",
          "symbol": "circle"
         },
         "mode": "markers",
         "name": "under",
         "scene": "scene",
         "showlegend": true,
         "type": "scatter3d",
         "x": [
          0.31214070320129395
         ],
         "y": [
          0.21836546063423157
         ],
         "z": [
          0.20604519546031952
         ]
        },
        {
         "hovertemplate": "color=anything<br>0=%{x}<br>1=%{y}<br>2=%{z}<extra></extra>",
         "legendgroup": "anything",
         "marker": {
          "color": "#ab63fa",
          "symbol": "circle"
         },
         "mode": "markers",
         "name": "anything",
         "scene": "scene",
         "showlegend": true,
         "type": "scatter3d",
         "x": [
          0.47387945652008057
         ],
         "y": [
          -0.018425319343805313
         ],
         "z": [
          0.06723029911518097
         ]
        },
        {
         "hovertemplate": "color=bad<br>0=%{x}<br>1=%{y}<br>2=%{z}<extra></extra>",
         "legendgroup": "bad",
         "marker": {
          "color": "#FFA15A",
          "symbol": "circle"
         },
         "mode": "markers",
         "name": "bad",
         "scene": "scene",
         "showlegend": true,
         "type": "scatter3d",
         "x": [
          0.3475230634212494
         ],
         "y": [
          0.08527474850416183
         ],
         "z": [
          0.03693747892975807
         ]
        },
        {
         "hovertemplate": "color=each<br>0=%{x}<br>1=%{y}<br>2=%{z}<extra></extra>",
         "legendgroup": "each",
         "marker": {
          "color": "#19d3f3",
          "symbol": "circle"
         },
         "mode": "markers",
         "name": "each",
         "scene": "scene",
         "showlegend": true,
         "type": "scatter3d",
         "x": [
          0.3855113983154297
         ],
         "y": [
          0.10234562307596207
         ],
         "z": [
          0.07508942484855652
         ]
        },
        {
         "hovertemplate": "color=purchase<br>0=%{x}<br>1=%{y}<br>2=%{z}<extra></extra>",
         "legendgroup": "purchase",
         "marker": {
          "color": "#FF6692",
          "symbol": "circle"
         },
         "mode": "markers",
         "name": "purchase",
         "scene": "scene",
         "showlegend": true,
         "type": "scatter3d",
         "x": [
          0.2662431001663208
         ],
         "y": [
          0.032853227108716965
         ],
         "z": [
          -0.2844915986061096
         ]
        },
        {
         "hovertemplate": "color=camping<br>0=%{x}<br>1=%{y}<br>2=%{z}<extra></extra>",
         "legendgroup": "camping",
         "marker": {
          "color": "#B6E880",
          "symbol": "circle"
         },
         "mode": "markers",
         "name": "camping",
         "scene": "scene",
         "showlegend": true,
         "type": "scatter3d",
         "x": [
          0.2804439067840576
         ],
         "y": [
          -0.33908629417419434
         ],
         "z": [
          0.030999476090073586
         ]
        },
        {
         "hovertemplate": "color=kit<br>0=%{x}<br>1=%{y}<br>2=%{z}<extra></extra>",
         "legendgroup": "kit",
         "marker": {
          "color": "#FF97FF",
          "symbol": "circle"
         },
         "mode": "markers",
         "name": "kit",
         "scene": "scene",
         "showlegend": true,
         "type": "scatter3d",
         "x": [
          0.261636346578598
         ],
         "y": [
          0.0052174776792526245
         ],
         "z": [
          -0.16367949545383453
         ]
        },
        {
         "hovertemplate": "color=couple<br>0=%{x}<br>1=%{y}<br>2=%{z}<extra></extra>",
         "legendgroup": "couple",
         "marker": {
          "color": "#FECB52",
          "symbol": "circle"
         },
         "mode": "markers",
         "name": "couple",
         "scene": "scene",
         "showlegend": true,
         "type": "scatter3d",
         "x": [
          0.2131931483745575
         ],
         "y": [
          0.07753778994083405
         ],
         "z": [
          0.08397117257118225
         ]
        },
        {
         "hovertemplate": "color=definitely<br>0=%{x}<br>1=%{y}<br>2=%{z}<extra></extra>",
         "legendgroup": "definitely",
         "marker": {
          "color": "#636efa",
          "symbol": "circle"
         },
         "mode": "markers",
         "name": "definitely",
         "scene": "scene",
         "showlegend": true,
         "type": "scatter3d",
         "x": [
          0.3449469804763794
         ],
         "y": [
          0.09110479056835175
         ],
         "z": [
          -0.06748156994581223
         ]
        },
        {
         "hovertemplate": "color=everything<br>0=%{x}<br>1=%{y}<br>2=%{z}<extra></extra>",
         "legendgroup": "everything",
         "marker": {
          "color": "#EF553B",
          "symbol": "circle"
         },
         "mode": "markers",
         "name": "everything",
         "scene": "scene",
         "showlegend": true,
         "type": "scatter3d",
         "x": [
          0.4368428587913513
         ],
         "y": [
          0.04764465615153313
         ],
         "z": [
          -0.02633349969983101
         ]
        },
        {
         "hovertemplate": "color=wanted<br>0=%{x}<br>1=%{y}<br>2=%{z}<extra></extra>",
         "legendgroup": "wanted",
         "marker": {
          "color": "#00cc96",
          "symbol": "circle"
         },
         "mode": "markers",
         "name": "wanted",
         "scene": "scene",
         "showlegend": true,
         "type": "scatter3d",
         "x": [
          0.19197885692119598
         ],
         "y": [
          0.07680846005678177
         ],
         "z": [
          -0.15930959582328796
         ]
        },
        {
         "hovertemplate": "color=tried<br>0=%{x}<br>1=%{y}<br>2=%{z}<extra></extra>",
         "legendgroup": "tried",
         "marker": {
          "color": "#ab63fa",
          "symbol": "circle"
         },
         "mode": "markers",
         "name": "tried",
         "scene": "scene",
         "showlegend": true,
         "type": "scatter3d",
         "x": [
          0.27910149097442627
         ],
         "y": [
          0.08389980345964432
         ],
         "z": [
          0.118365079164505
         ]
        },
        {
         "hovertemplate": "color=here<br>0=%{x}<br>1=%{y}<br>2=%{z}<extra></extra>",
         "legendgroup": "here",
         "marker": {
          "color": "#FFA15A",
          "symbol": "circle"
         },
         "mode": "markers",
         "name": "here",
         "scene": "scene",
         "showlegend": true,
         "type": "scatter3d",
         "x": [
          0.19038580358028412
         ],
         "y": [
          -0.12293871492147446
         ],
         "z": [
          -0.32382312417030334
         ]
        },
        {
         "hovertemplate": "color=stuff<br>0=%{x}<br>1=%{y}<br>2=%{z}<extra></extra>",
         "legendgroup": "stuff",
         "marker": {
          "color": "#19d3f3",
          "symbol": "circle"
         },
         "mode": "markers",
         "name": "stuff",
         "scene": "scene",
         "showlegend": true,
         "type": "scatter3d",
         "x": [
          0.354210764169693
         ],
         "y": [
          -0.22963088750839233
         ],
         "z": [
          0.11526498198509216
         ]
        },
        {
         "hovertemplate": "color=full<br>0=%{x}<br>1=%{y}<br>2=%{z}<extra></extra>",
         "legendgroup": "full",
         "marker": {
          "color": "#FF6692",
          "symbol": "circle"
         },
         "mode": "markers",
         "name": "full",
         "scene": "scene",
         "showlegend": true,
         "type": "scatter3d",
         "x": [
          0.3765691816806793
         ],
         "y": [
          0.17766612768173218
         ],
         "z": [
          0.05882981792092323
         ]
        },
        {
         "hovertemplate": "color=worked<br>0=%{x}<br>1=%{y}<br>2=%{z}<extra></extra>",
         "legendgroup": "worked",
         "marker": {
          "color": "#B6E880",
          "symbol": "circle"
         },
         "mode": "markers",
         "name": "worked",
         "scene": "scene",
         "showlegend": true,
         "type": "scatter3d",
         "x": [
          0.24430033564567566
         ],
         "y": [
          0.08999040722846985
         ],
         "z": [
          0.06594353914260864
         ]
        },
        {
         "hovertemplate": "color=reviews<br>0=%{x}<br>1=%{y}<br>2=%{z}<extra></extra>",
         "legendgroup": "reviews",
         "marker": {
          "color": "#FF97FF",
          "symbol": "circle"
         },
         "mode": "markers",
         "name": "reviews",
         "scene": "scene",
         "showlegend": true,
         "type": "scatter3d",
         "x": [
          0.2538774311542511
         ],
         "y": [
          -0.0041885580867528915
         ],
         "z": [
          -0.20185299217700958
         ]
        },
        {
         "hovertemplate": "color=edge<br>0=%{x}<br>1=%{y}<br>2=%{z}<extra></extra>",
         "legendgroup": "edge",
         "marker": {
          "color": "#FECB52",
          "symbol": "circle"
         },
         "mode": "markers",
         "name": "edge",
         "scene": "scene",
         "showlegend": true,
         "type": "scatter3d",
         "x": [
          0.4205003082752228
         ],
         "y": [
          0.09833581745624542
         ],
         "z": [
          0.0697515457868576
         ]
        },
        {
         "hovertemplate": "color=sheath<br>0=%{x}<br>1=%{y}<br>2=%{z}<extra></extra>",
         "legendgroup": "sheath",
         "marker": {
          "color": "#636efa",
          "symbol": "circle"
         },
         "mode": "markers",
         "name": "sheath",
         "scene": "scene",
         "showlegend": true,
         "type": "scatter3d",
         "x": [
          0.3838646709918976
         ],
         "y": [
          0.20706352591514587
         ],
         "z": [
          -0.04437418282032013
         ]
        },
        {
         "hovertemplate": "color=clip<br>0=%{x}<br>1=%{y}<br>2=%{z}<extra></extra>",
         "legendgroup": "clip",
         "marker": {
          "color": "#EF553B",
          "symbol": "circle"
         },
         "mode": "markers",
         "name": "clip",
         "scene": "scene",
         "showlegend": true,
         "type": "scatter3d",
         "x": [
          0.5197470784187317
         ],
         "y": [
          0.34725847840309143
         ],
         "z": [
          0.037428367882966995
         ]
        },
        {
         "hovertemplate": "color=point<br>0=%{x}<br>1=%{y}<br>2=%{z}<extra></extra>",
         "legendgroup": "point",
         "marker": {
          "color": "#00cc96",
          "symbol": "circle"
         },
         "mode": "markers",
         "name": "point",
         "scene": "scene",
         "showlegend": true,
         "type": "scatter3d",
         "x": [
          0.41736558079719543
         ],
         "y": [
          0.19509357213974
         ],
         "z": [
          -0.034547314047813416
         ]
        },
        {
         "hovertemplate": "color=metal<br>0=%{x}<br>1=%{y}<br>2=%{z}<extra></extra>",
         "legendgroup": "metal",
         "marker": {
          "color": "#ab63fa",
          "symbol": "circle"
         },
         "mode": "markers",
         "name": "metal",
         "scene": "scene",
         "showlegend": true,
         "type": "scatter3d",
         "x": [
          0.46519196033477783
         ],
         "y": [
          0.4024859666824341
         ],
         "z": [
          0.22413380444049835
         ]
        },
        {
         "hovertemplate": "color=shooting<br>0=%{x}<br>1=%{y}<br>2=%{z}<extra></extra>",
         "legendgroup": "shooting",
         "marker": {
          "color": "#FFA15A",
          "symbol": "circle"
         },
         "mode": "markers",
         "name": "shooting",
         "scene": "scene",
         "showlegend": true,
         "type": "scatter3d",
         "x": [
          0.3871552050113678
         ],
         "y": [
          -0.025958973914384842
         ],
         "z": [
          -0.017371026799082756
         ]
        },
        {
         "hovertemplate": "color=won<br>0=%{x}<br>1=%{y}<br>2=%{z}<extra></extra>",
         "legendgroup": "won",
         "marker": {
          "color": "#19d3f3",
          "symbol": "circle"
         },
         "mode": "markers",
         "name": "won",
         "scene": "scene",
         "showlegend": true,
         "type": "scatter3d",
         "x": [
          0.27279776334762573
         ],
         "y": [
          0.1795801818370819
         ],
         "z": [
          0.1511969119310379
         ]
        },
        {
         "hovertemplate": "color=ordered<br>0=%{x}<br>1=%{y}<br>2=%{z}<extra></extra>",
         "legendgroup": "ordered",
         "marker": {
          "color": "#FF6692",
          "symbol": "circle"
         },
         "mode": "markers",
         "name": "ordered",
         "scene": "scene",
         "showlegend": true,
         "type": "scatter3d",
         "x": [
          0.18085280060768127
         ],
         "y": [
          0.12612490355968475
         ],
         "z": [
          -0.2312796711921692
         ]
        },
        {
         "hovertemplate": "color=hands<br>0=%{x}<br>1=%{y}<br>2=%{z}<extra></extra>",
         "legendgroup": "hands",
         "marker": {
          "color": "#B6E880",
          "symbol": "circle"
         },
         "mode": "markers",
         "name": "hands",
         "scene": "scene",
         "showlegend": true,
         "type": "scatter3d",
         "x": [
          0.48099759221076965
         ],
         "y": [
          -0.014226073399186134
         ],
         "z": [
          0.175418421626091
         ]
        },
        {
         "hovertemplate": "color=thought<br>0=%{x}<br>1=%{y}<br>2=%{z}<extra></extra>",
         "legendgroup": "thought",
         "marker": {
          "color": "#FF97FF",
          "symbol": "circle"
         },
         "mode": "markers",
         "name": "thought",
         "scene": "scene",
         "showlegend": true,
         "type": "scatter3d",
         "x": [
          0.34829747676849365
         ],
         "y": [
          0.04817752167582512
         ],
         "z": [
          -0.06446874886751175
         ]
        },
        {
         "hovertemplate": "color=ever<br>0=%{x}<br>1=%{y}<br>2=%{z}<extra></extra>",
         "legendgroup": "ever",
         "marker": {
          "color": "#FECB52",
          "symbol": "circle"
         },
         "mode": "markers",
         "name": "ever",
         "scene": "scene",
         "showlegend": true,
         "type": "scatter3d",
         "x": [
          0.37956702709198
         ],
         "y": [
          -0.013637670315802097
         ],
         "z": [
          -0.06389391422271729
         ]
        },
        {
         "hovertemplate": "color=said<br>0=%{x}<br>1=%{y}<br>2=%{z}<extra></extra>",
         "legendgroup": "said",
         "marker": {
          "color": "#636efa",
          "symbol": "circle"
         },
         "mode": "markers",
         "name": "said",
         "scene": "scene",
         "showlegend": true,
         "type": "scatter3d",
         "x": [
          0.25389334559440613
         ],
         "y": [
          0.10511356592178345
         ],
         "z": [
          -0.10595832765102386
         ]
        },
        {
         "hovertemplate": "color=mine<br>0=%{x}<br>1=%{y}<br>2=%{z}<extra></extra>",
         "legendgroup": "mine",
         "marker": {
          "color": "#EF553B",
          "symbol": "circle"
         },
         "mode": "markers",
         "name": "mine",
         "scene": "scene",
         "showlegend": true,
         "type": "scatter3d",
         "x": [
          0.4159923791885376
         ],
         "y": [
          0.052456509321928024
         ],
         "z": [
          -0.10762348771095276
         ]
        },
        {
         "hovertemplate": "color=strap<br>0=%{x}<br>1=%{y}<br>2=%{z}<extra></extra>",
         "legendgroup": "strap",
         "marker": {
          "color": "#00cc96",
          "symbol": "circle"
         },
         "mode": "markers",
         "name": "strap",
         "scene": "scene",
         "showlegend": true,
         "type": "scatter3d",
         "x": [
          0.5137932300567627
         ],
         "y": [
          0.2968657612800598
         ],
         "z": [
          0.10258271545171738
         ]
        },
        {
         "hovertemplate": "color=bottom<br>0=%{x}<br>1=%{y}<br>2=%{z}<extra></extra>",
         "legendgroup": "bottom",
         "marker": {
          "color": "#ab63fa",
          "symbol": "circle"
         },
         "mode": "markers",
         "name": "bottom",
         "scene": "scene",
         "showlegend": true,
         "type": "scatter3d",
         "x": [
          0.4990181624889374
         ],
         "y": [
          0.2941698133945465
         ],
         "z": [
          0.26462966203689575
         ]
        },
        {
         "hovertemplate": "color=away<br>0=%{x}<br>1=%{y}<br>2=%{z}<extra></extra>",
         "legendgroup": "away",
         "marker": {
          "color": "#FFA15A",
          "symbol": "circle"
         },
         "mode": "markers",
         "name": "away",
         "scene": "scene",
         "showlegend": true,
         "type": "scatter3d",
         "x": [
          0.37853360176086426
         ],
         "y": [
          -0.05914117023348808
         ],
         "z": [
          0.21048679947853088
         ]
        },
        {
         "hovertemplate": "color=watch<br>0=%{x}<br>1=%{y}<br>2=%{z}<extra></extra>",
         "legendgroup": "watch",
         "marker": {
          "color": "#19d3f3",
          "symbol": "circle"
         },
         "mode": "markers",
         "name": "watch",
         "scene": "scene",
         "showlegend": true,
         "type": "scatter3d",
         "x": [
          0.32892605662345886
         ],
         "y": [
          -0.18486559391021729
         ],
         "z": [
          -0.19291771948337555
         ]
        },
        {
         "hovertemplate": "color=piece<br>0=%{x}<br>1=%{y}<br>2=%{z}<extra></extra>",
         "legendgroup": "piece",
         "marker": {
          "color": "#FF6692",
          "symbol": "circle"
         },
         "mode": "markers",
         "name": "piece",
         "scene": "scene",
         "showlegend": true,
         "type": "scatter3d",
         "x": [
          0.3675185441970825
         ],
         "y": [
          0.2535528540611267
         ],
         "z": [
          0.05942452698945999
         ]
        },
        {
         "hovertemplate": "color=almost<br>0=%{x}<br>1=%{y}<br>2=%{z}<extra></extra>",
         "legendgroup": "almost",
         "marker": {
          "color": "#B6E880",
          "symbol": "circle"
         },
         "mode": "markers",
         "name": "almost",
         "scene": "scene",
         "showlegend": true,
         "type": "scatter3d",
         "x": [
          0.33604830503463745
         ],
         "y": [
          0.1313789039850235
         ],
         "z": [
          0.03096972033381462
         ]
        },
        {
         "hovertemplate": "color=part<br>0=%{x}<br>1=%{y}<br>2=%{z}<extra></extra>",
         "legendgroup": "part",
         "marker": {
          "color": "#FF97FF",
          "symbol": "circle"
         },
         "mode": "markers",
         "name": "part",
         "scene": "scene",
         "showlegend": true,
         "type": "scatter3d",
         "x": [
          0.44933798909187317
         ],
         "y": [
          0.13583087921142578
         ],
         "z": [
          0.04949413612484932
         ]
        },
        {
         "hovertemplate": "color=feels<br>0=%{x}<br>1=%{y}<br>2=%{z}<extra></extra>",
         "legendgroup": "feels",
         "marker": {
          "color": "#FECB52",
          "symbol": "circle"
         },
         "mode": "markers",
         "name": "feels",
         "scene": "scene",
         "showlegend": true,
         "type": "scatter3d",
         "x": [
          0.3707839548587799
         ],
         "y": [
          0.28472352027893066
         ],
         "z": [
          0.16795796155929565
         ]
        },
        {
         "hovertemplate": "color=real<br>0=%{x}<br>1=%{y}<br>2=%{z}<extra></extra>",
         "legendgroup": "real",
         "marker": {
          "color": "#636efa",
          "symbol": "circle"
         },
         "mode": "markers",
         "name": "real",
         "scene": "scene",
         "showlegend": true,
         "type": "scatter3d",
         "x": [
          0.3006415367126465
         ],
         "y": [
          0.1524077206850052
         ],
         "z": [
          -0.10297982394695282
         ]
        },
        {
         "hovertemplate": "color=our<br>0=%{x}<br>1=%{y}<br>2=%{z}<extra></extra>",
         "legendgroup": "our",
         "marker": {
          "color": "#EF553B",
          "symbol": "circle"
         },
         "mode": "markers",
         "name": "our",
         "scene": "scene",
         "showlegend": true,
         "type": "scatter3d",
         "x": [
          0.15652187168598175
         ],
         "y": [
          -0.2589164972305298
         ],
         "z": [
          0.03468600660562515
         ]
        },
        {
         "hovertemplate": "color=air<br>0=%{x}<br>1=%{y}<br>2=%{z}<extra></extra>",
         "legendgroup": "air",
         "marker": {
          "color": "#00cc96",
          "symbol": "circle"
         },
         "mode": "markers",
         "name": "air",
         "scene": "scene",
         "showlegend": true,
         "type": "scatter3d",
         "x": [
          0.40528246760368347
         ],
         "y": [
          -0.1290251612663269
         ],
         "z": [
          0.17995260655879974
         ]
        },
        {
         "hovertemplate": "color=black<br>0=%{x}<br>1=%{y}<br>2=%{z}<extra></extra>",
         "legendgroup": "black",
         "marker": {
          "color": "#ab63fa",
          "symbol": "circle"
         },
         "mode": "markers",
         "name": "black",
         "scene": "scene",
         "showlegend": true,
         "type": "scatter3d",
         "x": [
          0.31121906638145447
         ],
         "y": [
          0.1974899172782898
         ],
         "z": [
          -0.05673130974173546
         ]
        },
        {
         "hovertemplate": "color=strong<br>0=%{x}<br>1=%{y}<br>2=%{z}<extra></extra>",
         "legendgroup": "strong",
         "marker": {
          "color": "#FFA15A",
          "symbol": "circle"
         },
         "mode": "markers",
         "name": "strong",
         "scene": "scene",
         "showlegend": true,
         "type": "scatter3d",
         "x": [
          0.3775186240673065
         ],
         "y": [
          0.3170585334300995
         ],
         "z": [
          0.1754627823829651
         ]
        },
        {
         "hovertemplate": "color=review<br>0=%{x}<br>1=%{y}<br>2=%{z}<extra></extra>",
         "legendgroup": "review",
         "marker": {
          "color": "#19d3f3",
          "symbol": "circle"
         },
         "mode": "markers",
         "name": "review",
         "scene": "scene",
         "showlegend": true,
         "type": "scatter3d",
         "x": [
          0.2496110200881958
         ],
         "y": [
          -0.07709994912147522
         ],
         "z": [
          -0.31122294068336487
         ]
        },
        {
         "hovertemplate": "color=year<br>0=%{x}<br>1=%{y}<br>2=%{z}<extra></extra>",
         "legendgroup": "year",
         "marker": {
          "color": "#FF6692",
          "symbol": "circle"
         },
         "mode": "markers",
         "name": "year",
         "scene": "scene",
         "showlegend": true,
         "type": "scatter3d",
         "x": [
          0.26203930377960205
         ],
         "y": [
          -0.19538907706737518
         ],
         "z": [
          -0.08971158415079117
         ]
        },
        {
         "hovertemplate": "color=durable<br>0=%{x}<br>1=%{y}<br>2=%{z}<extra></extra>",
         "legendgroup": "durable",
         "marker": {
          "color": "#B6E880",
          "symbol": "circle"
         },
         "mode": "markers",
         "name": "durable",
         "scene": "scene",
         "showlegend": true,
         "type": "scatter3d",
         "x": [
          0.3278028070926666
         ],
         "y": [
          0.22278514504432678
         ],
         "z": [
          0.07625839859247208
         ]
        },
        {
         "hovertemplate": "color=pistol<br>0=%{x}<br>1=%{y}<br>2=%{z}<extra></extra>",
         "legendgroup": "pistol",
         "marker": {
          "color": "#FF97FF",
          "symbol": "circle"
         },
         "mode": "markers",
         "name": "pistol",
         "scene": "scene",
         "showlegend": true,
         "type": "scatter3d",
         "x": [
          0.4077759385108948
         ],
         "y": [
          0.33837878704071045
         ],
         "z": [
          -0.22682484984397888
         ]
        },
        {
         "hovertemplate": "color=quick<br>0=%{x}<br>1=%{y}<br>2=%{z}<extra></extra>",
         "legendgroup": "quick",
         "marker": {
          "color": "#FECB52",
          "symbol": "circle"
         },
         "mode": "markers",
         "name": "quick",
         "scene": "scene",
         "showlegend": true,
         "type": "scatter3d",
         "x": [
          0.3586810827255249
         ],
         "y": [
          0.29943475127220154
         ],
         "z": [
          -0.02446162886917591
         ]
        },
        {
         "hovertemplate": "color=low<br>0=%{x}<br>1=%{y}<br>2=%{z}<extra></extra>",
         "legendgroup": "low",
         "marker": {
          "color": "#636efa",
          "symbol": "circle"
         },
         "mode": "markers",
         "name": "low",
         "scene": "scene",
         "showlegend": true,
         "type": "scatter3d",
         "x": [
          0.34372302889823914
         ],
         "y": [
          0.17891250550746918
         ],
         "z": [
          -0.07523290067911148
         ]
        },
        {
         "hovertemplate": "color=room<br>0=%{x}<br>1=%{y}<br>2=%{z}<extra></extra>",
         "legendgroup": "room",
         "marker": {
          "color": "#EF553B",
          "symbol": "circle"
         },
         "mode": "markers",
         "name": "room",
         "scene": "scene",
         "showlegend": true,
         "type": "scatter3d",
         "x": [
          0.4521300196647644
         ],
         "y": [
          0.006747276522219181
         ],
         "z": [
          0.10898087918758392
         ]
        },
        {
         "hovertemplate": "color=material<br>0=%{x}<br>1=%{y}<br>2=%{z}<extra></extra>",
         "legendgroup": "material",
         "marker": {
          "color": "#00cc96",
          "symbol": "circle"
         },
         "mode": "markers",
         "name": "material",
         "scene": "scene",
         "showlegend": true,
         "type": "scatter3d",
         "x": [
          0.45718181133270264
         ],
         "y": [
          0.14795947074890137
         ],
         "z": [
          0.2405017912387848
         ]
        },
        {
         "hovertemplate": "color=battery<br>0=%{x}<br>1=%{y}<br>2=%{z}<extra></extra>",
         "legendgroup": "battery",
         "marker": {
          "color": "#ab63fa",
          "symbol": "circle"
         },
         "mode": "markers",
         "name": "battery",
         "scene": "scene",
         "showlegend": true,
         "type": "scatter3d",
         "x": [
          0.43524056673049927
         ],
         "y": [
          0.013702934607863426
         ],
         "z": [
          -0.08565469086170197
         ]
        },
        {
         "hovertemplate": "color=isn<br>0=%{x}<br>1=%{y}<br>2=%{z}<extra></extra>",
         "legendgroup": "isn",
         "marker": {
          "color": "#FFA15A",
          "symbol": "circle"
         },
         "mode": "markers",
         "name": "isn",
         "scene": "scene",
         "showlegend": true,
         "type": "scatter3d",
         "x": [
          0.2665761113166809
         ],
         "y": [
          0.21339982748031616
         ],
         "z": [
          0.10604558140039444
         ]
        },
        {
         "hovertemplate": "color=ride<br>0=%{x}<br>1=%{y}<br>2=%{z}<extra></extra>",
         "legendgroup": "ride",
         "marker": {
          "color": "#19d3f3",
          "symbol": "circle"
         },
         "mode": "markers",
         "name": "ride",
         "scene": "scene",
         "showlegend": true,
         "type": "scatter3d",
         "x": [
          0.4522216320037842
         ],
         "y": [
          -0.20314328372478485
         ],
         "z": [
          0.13018472492694855
         ]
        },
        {
         "hovertemplate": "color=clean<br>0=%{x}<br>1=%{y}<br>2=%{z}<extra></extra>",
         "legendgroup": "clean",
         "marker": {
          "color": "#FF6692",
          "symbol": "circle"
         },
         "mode": "markers",
         "name": "clean",
         "scene": "scene",
         "showlegend": true,
         "type": "scatter3d",
         "x": [
          0.4163489043712616
         ],
         "y": [
          0.015107245184481144
         ],
         "z": [
          0.3682159185409546
         ]
        },
        {
         "hovertemplate": "color=stock<br>0=%{x}<br>1=%{y}<br>2=%{z}<extra></extra>",
         "legendgroup": "stock",
         "marker": {
          "color": "#B6E880",
          "symbol": "circle"
         },
         "mode": "markers",
         "name": "stock",
         "scene": "scene",
         "showlegend": true,
         "type": "scatter3d",
         "x": [
          0.44562992453575134
         ],
         "y": [
          0.4292360842227936
         ],
         "z": [
          -0.14337685704231262
         ]
        },
        {
         "hovertemplate": "color=ar<br>0=%{x}<br>1=%{y}<br>2=%{z}<extra></extra>",
         "legendgroup": "ar",
         "marker": {
          "color": "#FF97FF",
          "symbol": "circle"
         },
         "mode": "markers",
         "name": "ar",
         "scene": "scene",
         "showlegend": true,
         "type": "scatter3d",
         "x": [
          0.38548505306243896
         ],
         "y": [
          0.31152400374412537
         ],
         "z": [
          -0.29320913553237915
         ]
        },
        {
         "hovertemplate": "color=simple<br>0=%{x}<br>1=%{y}<br>2=%{z}<extra></extra>",
         "legendgroup": "simple",
         "marker": {
          "color": "#FECB52",
          "symbol": "circle"
         },
         "mode": "markers",
         "name": "simple",
         "scene": "scene",
         "showlegend": true,
         "type": "scatter3d",
         "x": [
          0.3139351010322571
         ],
         "y": [
          0.3158365488052368
         ],
         "z": [
          -0.06814368814229965
         ]
        },
        {
         "hovertemplate": "color=install<br>0=%{x}<br>1=%{y}<br>2=%{z}<extra></extra>",
         "legendgroup": "install",
         "marker": {
          "color": "#636efa",
          "symbol": "circle"
         },
         "mode": "markers",
         "name": "install",
         "scene": "scene",
         "showlegend": true,
         "type": "scatter3d",
         "x": [
          0.4034295380115509
         ],
         "y": [
          0.4020422697067261
         ],
         "z": [
          -0.054697100073099136
         ]
        },
        {
         "hovertemplate": "color=cut<br>0=%{x}<br>1=%{y}<br>2=%{z}<extra></extra>",
         "legendgroup": "cut",
         "marker": {
          "color": "#EF553B",
          "symbol": "circle"
         },
         "mode": "markers",
         "name": "cut",
         "scene": "scene",
         "showlegend": true,
         "type": "scatter3d",
         "x": [
          0.4650055468082428
         ],
         "y": [
          0.1669711470603943
         ],
         "z": [
          0.36640626192092896
         ]
        },
        {
         "hovertemplate": "color=bright<br>0=%{x}<br>1=%{y}<br>2=%{z}<extra></extra>",
         "legendgroup": "bright",
         "marker": {
          "color": "#00cc96",
          "symbol": "circle"
         },
         "mode": "markers",
         "name": "bright",
         "scene": "scene",
         "showlegend": true,
         "type": "scatter3d",
         "x": [
          0.3761157989501953
         ],
         "y": [
          0.014299875125288963
         ],
         "z": [
          -0.0736188217997551
         ]
        },
        {
         "hovertemplate": "color=smaller<br>0=%{x}<br>1=%{y}<br>2=%{z}<extra></extra>",
         "legendgroup": "smaller",
         "marker": {
          "color": "#ab63fa",
          "symbol": "circle"
         },
         "mode": "markers",
         "name": "smaller",
         "scene": "scene",
         "showlegend": true,
         "type": "scatter3d",
         "x": [
          0.4398617744445801
         ],
         "y": [
          0.20137357711791992
         ],
         "z": [
          -0.10205354541540146
         ]
        },
        {
         "hovertemplate": "color=seem<br>0=%{x}<br>1=%{y}<br>2=%{z}<extra></extra>",
         "legendgroup": "seem",
         "marker": {
          "color": "#FFA15A",
          "symbol": "circle"
         },
         "mode": "markers",
         "name": "seem",
         "scene": "scene",
         "showlegend": true,
         "type": "scatter3d",
         "x": [
          0.36074671149253845
         ],
         "y": [
          0.16229304671287537
         ],
         "z": [
          0.16500744223594666
         ]
        },
        {
         "hovertemplate": "color=cold<br>0=%{x}<br>1=%{y}<br>2=%{z}<extra></extra>",
         "legendgroup": "cold",
         "marker": {
          "color": "#19d3f3",
          "symbol": "circle"
         },
         "mode": "markers",
         "name": "cold",
         "scene": "scene",
         "showlegend": true,
         "type": "scatter3d",
         "x": [
          0.2985583245754242
         ],
         "y": [
          -0.22224672138690948
         ],
         "z": [
          0.1308393031358719
         ]
        },
        {
         "hovertemplate": "color=three<br>0=%{x}<br>1=%{y}<br>2=%{z}<extra></extra>",
         "legendgroup": "three",
         "marker": {
          "color": "#FF6692",
          "symbol": "circle"
         },
         "mode": "markers",
         "name": "three",
         "scene": "scene",
         "showlegend": true,
         "type": "scatter3d",
         "x": [
          0.2505841553211212
         ],
         "y": [
          0.11750917136669159
         ],
         "z": [
          -0.07961694151163101
         ]
        },
        {
         "hovertemplate": "color=red<br>0=%{x}<br>1=%{y}<br>2=%{z}<extra></extra>",
         "legendgroup": "red",
         "marker": {
          "color": "#B6E880",
          "symbol": "circle"
         },
         "mode": "markers",
         "name": "red",
         "scene": "scene",
         "showlegend": true,
         "type": "scatter3d",
         "x": [
          0.3323808014392853
         ],
         "y": [
          0.18545420467853546
         ],
         "z": [
          -0.19222792983055115
         ]
        },
        {
         "hovertemplate": "color=tent<br>0=%{x}<br>1=%{y}<br>2=%{z}<extra></extra>",
         "legendgroup": "tent",
         "marker": {
          "color": "#FF97FF",
          "symbol": "circle"
         },
         "mode": "markers",
         "name": "tent",
         "scene": "scene",
         "showlegend": true,
         "type": "scatter3d",
         "x": [
          0.41186681389808655
         ],
         "y": [
          -0.25360310077667236
         ],
         "z": [
          0.1266736537218094
         ]
        },
        {
         "hovertemplate": "color=days<br>0=%{x}<br>1=%{y}<br>2=%{z}<extra></extra>",
         "legendgroup": "days",
         "marker": {
          "color": "#FECB52",
          "symbol": "circle"
         },
         "mode": "markers",
         "name": "days",
         "scene": "scene",
         "showlegend": true,
         "type": "scatter3d",
         "x": [
          0.33943691849708557
         ],
         "y": [
          -0.27767592668533325
         ],
         "z": [
          0.033722009509801865
         ]
        },
        {
         "hovertemplate": "color=either<br>0=%{x}<br>1=%{y}<br>2=%{z}<extra></extra>",
         "legendgroup": "either",
         "marker": {
          "color": "#636efa",
          "symbol": "circle"
         },
         "mode": "markers",
         "name": "either",
         "scene": "scene",
         "showlegend": true,
         "type": "scatter3d",
         "x": [
          0.5007531046867371
         ],
         "y": [
          0.1702856421470642
         ],
         "z": [
          0.07662146538496017
         ]
        },
        {
         "hovertemplate": "color=head<br>0=%{x}<br>1=%{y}<br>2=%{z}<extra></extra>",
         "legendgroup": "head",
         "marker": {
          "color": "#EF553B",
          "symbol": "circle"
         },
         "mode": "markers",
         "name": "head",
         "scene": "scene",
         "showlegend": true,
         "type": "scatter3d",
         "x": [
          0.4935067892074585
         ],
         "y": [
          0.0689392015337944
         ],
         "z": [
          0.18673022091388702
         ]
        },
        {
         "hovertemplate": "color=anyone<br>0=%{x}<br>1=%{y}<br>2=%{z}<extra></extra>",
         "legendgroup": "anyone",
         "marker": {
          "color": "#00cc96",
          "symbol": "circle"
         },
         "mode": "markers",
         "name": "anyone",
         "scene": "scene",
         "showlegend": true,
         "type": "scatter3d",
         "x": [
          0.24138446152210236
         ],
         "y": [
          0.084197498857975
         ],
         "z": [
          -0.1128874272108078
         ]
        },
        {
         "hovertemplate": "color=straps<br>0=%{x}<br>1=%{y}<br>2=%{z}<extra></extra>",
         "legendgroup": "straps",
         "marker": {
          "color": "#ab63fa",
          "symbol": "circle"
         },
         "mode": "markers",
         "name": "straps",
         "scene": "scene",
         "showlegend": true,
         "type": "scatter3d",
         "x": [
          0.49314257502555847
         ],
         "y": [
          0.23874017596244812
         ],
         "z": [
          0.10405533015727997
         ]
        },
        {
         "hovertemplate": "color=etc<br>0=%{x}<br>1=%{y}<br>2=%{z}<extra></extra>",
         "legendgroup": "etc",
         "marker": {
          "color": "#FFA15A",
          "symbol": "circle"
         },
         "mode": "markers",
         "name": "etc",
         "scene": "scene",
         "showlegend": true,
         "type": "scatter3d",
         "x": [
          0.11456480622291565
         ],
         "y": [
          0.05148221552371979
         ],
         "z": [
          0.19908764958381653
         ]
        },
        {
         "hovertemplate": "color=fast<br>0=%{x}<br>1=%{y}<br>2=%{z}<extra></extra>",
         "legendgroup": "fast",
         "marker": {
          "color": "#19d3f3",
          "symbol": "circle"
         },
         "mode": "markers",
         "name": "fast",
         "scene": "scene",
         "showlegend": true,
         "type": "scatter3d",
         "x": [
          0.301424115896225
         ],
         "y": [
          0.13067947328090668
         ],
         "z": [
          0.019791552796959877
         ]
        },
        {
         "hovertemplate": "color=must<br>0=%{x}<br>1=%{y}<br>2=%{z}<extra></extra>",
         "legendgroup": "must",
         "marker": {
          "color": "#FF6692",
          "symbol": "circle"
         },
         "mode": "markers",
         "name": "must",
         "scene": "scene",
         "showlegend": true,
         "type": "scatter3d",
         "x": [
          0.21192853152751923
         ],
         "y": [
          0.1655954122543335
         ],
         "z": [
          -0.1243307814002037
         ]
        },
        {
         "hovertemplate": "color=issue<br>0=%{x}<br>1=%{y}<br>2=%{z}<extra></extra>",
         "legendgroup": "issue",
         "marker": {
          "color": "#B6E880",
          "symbol": "circle"
         },
         "mode": "markers",
         "name": "issue",
         "scene": "scene",
         "showlegend": true,
         "type": "scatter3d",
         "x": [
          0.43523380160331726
         ],
         "y": [
          0.11022672802209854
         ],
         "z": [
          -0.03256157785654068
         ]
        },
        {
         "hovertemplate": "color=pump<br>0=%{x}<br>1=%{y}<br>2=%{z}<extra></extra>",
         "legendgroup": "pump",
         "marker": {
          "color": "#FF97FF",
          "symbol": "circle"
         },
         "mode": "markers",
         "name": "pump",
         "scene": "scene",
         "showlegend": true,
         "type": "scatter3d",
         "x": [
          0.43344196677207947
         ],
         "y": [
          -0.001680750516243279
         ],
         "z": [
          -0.01718127727508545
         ]
        },
        {
         "hovertemplate": "color=seat<br>0=%{x}<br>1=%{y}<br>2=%{z}<extra></extra>",
         "legendgroup": "seat",
         "marker": {
          "color": "#FECB52",
          "symbol": "circle"
         },
         "mode": "markers",
         "name": "seat",
         "scene": "scene",
         "showlegend": true,
         "type": "scatter3d",
         "x": [
          0.4976021945476532
         ],
         "y": [
          0.1682160198688507
         ],
         "z": [
          0.01486431434750557
         ]
        },
        {
         "hovertemplate": "color=minutes<br>0=%{x}<br>1=%{y}<br>2=%{z}<extra></extra>",
         "legendgroup": "minutes",
         "marker": {
          "color": "#636efa",
          "symbol": "circle"
         },
         "mode": "markers",
         "name": "minutes",
         "scene": "scene",
         "showlegend": true,
         "type": "scatter3d",
         "x": [
          0.4348730146884918
         ],
         "y": [
          -0.06726482510566711
         ],
         "z": [
          0.13326402008533478
         ]
        },
        {
         "hovertemplate": "color=easier<br>0=%{x}<br>1=%{y}<br>2=%{z}<extra></extra>",
         "legendgroup": "easier",
         "marker": {
          "color": "#EF553B",
          "symbol": "circle"
         },
         "mode": "markers",
         "name": "easier",
         "scene": "scene",
         "showlegend": true,
         "type": "scatter3d",
         "x": [
          0.414180189371109
         ],
         "y": [
          0.18999163806438446
         ],
         "z": [
          0.07212082296609879
         ]
        },
        {
         "hovertemplate": "color=built<br>0=%{x}<br>1=%{y}<br>2=%{z}<extra></extra>",
         "legendgroup": "built",
         "marker": {
          "color": "#00cc96",
          "symbol": "circle"
         },
         "mode": "markers",
         "name": "built",
         "scene": "scene",
         "showlegend": true,
         "type": "scatter3d",
         "x": [
          0.32549577951431274
         ],
         "y": [
          0.24247492849826813
         ],
         "z": [
          -0.06834190338850021
         ]
        },
        {
         "hovertemplate": "color=longer<br>0=%{x}<br>1=%{y}<br>2=%{z}<extra></extra>",
         "legendgroup": "longer",
         "marker": {
          "color": "#ab63fa",
          "symbol": "circle"
         },
         "mode": "markers",
         "name": "longer",
         "scene": "scene",
         "showlegend": true,
         "type": "scatter3d",
         "x": [
          0.4802019000053406
         ],
         "y": [
          0.12088797986507416
         ],
         "z": [
          0.01107174064964056
         ]
        },
        {
         "hovertemplate": "color=home<br>0=%{x}<br>1=%{y}<br>2=%{z}<extra></extra>",
         "legendgroup": "home",
         "marker": {
          "color": "#FFA15A",
          "symbol": "circle"
         },
         "mode": "markers",
         "name": "home",
         "scene": "scene",
         "showlegend": true,
         "type": "scatter3d",
         "x": [
          0.3758222460746765
         ],
         "y": [
          -0.25510159134864807
         ],
         "z": [
          -0.04453355446457863
         ]
        },
        {
         "hovertemplate": "color=nothing<br>0=%{x}<br>1=%{y}<br>2=%{z}<extra></extra>",
         "legendgroup": "nothing",
         "marker": {
          "color": "#19d3f3",
          "symbol": "circle"
         },
         "mode": "markers",
         "name": "nothing",
         "scene": "scene",
         "showlegend": true,
         "type": "scatter3d",
         "x": [
          0.32112470269203186
         ],
         "y": [
          0.07268853485584259
         ],
         "z": [
          0.03718798607587814
         ]
        },
        {
         "hovertemplate": "color=others<br>0=%{x}<br>1=%{y}<br>2=%{z}<extra></extra>",
         "legendgroup": "others",
         "marker": {
          "color": "#FF6692",
          "symbol": "circle"
         },
         "mode": "markers",
         "name": "others",
         "scene": "scene",
         "showlegend": true,
         "type": "scatter3d",
         "x": [
          0.37688708305358887
         ],
         "y": [
          -0.007849173620343208
         ],
         "z": [
          -0.1464744657278061
         ]
        },
        {
         "hovertemplate": "color=quickly<br>0=%{x}<br>1=%{y}<br>2=%{z}<extra></extra>",
         "legendgroup": "quickly",
         "marker": {
          "color": "#B6E880",
          "symbol": "circle"
         },
         "mode": "markers",
         "name": "quickly",
         "scene": "scene",
         "showlegend": true,
         "type": "scatter3d",
         "x": [
          0.36344486474990845
         ],
         "y": [
          0.13026195764541626
         ],
         "z": [
          0.17469221353530884
         ]
        },
        {
         "hovertemplate": "color=problems<br>0=%{x}<br>1=%{y}<br>2=%{z}<extra></extra>",
         "legendgroup": "problems",
         "marker": {
          "color": "#FF97FF",
          "symbol": "circle"
         },
         "mode": "markers",
         "name": "problems",
         "scene": "scene",
         "showlegend": true,
         "type": "scatter3d",
         "x": [
          0.3842056095600128
         ],
         "y": [
          0.07836645841598511
         ],
         "z": [
          0.01063503883779049
         ]
        },
        {
         "hovertemplate": "color=short<br>0=%{x}<br>1=%{y}<br>2=%{z}<extra></extra>",
         "legendgroup": "short",
         "marker": {
          "color": "#FECB52",
          "symbol": "circle"
         },
         "mode": "markers",
         "name": "short",
         "scene": "scene",
         "showlegend": true,
         "type": "scatter3d",
         "x": [
          0.4113437235355377
         ],
         "y": [
          0.19868774712085724
         ],
         "z": [
          0.0006813990185037255
         ]
        },
        {
         "hovertemplate": "color=why<br>0=%{x}<br>1=%{y}<br>2=%{z}<extra></extra>",
         "legendgroup": "why",
         "marker": {
          "color": "#636efa",
          "symbol": "circle"
         },
         "mode": "markers",
         "name": "why",
         "scene": "scene",
         "showlegend": true,
         "type": "scatter3d",
         "x": [
          0.33528202772140503
         ],
         "y": [
          0.0638602152466774
         ],
         "z": [
          -0.2005164474248886
         ]
        },
        {
         "hovertemplate": "color=target<br>0=%{x}<br>1=%{y}<br>2=%{z}<extra></extra>",
         "legendgroup": "target",
         "marker": {
          "color": "#EF553B",
          "symbol": "circle"
         },
         "mode": "markers",
         "name": "target",
         "scene": "scene",
         "showlegend": true,
         "type": "scatter3d",
         "x": [
          0.419220507144928
         ],
         "y": [
          0.015201355330646038
         ],
         "z": [
          -0.008383520878851414
         ]
        },
        {
         "hovertemplate": "color=haven<br>0=%{x}<br>1=%{y}<br>2=%{z}<extra></extra>",
         "legendgroup": "haven",
         "marker": {
          "color": "#00cc96",
          "symbol": "circle"
         },
         "mode": "markers",
         "name": "haven",
         "scene": "scene",
         "showlegend": true,
         "type": "scatter3d",
         "x": [
          0.28596171736717224
         ],
         "y": [
          0.08787485212087631
         ],
         "z": [
          0.08788889646530151
         ]
        },
        {
         "hovertemplate": "color=close<br>0=%{x}<br>1=%{y}<br>2=%{z}<extra></extra>",
         "legendgroup": "close",
         "marker": {
          "color": "#ab63fa",
          "symbol": "circle"
         },
         "mode": "markers",
         "name": "close",
         "scene": "scene",
         "showlegend": true,
         "type": "scatter3d",
         "x": [
          0.46634024381637573
         ],
         "y": [
          0.2771884500980377
         ],
         "z": [
          0.13944366574287415
         ]
        },
        {
         "hovertemplate": "color=ones<br>0=%{x}<br>1=%{y}<br>2=%{z}<extra></extra>",
         "legendgroup": "ones",
         "marker": {
          "color": "#FFA15A",
          "symbol": "circle"
         },
         "mode": "markers",
         "name": "ones",
         "scene": "scene",
         "showlegend": true,
         "type": "scatter3d",
         "x": [
          0.40321508049964905
         ],
         "y": [
          -0.04792812094092369
         ],
         "z": [
          -0.09519417583942413
         ]
        },
        {
         "hovertemplate": "color=deal<br>0=%{x}<br>1=%{y}<br>2=%{z}<extra></extra>",
         "legendgroup": "deal",
         "marker": {
          "color": "#19d3f3",
          "symbol": "circle"
         },
         "mode": "markers",
         "name": "deal",
         "scene": "scene",
         "showlegend": true,
         "type": "scatter3d",
         "x": [
          0.35999706387519836
         ],
         "y": [
          0.04870622977614403
         ],
         "z": [
          -0.06283979117870331
         ]
        },
        {
         "hovertemplate": "color=expensive<br>0=%{x}<br>1=%{y}<br>2=%{z}<extra></extra>",
         "legendgroup": "expensive",
         "marker": {
          "color": "#FF6692",
          "symbol": "circle"
         },
         "mode": "markers",
         "name": "expensive",
         "scene": "scene",
         "showlegend": true,
         "type": "scatter3d",
         "x": [
          0.2637540102005005
         ],
         "y": [
          0.08411630243062973
         ],
         "z": [
          -0.22448550164699554
         ]
        },
        {
         "hovertemplate": "color=help<br>0=%{x}<br>1=%{y}<br>2=%{z}<extra></extra>",
         "legendgroup": "help",
         "marker": {
          "color": "#B6E880",
          "symbol": "circle"
         },
         "mode": "markers",
         "name": "help",
         "scene": "scene",
         "showlegend": true,
         "type": "scatter3d",
         "x": [
          0.3801085352897644
         ],
         "y": [
          0.00789023470133543
         ],
         "z": [
          0.22880570590496063
         ]
        },
        {
         "hovertemplate": "color=cleaning<br>0=%{x}<br>1=%{y}<br>2=%{z}<extra></extra>",
         "legendgroup": "cleaning",
         "marker": {
          "color": "#FF97FF",
          "symbol": "circle"
         },
         "mode": "markers",
         "name": "cleaning",
         "scene": "scene",
         "showlegend": true,
         "type": "scatter3d",
         "x": [
          0.34431976079940796
         ],
         "y": [
          0.08661875128746033
         ],
         "z": [
          0.11599983274936676
         ]
        },
        {
         "hovertemplate": "color=bar<br>0=%{x}<br>1=%{y}<br>2=%{z}<extra></extra>",
         "legendgroup": "bar",
         "marker": {
          "color": "#FECB52",
          "symbol": "circle"
         },
         "mode": "markers",
         "name": "bar",
         "scene": "scene",
         "showlegend": true,
         "type": "scatter3d",
         "x": [
          0.47342929244041443
         ],
         "y": [
          0.24703510105609894
         ],
         "z": [
          -0.03041473589837551
         ]
        },
        {
         "hovertemplate": "color=larger<br>0=%{x}<br>1=%{y}<br>2=%{z}<extra></extra>",
         "legendgroup": "larger",
         "marker": {
          "color": "#636efa",
          "symbol": "circle"
         },
         "mode": "markers",
         "name": "larger",
         "scene": "scene",
         "showlegend": true,
         "type": "scatter3d",
         "x": [
          0.4203278720378876
         ],
         "y": [
          0.19114570319652557
         ],
         "z": [
          -0.09073854237794876
         ]
        },
        {
         "hovertemplate": "color=pull<br>0=%{x}<br>1=%{y}<br>2=%{z}<extra></extra>",
         "legendgroup": "pull",
         "marker": {
          "color": "#EF553B",
          "symbol": "circle"
         },
         "mode": "markers",
         "name": "pull",
         "scene": "scene",
         "showlegend": true,
         "type": "scatter3d",
         "x": [
          0.5970274209976196
         ],
         "y": [
          0.22676365077495575
         ],
         "z": [
          0.3282294273376465
         ]
        },
        {
         "hovertemplate": "color=night<br>0=%{x}<br>1=%{y}<br>2=%{z}<extra></extra>",
         "legendgroup": "night",
         "marker": {
          "color": "#00cc96",
          "symbol": "circle"
         },
         "mode": "markers",
         "name": "night",
         "scene": "scene",
         "showlegend": true,
         "type": "scatter3d",
         "x": [
          0.35834670066833496
         ],
         "y": [
          -0.2590588629245758
         ],
         "z": [
          0.042684704065322876
         ]
        },
        {
         "hovertemplate": "color=went<br>0=%{x}<br>1=%{y}<br>2=%{z}<extra></extra>",
         "legendgroup": "went",
         "marker": {
          "color": "#ab63fa",
          "symbol": "circle"
         },
         "mode": "markers",
         "name": "went",
         "scene": "scene",
         "showlegend": true,
         "type": "scatter3d",
         "x": [
          0.18655380606651306
         ],
         "y": [
          0.03208130598068237
         ],
         "z": [
          0.01762053184211254
         ]
        },
        {
         "hovertemplate": "color=maybe<br>0=%{x}<br>1=%{y}<br>2=%{z}<extra></extra>",
         "legendgroup": "maybe",
         "marker": {
          "color": "#FFA15A",
          "symbol": "circle"
         },
         "mode": "markers",
         "name": "maybe",
         "scene": "scene",
         "showlegend": true,
         "type": "scatter3d",
         "x": [
          0.4067506194114685
         ],
         "y": [
          0.049640804529190063
         ],
         "z": [
          0.09903480112552643
         ]
        },
        {
         "hovertemplate": "color=wish<br>0=%{x}<br>1=%{y}<br>2=%{z}<extra></extra>",
         "legendgroup": "wish",
         "marker": {
          "color": "#19d3f3",
          "symbol": "circle"
         },
         "mode": "markers",
         "name": "wish",
         "scene": "scene",
         "showlegend": true,
         "type": "scatter3d",
         "x": [
          0.38936272263526917
         ],
         "y": [
          0.2360420823097229
         ],
         "z": [
          -0.050229500979185104
         ]
        },
        {
         "hovertemplate": "color=left<br>0=%{x}<br>1=%{y}<br>2=%{z}<extra></extra>",
         "legendgroup": "left",
         "marker": {
          "color": "#FF6692",
          "symbol": "circle"
         },
         "mode": "markers",
         "name": "left",
         "scene": "scene",
         "showlegend": true,
         "type": "scatter3d",
         "x": [
          0.4461345672607422
         ],
         "y": [
          0.11011464148759842
         ],
         "z": [
          0.2362099587917328
         ]
        },
        {
         "hovertemplate": "color=second<br>0=%{x}<br>1=%{y}<br>2=%{z}<extra></extra>",
         "legendgroup": "second",
         "marker": {
          "color": "#B6E880",
          "symbol": "circle"
         },
         "mode": "markers",
         "name": "second",
         "scene": "scene",
         "showlegend": true,
         "type": "scatter3d",
         "x": [
          0.35320737957954407
         ],
         "y": [
          0.13548697531223297
         ],
         "z": [
          -0.14808909595012665
         ]
        },
        {
         "hovertemplate": "color=rubber<br>0=%{x}<br>1=%{y}<br>2=%{z}<extra></extra>",
         "legendgroup": "rubber",
         "marker": {
          "color": "#FF97FF",
          "symbol": "circle"
         },
         "mode": "markers",
         "name": "rubber",
         "scene": "scene",
         "showlegend": true,
         "type": "scatter3d",
         "x": [
          0.4657832384109497
         ],
         "y": [
          0.3534507751464844
         ],
         "z": [
          0.2971738874912262
         ]
        },
        {
         "hovertemplate": "color=rack<br>0=%{x}<br>1=%{y}<br>2=%{z}<extra></extra>",
         "legendgroup": "rack",
         "marker": {
          "color": "#FECB52",
          "symbol": "circle"
         },
         "mode": "markers",
         "name": "rack",
         "scene": "scene",
         "showlegend": true,
         "type": "scatter3d",
         "x": [
          0.45097488164901733
         ],
         "y": [
          0.19238314032554626
         ],
         "z": [
          -0.12431606650352478
         ]
        },
        {
         "hovertemplate": "color=cool<br>0=%{x}<br>1=%{y}<br>2=%{z}<extra></extra>",
         "legendgroup": "cool",
         "marker": {
          "color": "#636efa",
          "symbol": "circle"
         },
         "mode": "markers",
         "name": "cool",
         "scene": "scene",
         "showlegend": true,
         "type": "scatter3d",
         "x": [
          0.3252849876880646
         ],
         "y": [
          0.06538022309541702
         ],
         "z": [
          0.08310462534427643
         ]
        },
        {
         "hovertemplate": "color=break<br>0=%{x}<br>1=%{y}<br>2=%{z}<extra></extra>",
         "legendgroup": "break",
         "marker": {
          "color": "#EF553B",
          "symbol": "circle"
         },
         "mode": "markers",
         "name": "break",
         "scene": "scene",
         "showlegend": true,
         "type": "scatter3d",
         "x": [
          0.5290719866752625
         ],
         "y": [
          0.12945784628391266
         ],
         "z": [
          0.29500165581703186
         ]
        },
        {
         "hovertemplate": "color=order<br>0=%{x}<br>1=%{y}<br>2=%{z}<extra></extra>",
         "legendgroup": "order",
         "marker": {
          "color": "#00cc96",
          "symbol": "circle"
         },
         "mode": "markers",
         "name": "order",
         "scene": "scene",
         "showlegend": true,
         "type": "scatter3d",
         "x": [
          0.3946366012096405
         ],
         "y": [
          0.06256869435310364
         ],
         "z": [
          -0.1555815488100052
         ]
        },
        {
         "hovertemplate": "color=buying<br>0=%{x}<br>1=%{y}<br>2=%{z}<extra></extra>",
         "legendgroup": "buying",
         "marker": {
          "color": "#ab63fa",
          "symbol": "circle"
         },
         "mode": "markers",
         "name": "buying",
         "scene": "scene",
         "showlegend": true,
         "type": "scatter3d",
         "x": [
          0.30770671367645264
         ],
         "y": [
          0.0005433930782601237
         ],
         "z": [
          -0.1797109991312027
         ]
        },
        {
         "hovertemplate": "color=super<br>0=%{x}<br>1=%{y}<br>2=%{z}<extra></extra>",
         "legendgroup": "super",
         "marker": {
          "color": "#FFA15A",
          "symbol": "circle"
         },
         "mode": "markers",
         "name": "super",
         "scene": "scene",
         "showlegend": true,
         "type": "scatter3d",
         "x": [
          0.31663283705711365
         ],
         "y": [
          0.25396275520324707
         ],
         "z": [
          0.08173158764839172
         ]
        },
        {
         "hovertemplate": "color=rounds<br>0=%{x}<br>1=%{y}<br>2=%{z}<extra></extra>",
         "legendgroup": "rounds",
         "marker": {
          "color": "#19d3f3",
          "symbol": "circle"
         },
         "mode": "markers",
         "name": "rounds",
         "scene": "scene",
         "showlegend": true,
         "type": "scatter3d",
         "x": [
          0.46234792470932007
         ],
         "y": [
          0.1368934065103531
         ],
         "z": [
          0.009274700656533241
         ]
        },
        {
         "hovertemplate": "color=ball<br>0=%{x}<br>1=%{y}<br>2=%{z}<extra></extra>",
         "legendgroup": "ball",
         "marker": {
          "color": "#FF6692",
          "symbol": "circle"
         },
         "mode": "markers",
         "name": "ball",
         "scene": "scene",
         "showlegend": true,
         "type": "scatter3d",
         "x": [
          0.4717162549495697
         ],
         "y": [
          -0.1602795422077179
         ],
         "z": [
          0.1536228209733963
         ]
        },
        {
         "hovertemplate": "color=cost<br>0=%{x}<br>1=%{y}<br>2=%{z}<extra></extra>",
         "legendgroup": "cost",
         "marker": {
          "color": "#B6E880",
          "symbol": "circle"
         },
         "mode": "markers",
         "name": "cost",
         "scene": "scene",
         "showlegend": true,
         "type": "scatter3d",
         "x": [
          0.2639736831188202
         ],
         "y": [
          0.09695315361022949
         ],
         "z": [
          -0.2410455048084259
         ]
        },
        {
         "hovertemplate": "color=type<br>0=%{x}<br>1=%{y}<br>2=%{z}<extra></extra>",
         "legendgroup": "type",
         "marker": {
          "color": "#FF97FF",
          "symbol": "circle"
         },
         "mode": "markers",
         "name": "type",
         "scene": "scene",
         "showlegend": true,
         "type": "scatter3d",
         "x": [
          0.2583947479724884
         ],
         "y": [
          0.18344411253929138
         ],
         "z": [
          -0.13714882731437683
         ]
        },
        {
         "hovertemplate": "color=read<br>0=%{x}<br>1=%{y}<br>2=%{z}<extra></extra>",
         "legendgroup": "read",
         "marker": {
          "color": "#FECB52",
          "symbol": "circle"
         },
         "mode": "markers",
         "name": "read",
         "scene": "scene",
         "showlegend": true,
         "type": "scatter3d",
         "x": [
          0.3042911887168884
         ],
         "y": [
          0.028623776510357857
         ],
         "z": [
          -0.05087153613567352
         ]
        },
        {
         "hovertemplate": "color=fire<br>0=%{x}<br>1=%{y}<br>2=%{z}<extra></extra>",
         "legendgroup": "fire",
         "marker": {
          "color": "#636efa",
          "symbol": "circle"
         },
         "mode": "markers",
         "name": "fire",
         "scene": "scene",
         "showlegend": true,
         "type": "scatter3d",
         "x": [
          0.4155864417552948
         ],
         "y": [
          -0.09320313483476639
         ],
         "z": [
          0.14658580720424652
         ]
        },
        {
         "hovertemplate": "color=between<br>0=%{x}<br>1=%{y}<br>2=%{z}<extra></extra>",
         "legendgroup": "between",
         "marker": {
          "color": "#EF553B",
          "symbol": "circle"
         },
         "mode": "markers",
         "name": "between",
         "scene": "scene",
         "showlegend": true,
         "type": "scatter3d",
         "x": [
          0.24589332938194275
         ],
         "y": [
          0.299420028924942
         ],
         "z": [
          0.11505984514951706
         ]
        },
        {
         "hovertemplate": "color=products<br>0=%{x}<br>1=%{y}<br>2=%{z}<extra></extra>",
         "legendgroup": "products",
         "marker": {
          "color": "#00cc96",
          "symbol": "circle"
         },
         "mode": "markers",
         "name": "products",
         "scene": "scene",
         "showlegend": true,
         "type": "scatter3d",
         "x": [
          0.20814622938632965
         ],
         "y": [
          -0.14092983305454254
         ],
         "z": [
          -0.31663551926612854
         ]
        },
        {
         "hovertemplate": "color=such<br>0=%{x}<br>1=%{y}<br>2=%{z}<extra></extra>",
         "legendgroup": "such",
         "marker": {
          "color": "#ab63fa",
          "symbol": "circle"
         },
         "mode": "markers",
         "name": "such",
         "scene": "scene",
         "showlegend": true,
         "type": "scatter3d",
         "x": [
          0.20046618580818176
         ],
         "y": [
          0.047040458768606186
         ],
         "z": [
          -0.07525377720594406
         ]
        },
        {
         "hovertemplate": "color=done<br>0=%{x}<br>1=%{y}<br>2=%{z}<extra></extra>",
         "legendgroup": "done",
         "marker": {
          "color": "#FFA15A",
          "symbol": "circle"
         },
         "mode": "markers",
         "name": "done",
         "scene": "scene",
         "showlegend": true,
         "type": "scatter3d",
         "x": [
          0.3639576733112335
         ],
         "y": [
          0.08417947590351105
         ],
         "z": [
          0.07241121679544449
         ]
        },
        {
         "hovertemplate": "color=batteries<br>0=%{x}<br>1=%{y}<br>2=%{z}<extra></extra>",
         "legendgroup": "batteries",
         "marker": {
          "color": "#19d3f3",
          "symbol": "circle"
         },
         "mode": "markers",
         "name": "batteries",
         "scene": "scene",
         "showlegend": true,
         "type": "scatter3d",
         "x": [
          0.4573960304260254
         ],
         "y": [
          -0.04101141542196274
         ],
         "z": [
          -0.10278579592704773
         ]
        },
        {
         "hovertemplate": "color=line<br>0=%{x}<br>1=%{y}<br>2=%{z}<extra></extra>",
         "legendgroup": "line",
         "marker": {
          "color": "#FF6692",
          "symbol": "circle"
         },
         "mode": "markers",
         "name": "line",
         "scene": "scene",
         "showlegend": true,
         "type": "scatter3d",
         "x": [
          0.36397165060043335
         ],
         "y": [
          0.11868021637201309
         ],
         "z": [
          -0.03435394540429115
         ]
        },
        {
         "hovertemplate": "color=screw<br>0=%{x}<br>1=%{y}<br>2=%{z}<extra></extra>",
         "legendgroup": "screw",
         "marker": {
          "color": "#B6E880",
          "symbol": "circle"
         },
         "mode": "markers",
         "name": "screw",
         "scene": "scene",
         "showlegend": true,
         "type": "scatter3d",
         "x": [
          0.5654545426368713
         ],
         "y": [
          0.42613354325294495
         ],
         "z": [
          0.07588402926921844
         ]
        },
        {
         "hovertemplate": "color=needs<br>0=%{x}<br>1=%{y}<br>2=%{z}<extra></extra>",
         "legendgroup": "needs",
         "marker": {
          "color": "#FF97FF",
          "symbol": "circle"
         },
         "mode": "markers",
         "name": "needs",
         "scene": "scene",
         "showlegend": true,
         "type": "scatter3d",
         "x": [
          0.2957545816898346
         ],
         "y": [
          0.15180201828479767
         ],
         "z": [
          -0.048420630395412445
         ]
        },
        {
         "hovertemplate": "color=gear<br>0=%{x}<br>1=%{y}<br>2=%{z}<extra></extra>",
         "legendgroup": "gear",
         "marker": {
          "color": "#FECB52",
          "symbol": "circle"
         },
         "mode": "markers",
         "name": "gear",
         "scene": "scene",
         "showlegend": true,
         "type": "scatter3d",
         "x": [
          0.2942230999469757
         ],
         "y": [
          -0.14468945562839508
         ],
         "z": [
          -0.07797548174858093
         ]
        },
        {
         "hovertemplate": "color=awesome<br>0=%{x}<br>1=%{y}<br>2=%{z}<extra></extra>",
         "legendgroup": "awesome",
         "marker": {
          "color": "#636efa",
          "symbol": "circle"
         },
         "mode": "markers",
         "name": "awesome",
         "scene": "scene",
         "showlegend": true,
         "type": "scatter3d",
         "x": [
          0.21568475663661957
         ],
         "y": [
          0.30172353982925415
         ],
         "z": [
          -0.18708132207393646
         ]
        },
        {
         "hovertemplate": "color=together<br>0=%{x}<br>1=%{y}<br>2=%{z}<extra></extra>",
         "legendgroup": "together",
         "marker": {
          "color": "#EF553B",
          "symbol": "circle"
         },
         "mode": "markers",
         "name": "together",
         "scene": "scene",
         "showlegend": true,
         "type": "scatter3d",
         "x": [
          0.3853553533554077
         ],
         "y": [
          0.23952831327915192
         ],
         "z": [
          0.12385846674442291
         ]
        },
        {
         "hovertemplate": "color=rear<br>0=%{x}<br>1=%{y}<br>2=%{z}<extra></extra>",
         "legendgroup": "rear",
         "marker": {
          "color": "#00cc96",
          "symbol": "circle"
         },
         "mode": "markers",
         "name": "rear",
         "scene": "scene",
         "showlegend": true,
         "type": "scatter3d",
         "x": [
          0.46809250116348267
         ],
         "y": [
          0.4001915454864502
         ],
         "z": [
          -0.05499648302793503
         ]
        },
        {
         "hovertemplate": "color=store<br>0=%{x}<br>1=%{y}<br>2=%{z}<extra></extra>",
         "legendgroup": "store",
         "marker": {
          "color": "#ab63fa",
          "symbol": "circle"
         },
         "mode": "markers",
         "name": "store",
         "scene": "scene",
         "showlegend": true,
         "type": "scatter3d",
         "x": [
          0.3566562235355377
         ],
         "y": [
          -0.028801949694752693
         ],
         "z": [
          0.015940437093377113
         ]
        },
        {
         "hovertemplate": "color=add<br>0=%{x}<br>1=%{y}<br>2=%{z}<extra></extra>",
         "legendgroup": "add",
         "marker": {
          "color": "#FFA15A",
          "symbol": "circle"
         },
         "mode": "markers",
         "name": "add",
         "scene": "scene",
         "showlegend": true,
         "type": "scatter3d",
         "x": [
          0.34746795892715454
         ],
         "y": [
          0.20203857123851776
         ],
         "z": [
          0.016980882734060287
         ]
        },
        {
         "hovertemplate": "color=least<br>0=%{x}<br>1=%{y}<br>2=%{z}<extra></extra>",
         "legendgroup": "least",
         "marker": {
          "color": "#19d3f3",
          "symbol": "circle"
         },
         "mode": "markers",
         "name": "least",
         "scene": "scene",
         "showlegend": true,
         "type": "scatter3d",
         "x": [
          0.368885338306427
         ],
         "y": [
          -0.0023552386555820704
         ],
         "z": [
          -0.028086699545383453
         ]
        },
        {
         "hovertemplate": "color=especially<br>0=%{x}<br>1=%{y}<br>2=%{z}<extra></extra>",
         "legendgroup": "especially",
         "marker": {
          "color": "#FF6692",
          "symbol": "circle"
         },
         "mode": "markers",
         "name": "especially",
         "scene": "scene",
         "showlegend": true,
         "type": "scatter3d",
         "x": [
          0.3154645264148712
         ],
         "y": [
          0.02822316437959671
         ],
         "z": [
          0.083036407828331
         ]
        },
        {
         "hovertemplate": "color=during<br>0=%{x}<br>1=%{y}<br>2=%{z}<extra></extra>",
         "legendgroup": "during",
         "marker": {
          "color": "#B6E880",
          "symbol": "circle"
         },
         "mode": "markers",
         "name": "during",
         "scene": "scene",
         "showlegend": true,
         "type": "scatter3d",
         "x": [
          0.2656051516532898
         ],
         "y": [
          -0.09301029145717621
         ],
         "z": [
          0.2317640483379364
         ]
        },
        {
         "hovertemplate": "color=unit<br>0=%{x}<br>1=%{y}<br>2=%{z}<extra></extra>",
         "legendgroup": "unit",
         "marker": {
          "color": "#FF97FF",
          "symbol": "circle"
         },
         "mode": "markers",
         "name": "unit",
         "scene": "scene",
         "showlegend": true,
         "type": "scatter3d",
         "x": [
          0.44180330634117126
         ],
         "y": [
          0.04838676005601883
         ],
         "z": [
          -0.1818048506975174
         ]
        },
        {
         "hovertemplate": "color=exactly<br>0=%{x}<br>1=%{y}<br>2=%{z}<extra></extra>",
         "legendgroup": "exactly",
         "marker": {
          "color": "#FECB52",
          "symbol": "circle"
         },
         "mode": "markers",
         "name": "exactly",
         "scene": "scene",
         "showlegend": true,
         "type": "scatter3d",
         "x": [
          0.34397605061531067
         ],
         "y": [
          0.23607155680656433
         ],
         "z": [
          -0.1588202863931656
         ]
        },
        {
         "hovertemplate": "color=instead<br>0=%{x}<br>1=%{y}<br>2=%{z}<extra></extra>",
         "legendgroup": "instead",
         "marker": {
          "color": "#636efa",
          "symbol": "circle"
         },
         "mode": "markers",
         "name": "instead",
         "scene": "scene",
         "showlegend": true,
         "type": "scatter3d",
         "x": [
          0.2805417776107788
         ],
         "y": [
          0.1825558841228485
         ],
         "z": [
          -0.05504686385393143
         ]
        },
        {
         "hovertemplate": "color=secure<br>0=%{x}<br>1=%{y}<br>2=%{z}<extra></extra>",
         "legendgroup": "secure",
         "marker": {
          "color": "#EF553B",
          "symbol": "circle"
         },
         "mode": "markers",
         "name": "secure",
         "scene": "scene",
         "showlegend": true,
         "type": "scatter3d",
         "x": [
          0.48247814178466797
         ],
         "y": [
          0.48561403155326843
         ],
         "z": [
          0.14438588917255402
         ]
        },
        {
         "hovertemplate": "color=thick<br>0=%{x}<br>1=%{y}<br>2=%{z}<extra></extra>",
         "legendgroup": "thick",
         "marker": {
          "color": "#00cc96",
          "symbol": "circle"
         },
         "mode": "markers",
         "name": "thick",
         "scene": "scene",
         "showlegend": true,
         "type": "scatter3d",
         "x": [
          0.3851386308670044
         ],
         "y": [
          0.27129748463630676
         ],
         "z": [
          0.2201129049062729
         ]
        },
        {
         "hovertemplate": "color=rail<br>0=%{x}<br>1=%{y}<br>2=%{z}<extra></extra>",
         "legendgroup": "rail",
         "marker": {
          "color": "#ab63fa",
          "symbol": "circle"
         },
         "mode": "markers",
         "name": "rail",
         "scene": "scene",
         "showlegend": true,
         "type": "scatter3d",
         "x": [
          0.46097254753112793
         ],
         "y": [
          0.48807790875434875
         ],
         "z": [
          -0.17549878358840942
         ]
        },
        {
         "hovertemplate": "color=tube<br>0=%{x}<br>1=%{y}<br>2=%{z}<extra></extra>",
         "legendgroup": "tube",
         "marker": {
          "color": "#FFA15A",
          "symbol": "circle"
         },
         "mode": "markers",
         "name": "tube",
         "scene": "scene",
         "showlegend": true,
         "type": "scatter3d",
         "x": [
          0.4881103038787842
         ],
         "y": [
          0.21596945822238922
         ],
         "z": [
          0.12371087819337845
         ]
        },
        {
         "hovertemplate": "color=let<br>0=%{x}<br>1=%{y}<br>2=%{z}<extra></extra>",
         "legendgroup": "let",
         "marker": {
          "color": "#19d3f3",
          "symbol": "circle"
         },
         "mode": "markers",
         "name": "let",
         "scene": "scene",
         "showlegend": true,
         "type": "scatter3d",
         "x": [
          0.30056121945381165
         ],
         "y": [
          8.798574708634987e-05
         ],
         "z": [
          0.16072531044483185
         ]
        },
        {
         "hovertemplate": "color=car<br>0=%{x}<br>1=%{y}<br>2=%{z}<extra></extra>",
         "legendgroup": "car",
         "marker": {
          "color": "#FF6692",
          "symbol": "circle"
         },
         "mode": "markers",
         "name": "car",
         "scene": "scene",
         "showlegend": true,
         "type": "scatter3d",
         "x": [
          0.40905165672302246
         ],
         "y": [
          -0.2574295997619629
         ],
         "z": [
          0.12996481359004974
         ]
        },
        {
         "hovertemplate": "color=pouch<br>0=%{x}<br>1=%{y}<br>2=%{z}<extra></extra>",
         "legendgroup": "pouch",
         "marker": {
          "color": "#B6E880",
          "symbol": "circle"
         },
         "mode": "markers",
         "name": "pouch",
         "scene": "scene",
         "showlegend": true,
         "type": "scatter3d",
         "x": [
          0.4267452359199524
         ],
         "y": [
          0.19172675907611847
         ],
         "z": [
          -0.07079432904720306
         ]
        },
        {
         "hovertemplate": "color=expected<br>0=%{x}<br>1=%{y}<br>2=%{z}<extra></extra>",
         "legendgroup": "expected",
         "marker": {
          "color": "#FF97FF",
          "symbol": "circle"
         },
         "mode": "markers",
         "name": "expected",
         "scene": "scene",
         "showlegend": true,
         "type": "scatter3d",
         "x": [
          0.3410039246082306
         ],
         "y": [
          0.20174023509025574
         ],
         "z": [
          -0.04985803738236427
         ]
        },
        {
         "hovertemplate": "color=color<br>0=%{x}<br>1=%{y}<br>2=%{z}<extra></extra>",
         "legendgroup": "color",
         "marker": {
          "color": "#FECB52",
          "symbol": "circle"
         },
         "mode": "markers",
         "name": "color",
         "scene": "scene",
         "showlegend": true,
         "type": "scatter3d",
         "x": [
          0.3635445833206177
         ],
         "y": [
          -0.03034432791173458
         ],
         "z": [
          -0.08801288902759552
         ]
        },
        {
         "hovertemplate": "color=road<br>0=%{x}<br>1=%{y}<br>2=%{z}<extra></extra>",
         "legendgroup": "road",
         "marker": {
          "color": "#636efa",
          "symbol": "circle"
         },
         "mode": "markers",
         "name": "road",
         "scene": "scene",
         "showlegend": true,
         "type": "scatter3d",
         "x": [
          0.3695012629032135
         ],
         "y": [
          -0.15031103789806366
         ],
         "z": [
          0.04905256628990173
         ]
        },
        {
         "hovertemplate": "color=gloves<br>0=%{x}<br>1=%{y}<br>2=%{z}<extra></extra>",
         "legendgroup": "gloves",
         "marker": {
          "color": "#EF553B",
          "symbol": "circle"
         },
         "mode": "markers",
         "name": "gloves",
         "scene": "scene",
         "showlegend": true,
         "type": "scatter3d",
         "x": [
          0.3027954399585724
         ],
         "y": [
          -0.08348895609378815
         ],
         "z": [
          0.09187908470630646
         ]
        },
        {
         "hovertemplate": "color=takes<br>0=%{x}<br>1=%{y}<br>2=%{z}<extra></extra>",
         "legendgroup": "takes",
         "marker": {
          "color": "#00cc96",
          "symbol": "circle"
         },
         "mode": "markers",
         "name": "takes",
         "scene": "scene",
         "showlegend": true,
         "type": "scatter3d",
         "x": [
          0.28654545545578003
         ],
         "y": [
          0.1762925684452057
         ],
         "z": [
          0.24122613668441772
         ]
        },
        {
         "hovertemplate": "color=pair<br>0=%{x}<br>1=%{y}<br>2=%{z}<extra></extra>",
         "legendgroup": "pair",
         "marker": {
          "color": "#ab63fa",
          "symbol": "circle"
         },
         "mode": "markers",
         "name": "pair",
         "scene": "scene",
         "showlegend": true,
         "type": "scatter3d",
         "x": [
          0.2717830240726471
         ],
         "y": [
          -0.032425425946712494
         ],
         "z": [
          -0.1116396114230156
         ]
        },
        {
         "hovertemplate": "color=barrel<br>0=%{x}<br>1=%{y}<br>2=%{z}<extra></extra>",
         "legendgroup": "barrel",
         "marker": {
          "color": "#FFA15A",
          "symbol": "circle"
         },
         "mode": "markers",
         "name": "barrel",
         "scene": "scene",
         "showlegend": true,
         "type": "scatter3d",
         "x": [
          0.5040786862373352
         ],
         "y": [
          0.3676080107688904
         ],
         "z": [
          0.03192954882979393
         ]
        },
        {
         "hovertemplate": "color=doing<br>0=%{x}<br>1=%{y}<br>2=%{z}<extra></extra>",
         "legendgroup": "doing",
         "marker": {
          "color": "#19d3f3",
          "symbol": "circle"
         },
         "mode": "markers",
         "name": "doing",
         "scene": "scene",
         "showlegend": true,
         "type": "scatter3d",
         "x": [
          0.35745617747306824
         ],
         "y": [
          -0.12102118134498596
         ],
         "z": [
          0.12986551225185394
         ]
        },
        {
         "hovertemplate": "color=issues<br>0=%{x}<br>1=%{y}<br>2=%{z}<extra></extra>",
         "legendgroup": "issues",
         "marker": {
          "color": "#FF6692",
          "symbol": "circle"
         },
         "mode": "markers",
         "name": "issues",
         "scene": "scene",
         "showlegend": true,
         "type": "scatter3d",
         "x": [
          0.3662871718406677
         ],
         "y": [
          0.09376022964715958
         ],
         "z": [
          -0.0069229514338076115
         ]
        },
        {
         "hovertemplate": "color=run<br>0=%{x}<br>1=%{y}<br>2=%{z}<extra></extra>",
         "legendgroup": "run",
         "marker": {
          "color": "#B6E880",
          "symbol": "circle"
         },
         "mode": "markers",
         "name": "run",
         "scene": "scene",
         "showlegend": true,
         "type": "scatter3d",
         "x": [
          0.4172390103340149
         ],
         "y": [
          -0.2168968915939331
         ],
         "z": [
          0.2279902696609497
         ]
        },
        {
         "hovertemplate": "color=ok<br>0=%{x}<br>1=%{y}<br>2=%{z}<extra></extra>",
         "legendgroup": "ok",
         "marker": {
          "color": "#FF97FF",
          "symbol": "circle"
         },
         "mode": "markers",
         "name": "ok",
         "scene": "scene",
         "showlegend": true,
         "type": "scatter3d",
         "x": [
          0.42087849974632263
         ],
         "y": [
          0.2347053438425064
         ],
         "z": [
          -0.03173099085688591
         ]
        },
        {
         "hovertemplate": "color=remove<br>0=%{x}<br>1=%{y}<br>2=%{z}<extra></extra>",
         "legendgroup": "remove",
         "marker": {
          "color": "#FECB52",
          "symbol": "circle"
         },
         "mode": "markers",
         "name": "remove",
         "scene": "scene",
         "showlegend": true,
         "type": "scatter3d",
         "x": [
          0.5032346248626709
         ],
         "y": [
          0.3575780391693115
         ],
         "z": [
          0.2676864266395569
         ]
        },
        {
         "hovertemplate": "color=next<br>0=%{x}<br>1=%{y}<br>2=%{z}<extra></extra>",
         "legendgroup": "next",
         "marker": {
          "color": "#636efa",
          "symbol": "circle"
         },
         "mode": "markers",
         "name": "next",
         "scene": "scene",
         "showlegend": true,
         "type": "scatter3d",
         "x": [
          0.3375619053840637
         ],
         "y": [
          -0.020452864468097687
         ],
         "z": [
          0.03609225153923035
         ]
        },
        {
         "hovertemplate": "color=plus<br>0=%{x}<br>1=%{y}<br>2=%{z}<extra></extra>",
         "legendgroup": "plus",
         "marker": {
          "color": "#EF553B",
          "symbol": "circle"
         },
         "mode": "markers",
         "name": "plus",
         "scene": "scene",
         "showlegend": true,
         "type": "scatter3d",
         "x": [
          0.308294415473938
         ],
         "y": [
          0.23363812267780304
         ],
         "z": [
          -0.07061993330717087
         ]
        },
        {
         "hovertemplate": "color=feet<br>0=%{x}<br>1=%{y}<br>2=%{z}<extra></extra>",
         "legendgroup": "feet",
         "marker": {
          "color": "#00cc96",
          "symbol": "circle"
         },
         "mode": "markers",
         "name": "feet",
         "scene": "scene",
         "showlegend": true,
         "type": "scatter3d",
         "x": [
          0.4997507929801941
         ],
         "y": [
          -0.1534956693649292
         ],
         "z": [
          0.2893511652946472
         ]
        },
        {
         "hovertemplate": "color=inch<br>0=%{x}<br>1=%{y}<br>2=%{z}<extra></extra>",
         "legendgroup": "inch",
         "marker": {
          "color": "#ab63fa",
          "symbol": "circle"
         },
         "mode": "markers",
         "name": "inch",
         "scene": "scene",
         "showlegend": true,
         "type": "scatter3d",
         "x": [
          0.40876859426498413
         ],
         "y": [
          0.3006819486618042
         ],
         "z": [
          -0.07588104903697968
         ]
        },
        {
         "hovertemplate": "color=dry<br>0=%{x}<br>1=%{y}<br>2=%{z}<extra></extra>",
         "legendgroup": "dry",
         "marker": {
          "color": "#FFA15A",
          "symbol": "circle"
         },
         "mode": "markers",
         "name": "dry",
         "scene": "scene",
         "showlegend": true,
         "type": "scatter3d",
         "x": [
          0.36289727687835693
         ],
         "y": [
          -0.16636905074119568
         ],
         "z": [
          0.4563807547092438
         ]
        },
        {
         "hovertemplate": "color=safe<br>0=%{x}<br>1=%{y}<br>2=%{z}<extra></extra>",
         "legendgroup": "safe",
         "marker": {
          "color": "#19d3f3",
          "symbol": "circle"
         },
         "mode": "markers",
         "name": "safe",
         "scene": "scene",
         "showlegend": true,
         "type": "scatter3d",
         "x": [
          0.3877366781234741
         ],
         "y": [
          -0.037015922367572784
         ],
         "z": [
          0.02517404966056347
         ]
        },
        {
         "hovertemplate": "color=mm<br>0=%{x}<br>1=%{y}<br>2=%{z}<extra></extra>",
         "legendgroup": "mm",
         "marker": {
          "color": "#FF6692",
          "symbol": "circle"
         },
         "mode": "markers",
         "name": "mm",
         "scene": "scene",
         "showlegend": true,
         "type": "scatter3d",
         "x": [
          0.33525291085243225
         ],
         "y": [
          0.41340598464012146
         ],
         "z": [
          -0.29458045959472656
         ]
        },
        {
         "hovertemplate": "color=cover<br>0=%{x}<br>1=%{y}<br>2=%{z}<extra></extra>",
         "legendgroup": "cover",
         "marker": {
          "color": "#B6E880",
          "symbol": "circle"
         },
         "mode": "markers",
         "name": "cover",
         "scene": "scene",
         "showlegend": true,
         "type": "scatter3d",
         "x": [
          0.4434540271759033
         ],
         "y": [
          0.23412559926509857
         ],
         "z": [
          0.2291303277015686
         ]
        },
        {
         "hovertemplate": "color=already<br>0=%{x}<br>1=%{y}<br>2=%{z}<extra></extra>",
         "legendgroup": "already",
         "marker": {
          "color": "#FF97FF",
          "symbol": "circle"
         },
         "mode": "markers",
         "name": "already",
         "scene": "scene",
         "showlegend": true,
         "type": "scatter3d",
         "x": [
          0.273923397064209
         ],
         "y": [
          0.07097010314464569
         ],
         "z": [
          -0.17730730772018433
         ]
        },
        {
         "hovertemplate": "color=itself<br>0=%{x}<br>1=%{y}<br>2=%{z}<extra></extra>",
         "legendgroup": "itself",
         "marker": {
          "color": "#FECB52",
          "symbol": "circle"
         },
         "mode": "markers",
         "name": "itself",
         "scene": "scene",
         "showlegend": true,
         "type": "scatter3d",
         "x": [
          0.4771251678466797
         ],
         "y": [
          0.3060048818588257
         ],
         "z": [
          0.12524335086345673
         ]
        },
        {
         "hovertemplate": "color=expect<br>0=%{x}<br>1=%{y}<br>2=%{z}<extra></extra>",
         "legendgroup": "expect",
         "marker": {
          "color": "#636efa",
          "symbol": "circle"
         },
         "mode": "markers",
         "name": "expect",
         "scene": "scene",
         "showlegend": true,
         "type": "scatter3d",
         "x": [
          0.33892714977264404
         ],
         "y": [
          0.086592897772789
         ],
         "z": [
          -0.0011221675667911768
         ]
        },
        {
         "hovertemplate": "color=chain<br>0=%{x}<br>1=%{y}<br>2=%{z}<extra></extra>",
         "legendgroup": "chain",
         "marker": {
          "color": "#EF553B",
          "symbol": "circle"
         },
         "mode": "markers",
         "name": "chain",
         "scene": "scene",
         "showlegend": true,
         "type": "scatter3d",
         "x": [
          0.4580612778663635
         ],
         "y": [
          0.0071310498751699924
         ],
         "z": [
          0.022556385025382042
         ]
        },
        {
         "hovertemplate": "color=riding<br>0=%{x}<br>1=%{y}<br>2=%{z}<extra></extra>",
         "legendgroup": "riding",
         "marker": {
          "color": "#00cc96",
          "symbol": "circle"
         },
         "mode": "markers",
         "name": "riding",
         "scene": "scene",
         "showlegend": true,
         "type": "scatter3d",
         "x": [
          0.4226545989513397
         ],
         "y": [
          -0.18169580399990082
         ],
         "z": [
          0.12657839059829712
         ]
        },
        {
         "hovertemplate": "color=model<br>0=%{x}<br>1=%{y}<br>2=%{z}<extra></extra>",
         "legendgroup": "model",
         "marker": {
          "color": "#ab63fa",
          "symbol": "circle"
         },
         "mode": "markers",
         "name": "model",
         "scene": "scene",
         "showlegend": true,
         "type": "scatter3d",
         "x": [
          0.2437313348054886
         ],
         "y": [
          0.14848871529102325
         ],
         "z": [
          -0.5915127992630005
         ]
        },
        {
         "hovertemplate": "color=loose<br>0=%{x}<br>1=%{y}<br>2=%{z}<extra></extra>",
         "legendgroup": "loose",
         "marker": {
          "color": "#FFA15A",
          "symbol": "circle"
         },
         "mode": "markers",
         "name": "loose",
         "scene": "scene",
         "showlegend": true,
         "type": "scatter3d",
         "x": [
          0.5487948656082153
         ],
         "y": [
          0.4060802757740021
         ],
         "z": [
          0.2629860043525696
         ]
        },
        {
         "hovertemplate": "color=tools<br>0=%{x}<br>1=%{y}<br>2=%{z}<extra></extra>",
         "legendgroup": "tools",
         "marker": {
          "color": "#19d3f3",
          "symbol": "circle"
         },
         "mode": "markers",
         "name": "tools",
         "scene": "scene",
         "showlegend": true,
         "type": "scatter3d",
         "x": [
          0.3938611149787903
         ],
         "y": [
          0.05913444608449936
         ],
         "z": [
          -0.1514943540096283
         ]
        },
        {
         "hovertemplate": "color=she<br>0=%{x}<br>1=%{y}<br>2=%{z}<extra></extra>",
         "legendgroup": "she",
         "marker": {
          "color": "#FF6692",
          "symbol": "circle"
         },
         "mode": "markers",
         "name": "she",
         "scene": "scene",
         "showlegend": true,
         "type": "scatter3d",
         "x": [
          0.34553542733192444
         ],
         "y": [
          -0.19047947227954865
         ],
         "z": [
          0.006684786640107632
         ]
        },
        {
         "hovertemplate": "color=tire<br>0=%{x}<br>1=%{y}<br>2=%{z}<extra></extra>",
         "legendgroup": "tire",
         "marker": {
          "color": "#B6E880",
          "symbol": "circle"
         },
         "mode": "markers",
         "name": "tire",
         "scene": "scene",
         "showlegend": true,
         "type": "scatter3d",
         "x": [
          0.47408604621887207
         ],
         "y": [
          0.006665740627795458
         ],
         "z": [
          0.04603368043899536
         ]
        },
        {
         "hovertemplate": "color=mounted<br>0=%{x}<br>1=%{y}<br>2=%{z}<extra></extra>",
         "legendgroup": "mounted",
         "marker": {
          "color": "#FF97FF",
          "symbol": "circle"
         },
         "mode": "markers",
         "name": "mounted",
         "scene": "scene",
         "showlegend": true,
         "type": "scatter3d",
         "x": [
          0.33220744132995605
         ],
         "y": [
          0.4554746448993683
         ],
         "z": [
          -0.1386318802833557
         ]
        },
        {
         "hovertemplate": "color=designed<br>0=%{x}<br>1=%{y}<br>2=%{z}<extra></extra>",
         "legendgroup": "designed",
         "marker": {
          "color": "#FECB52",
          "symbol": "circle"
         },
         "mode": "markers",
         "name": "designed",
         "scene": "scene",
         "showlegend": true,
         "type": "scatter3d",
         "x": [
          0.2852952480316162
         ],
         "y": [
          0.22307536005973816
         ],
         "z": [
          -0.06848698109388351
         ]
        },
        {
         "hovertemplate": "color=else<br>0=%{x}<br>1=%{y}<br>2=%{z}<extra></extra>",
         "legendgroup": "else",
         "marker": {
          "color": "#636efa",
          "symbol": "circle"
         },
         "mode": "markers",
         "name": "else",
         "scene": "scene",
         "showlegend": true,
         "type": "scatter3d",
         "x": [
          0.3274767994880676
         ],
         "y": [
          0.03659266233444214
         ],
         "z": [
          -0.01394644659012556
         ]
        },
        {
         "hovertemplate": "color=although<br>0=%{x}<br>1=%{y}<br>2=%{z}<extra></extra>",
         "legendgroup": "although",
         "marker": {
          "color": "#EF553B",
          "symbol": "circle"
         },
         "mode": "markers",
         "name": "although",
         "scene": "scene",
         "showlegend": true,
         "type": "scatter3d",
         "x": [
          0.4869631230831146
         ],
         "y": [
          0.1339171677827835
         ],
         "z": [
          -0.01827329210937023
         ]
        },
        {
         "hovertemplate": "color=shot<br>0=%{x}<br>1=%{y}<br>2=%{z}<extra></extra>",
         "legendgroup": "shot",
         "marker": {
          "color": "#00cc96",
          "symbol": "circle"
         },
         "mode": "markers",
         "name": "shot",
         "scene": "scene",
         "showlegend": true,
         "type": "scatter3d",
         "x": [
          0.40582746267318726
         ],
         "y": [
          0.0786885991692543
         ],
         "z": [
          -0.01632443256676197
         ]
        },
        {
         "hovertemplate": "color=kind<br>0=%{x}<br>1=%{y}<br>2=%{z}<extra></extra>",
         "legendgroup": "kind",
         "marker": {
          "color": "#ab63fa",
          "symbol": "circle"
         },
         "mode": "markers",
         "name": "kind",
         "scene": "scene",
         "showlegend": true,
         "type": "scatter3d",
         "x": [
          0.36406633257865906
         ],
         "y": [
          0.05694734677672386
         ],
         "z": [
          0.09367057681083679
         ]
        },
        {
         "hovertemplate": "color=update<br>0=%{x}<br>1=%{y}<br>2=%{z}<extra></extra>",
         "legendgroup": "update",
         "marker": {
          "color": "#FFA15A",
          "symbol": "circle"
         },
         "mode": "markers",
         "name": "update",
         "scene": "scene",
         "showlegend": true,
         "type": "scatter3d",
         "x": [
          0.2739221453666687
         ],
         "y": [
          -0.019377361983060837
         ],
         "z": [
          -0.181168794631958
         ]
        },
        {
         "hovertemplate": "color=months<br>0=%{x}<br>1=%{y}<br>2=%{z}<extra></extra>",
         "legendgroup": "months",
         "marker": {
          "color": "#19d3f3",
          "symbol": "circle"
         },
         "mode": "markers",
         "name": "months",
         "scene": "scene",
         "showlegend": true,
         "type": "scatter3d",
         "x": [
          0.342972993850708
         ],
         "y": [
          -0.11535294353961945
         ],
         "z": [
          -0.02880062721669674
         ]
        },
        {
         "hovertemplate": "color=system<br>0=%{x}<br>1=%{y}<br>2=%{z}<extra></extra>",
         "legendgroup": "system",
         "marker": {
          "color": "#FF6692",
          "symbol": "circle"
         },
         "mode": "markers",
         "name": "system",
         "scene": "scene",
         "showlegend": true,
         "type": "scatter3d",
         "x": [
          0.2957575023174286
         ],
         "y": [
          0.200252965092659
         ],
         "z": [
          -0.2381850779056549
         ]
        },
        {
         "hovertemplate": "color=gets<br>0=%{x}<br>1=%{y}<br>2=%{z}<extra></extra>",
         "legendgroup": "gets",
         "marker": {
          "color": "#B6E880",
          "symbol": "circle"
         },
         "mode": "markers",
         "name": "gets",
         "scene": "scene",
         "showlegend": true,
         "type": "scatter3d",
         "x": [
          0.3122096359729767
         ],
         "y": [
          0.016417061910033226
         ],
         "z": [
          0.3421211838722229
         ]
        },
        {
         "hovertemplate": "color=length<br>0=%{x}<br>1=%{y}<br>2=%{z}<extra></extra>",
         "legendgroup": "length",
         "marker": {
          "color": "#FF97FF",
          "symbol": "circle"
         },
         "mode": "markers",
         "name": "length",
         "scene": "scene",
         "showlegend": true,
         "type": "scatter3d",
         "x": [
          0.4795408546924591
         ],
         "y": [
          0.29807960987091064
         ],
         "z": [
          -0.026067456230521202
         ]
        },
        {
         "hovertemplate": "color=decent<br>0=%{x}<br>1=%{y}<br>2=%{z}<extra></extra>",
         "legendgroup": "decent",
         "marker": {
          "color": "#FECB52",
          "symbol": "circle"
         },
         "mode": "markers",
         "name": "decent",
         "scene": "scene",
         "showlegend": true,
         "type": "scatter3d",
         "x": [
          0.33418598771095276
         ],
         "y": [
          0.31998369097709656
         ],
         "z": [
          -0.03635444492101669
         ]
        },
        {
         "hovertemplate": "color=his<br>0=%{x}<br>1=%{y}<br>2=%{z}<extra></extra>",
         "legendgroup": "his",
         "marker": {
          "color": "#636efa",
          "symbol": "circle"
         },
         "mode": "markers",
         "name": "his",
         "scene": "scene",
         "showlegend": true,
         "type": "scatter3d",
         "x": [
          0.1827874779701233
         ],
         "y": [
          -0.06339482218027115
         ],
         "z": [
          -0.03702601417899132
         ]
        },
        {
         "hovertemplate": "color=sights<br>0=%{x}<br>1=%{y}<br>2=%{z}<extra></extra>",
         "legendgroup": "sights",
         "marker": {
          "color": "#EF553B",
          "symbol": "circle"
         },
         "mode": "markers",
         "name": "sights",
         "scene": "scene",
         "showlegend": true,
         "type": "scatter3d",
         "x": [
          0.39877089858055115
         ],
         "y": [
          0.18455460667610168
         ],
         "z": [
          -0.21070653200149536
         ]
        },
        {
         "hovertemplate": "color=reason<br>0=%{x}<br>1=%{y}<br>2=%{z}<extra></extra>",
         "legendgroup": "reason",
         "marker": {
          "color": "#00cc96",
          "symbol": "circle"
         },
         "mode": "markers",
         "name": "reason",
         "scene": "scene",
         "showlegend": true,
         "type": "scatter3d",
         "x": [
          0.38942885398864746
         ],
         "y": [
          0.02675730362534523
         ],
         "z": [
          -0.15530213713645935
         ]
        },
        {
         "hovertemplate": "color=screws<br>0=%{x}<br>1=%{y}<br>2=%{z}<extra></extra>",
         "legendgroup": "screws",
         "marker": {
          "color": "#ab63fa",
          "symbol": "circle"
         },
         "mode": "markers",
         "name": "screws",
         "scene": "scene",
         "showlegend": true,
         "type": "scatter3d",
         "x": [
          0.509553074836731
         ],
         "y": [
          0.4062303900718689
         ],
         "z": [
          0.005782896187156439
         ]
        },
        {
         "hovertemplate": "color=wouldn<br>0=%{x}<br>1=%{y}<br>2=%{z}<extra></extra>",
         "legendgroup": "wouldn",
         "marker": {
          "color": "#FFA15A",
          "symbol": "circle"
         },
         "mode": "markers",
         "name": "wouldn",
         "scene": "scene",
         "showlegend": true,
         "type": "scatter3d",
         "x": [
          0.2736324369907379
         ],
         "y": [
          0.14175397157669067
         ],
         "z": [
          0.0477975532412529
         ]
        },
        {
         "hovertemplate": "color=adjust<br>0=%{x}<br>1=%{y}<br>2=%{z}<extra></extra>",
         "legendgroup": "adjust",
         "marker": {
          "color": "#19d3f3",
          "symbol": "circle"
         },
         "mode": "markers",
         "name": "adjust",
         "scene": "scene",
         "showlegend": true,
         "type": "scatter3d",
         "x": [
          0.5451987385749817
         ],
         "y": [
          0.36077627539634705
         ],
         "z": [
          0.09679629653692245
         ]
        },
        {
         "hovertemplate": "color=fact<br>0=%{x}<br>1=%{y}<br>2=%{z}<extra></extra>",
         "legendgroup": "fact",
         "marker": {
          "color": "#FF6692",
          "symbol": "circle"
         },
         "mode": "markers",
         "name": "fact",
         "scene": "scene",
         "showlegend": true,
         "type": "scatter3d",
         "x": [
          0.4534090757369995
         ],
         "y": [
          0.04255156219005585
         ],
         "z": [
          -0.11091050505638123
         ]
        },
        {
         "hovertemplate": "color=until<br>0=%{x}<br>1=%{y}<br>2=%{z}<extra></extra>",
         "legendgroup": "until",
         "marker": {
          "color": "#B6E880",
          "symbol": "circle"
         },
         "mode": "markers",
         "name": "until",
         "scene": "scene",
         "showlegend": true,
         "type": "scatter3d",
         "x": [
          0.4409284293651581
         ],
         "y": [
          0.025847189128398895
         ],
         "z": [
          0.13651849329471588
         ]
        },
        {
         "hovertemplate": "color=dot<br>0=%{x}<br>1=%{y}<br>2=%{z}<extra></extra>",
         "legendgroup": "dot",
         "marker": {
          "color": "#FF97FF",
          "symbol": "circle"
         },
         "mode": "markers",
         "name": "dot",
         "scene": "scene",
         "showlegend": true,
         "type": "scatter3d",
         "x": [
          0.39727500081062317
         ],
         "y": [
          0.12539488077163696
         ],
         "z": [
          -0.20910723507404327
         ]
        },
        {
         "hovertemplate": "color=half<br>0=%{x}<br>1=%{y}<br>2=%{z}<extra></extra>",
         "legendgroup": "half",
         "marker": {
          "color": "#FECB52",
          "symbol": "circle"
         },
         "mode": "markers",
         "name": "half",
         "scene": "scene",
         "showlegend": true,
         "type": "scatter3d",
         "x": [
          0.36330363154411316
         ],
         "y": [
          0.09131546318531036
         ],
         "z": [
          0.06283226609230042
         ]
        },
        {
         "hovertemplate": "color=value<br>0=%{x}<br>1=%{y}<br>2=%{z}<extra></extra>",
         "legendgroup": "value",
         "marker": {
          "color": "#636efa",
          "symbol": "circle"
         },
         "mode": "markers",
         "name": "value",
         "scene": "scene",
         "showlegend": true,
         "type": "scatter3d",
         "x": [
          0.20902574062347412
         ],
         "y": [
          0.048353634774684906
         ],
         "z": [
          -0.3226242959499359
         ]
        },
        {
         "hovertemplate": "color=flat<br>0=%{x}<br>1=%{y}<br>2=%{z}<extra></extra>",
         "legendgroup": "flat",
         "marker": {
          "color": "#EF553B",
          "symbol": "circle"
         },
         "mode": "markers",
         "name": "flat",
         "scene": "scene",
         "showlegend": true,
         "type": "scatter3d",
         "x": [
          0.488578200340271
         ],
         "y": [
          0.21833783388137817
         ],
         "z": [
          0.1969923973083496
         ]
        },
        {
         "hovertemplate": "color=ammo<br>0=%{x}<br>1=%{y}<br>2=%{z}<extra></extra>",
         "legendgroup": "ammo",
         "marker": {
          "color": "#00cc96",
          "symbol": "circle"
         },
         "mode": "markers",
         "name": "ammo",
         "scene": "scene",
         "showlegend": true,
         "type": "scatter3d",
         "x": [
          0.38131481409072876
         ],
         "y": [
          0.06856165081262589
         ],
         "z": [
          -0.053288523107767105
         ]
        },
        {
         "hovertemplate": "color=instructions<br>0=%{x}<br>1=%{y}<br>2=%{z}<extra></extra>",
         "legendgroup": "instructions",
         "marker": {
          "color": "#ab63fa",
          "symbol": "circle"
         },
         "mode": "markers",
         "name": "instructions",
         "scene": "scene",
         "showlegend": true,
         "type": "scatter3d",
         "x": [
          0.40736904740333557
         ],
         "y": [
          0.052766744047403336
         ],
         "z": [
          -0.05497976765036583
         ]
        },
        {
         "hovertemplate": "color=wrong<br>0=%{x}<br>1=%{y}<br>2=%{z}<extra></extra>",
         "legendgroup": "wrong",
         "marker": {
          "color": "#FFA15A",
          "symbol": "circle"
         },
         "mode": "markers",
         "name": "wrong",
         "scene": "scene",
         "showlegend": true,
         "type": "scatter3d",
         "x": [
          0.3372543454170227
         ],
         "y": [
          0.19816741347312927
         ],
         "z": [
          -0.17746497690677643
         ]
        },
        {
         "hovertemplate": "color=standard<br>0=%{x}<br>1=%{y}<br>2=%{z}<extra></extra>",
         "legendgroup": "standard",
         "marker": {
          "color": "#19d3f3",
          "symbol": "circle"
         },
         "mode": "markers",
         "name": "standard",
         "scene": "scene",
         "showlegend": true,
         "type": "scatter3d",
         "x": [
          0.30980998277664185
         ],
         "y": [
          0.43770110607147217
         ],
         "z": [
          -0.262276291847229
         ]
        },
        {
         "hovertemplate": "color=nicely<br>0=%{x}<br>1=%{y}<br>2=%{z}<extra></extra>",
         "legendgroup": "nicely",
         "marker": {
          "color": "#FF6692",
          "symbol": "circle"
         },
         "mode": "markers",
         "name": "nicely",
         "scene": "scene",
         "showlegend": true,
         "type": "scatter3d",
         "x": [
          0.3500906527042389
         ],
         "y": [
          0.38092246651649475
         ],
         "z": [
          0.0974554568529129
         ]
        },
        {
         "hovertemplate": "color=received<br>0=%{x}<br>1=%{y}<br>2=%{z}<extra></extra>",
         "legendgroup": "received",
         "marker": {
          "color": "#B6E880",
          "symbol": "circle"
         },
         "mode": "markers",
         "name": "received",
         "scene": "scene",
         "showlegend": true,
         "type": "scatter3d",
         "x": [
          0.17720361053943634
         ],
         "y": [
          0.13823507726192474
         ],
         "z": [
          -0.20876286923885345
         ]
        },
        {
         "hovertemplate": "color=life<br>0=%{x}<br>1=%{y}<br>2=%{z}<extra></extra>",
         "legendgroup": "life",
         "marker": {
          "color": "#FF97FF",
          "symbol": "circle"
         },
         "mode": "markers",
         "name": "life",
         "scene": "scene",
         "showlegend": true,
         "type": "scatter3d",
         "x": [
          0.3207579255104065
         ],
         "y": [
          -0.18704825639724731
         ],
         "z": [
          -0.09703585505485535
         ]
        },
        {
         "hovertemplate": "color=working<br>0=%{x}<br>1=%{y}<br>2=%{z}<extra></extra>",
         "legendgroup": "working",
         "marker": {
          "color": "#FECB52",
          "symbol": "circle"
         },
         "mode": "markers",
         "name": "working",
         "scene": "scene",
         "showlegend": true,
         "type": "scatter3d",
         "x": [
          0.4045926630496979
         ],
         "y": [
          -0.10402512550354004
         ],
         "z": [
          0.08921825885772705
         ]
        },
        {
         "hovertemplate": "color=laser<br>0=%{x}<br>1=%{y}<br>2=%{z}<extra></extra>",
         "legendgroup": "laser",
         "marker": {
          "color": "#636efa",
          "symbol": "circle"
         },
         "mode": "markers",
         "name": "laser",
         "scene": "scene",
         "showlegend": true,
         "type": "scatter3d",
         "x": [
          0.42062169313430786
         ],
         "y": [
          0.287905752658844
         ],
         "z": [
          -0.2220379114151001
         ]
        },
        {
         "hovertemplate": "color=space<br>0=%{x}<br>1=%{y}<br>2=%{z}<extra></extra>",
         "legendgroup": "space",
         "marker": {
          "color": "#EF553B",
          "symbol": "circle"
         },
         "mode": "markers",
         "name": "space",
         "scene": "scene",
         "showlegend": true,
         "type": "scatter3d",
         "x": [
          0.506334662437439
         ],
         "y": [
          0.029542606323957443
         ],
         "z": [
          0.0973179042339325
         ]
        },
        {
         "hovertemplate": "color=trying<br>0=%{x}<br>1=%{y}<br>2=%{z}<extra></extra>",
         "legendgroup": "trying",
         "marker": {
          "color": "#00cc96",
          "symbol": "circle"
         },
         "mode": "markers",
         "name": "trying",
         "scene": "scene",
         "showlegend": true,
         "type": "scatter3d",
         "x": [
          0.3730264902114868
         ],
         "y": [
          -0.006682802923023701
         ],
         "z": [
          0.1525030881166458
         ]
        },
        {
         "hovertemplate": "color=due<br>0=%{x}<br>1=%{y}<br>2=%{z}<extra></extra>",
         "legendgroup": "due",
         "marker": {
          "color": "#ab63fa",
          "symbol": "circle"
         },
         "mode": "markers",
         "name": "due",
         "scene": "scene",
         "showlegend": true,
         "type": "scatter3d",
         "x": [
          0.22825759649276733
         ],
         "y": [
          0.24739433825016022
         ],
         "z": [
          0.1141253113746643
         ]
        },
        {
         "hovertemplate": "color=shoot<br>0=%{x}<br>1=%{y}<br>2=%{z}<extra></extra>",
         "legendgroup": "shoot",
         "marker": {
          "color": "#FFA15A",
          "symbol": "circle"
         },
         "mode": "markers",
         "name": "shoot",
         "scene": "scene",
         "showlegend": true,
         "type": "scatter3d",
         "x": [
          0.40643423795700073
         ],
         "y": [
          -0.012995810247957706
         ],
         "z": [
          0.0448877215385437
         ]
        },
        {
         "hovertemplate": "color=hit<br>0=%{x}<br>1=%{y}<br>2=%{z}<extra></extra>",
         "legendgroup": "hit",
         "marker": {
          "color": "#19d3f3",
          "symbol": "circle"
         },
         "mode": "markers",
         "name": "hit",
         "scene": "scene",
         "showlegend": true,
         "type": "scatter3d",
         "x": [
          0.42444509267807007
         ],
         "y": [
          -0.03003297559916973
         ],
         "z": [
          0.28886374831199646
         ]
        },
        {
         "hovertemplate": "color=frame<br>0=%{x}<br>1=%{y}<br>2=%{z}<extra></extra>",
         "legendgroup": "frame",
         "marker": {
          "color": "#FF6692",
          "symbol": "circle"
         },
         "mode": "markers",
         "name": "frame",
         "scene": "scene",
         "showlegend": true,
         "type": "scatter3d",
         "x": [
          0.4912213087081909
         ],
         "y": [
          0.38352325558662415
         ],
         "z": [
          0.055525995790958405
         ]
        },
        {
         "hovertemplate": "color=items<br>0=%{x}<br>1=%{y}<br>2=%{z}<extra></extra>",
         "legendgroup": "items",
         "marker": {
          "color": "#B6E880",
          "symbol": "circle"
         },
         "mode": "markers",
         "name": "items",
         "scene": "scene",
         "showlegend": true,
         "type": "scatter3d",
         "x": [
          0.3577842712402344
         ],
         "y": [
          -0.16747288405895233
         ],
         "z": [
          -0.03033040650188923
         ]
        },
        {
         "hovertemplate": "color=power<br>0=%{x}<br>1=%{y}<br>2=%{z}<extra></extra>",
         "legendgroup": "power",
         "marker": {
          "color": "#FF97FF",
          "symbol": "circle"
         },
         "mode": "markers",
         "name": "power",
         "scene": "scene",
         "showlegend": true,
         "type": "scatter3d",
         "x": [
          0.3773197531700134
         ],
         "y": [
          -0.09831248968839645
         ],
         "z": [
          -0.010149111971259117
         ]
        },
        {
         "hovertemplate": "color=brand<br>0=%{x}<br>1=%{y}<br>2=%{z}<extra></extra>",
         "legendgroup": "brand",
         "marker": {
          "color": "#FECB52",
          "symbol": "circle"
         },
         "mode": "markers",
         "name": "brand",
         "scene": "scene",
         "showlegend": true,
         "type": "scatter3d",
         "x": [
          0.2135162502527237
         ],
         "y": [
          -0.06577526777982712
         ],
         "z": [
          -0.3592205345630646
         ]
        },
        {
         "hovertemplate": "color=stove<br>0=%{x}<br>1=%{y}<br>2=%{z}<extra></extra>",
         "legendgroup": "stove",
         "marker": {
          "color": "#636efa",
          "symbol": "circle"
         },
         "mode": "markers",
         "name": "stove",
         "scene": "scene",
         "showlegend": true,
         "type": "scatter3d",
         "x": [
          0.3910728394985199
         ],
         "y": [
          -0.18001073598861694
         ],
         "z": [
          -0.028295312076807022
         ]
        },
        {
         "hovertemplate": "color=rather<br>0=%{x}<br>1=%{y}<br>2=%{z}<extra></extra>",
         "legendgroup": "rather",
         "marker": {
          "color": "#EF553B",
          "symbol": "circle"
         },
         "mode": "markers",
         "name": "rather",
         "scene": "scene",
         "showlegend": true,
         "type": "scatter3d",
         "x": [
          0.3783341348171234
         ],
         "y": [
          0.1713380515575409
         ],
         "z": [
          0.05482759326696396
         ]
        },
        {
         "hovertemplate": "color=stay<br>0=%{x}<br>1=%{y}<br>2=%{z}<extra></extra>",
         "legendgroup": "stay",
         "marker": {
          "color": "#00cc96",
          "symbol": "circle"
         },
         "mode": "markers",
         "name": "stay",
         "scene": "scene",
         "showlegend": true,
         "type": "scatter3d",
         "x": [
          0.49578410387039185
         ],
         "y": [
          0.11879537999629974
         ],
         "z": [
          0.3216530680656433
         ]
        },
        {
         "hovertemplate": "color=keeps<br>0=%{x}<br>1=%{y}<br>2=%{z}<extra></extra>",
         "legendgroup": "keeps",
         "marker": {
          "color": "#ab63fa",
          "symbol": "circle"
         },
         "mode": "markers",
         "name": "keeps",
         "scene": "scene",
         "showlegend": true,
         "type": "scatter3d",
         "x": [
          0.22628037631511688
         ],
         "y": [
          0.1678784340620041
         ],
         "z": [
          0.3477877974510193
         ]
        },
        {
         "hovertemplate": "color=recommended<br>0=%{x}<br>1=%{y}<br>2=%{z}<extra></extra>",
         "legendgroup": "recommended",
         "marker": {
          "color": "#FFA15A",
          "symbol": "circle"
         },
         "mode": "markers",
         "name": "recommended",
         "scene": "scene",
         "showlegend": true,
         "type": "scatter3d",
         "x": [
          0.16489189863204956
         ],
         "y": [
          0.07595741748809814
         ],
         "z": [
          -0.07769029587507248
         ]
        },
        {
         "hovertemplate": "color=wife<br>0=%{x}<br>1=%{y}<br>2=%{z}<extra></extra>",
         "legendgroup": "wife",
         "marker": {
          "color": "#19d3f3",
          "symbol": "circle"
         },
         "mode": "markers",
         "name": "wife",
         "scene": "scene",
         "showlegend": true,
         "type": "scatter3d",
         "x": [
          0.2678103446960449
         ],
         "y": [
          -0.16636575758457184
         ],
         "z": [
          -0.18395836651325226
         ]
        },
        {
         "hovertemplate": "color=difficult<br>0=%{x}<br>1=%{y}<br>2=%{z}<extra></extra>",
         "legendgroup": "difficult",
         "marker": {
          "color": "#FF6692",
          "symbol": "circle"
         },
         "mode": "markers",
         "name": "difficult",
         "scene": "scene",
         "showlegend": true,
         "type": "scatter3d",
         "x": [
          0.44701555371284485
         ],
         "y": [
          0.2554267942905426
         ],
         "z": [
          0.12993162870407104
         ]
        },
        {
         "hovertemplate": "color=extremely<br>0=%{x}<br>1=%{y}<br>2=%{z}<extra></extra>",
         "legendgroup": "extremely",
         "marker": {
          "color": "#B6E880",
          "symbol": "circle"
         },
         "mode": "markers",
         "name": "extremely",
         "scene": "scene",
         "showlegend": true,
         "type": "scatter3d",
         "x": [
          0.2827252745628357
         ],
         "y": [
          0.21917466819286346
         ],
         "z": [
          0.010380078107118607
         ]
        },
        {
         "hovertemplate": "color=accurate<br>0=%{x}<br>1=%{y}<br>2=%{z}<extra></extra>",
         "legendgroup": "accurate",
         "marker": {
          "color": "#FF97FF",
          "symbol": "circle"
         },
         "mode": "markers",
         "name": "accurate",
         "scene": "scene",
         "showlegend": true,
         "type": "scatter3d",
         "x": [
          0.35485517978668213
         ],
         "y": [
          0.058953091502189636
         ],
         "z": [
          -0.1762673258781433
         ]
        },
        {
         "hovertemplate": "color=star<br>0=%{x}<br>1=%{y}<br>2=%{z}<extra></extra>",
         "legendgroup": "star",
         "marker": {
          "color": "#FECB52",
          "symbol": "circle"
         },
         "mode": "markers",
         "name": "star",
         "scene": "scene",
         "showlegend": true,
         "type": "scatter3d",
         "x": [
          0.35288524627685547
         ],
         "y": [
          0.1769762635231018
         ],
         "z": [
          -0.1032707467675209
         ]
        }
       ],
       "layout": {
        "legend": {
         "title": {
          "text": "color"
         },
         "tracegroupgap": 0
        },
        "margin": {
         "t": 60
        },
        "scene": {
         "domain": {
          "x": [
           0,
           1
          ],
          "y": [
           0,
           1
          ]
         },
         "xaxis": {
          "title": {
           "text": "0"
          }
         },
         "yaxis": {
          "title": {
           "text": "1"
          }
         },
         "zaxis": {
          "title": {
           "text": "2"
          }
         }
        },
        "template": {
         "data": {
          "bar": [
           {
            "error_x": {
             "color": "#2a3f5f"
            },
            "error_y": {
             "color": "#2a3f5f"
            },
            "marker": {
             "line": {
              "color": "#E5ECF6",
              "width": 0.5
             },
             "pattern": {
              "fillmode": "overlay",
              "size": 10,
              "solidity": 0.2
             }
            },
            "type": "bar"
           }
          ],
          "barpolar": [
           {
            "marker": {
             "line": {
              "color": "#E5ECF6",
              "width": 0.5
             },
             "pattern": {
              "fillmode": "overlay",
              "size": 10,
              "solidity": 0.2
             }
            },
            "type": "barpolar"
           }
          ],
          "carpet": [
           {
            "aaxis": {
             "endlinecolor": "#2a3f5f",
             "gridcolor": "white",
             "linecolor": "white",
             "minorgridcolor": "white",
             "startlinecolor": "#2a3f5f"
            },
            "baxis": {
             "endlinecolor": "#2a3f5f",
             "gridcolor": "white",
             "linecolor": "white",
             "minorgridcolor": "white",
             "startlinecolor": "#2a3f5f"
            },
            "type": "carpet"
           }
          ],
          "choropleth": [
           {
            "colorbar": {
             "outlinewidth": 0,
             "ticks": ""
            },
            "type": "choropleth"
           }
          ],
          "contour": [
           {
            "colorbar": {
             "outlinewidth": 0,
             "ticks": ""
            },
            "colorscale": [
             [
              0,
              "#0d0887"
             ],
             [
              0.1111111111111111,
              "#46039f"
             ],
             [
              0.2222222222222222,
              "#7201a8"
             ],
             [
              0.3333333333333333,
              "#9c179e"
             ],
             [
              0.4444444444444444,
              "#bd3786"
             ],
             [
              0.5555555555555556,
              "#d8576b"
             ],
             [
              0.6666666666666666,
              "#ed7953"
             ],
             [
              0.7777777777777778,
              "#fb9f3a"
             ],
             [
              0.8888888888888888,
              "#fdca26"
             ],
             [
              1,
              "#f0f921"
             ]
            ],
            "type": "contour"
           }
          ],
          "contourcarpet": [
           {
            "colorbar": {
             "outlinewidth": 0,
             "ticks": ""
            },
            "type": "contourcarpet"
           }
          ],
          "heatmap": [
           {
            "colorbar": {
             "outlinewidth": 0,
             "ticks": ""
            },
            "colorscale": [
             [
              0,
              "#0d0887"
             ],
             [
              0.1111111111111111,
              "#46039f"
             ],
             [
              0.2222222222222222,
              "#7201a8"
             ],
             [
              0.3333333333333333,
              "#9c179e"
             ],
             [
              0.4444444444444444,
              "#bd3786"
             ],
             [
              0.5555555555555556,
              "#d8576b"
             ],
             [
              0.6666666666666666,
              "#ed7953"
             ],
             [
              0.7777777777777778,
              "#fb9f3a"
             ],
             [
              0.8888888888888888,
              "#fdca26"
             ],
             [
              1,
              "#f0f921"
             ]
            ],
            "type": "heatmap"
           }
          ],
          "heatmapgl": [
           {
            "colorbar": {
             "outlinewidth": 0,
             "ticks": ""
            },
            "colorscale": [
             [
              0,
              "#0d0887"
             ],
             [
              0.1111111111111111,
              "#46039f"
             ],
             [
              0.2222222222222222,
              "#7201a8"
             ],
             [
              0.3333333333333333,
              "#9c179e"
             ],
             [
              0.4444444444444444,
              "#bd3786"
             ],
             [
              0.5555555555555556,
              "#d8576b"
             ],
             [
              0.6666666666666666,
              "#ed7953"
             ],
             [
              0.7777777777777778,
              "#fb9f3a"
             ],
             [
              0.8888888888888888,
              "#fdca26"
             ],
             [
              1,
              "#f0f921"
             ]
            ],
            "type": "heatmapgl"
           }
          ],
          "histogram": [
           {
            "marker": {
             "pattern": {
              "fillmode": "overlay",
              "size": 10,
              "solidity": 0.2
             }
            },
            "type": "histogram"
           }
          ],
          "histogram2d": [
           {
            "colorbar": {
             "outlinewidth": 0,
             "ticks": ""
            },
            "colorscale": [
             [
              0,
              "#0d0887"
             ],
             [
              0.1111111111111111,
              "#46039f"
             ],
             [
              0.2222222222222222,
              "#7201a8"
             ],
             [
              0.3333333333333333,
              "#9c179e"
             ],
             [
              0.4444444444444444,
              "#bd3786"
             ],
             [
              0.5555555555555556,
              "#d8576b"
             ],
             [
              0.6666666666666666,
              "#ed7953"
             ],
             [
              0.7777777777777778,
              "#fb9f3a"
             ],
             [
              0.8888888888888888,
              "#fdca26"
             ],
             [
              1,
              "#f0f921"
             ]
            ],
            "type": "histogram2d"
           }
          ],
          "histogram2dcontour": [
           {
            "colorbar": {
             "outlinewidth": 0,
             "ticks": ""
            },
            "colorscale": [
             [
              0,
              "#0d0887"
             ],
             [
              0.1111111111111111,
              "#46039f"
             ],
             [
              0.2222222222222222,
              "#7201a8"
             ],
             [
              0.3333333333333333,
              "#9c179e"
             ],
             [
              0.4444444444444444,
              "#bd3786"
             ],
             [
              0.5555555555555556,
              "#d8576b"
             ],
             [
              0.6666666666666666,
              "#ed7953"
             ],
             [
              0.7777777777777778,
              "#fb9f3a"
             ],
             [
              0.8888888888888888,
              "#fdca26"
             ],
             [
              1,
              "#f0f921"
             ]
            ],
            "type": "histogram2dcontour"
           }
          ],
          "mesh3d": [
           {
            "colorbar": {
             "outlinewidth": 0,
             "ticks": ""
            },
            "type": "mesh3d"
           }
          ],
          "parcoords": [
           {
            "line": {
             "colorbar": {
              "outlinewidth": 0,
              "ticks": ""
             }
            },
            "type": "parcoords"
           }
          ],
          "pie": [
           {
            "automargin": true,
            "type": "pie"
           }
          ],
          "scatter": [
           {
            "fillpattern": {
             "fillmode": "overlay",
             "size": 10,
             "solidity": 0.2
            },
            "type": "scatter"
           }
          ],
          "scatter3d": [
           {
            "line": {
             "colorbar": {
              "outlinewidth": 0,
              "ticks": ""
             }
            },
            "marker": {
             "colorbar": {
              "outlinewidth": 0,
              "ticks": ""
             }
            },
            "type": "scatter3d"
           }
          ],
          "scattercarpet": [
           {
            "marker": {
             "colorbar": {
              "outlinewidth": 0,
              "ticks": ""
             }
            },
            "type": "scattercarpet"
           }
          ],
          "scattergeo": [
           {
            "marker": {
             "colorbar": {
              "outlinewidth": 0,
              "ticks": ""
             }
            },
            "type": "scattergeo"
           }
          ],
          "scattergl": [
           {
            "marker": {
             "colorbar": {
              "outlinewidth": 0,
              "ticks": ""
             }
            },
            "type": "scattergl"
           }
          ],
          "scattermapbox": [
           {
            "marker": {
             "colorbar": {
              "outlinewidth": 0,
              "ticks": ""
             }
            },
            "type": "scattermapbox"
           }
          ],
          "scatterpolar": [
           {
            "marker": {
             "colorbar": {
              "outlinewidth": 0,
              "ticks": ""
             }
            },
            "type": "scatterpolar"
           }
          ],
          "scatterpolargl": [
           {
            "marker": {
             "colorbar": {
              "outlinewidth": 0,
              "ticks": ""
             }
            },
            "type": "scatterpolargl"
           }
          ],
          "scatterternary": [
           {
            "marker": {
             "colorbar": {
              "outlinewidth": 0,
              "ticks": ""
             }
            },
            "type": "scatterternary"
           }
          ],
          "surface": [
           {
            "colorbar": {
             "outlinewidth": 0,
             "ticks": ""
            },
            "colorscale": [
             [
              0,
              "#0d0887"
             ],
             [
              0.1111111111111111,
              "#46039f"
             ],
             [
              0.2222222222222222,
              "#7201a8"
             ],
             [
              0.3333333333333333,
              "#9c179e"
             ],
             [
              0.4444444444444444,
              "#bd3786"
             ],
             [
              0.5555555555555556,
              "#d8576b"
             ],
             [
              0.6666666666666666,
              "#ed7953"
             ],
             [
              0.7777777777777778,
              "#fb9f3a"
             ],
             [
              0.8888888888888888,
              "#fdca26"
             ],
             [
              1,
              "#f0f921"
             ]
            ],
            "type": "surface"
           }
          ],
          "table": [
           {
            "cells": {
             "fill": {
              "color": "#EBF0F8"
             },
             "line": {
              "color": "white"
             }
            },
            "header": {
             "fill": {
              "color": "#C8D4E3"
             },
             "line": {
              "color": "white"
             }
            },
            "type": "table"
           }
          ]
         },
         "layout": {
          "annotationdefaults": {
           "arrowcolor": "#2a3f5f",
           "arrowhead": 0,
           "arrowwidth": 1
          },
          "autotypenumbers": "strict",
          "coloraxis": {
           "colorbar": {
            "outlinewidth": 0,
            "ticks": ""
           }
          },
          "colorscale": {
           "diverging": [
            [
             0,
             "#8e0152"
            ],
            [
             0.1,
             "#c51b7d"
            ],
            [
             0.2,
             "#de77ae"
            ],
            [
             0.3,
             "#f1b6da"
            ],
            [
             0.4,
             "#fde0ef"
            ],
            [
             0.5,
             "#f7f7f7"
            ],
            [
             0.6,
             "#e6f5d0"
            ],
            [
             0.7,
             "#b8e186"
            ],
            [
             0.8,
             "#7fbc41"
            ],
            [
             0.9,
             "#4d9221"
            ],
            [
             1,
             "#276419"
            ]
           ],
           "sequential": [
            [
             0,
             "#0d0887"
            ],
            [
             0.1111111111111111,
             "#46039f"
            ],
            [
             0.2222222222222222,
             "#7201a8"
            ],
            [
             0.3333333333333333,
             "#9c179e"
            ],
            [
             0.4444444444444444,
             "#bd3786"
            ],
            [
             0.5555555555555556,
             "#d8576b"
            ],
            [
             0.6666666666666666,
             "#ed7953"
            ],
            [
             0.7777777777777778,
             "#fb9f3a"
            ],
            [
             0.8888888888888888,
             "#fdca26"
            ],
            [
             1,
             "#f0f921"
            ]
           ],
           "sequentialminus": [
            [
             0,
             "#0d0887"
            ],
            [
             0.1111111111111111,
             "#46039f"
            ],
            [
             0.2222222222222222,
             "#7201a8"
            ],
            [
             0.3333333333333333,
             "#9c179e"
            ],
            [
             0.4444444444444444,
             "#bd3786"
            ],
            [
             0.5555555555555556,
             "#d8576b"
            ],
            [
             0.6666666666666666,
             "#ed7953"
            ],
            [
             0.7777777777777778,
             "#fb9f3a"
            ],
            [
             0.8888888888888888,
             "#fdca26"
            ],
            [
             1,
             "#f0f921"
            ]
           ]
          },
          "colorway": [
           "#636efa",
           "#EF553B",
           "#00cc96",
           "#ab63fa",
           "#FFA15A",
           "#19d3f3",
           "#FF6692",
           "#B6E880",
           "#FF97FF",
           "#FECB52"
          ],
          "font": {
           "color": "#2a3f5f"
          },
          "geo": {
           "bgcolor": "white",
           "lakecolor": "white",
           "landcolor": "#E5ECF6",
           "showlakes": true,
           "showland": true,
           "subunitcolor": "white"
          },
          "hoverlabel": {
           "align": "left"
          },
          "hovermode": "closest",
          "mapbox": {
           "style": "light"
          },
          "paper_bgcolor": "white",
          "plot_bgcolor": "#E5ECF6",
          "polar": {
           "angularaxis": {
            "gridcolor": "white",
            "linecolor": "white",
            "ticks": ""
           },
           "bgcolor": "#E5ECF6",
           "radialaxis": {
            "gridcolor": "white",
            "linecolor": "white",
            "ticks": ""
           }
          },
          "scene": {
           "xaxis": {
            "backgroundcolor": "#E5ECF6",
            "gridcolor": "white",
            "gridwidth": 2,
            "linecolor": "white",
            "showbackground": true,
            "ticks": "",
            "zerolinecolor": "white"
           },
           "yaxis": {
            "backgroundcolor": "#E5ECF6",
            "gridcolor": "white",
            "gridwidth": 2,
            "linecolor": "white",
            "showbackground": true,
            "ticks": "",
            "zerolinecolor": "white"
           },
           "zaxis": {
            "backgroundcolor": "#E5ECF6",
            "gridcolor": "white",
            "gridwidth": 2,
            "linecolor": "white",
            "showbackground": true,
            "ticks": "",
            "zerolinecolor": "white"
           }
          },
          "shapedefaults": {
           "line": {
            "color": "#2a3f5f"
           }
          },
          "ternary": {
           "aaxis": {
            "gridcolor": "white",
            "linecolor": "white",
            "ticks": ""
           },
           "baxis": {
            "gridcolor": "white",
            "linecolor": "white",
            "ticks": ""
           },
           "bgcolor": "#E5ECF6",
           "caxis": {
            "gridcolor": "white",
            "linecolor": "white",
            "ticks": ""
           }
          },
          "title": {
           "x": 0.05
          },
          "xaxis": {
           "automargin": true,
           "gridcolor": "white",
           "linecolor": "white",
           "ticks": "",
           "title": {
            "standoff": 15
           },
           "zerolinecolor": "white",
           "zerolinewidth": 2
          },
          "yaxis": {
           "automargin": true,
           "gridcolor": "white",
           "linecolor": "white",
           "ticks": "",
           "title": {
            "standoff": 15
           },
           "zerolinecolor": "white",
           "zerolinewidth": 2
          }
         }
        }
       }
      },
      "text/html": [
       "<div>                            <div id=\"ac7b3b4a-3ba3-434c-b90c-eb46a3548285\" class=\"plotly-graph-div\" style=\"height:525px; width:100%;\"></div>            <script type=\"text/javascript\">                require([\"plotly\"], function(Plotly) {                    window.PLOTLYENV=window.PLOTLYENV || {};                                    if (document.getElementById(\"ac7b3b4a-3ba3-434c-b90c-eb46a3548285\")) {                    Plotly.newPlot(                        \"ac7b3b4a-3ba3-434c-b90c-eb46a3548285\",                        [{\"hovertemplate\":\"color=the<br>0=%{x}<br>1=%{y}<br>2=%{z}<extra></extra>\",\"legendgroup\":\"the\",\"marker\":{\"color\":\"#636efa\",\"symbol\":\"circle\"},\"mode\":\"markers\",\"name\":\"the\",\"scene\":\"scene\",\"showlegend\":true,\"x\":[0.5716588497161865],\"y\":[0.28144213557243347],\"z\":[0.1269054114818573],\"type\":\"scatter3d\"},{\"hovertemplate\":\"color=and<br>0=%{x}<br>1=%{y}<br>2=%{z}<extra></extra>\",\"legendgroup\":\"and\",\"marker\":{\"color\":\"#EF553B\",\"symbol\":\"circle\"},\"mode\":\"markers\",\"name\":\"and\",\"scene\":\"scene\",\"showlegend\":true,\"x\":[0.47565534710884094],\"y\":[0.16409336030483246],\"z\":[0.11103849858045578],\"type\":\"scatter3d\"},{\"hovertemplate\":\"color=it<br>0=%{x}<br>1=%{y}<br>2=%{z}<extra></extra>\",\"legendgroup\":\"it\",\"marker\":{\"color\":\"#00cc96\",\"symbol\":\"circle\"},\"mode\":\"markers\",\"name\":\"it\",\"scene\":\"scene\",\"showlegend\":true,\"x\":[0.6883060932159424],\"y\":[0.005066382698714733],\"z\":[0.08113156259059906],\"type\":\"scatter3d\"},{\"hovertemplate\":\"color=to<br>0=%{x}<br>1=%{y}<br>2=%{z}<extra></extra>\",\"legendgroup\":\"to\",\"marker\":{\"color\":\"#ab63fa\",\"symbol\":\"circle\"},\"mode\":\"markers\",\"name\":\"to\",\"scene\":\"scene\",\"showlegend\":true,\"x\":[0.5724985003471375],\"y\":[0.09257330000400543],\"z\":[0.09233423322439194],\"type\":\"scatter3d\"},{\"hovertemplate\":\"color=is<br>0=%{x}<br>1=%{y}<br>2=%{z}<extra></extra>\",\"legendgroup\":\"is\",\"marker\":{\"color\":\"#FFA15A\",\"symbol\":\"circle\"},\"mode\":\"markers\",\"name\":\"is\",\"scene\":\"scene\",\"showlegend\":true,\"x\":[0.312045693397522],\"y\":[0.28951510787010193],\"z\":[0.017370685935020447],\"type\":\"scatter3d\"},{\"hovertemplate\":\"color=of<br>0=%{x}<br>1=%{y}<br>2=%{z}<extra></extra>\",\"legendgroup\":\"of\",\"marker\":{\"color\":\"#19d3f3\",\"symbol\":\"circle\"},\"mode\":\"markers\",\"name\":\"of\",\"scene\":\"scene\",\"showlegend\":true,\"x\":[0.3685722053050995],\"y\":[0.12822267413139343],\"z\":[0.059295911341905594],\"type\":\"scatter3d\"},{\"hovertemplate\":\"color=for<br>0=%{x}<br>1=%{y}<br>2=%{z}<extra></extra>\",\"legendgroup\":\"for\",\"marker\":{\"color\":\"#FF6692\",\"symbol\":\"circle\"},\"mode\":\"markers\",\"name\":\"for\",\"scene\":\"scene\",\"showlegend\":true,\"x\":[0.2530149519443512],\"y\":[0.10862527042627335],\"z\":[-0.16349256038665771],\"type\":\"scatter3d\"},{\"hovertemplate\":\"color=this<br>0=%{x}<br>1=%{y}<br>2=%{z}<extra></extra>\",\"legendgroup\":\"this\",\"marker\":{\"color\":\"#B6E880\",\"symbol\":\"circle\"},\"mode\":\"markers\",\"name\":\"this\",\"scene\":\"scene\",\"showlegend\":true,\"x\":[0.5081862211227417],\"y\":[0.0017301407642662525],\"z\":[-0.28488054871559143],\"type\":\"scatter3d\"},{\"hovertemplate\":\"color=in<br>0=%{x}<br>1=%{y}<br>2=%{z}<extra></extra>\",\"legendgroup\":\"in\",\"marker\":{\"color\":\"#FF97FF\",\"symbol\":\"circle\"},\"mode\":\"markers\",\"name\":\"in\",\"scene\":\"scene\",\"showlegend\":true,\"x\":[0.3634507358074188],\"y\":[0.07234407961368561],\"z\":[0.13396917283535004],\"type\":\"scatter3d\"},{\"hovertemplate\":\"color=my<br>0=%{x}<br>1=%{y}<br>2=%{z}<extra></extra>\",\"legendgroup\":\"my\",\"marker\":{\"color\":\"#FECB52\",\"symbol\":\"circle\"},\"mode\":\"markers\",\"name\":\"my\",\"scene\":\"scene\",\"showlegend\":true,\"x\":[0.26227980852127075],\"y\":[0.1053924709558487],\"z\":[-0.04450824856758118],\"type\":\"scatter3d\"},{\"hovertemplate\":\"color=you<br>0=%{x}<br>1=%{y}<br>2=%{z}<extra></extra>\",\"legendgroup\":\"you\",\"marker\":{\"color\":\"#636efa\",\"symbol\":\"circle\"},\"mode\":\"markers\",\"name\":\"you\",\"scene\":\"scene\",\"showlegend\":true,\"x\":[0.5451639890670776],\"y\":[0.026163382455706596],\"z\":[0.09672311693429947],\"type\":\"scatter3d\"},{\"hovertemplate\":\"color=on<br>0=%{x}<br>1=%{y}<br>2=%{z}<extra></extra>\",\"legendgroup\":\"on\",\"marker\":{\"color\":\"#EF553B\",\"symbol\":\"circle\"},\"mode\":\"markers\",\"name\":\"on\",\"scene\":\"scene\",\"showlegend\":true,\"x\":[0.3649147152900696],\"y\":[0.28988105058670044],\"z\":[0.10823062062263489],\"type\":\"scatter3d\"},{\"hovertemplate\":\"color=that<br>0=%{x}<br>1=%{y}<br>2=%{z}<extra></extra>\",\"legendgroup\":\"that\",\"marker\":{\"color\":\"#00cc96\",\"symbol\":\"circle\"},\"mode\":\"markers\",\"name\":\"that\",\"scene\":\"scene\",\"showlegend\":true,\"x\":[0.6091954112052917],\"y\":[0.043971382081508636],\"z\":[-0.07513009011745453],\"type\":\"scatter3d\"},{\"hovertemplate\":\"color=with<br>0=%{x}<br>1=%{y}<br>2=%{z}<extra></extra>\",\"legendgroup\":\"with\",\"marker\":{\"color\":\"#ab63fa\",\"symbol\":\"circle\"},\"mode\":\"markers\",\"name\":\"with\",\"scene\":\"scene\",\"showlegend\":true,\"x\":[0.28609994053840637],\"y\":[0.3198077976703644],\"z\":[0.06849721819162369],\"type\":\"scatter3d\"},{\"hovertemplate\":\"color=but<br>0=%{x}<br>1=%{y}<br>2=%{z}<extra></extra>\",\"legendgroup\":\"but\",\"marker\":{\"color\":\"#FFA15A\",\"symbol\":\"circle\"},\"mode\":\"markers\",\"name\":\"but\",\"scene\":\"scene\",\"showlegend\":true,\"x\":[0.6302816867828369],\"y\":[0.053855497390031815],\"z\":[0.022428179159760475],\"type\":\"scatter3d\"},{\"hovertemplate\":\"color=have<br>0=%{x}<br>1=%{y}<br>2=%{z}<extra></extra>\",\"legendgroup\":\"have\",\"marker\":{\"color\":\"#19d3f3\",\"symbol\":\"circle\"},\"mode\":\"markers\",\"name\":\"have\",\"scene\":\"scene\",\"showlegend\":true,\"x\":[0.31873494386672974],\"y\":[0.06639541685581207],\"z\":[-0.0066189756616950035],\"type\":\"scatter3d\"},{\"hovertemplate\":\"color=not<br>0=%{x}<br>1=%{y}<br>2=%{z}<extra></extra>\",\"legendgroup\":\"not\",\"marker\":{\"color\":\"#FF6692\",\"symbol\":\"circle\"},\"mode\":\"markers\",\"name\":\"not\",\"scene\":\"scene\",\"showlegend\":true,\"x\":[0.41425350308418274],\"y\":[0.16084758937358856],\"z\":[0.013698970898985863],\"type\":\"scatter3d\"},{\"hovertemplate\":\"color=as<br>0=%{x}<br>1=%{y}<br>2=%{z}<extra></extra>\",\"legendgroup\":\"as\",\"marker\":{\"color\":\"#B6E880\",\"symbol\":\"circle\"},\"mode\":\"markers\",\"name\":\"as\",\"scene\":\"scene\",\"showlegend\":true,\"x\":[0.3786461651325226],\"y\":[0.07119324058294296],\"z\":[-0.029155932366847992],\"type\":\"scatter3d\"},{\"hovertemplate\":\"color=are<br>0=%{x}<br>1=%{y}<br>2=%{z}<extra></extra>\",\"legendgroup\":\"are\",\"marker\":{\"color\":\"#FF97FF\",\"symbol\":\"circle\"},\"mode\":\"markers\",\"name\":\"are\",\"scene\":\"scene\",\"showlegend\":true,\"x\":[0.19151049852371216],\"y\":[0.18620917201042175],\"z\":[0.07468488812446594],\"type\":\"scatter3d\"},{\"hovertemplate\":\"color=was<br>0=%{x}<br>1=%{y}<br>2=%{z}<extra></extra>\",\"legendgroup\":\"was\",\"marker\":{\"color\":\"#FECB52\",\"symbol\":\"circle\"},\"mode\":\"markers\",\"name\":\"was\",\"scene\":\"scene\",\"showlegend\":true,\"x\":[0.2339329570531845],\"y\":[0.1363137662410736],\"z\":[-0.018831228837370872],\"type\":\"scatter3d\"},{\"hovertemplate\":\"color=be<br>0=%{x}<br>1=%{y}<br>2=%{z}<extra></extra>\",\"legendgroup\":\"be\",\"marker\":{\"color\":\"#636efa\",\"symbol\":\"circle\"},\"mode\":\"markers\",\"name\":\"be\",\"scene\":\"scene\",\"showlegend\":true,\"x\":[0.4225839674472809],\"y\":[0.05609292909502983],\"z\":[0.02815343253314495],\"type\":\"scatter3d\"},{\"hovertemplate\":\"color=so<br>0=%{x}<br>1=%{y}<br>2=%{z}<extra></extra>\",\"legendgroup\":\"so\",\"marker\":{\"color\":\"#EF553B\",\"symbol\":\"circle\"},\"mode\":\"markers\",\"name\":\"so\",\"scene\":\"scene\",\"showlegend\":true,\"x\":[0.555646538734436],\"y\":[0.03260459378361702],\"z\":[0.11683639138936996],\"type\":\"scatter3d\"},{\"hovertemplate\":\"color=they<br>0=%{x}<br>1=%{y}<br>2=%{z}<extra></extra>\",\"legendgroup\":\"they\",\"marker\":{\"color\":\"#00cc96\",\"symbol\":\"circle\"},\"mode\":\"markers\",\"name\":\"they\",\"scene\":\"scene\",\"showlegend\":true,\"x\":[0.4362083673477173],\"y\":[-0.025670873001217842],\"z\":[0.047838859260082245],\"type\":\"scatter3d\"},{\"hovertemplate\":\"color=very<br>0=%{x}<br>1=%{y}<br>2=%{z}<extra></extra>\",\"legendgroup\":\"very\",\"marker\":{\"color\":\"#ab63fa\",\"symbol\":\"circle\"},\"mode\":\"markers\",\"name\":\"very\",\"scene\":\"scene\",\"showlegend\":true,\"x\":[0.3799484670162201],\"y\":[0.2810862064361572],\"z\":[0.05170969292521477],\"type\":\"scatter3d\"},{\"hovertemplate\":\"color=one<br>0=%{x}<br>1=%{y}<br>2=%{z}<extra></extra>\",\"legendgroup\":\"one\",\"marker\":{\"color\":\"#FFA15A\",\"symbol\":\"circle\"},\"mode\":\"markers\",\"name\":\"one\",\"scene\":\"scene\",\"showlegend\":true,\"x\":[0.414183646440506],\"y\":[0.02204885333776474],\"z\":[-0.28728288412094116],\"type\":\"scatter3d\"},{\"hovertemplate\":\"color=if<br>0=%{x}<br>1=%{y}<br>2=%{z}<extra></extra>\",\"legendgroup\":\"if\",\"marker\":{\"color\":\"#19d3f3\",\"symbol\":\"circle\"},\"mode\":\"markers\",\"name\":\"if\",\"scene\":\"scene\",\"showlegend\":true,\"x\":[0.47303783893585205],\"y\":[0.06187230721116066],\"z\":[0.04479329288005829],\"type\":\"scatter3d\"},{\"hovertemplate\":\"color=or<br>0=%{x}<br>1=%{y}<br>2=%{z}<extra></extra>\",\"legendgroup\":\"or\",\"marker\":{\"color\":\"#FF6692\",\"symbol\":\"circle\"},\"mode\":\"markers\",\"name\":\"or\",\"scene\":\"scene\",\"showlegend\":true,\"x\":[0.38849395513534546],\"y\":[0.012592446990311146],\"z\":[0.2438019961118698],\"type\":\"scatter3d\"},{\"hovertemplate\":\"color=can<br>0=%{x}<br>1=%{y}<br>2=%{z}<extra></extra>\",\"legendgroup\":\"can\",\"marker\":{\"color\":\"#B6E880\",\"symbol\":\"circle\"},\"mode\":\"markers\",\"name\":\"can\",\"scene\":\"scene\",\"showlegend\":true,\"x\":[0.3350312411785126],\"y\":[0.13711096346378326],\"z\":[0.10903525352478027],\"type\":\"scatter3d\"},{\"hovertemplate\":\"color=great<br>0=%{x}<br>1=%{y}<br>2=%{z}<extra></extra>\",\"legendgroup\":\"great\",\"marker\":{\"color\":\"#FF97FF\",\"symbol\":\"circle\"},\"mode\":\"markers\",\"name\":\"great\",\"scene\":\"scene\",\"showlegend\":true,\"x\":[0.29451602697372437],\"y\":[0.2849341332912445],\"z\":[-0.08682011812925339],\"type\":\"scatter3d\"},{\"hovertemplate\":\"color=these<br>0=%{x}<br>1=%{y}<br>2=%{z}<extra></extra>\",\"legendgroup\":\"these\",\"marker\":{\"color\":\"#FECB52\",\"symbol\":\"circle\"},\"mode\":\"markers\",\"name\":\"these\",\"scene\":\"scene\",\"showlegend\":true,\"x\":[0.34193554520606995],\"y\":[-0.10220038890838623],\"z\":[-0.10774032026529312],\"type\":\"scatter3d\"},{\"hovertemplate\":\"color=use<br>0=%{x}<br>1=%{y}<br>2=%{z}<extra></extra>\",\"legendgroup\":\"use\",\"marker\":{\"color\":\"#636efa\",\"symbol\":\"circle\"},\"mode\":\"markers\",\"name\":\"use\",\"scene\":\"scene\",\"showlegend\":true,\"x\":[0.3922124207019806],\"y\":[0.014309024438261986],\"z\":[0.14268876612186432],\"type\":\"scatter3d\"},{\"hovertemplate\":\"color=like<br>0=%{x}<br>1=%{y}<br>2=%{z}<extra></extra>\",\"legendgroup\":\"like\",\"marker\":{\"color\":\"#EF553B\",\"symbol\":\"circle\"},\"mode\":\"markers\",\"name\":\"like\",\"scene\":\"scene\",\"showlegend\":true,\"x\":[0.38454991579055786],\"y\":[0.20685160160064697],\"z\":[0.07611019164323807],\"type\":\"scatter3d\"},{\"hovertemplate\":\"color=well<br>0=%{x}<br>1=%{y}<br>2=%{z}<extra></extra>\",\"legendgroup\":\"well\",\"marker\":{\"color\":\"#00cc96\",\"symbol\":\"circle\"},\"mode\":\"markers\",\"name\":\"well\",\"scene\":\"scene\",\"showlegend\":true,\"x\":[0.3487098813056946],\"y\":[0.26242679357528687],\"z\":[-0.02287447638809681],\"type\":\"scatter3d\"},{\"hovertemplate\":\"color=at<br>0=%{x}<br>1=%{y}<br>2=%{z}<extra></extra>\",\"legendgroup\":\"at\",\"marker\":{\"color\":\"#ab63fa\",\"symbol\":\"circle\"},\"mode\":\"markers\",\"name\":\"at\",\"scene\":\"scene\",\"showlegend\":true,\"x\":[0.34216606616973877],\"y\":[0.06281338632106781],\"z\":[0.035663142800331116],\"type\":\"scatter3d\"},{\"hovertemplate\":\"color=just<br>0=%{x}<br>1=%{y}<br>2=%{z}<extra></extra>\",\"legendgroup\":\"just\",\"marker\":{\"color\":\"#FFA15A\",\"symbol\":\"circle\"},\"mode\":\"markers\",\"name\":\"just\",\"scene\":\"scene\",\"showlegend\":true,\"x\":[0.5870760083198547],\"y\":[0.07026438415050507],\"z\":[0.06400244683027267],\"type\":\"scatter3d\"},{\"hovertemplate\":\"color=good<br>0=%{x}<br>1=%{y}<br>2=%{z}<extra></extra>\",\"legendgroup\":\"good\",\"marker\":{\"color\":\"#19d3f3\",\"symbol\":\"circle\"},\"mode\":\"markers\",\"name\":\"good\",\"scene\":\"scene\",\"showlegend\":true,\"x\":[0.34568682312965393],\"y\":[0.29463672637939453],\"z\":[-0.04869075119495392],\"type\":\"scatter3d\"},{\"hovertemplate\":\"color=will<br>0=%{x}<br>1=%{y}<br>2=%{z}<extra></extra>\",\"legendgroup\":\"will\",\"marker\":{\"color\":\"#FF6692\",\"symbol\":\"circle\"},\"mode\":\"markers\",\"name\":\"will\",\"scene\":\"scene\",\"showlegend\":true,\"x\":[0.32568037509918213],\"y\":[0.125753715634346],\"z\":[0.10511314868927002],\"type\":\"scatter3d\"},{\"hovertemplate\":\"color=up<br>0=%{x}<br>1=%{y}<br>2=%{z}<extra></extra>\",\"legendgroup\":\"up\",\"marker\":{\"color\":\"#B6E880\",\"symbol\":\"circle\"},\"mode\":\"markers\",\"name\":\"up\",\"scene\":\"scene\",\"showlegend\":true,\"x\":[0.4035191833972931],\"y\":[0.09519735723733902],\"z\":[0.20072337985038757],\"type\":\"scatter3d\"},{\"hovertemplate\":\"color=out<br>0=%{x}<br>1=%{y}<br>2=%{z}<extra></extra>\",\"legendgroup\":\"out\",\"marker\":{\"color\":\"#FF97FF\",\"symbol\":\"circle\"},\"mode\":\"markers\",\"name\":\"out\",\"scene\":\"scene\",\"showlegend\":true,\"x\":[0.38004276156425476],\"y\":[0.08249137550592422],\"z\":[0.18360839784145355],\"type\":\"scatter3d\"},{\"hovertemplate\":\"color=your<br>0=%{x}<br>1=%{y}<br>2=%{z}<extra></extra>\",\"legendgroup\":\"your\",\"marker\":{\"color\":\"#FECB52\",\"symbol\":\"circle\"},\"mode\":\"markers\",\"name\":\"your\",\"scene\":\"scene\",\"showlegend\":true,\"x\":[0.42380306124687195],\"y\":[0.13403362035751343],\"z\":[0.23571273684501648],\"type\":\"scatter3d\"},{\"hovertemplate\":\"color=would<br>0=%{x}<br>1=%{y}<br>2=%{z}<extra></extra>\",\"legendgroup\":\"would\",\"marker\":{\"color\":\"#636efa\",\"symbol\":\"circle\"},\"mode\":\"markers\",\"name\":\"would\",\"scene\":\"scene\",\"showlegend\":true,\"x\":[0.3509361445903778],\"y\":[0.1529834121465683],\"z\":[-0.029592027887701988],\"type\":\"scatter3d\"},{\"hovertemplate\":\"color=when<br>0=%{x}<br>1=%{y}<br>2=%{z}<extra></extra>\",\"legendgroup\":\"when\",\"marker\":{\"color\":\"#EF553B\",\"symbol\":\"circle\"},\"mode\":\"markers\",\"name\":\"when\",\"scene\":\"scene\",\"showlegend\":true,\"x\":[0.4281235337257385],\"y\":[0.027523797005414963],\"z\":[0.20437310636043549],\"type\":\"scatter3d\"},{\"hovertemplate\":\"color=all<br>0=%{x}<br>1=%{y}<br>2=%{z}<extra></extra>\",\"legendgroup\":\"all\",\"marker\":{\"color\":\"#00cc96\",\"symbol\":\"circle\"},\"mode\":\"markers\",\"name\":\"all\",\"scene\":\"scene\",\"showlegend\":true,\"x\":[0.40365928411483765],\"y\":[0.03489018976688385],\"z\":[0.0018273198511451483],\"type\":\"scatter3d\"},{\"hovertemplate\":\"color=more<br>0=%{x}<br>1=%{y}<br>2=%{z}<extra></extra>\",\"legendgroup\":\"more\",\"marker\":{\"color\":\"#ab63fa\",\"symbol\":\"circle\"},\"mode\":\"markers\",\"name\":\"more\",\"scene\":\"scene\",\"showlegend\":true,\"x\":[0.4081672430038452],\"y\":[0.06694550812244415],\"z\":[-0.09514787048101425],\"type\":\"scatter3d\"},{\"hovertemplate\":\"color=get<br>0=%{x}<br>1=%{y}<br>2=%{z}<extra></extra>\",\"legendgroup\":\"get\",\"marker\":{\"color\":\"#FFA15A\",\"symbol\":\"circle\"},\"mode\":\"markers\",\"name\":\"get\",\"scene\":\"scene\",\"showlegend\":true,\"x\":[0.487648606300354],\"y\":[0.0002660670434124768],\"z\":[0.21104876697063446],\"type\":\"scatter3d\"},{\"hovertemplate\":\"color=them<br>0=%{x}<br>1=%{y}<br>2=%{z}<extra></extra>\",\"legendgroup\":\"them\",\"marker\":{\"color\":\"#19d3f3\",\"symbol\":\"circle\"},\"mode\":\"markers\",\"name\":\"them\",\"scene\":\"scene\",\"showlegend\":true,\"x\":[0.44832125306129456],\"y\":[-0.1714591681957245],\"z\":[0.12871471047401428],\"type\":\"scatter3d\"},{\"hovertemplate\":\"color=from<br>0=%{x}<br>1=%{y}<br>2=%{z}<extra></extra>\",\"legendgroup\":\"from\",\"marker\":{\"color\":\"#FF6692\",\"symbol\":\"circle\"},\"mode\":\"markers\",\"name\":\"from\",\"scene\":\"scene\",\"showlegend\":true,\"x\":[0.1818198561668396],\"y\":[0.1561840921640396],\"z\":[0.10257579386234283],\"type\":\"scatter3d\"},{\"hovertemplate\":\"color=an<br>0=%{x}<br>1=%{y}<br>2=%{z}<extra></extra>\",\"legendgroup\":\"an\",\"marker\":{\"color\":\"#B6E880\",\"symbol\":\"circle\"},\"mode\":\"markers\",\"name\":\"an\",\"scene\":\"scene\",\"showlegend\":true,\"x\":[0.27618110179901123],\"y\":[0.12104440480470657],\"z\":[-0.0799059197306633],\"type\":\"scatter3d\"},{\"hovertemplate\":\"color=knife<br>0=%{x}<br>1=%{y}<br>2=%{z}<extra></extra>\",\"legendgroup\":\"knife\",\"marker\":{\"color\":\"#FF97FF\",\"symbol\":\"circle\"},\"mode\":\"markers\",\"name\":\"knife\",\"scene\":\"scene\",\"showlegend\":true,\"x\":[0.29993167519569397],\"y\":[-0.03872978687286377],\"z\":[-0.18622824549674988],\"type\":\"scatter3d\"},{\"hovertemplate\":\"color=had<br>0=%{x}<br>1=%{y}<br>2=%{z}<extra></extra>\",\"legendgroup\":\"had\",\"marker\":{\"color\":\"#FECB52\",\"symbol\":\"circle\"},\"mode\":\"markers\",\"name\":\"had\",\"scene\":\"scene\",\"showlegend\":true,\"x\":[0.20980627834796906],\"y\":[0.12912897765636444],\"z\":[0.03861633688211441],\"type\":\"scatter3d\"},{\"hovertemplate\":\"color=than<br>0=%{x}<br>1=%{y}<br>2=%{z}<extra></extra>\",\"legendgroup\":\"than\",\"marker\":{\"color\":\"#636efa\",\"symbol\":\"circle\"},\"mode\":\"markers\",\"name\":\"than\",\"scene\":\"scene\",\"showlegend\":true,\"x\":[0.33064237236976624],\"y\":[0.12655560672283173],\"z\":[-0.00752970390021801],\"type\":\"scatter3d\"},{\"hovertemplate\":\"color=has<br>0=%{x}<br>1=%{y}<br>2=%{z}<extra></extra>\",\"legendgroup\":\"has\",\"marker\":{\"color\":\"#EF553B\",\"symbol\":\"circle\"},\"mode\":\"markers\",\"name\":\"has\",\"scene\":\"scene\",\"showlegend\":true,\"x\":[0.21606335043907166],\"y\":[0.22960537672042847],\"z\":[0.01677095890045166],\"type\":\"scatter3d\"},{\"hovertemplate\":\"color=me<br>0=%{x}<br>1=%{y}<br>2=%{z}<extra></extra>\",\"legendgroup\":\"me\",\"marker\":{\"color\":\"#00cc96\",\"symbol\":\"circle\"},\"mode\":\"markers\",\"name\":\"me\",\"scene\":\"scene\",\"showlegend\":true,\"x\":[0.39232611656188965],\"y\":[-0.10067927092313766],\"z\":[-0.11394541710615158],\"type\":\"scatter3d\"},{\"hovertemplate\":\"color=no<br>0=%{x}<br>1=%{y}<br>2=%{z}<extra></extra>\",\"legendgroup\":\"no\",\"marker\":{\"color\":\"#ab63fa\",\"symbol\":\"circle\"},\"mode\":\"markers\",\"name\":\"no\",\"scene\":\"scene\",\"showlegend\":true,\"x\":[0.240870863199234],\"y\":[0.23525792360305786],\"z\":[0.07735322415828705],\"type\":\"scatter3d\"},{\"hovertemplate\":\"color=about<br>0=%{x}<br>1=%{y}<br>2=%{z}<extra></extra>\",\"legendgroup\":\"about\",\"marker\":{\"color\":\"#FFA15A\",\"symbol\":\"circle\"},\"mode\":\"markers\",\"name\":\"about\",\"scene\":\"scene\",\"showlegend\":true,\"x\":[0.25173407793045044],\"y\":[0.1307128220796585],\"z\":[0.004210168495774269],\"type\":\"scatter3d\"},{\"hovertemplate\":\"color=do<br>0=%{x}<br>1=%{y}<br>2=%{z}<extra></extra>\",\"legendgroup\":\"do\",\"marker\":{\"color\":\"#19d3f3\",\"symbol\":\"circle\"},\"mode\":\"markers\",\"name\":\"do\",\"scene\":\"scene\",\"showlegend\":true,\"x\":[0.41465890407562256],\"y\":[0.021018503233790398],\"z\":[0.11245609819889069],\"type\":\"scatter3d\"},{\"hovertemplate\":\"color=some<br>0=%{x}<br>1=%{y}<br>2=%{z}<extra></extra>\",\"legendgroup\":\"some\",\"marker\":{\"color\":\"#FF6692\",\"symbol\":\"circle\"},\"mode\":\"markers\",\"name\":\"some\",\"scene\":\"scene\",\"showlegend\":true,\"x\":[0.3125544488430023],\"y\":[0.0735245868563652],\"z\":[0.10340093076229095],\"type\":\"scatter3d\"},{\"hovertemplate\":\"color=little<br>0=%{x}<br>1=%{y}<br>2=%{z}<extra></extra>\",\"legendgroup\":\"little\",\"marker\":{\"color\":\"#B6E880\",\"symbol\":\"circle\"},\"mode\":\"markers\",\"name\":\"little\",\"scene\":\"scene\",\"showlegend\":true,\"x\":[0.5197443962097168],\"y\":[0.2676631510257721],\"z\":[0.2080942541360855],\"type\":\"scatter3d\"},{\"hovertemplate\":\"color=only<br>0=%{x}<br>1=%{y}<br>2=%{z}<extra></extra>\",\"legendgroup\":\"only\",\"marker\":{\"color\":\"#FF97FF\",\"symbol\":\"circle\"},\"mode\":\"markers\",\"name\":\"only\",\"scene\":\"scene\",\"showlegend\":true,\"x\":[0.4183107912540436],\"y\":[0.21788443624973297],\"z\":[-0.018434680998325348],\"type\":\"scatter3d\"},{\"hovertemplate\":\"color=other<br>0=%{x}<br>1=%{y}<br>2=%{z}<extra></extra>\",\"legendgroup\":\"other\",\"marker\":{\"color\":\"#FECB52\",\"symbol\":\"circle\"},\"mode\":\"markers\",\"name\":\"other\",\"scene\":\"scene\",\"showlegend\":true,\"x\":[0.32420459389686584],\"y\":[0.10604620724916458],\"z\":[-0.07802505791187286],\"type\":\"scatter3d\"},{\"hovertemplate\":\"color=there<br>0=%{x}<br>1=%{y}<br>2=%{z}<extra></extra>\",\"legendgroup\":\"there\",\"marker\":{\"color\":\"#636efa\",\"symbol\":\"circle\"},\"mode\":\"markers\",\"name\":\"there\",\"scene\":\"scene\",\"showlegend\":true,\"x\":[0.4802520275115967],\"y\":[0.07140719145536423],\"z\":[0.04270193725824356],\"type\":\"scatter3d\"},{\"hovertemplate\":\"color=really<br>0=%{x}<br>1=%{y}<br>2=%{z}<extra></extra>\",\"legendgroup\":\"really\",\"marker\":{\"color\":\"#EF553B\",\"symbol\":\"circle\"},\"mode\":\"markers\",\"name\":\"really\",\"scene\":\"scene\",\"showlegend\":true,\"x\":[0.5078642964363098],\"y\":[0.08289109170436859],\"z\":[0.05686315894126892],\"type\":\"scatter3d\"},{\"hovertemplate\":\"color=also<br>0=%{x}<br>1=%{y}<br>2=%{z}<extra></extra>\",\"legendgroup\":\"also\",\"marker\":{\"color\":\"#00cc96\",\"symbol\":\"circle\"},\"mode\":\"markers\",\"name\":\"also\",\"scene\":\"scene\",\"showlegend\":true,\"x\":[0.4560159742832184],\"y\":[0.20206595957279205],\"z\":[0.1129230186343193],\"type\":\"scatter3d\"},{\"hovertemplate\":\"color=don<br>0=%{x}<br>1=%{y}<br>2=%{z}<extra></extra>\",\"legendgroup\":\"don\",\"marker\":{\"color\":\"#ab63fa\",\"symbol\":\"circle\"},\"mode\":\"markers\",\"name\":\"don\",\"scene\":\"scene\",\"showlegend\":true,\"x\":[0.32214048504829407],\"y\":[0.10416299104690552],\"z\":[0.11044201254844666],\"type\":\"scatter3d\"},{\"hovertemplate\":\"color=easy<br>0=%{x}<br>1=%{y}<br>2=%{z}<extra></extra>\",\"legendgroup\":\"easy\",\"marker\":{\"color\":\"#FFA15A\",\"symbol\":\"circle\"},\"mode\":\"markers\",\"name\":\"easy\",\"scene\":\"scene\",\"showlegend\":true,\"x\":[0.37877053022384644],\"y\":[0.2752845287322998],\"z\":[0.06234923005104065],\"type\":\"scatter3d\"},{\"hovertemplate\":\"color=what<br>0=%{x}<br>1=%{y}<br>2=%{z}<extra></extra>\",\"legendgroup\":\"what\",\"marker\":{\"color\":\"#19d3f3\",\"symbol\":\"circle\"},\"mode\":\"markers\",\"name\":\"what\",\"scene\":\"scene\",\"showlegend\":true,\"x\":[0.41555550694465637],\"y\":[0.020768294110894203],\"z\":[-0.1909065693616867],\"type\":\"scatter3d\"},{\"hovertemplate\":\"color=much<br>0=%{x}<br>1=%{y}<br>2=%{z}<extra></extra>\",\"legendgroup\":\"much\",\"marker\":{\"color\":\"#FF6692\",\"symbol\":\"circle\"},\"mode\":\"markers\",\"name\":\"much\",\"scene\":\"scene\",\"showlegend\":true,\"x\":[0.41517403721809387],\"y\":[0.11098919808864594],\"z\":[-0.015245131216943264],\"type\":\"scatter3d\"},{\"hovertemplate\":\"color=time<br>0=%{x}<br>1=%{y}<br>2=%{z}<extra></extra>\",\"legendgroup\":\"time\",\"marker\":{\"color\":\"#B6E880\",\"symbol\":\"circle\"},\"mode\":\"markers\",\"name\":\"time\",\"scene\":\"scene\",\"showlegend\":true,\"x\":[0.44979265332221985],\"y\":[-0.13417883217334747],\"z\":[0.03992033749818802],\"type\":\"scatter3d\"},{\"hovertemplate\":\"color=price<br>0=%{x}<br>1=%{y}<br>2=%{z}<extra></extra>\",\"legendgroup\":\"price\",\"marker\":{\"color\":\"#FF97FF\",\"symbol\":\"circle\"},\"mode\":\"markers\",\"name\":\"price\",\"scene\":\"scene\",\"showlegend\":true,\"x\":[0.30581140518188477],\"y\":[0.09271272271871567],\"z\":[-0.28488650918006897],\"type\":\"scatter3d\"},{\"hovertemplate\":\"color=used<br>0=%{x}<br>1=%{y}<br>2=%{z}<extra></extra>\",\"legendgroup\":\"used\",\"marker\":{\"color\":\"#FECB52\",\"symbol\":\"circle\"},\"mode\":\"markers\",\"name\":\"used\",\"scene\":\"scene\",\"showlegend\":true,\"x\":[0.25547486543655396],\"y\":[0.061859749257564545],\"z\":[0.08825609087944031],\"type\":\"scatter3d\"},{\"hovertemplate\":\"color=fit<br>0=%{x}<br>1=%{y}<br>2=%{z}<extra></extra>\",\"legendgroup\":\"fit\",\"marker\":{\"color\":\"#636efa\",\"symbol\":\"circle\"},\"mode\":\"markers\",\"name\":\"fit\",\"scene\":\"scene\",\"showlegend\":true,\"x\":[0.4357934892177582],\"y\":[0.3239259719848633],\"z\":[-0.006964932661503553],\"type\":\"scatter3d\"},{\"hovertemplate\":\"color=product<br>0=%{x}<br>1=%{y}<br>2=%{z}<extra></extra>\",\"legendgroup\":\"product\",\"marker\":{\"color\":\"#EF553B\",\"symbol\":\"circle\"},\"mode\":\"markers\",\"name\":\"product\",\"scene\":\"scene\",\"showlegend\":true,\"x\":[0.25519129633903503],\"y\":[-0.016079027205705643],\"z\":[-0.3035980463027954],\"type\":\"scatter3d\"},{\"hovertemplate\":\"color=which<br>0=%{x}<br>1=%{y}<br>2=%{z}<extra></extra>\",\"legendgroup\":\"which\",\"marker\":{\"color\":\"#00cc96\",\"symbol\":\"circle\"},\"mode\":\"markers\",\"name\":\"which\",\"scene\":\"scene\",\"showlegend\":true,\"x\":[0.5526686906814575],\"y\":[0.07407984882593155],\"z\":[-0.09131212532520294],\"type\":\"scatter3d\"},{\"hovertemplate\":\"color=made<br>0=%{x}<br>1=%{y}<br>2=%{z}<extra></extra>\",\"legendgroup\":\"made\",\"marker\":{\"color\":\"#ab63fa\",\"symbol\":\"circle\"},\"mode\":\"markers\",\"name\":\"made\",\"scene\":\"scene\",\"showlegend\":true,\"x\":[0.2463071048259735],\"y\":[0.23813864588737488],\"z\":[-0.07282321900129318],\"type\":\"scatter3d\"},{\"hovertemplate\":\"color=light<br>0=%{x}<br>1=%{y}<br>2=%{z}<extra></extra>\",\"legendgroup\":\"light\",\"marker\":{\"color\":\"#FFA15A\",\"symbol\":\"circle\"},\"mode\":\"markers\",\"name\":\"light\",\"scene\":\"scene\",\"showlegend\":true,\"x\":[0.43016666173934937],\"y\":[0.0893903598189354],\"z\":[0.03064381144940853],\"type\":\"scatter3d\"},{\"hovertemplate\":\"color=nice<br>0=%{x}<br>1=%{y}<br>2=%{z}<extra></extra>\",\"legendgroup\":\"nice\",\"marker\":{\"color\":\"#19d3f3\",\"symbol\":\"circle\"},\"mode\":\"markers\",\"name\":\"nice\",\"scene\":\"scene\",\"showlegend\":true,\"x\":[0.37691614031791687],\"y\":[0.44232335686683655],\"z\":[0.05541910231113434],\"type\":\"scatter3d\"},{\"hovertemplate\":\"color=work<br>0=%{x}<br>1=%{y}<br>2=%{z}<extra></extra>\",\"legendgroup\":\"work\",\"marker\":{\"color\":\"#FF6692\",\"symbol\":\"circle\"},\"mode\":\"markers\",\"name\":\"work\",\"scene\":\"scene\",\"showlegend\":true,\"x\":[0.41207683086395264],\"y\":[0.031974907964468],\"z\":[0.0801825076341629],\"type\":\"scatter3d\"},{\"hovertemplate\":\"color=off<br>0=%{x}<br>1=%{y}<br>2=%{z}<extra></extra>\",\"legendgroup\":\"off\",\"marker\":{\"color\":\"#B6E880\",\"symbol\":\"circle\"},\"mode\":\"markers\",\"name\":\"off\",\"scene\":\"scene\",\"showlegend\":true,\"x\":[0.42242589592933655],\"y\":[0.21716859936714172],\"z\":[0.2638147473335266],\"type\":\"scatter3d\"},{\"hovertemplate\":\"color=too<br>0=%{x}<br>1=%{y}<br>2=%{z}<extra></extra>\",\"legendgroup\":\"too\",\"marker\":{\"color\":\"#FF97FF\",\"symbol\":\"circle\"},\"mode\":\"markers\",\"name\":\"too\",\"scene\":\"scene\",\"showlegend\":true,\"x\":[0.4997815191745758],\"y\":[0.16806034743785858],\"z\":[0.14058855175971985],\"type\":\"scatter3d\"},{\"hovertemplate\":\"color=quality<br>0=%{x}<br>1=%{y}<br>2=%{z}<extra></extra>\",\"legendgroup\":\"quality\",\"marker\":{\"color\":\"#FECB52\",\"symbol\":\"circle\"},\"mode\":\"markers\",\"name\":\"quality\",\"scene\":\"scene\",\"showlegend\":true,\"x\":[0.26332712173461914],\"y\":[0.21410344541072845],\"z\":[-0.21906231343746185],\"type\":\"scatter3d\"},{\"hovertemplate\":\"color=works<br>0=%{x}<br>1=%{y}<br>2=%{z}<extra></extra>\",\"legendgroup\":\"works\",\"marker\":{\"color\":\"#636efa\",\"symbol\":\"circle\"},\"mode\":\"markers\",\"name\":\"works\",\"scene\":\"scene\",\"showlegend\":true,\"x\":[0.29774531722068787],\"y\":[0.19972115755081177],\"z\":[0.025685954838991165],\"type\":\"scatter3d\"},{\"hovertemplate\":\"color=after<br>0=%{x}<br>1=%{y}<br>2=%{z}<extra></extra>\",\"legendgroup\":\"after\",\"marker\":{\"color\":\"#EF553B\",\"symbol\":\"circle\"},\"mode\":\"markers\",\"name\":\"after\",\"scene\":\"scene\",\"showlegend\":true,\"x\":[0.2288232445716858],\"y\":[0.07653229683637619],\"z\":[0.14926904439926147],\"type\":\"scatter3d\"},{\"hovertemplate\":\"color=bought<br>0=%{x}<br>1=%{y}<br>2=%{z}<extra></extra>\",\"legendgroup\":\"bought\",\"marker\":{\"color\":\"#00cc96\",\"symbol\":\"circle\"},\"mode\":\"markers\",\"name\":\"bought\",\"scene\":\"scene\",\"showlegend\":true,\"x\":[0.13002702593803406],\"y\":[0.08124116063117981],\"z\":[-0.24456726014614105],\"type\":\"scatter3d\"},{\"hovertemplate\":\"color=because<br>0=%{x}<br>1=%{y}<br>2=%{z}<extra></extra>\",\"legendgroup\":\"because\",\"marker\":{\"color\":\"#ab63fa\",\"symbol\":\"circle\"},\"mode\":\"markers\",\"name\":\"because\",\"scene\":\"scene\",\"showlegend\":true,\"x\":[0.48127317428588867],\"y\":[0.10027681291103363],\"z\":[-0.007922222837805748],\"type\":\"scatter3d\"},{\"hovertemplate\":\"color=any<br>0=%{x}<br>1=%{y}<br>2=%{z}<extra></extra>\",\"legendgroup\":\"any\",\"marker\":{\"color\":\"#FFA15A\",\"symbol\":\"circle\"},\"mode\":\"markers\",\"name\":\"any\",\"scene\":\"scene\",\"showlegend\":true,\"x\":[0.37067711353302],\"y\":[0.10898848623037338],\"z\":[0.043485578149557114],\"type\":\"scatter3d\"},{\"hovertemplate\":\"color=need<br>0=%{x}<br>1=%{y}<br>2=%{z}<extra></extra>\",\"legendgroup\":\"need\",\"marker\":{\"color\":\"#19d3f3\",\"symbol\":\"circle\"},\"mode\":\"markers\",\"name\":\"need\",\"scene\":\"scene\",\"showlegend\":true,\"x\":[0.42535126209259033],\"y\":[0.11364319175481796],\"z\":[0.10585394501686096],\"type\":\"scatter3d\"},{\"hovertemplate\":\"color=bike<br>0=%{x}<br>1=%{y}<br>2=%{z}<extra></extra>\",\"legendgroup\":\"bike\",\"marker\":{\"color\":\"#FF6692\",\"symbol\":\"circle\"},\"mode\":\"markers\",\"name\":\"bike\",\"scene\":\"scene\",\"showlegend\":true,\"x\":[0.42645034193992615],\"y\":[-0.03200218826532364],\"z\":[-0.10935323685407639],\"type\":\"scatter3d\"},{\"hovertemplate\":\"color=even<br>0=%{x}<br>1=%{y}<br>2=%{z}<extra></extra>\",\"legendgroup\":\"even\",\"marker\":{\"color\":\"#B6E880\",\"symbol\":\"circle\"},\"mode\":\"markers\",\"name\":\"even\",\"scene\":\"scene\",\"showlegend\":true,\"x\":[0.4943467080593109],\"y\":[0.05317409336566925],\"z\":[0.24484680593013763],\"type\":\"scatter3d\"},{\"hovertemplate\":\"color=its<br>0=%{x}<br>1=%{y}<br>2=%{z}<extra></extra>\",\"legendgroup\":\"its\",\"marker\":{\"color\":\"#FF97FF\",\"symbol\":\"circle\"},\"mode\":\"markers\",\"name\":\"its\",\"scene\":\"scene\",\"showlegend\":true,\"x\":[0.45791375637054443],\"y\":[0.16803137958049774],\"z\":[0.01883394829928875],\"type\":\"scatter3d\"},{\"hovertemplate\":\"color=better<br>0=%{x}<br>1=%{y}<br>2=%{z}<extra></extra>\",\"legendgroup\":\"better\",\"marker\":{\"color\":\"#FECB52\",\"symbol\":\"circle\"},\"mode\":\"markers\",\"name\":\"better\",\"scene\":\"scene\",\"showlegend\":true,\"x\":[0.3712623715400696],\"y\":[0.20844712853431702],\"z\":[-0.12013254314661026],\"type\":\"scatter3d\"},{\"hovertemplate\":\"color=back<br>0=%{x}<br>1=%{y}<br>2=%{z}<extra></extra>\",\"legendgroup\":\"back\",\"marker\":{\"color\":\"#636efa\",\"symbol\":\"circle\"},\"mode\":\"markers\",\"name\":\"back\",\"scene\":\"scene\",\"showlegend\":true,\"x\":[0.4690474569797516],\"y\":[0.10688871890306473],\"z\":[0.2043408751487732],\"type\":\"scatter3d\"},{\"hovertemplate\":\"color=bag<br>0=%{x}<br>1=%{y}<br>2=%{z}<extra></extra>\",\"legendgroup\":\"bag\",\"marker\":{\"color\":\"#EF553B\",\"symbol\":\"circle\"},\"mode\":\"markers\",\"name\":\"bag\",\"scene\":\"scene\",\"showlegend\":true,\"x\":[0.41321271657943726],\"y\":[-0.06835059821605682],\"z\":[0.030760766938328743],\"type\":\"scatter3d\"},{\"hovertemplate\":\"color=does<br>0=%{x}<br>1=%{y}<br>2=%{z}<extra></extra>\",\"legendgroup\":\"does\",\"marker\":{\"color\":\"#00cc96\",\"symbol\":\"circle\"},\"mode\":\"markers\",\"name\":\"does\",\"scene\":\"scene\",\"showlegend\":true,\"x\":[0.35602298378944397],\"y\":[0.22833770513534546],\"z\":[0.10242429375648499],\"type\":\"scatter3d\"},{\"hovertemplate\":\"color=small<br>0=%{x}<br>1=%{y}<br>2=%{z}<extra></extra>\",\"legendgroup\":\"small\",\"marker\":{\"color\":\"#ab63fa\",\"symbol\":\"circle\"},\"mode\":\"markers\",\"name\":\"small\",\"scene\":\"scene\",\"showlegend\":true,\"x\":[0.40869221091270447],\"y\":[0.247014582157135],\"z\":[0.12683594226837158],\"type\":\"scatter3d\"},{\"hovertemplate\":\"color=ve<br>0=%{x}<br>1=%{y}<br>2=%{z}<extra></extra>\",\"legendgroup\":\"ve\",\"marker\":{\"color\":\"#FFA15A\",\"symbol\":\"circle\"},\"mode\":\"markers\",\"name\":\"ve\",\"scene\":\"scene\",\"showlegend\":true,\"x\":[0.21258597075939178],\"y\":[-0.02967672608792782],\"z\":[-0.018400024622678757],\"type\":\"scatter3d\"},{\"hovertemplate\":\"color=put<br>0=%{x}<br>1=%{y}<br>2=%{z}<extra></extra>\",\"legendgroup\":\"put\",\"marker\":{\"color\":\"#19d3f3\",\"symbol\":\"circle\"},\"mode\":\"markers\",\"name\":\"put\",\"scene\":\"scene\",\"showlegend\":true,\"x\":[0.45808088779449463],\"y\":[0.2029312252998352],\"z\":[0.2837930917739868],\"type\":\"scatter3d\"},{\"hovertemplate\":\"color=am<br>0=%{x}<br>1=%{y}<br>2=%{z}<extra></extra>\",\"legendgroup\":\"am\",\"marker\":{\"color\":\"#FF6692\",\"symbol\":\"circle\"},\"mode\":\"markers\",\"name\":\"am\",\"scene\":\"scene\",\"showlegend\":true,\"x\":[0.19752168655395508],\"y\":[-0.0025808855425566435],\"z\":[-0.12495741993188858],\"type\":\"scatter3d\"},{\"hovertemplate\":\"color=by<br>0=%{x}<br>1=%{y}<br>2=%{z}<extra></extra>\",\"legendgroup\":\"by\",\"marker\":{\"color\":\"#B6E880\",\"symbol\":\"circle\"},\"mode\":\"markers\",\"name\":\"by\",\"scene\":\"scene\",\"showlegend\":true,\"x\":[0.22369100153446198],\"y\":[0.12354448437690735],\"z\":[-0.01846587099134922],\"type\":\"scatter3d\"},{\"hovertemplate\":\"color=over<br>0=%{x}<br>1=%{y}<br>2=%{z}<extra></extra>\",\"legendgroup\":\"over\",\"marker\":{\"color\":\"#FF97FF\",\"symbol\":\"circle\"},\"mode\":\"markers\",\"name\":\"over\",\"scene\":\"scene\",\"showlegend\":true,\"x\":[0.3159109652042389],\"y\":[0.15285728871822357],\"z\":[0.20506466925144196],\"type\":\"scatter3d\"},{\"hovertemplate\":\"color=two<br>0=%{x}<br>1=%{y}<br>2=%{z}<extra></extra>\",\"legendgroup\":\"two\",\"marker\":{\"color\":\"#FECB52\",\"symbol\":\"circle\"},\"mode\":\"markers\",\"name\":\"two\",\"scene\":\"scene\",\"showlegend\":true,\"x\":[0.2946273982524872],\"y\":[0.18164612352848053],\"z\":[-0.04779037460684776],\"type\":\"scatter3d\"},{\"hovertemplate\":\"color=buy<br>0=%{x}<br>1=%{y}<br>2=%{z}<extra></extra>\",\"legendgroup\":\"buy\",\"marker\":{\"color\":\"#636efa\",\"symbol\":\"circle\"},\"mode\":\"markers\",\"name\":\"buy\",\"scene\":\"scene\",\"showlegend\":true,\"x\":[0.33451205492019653],\"y\":[0.05853840708732605],\"z\":[-0.15769478678703308],\"type\":\"scatter3d\"},{\"hovertemplate\":\"color=enough<br>0=%{x}<br>1=%{y}<br>2=%{z}<extra></extra>\",\"legendgroup\":\"enough\",\"marker\":{\"color\":\"#EF553B\",\"symbol\":\"circle\"},\"mode\":\"markers\",\"name\":\"enough\",\"scene\":\"scene\",\"showlegend\":true,\"x\":[0.4462292492389679],\"y\":[0.15264767408370972],\"z\":[0.21921822428703308],\"type\":\"scatter3d\"},{\"hovertemplate\":\"color=got<br>0=%{x}<br>1=%{y}<br>2=%{z}<extra></extra>\",\"legendgroup\":\"got\",\"marker\":{\"color\":\"#00cc96\",\"symbol\":\"circle\"},\"mode\":\"markers\",\"name\":\"got\",\"scene\":\"scene\",\"showlegend\":true,\"x\":[0.18617060780525208],\"y\":[0.04557037726044655],\"z\":[-0.01560969278216362],\"type\":\"scatter3d\"},{\"hovertemplate\":\"color=first<br>0=%{x}<br>1=%{y}<br>2=%{z}<extra></extra>\",\"legendgroup\":\"first\",\"marker\":{\"color\":\"#ab63fa\",\"symbol\":\"circle\"},\"mode\":\"markers\",\"name\":\"first\",\"scene\":\"scene\",\"showlegend\":true,\"x\":[0.3407764732837677],\"y\":[0.05476248636841774],\"z\":[-0.03420446813106537],\"type\":\"scatter3d\"},{\"hovertemplate\":\"color=still<br>0=%{x}<br>1=%{y}<br>2=%{z}<extra></extra>\",\"legendgroup\":\"still\",\"marker\":{\"color\":\"#FFA15A\",\"symbol\":\"circle\"},\"mode\":\"markers\",\"name\":\"still\",\"scene\":\"scene\",\"showlegend\":true,\"x\":[0.44675305485725403],\"y\":[0.07068566232919693],\"z\":[0.15074755251407623],\"type\":\"scatter3d\"},{\"hovertemplate\":\"color=could<br>0=%{x}<br>1=%{y}<br>2=%{z}<extra></extra>\",\"legendgroup\":\"could\",\"marker\":{\"color\":\"#19d3f3\",\"symbol\":\"circle\"},\"mode\":\"markers\",\"name\":\"could\",\"scene\":\"scene\",\"showlegend\":true,\"x\":[0.34459003806114197],\"y\":[0.1468735933303833],\"z\":[0.06238896772265434],\"type\":\"scatter3d\"},{\"hovertemplate\":\"color=way<br>0=%{x}<br>1=%{y}<br>2=%{z}<extra></extra>\",\"legendgroup\":\"way\",\"marker\":{\"color\":\"#FF6692\",\"symbol\":\"circle\"},\"mode\":\"markers\",\"name\":\"way\",\"scene\":\"scene\",\"showlegend\":true,\"x\":[0.5673693418502808],\"y\":[0.11093467473983765],\"z\":[0.08693182468414307],\"type\":\"scatter3d\"},{\"hovertemplate\":\"color=into<br>0=%{x}<br>1=%{y}<br>2=%{z}<extra></extra>\",\"legendgroup\":\"into\",\"marker\":{\"color\":\"#B6E880\",\"symbol\":\"circle\"},\"mode\":\"markers\",\"name\":\"into\",\"scene\":\"scene\",\"showlegend\":true,\"x\":[0.3413321375846863],\"y\":[0.24468518793582916],\"z\":[0.2693338990211487],\"type\":\"scatter3d\"},{\"hovertemplate\":\"color=size<br>0=%{x}<br>1=%{y}<br>2=%{z}<extra></extra>\",\"legendgroup\":\"size\",\"marker\":{\"color\":\"#FF97FF\",\"symbol\":\"circle\"},\"mode\":\"markers\",\"name\":\"size\",\"scene\":\"scene\",\"showlegend\":true,\"x\":[0.42647403478622437],\"y\":[0.09656152129173279],\"z\":[-0.14234298467636108],\"type\":\"scatter3d\"},{\"hovertemplate\":\"color=down<br>0=%{x}<br>1=%{y}<br>2=%{z}<extra></extra>\",\"legendgroup\":\"down\",\"marker\":{\"color\":\"#FECB52\",\"symbol\":\"circle\"},\"mode\":\"markers\",\"name\":\"down\",\"scene\":\"scene\",\"showlegend\":true,\"x\":[0.48235538601875305],\"y\":[0.22573843598365784],\"z\":[0.33420330286026],\"type\":\"scatter3d\"},{\"hovertemplate\":\"color=recommend<br>0=%{x}<br>1=%{y}<br>2=%{z}<extra></extra>\",\"legendgroup\":\"recommend\",\"marker\":{\"color\":\"#636efa\",\"symbol\":\"circle\"},\"mode\":\"markers\",\"name\":\"recommend\",\"scene\":\"scene\",\"showlegend\":true,\"x\":[0.20132967829704285],\"y\":[0.18233172595500946],\"z\":[-0.02704940363764763],\"type\":\"scatter3d\"},{\"hovertemplate\":\"color=make<br>0=%{x}<br>1=%{y}<br>2=%{z}<extra></extra>\",\"legendgroup\":\"make\",\"marker\":{\"color\":\"#EF553B\",\"symbol\":\"circle\"},\"mode\":\"markers\",\"name\":\"make\",\"scene\":\"scene\",\"showlegend\":true,\"x\":[0.3539167642593384],\"y\":[0.1991153508424759],\"z\":[0.14613869786262512],\"type\":\"scatter3d\"},{\"hovertemplate\":\"color=using<br>0=%{x}<br>1=%{y}<br>2=%{z}<extra></extra>\",\"legendgroup\":\"using\",\"marker\":{\"color\":\"#00cc96\",\"symbol\":\"circle\"},\"mode\":\"markers\",\"name\":\"using\",\"scene\":\"scene\",\"showlegend\":true,\"x\":[0.32558128237724304],\"y\":[0.06861264258623123],\"z\":[0.10618625581264496],\"type\":\"scatter3d\"},{\"hovertemplate\":\"color=now<br>0=%{x}<br>1=%{y}<br>2=%{z}<extra></extra>\",\"legendgroup\":\"now\",\"marker\":{\"color\":\"#ab63fa\",\"symbol\":\"circle\"},\"mode\":\"markers\",\"name\":\"now\",\"scene\":\"scene\",\"showlegend\":true,\"x\":[0.28839659690856934],\"y\":[-0.042508289217948914],\"z\":[-0.12365122139453888],\"type\":\"scatter3d\"},{\"hovertemplate\":\"color=then<br>0=%{x}<br>1=%{y}<br>2=%{z}<extra></extra>\",\"legendgroup\":\"then\",\"marker\":{\"color\":\"#FFA15A\",\"symbol\":\"circle\"},\"mode\":\"markers\",\"name\":\"then\",\"scene\":\"scene\",\"showlegend\":true,\"x\":[0.4303453862667084],\"y\":[0.0671643391251564],\"z\":[0.19833257794380188],\"type\":\"scatter3d\"},{\"hovertemplate\":\"color=around<br>0=%{x}<br>1=%{y}<br>2=%{z}<extra></extra>\",\"legendgroup\":\"around\",\"marker\":{\"color\":\"#19d3f3\",\"symbol\":\"circle\"},\"mode\":\"markers\",\"name\":\"around\",\"scene\":\"scene\",\"showlegend\":true,\"x\":[0.3560197353363037],\"y\":[0.11477874964475632],\"z\":[0.27876463532447815],\"type\":\"scatter3d\"},{\"hovertemplate\":\"color=water<br>0=%{x}<br>1=%{y}<br>2=%{z}<extra></extra>\",\"legendgroup\":\"water\",\"marker\":{\"color\":\"#FF6692\",\"symbol\":\"circle\"},\"mode\":\"markers\",\"name\":\"water\",\"scene\":\"scene\",\"showlegend\":true,\"x\":[0.40623998641967773],\"y\":[-0.3492741882801056],\"z\":[0.3336668610572815],\"type\":\"scatter3d\"},{\"hovertemplate\":\"color=go<br>0=%{x}<br>1=%{y}<br>2=%{z}<extra></extra>\",\"legendgroup\":\"go\",\"marker\":{\"color\":\"#B6E880\",\"symbol\":\"circle\"},\"mode\":\"markers\",\"name\":\"go\",\"scene\":\"scene\",\"showlegend\":true,\"x\":[0.40425536036491394],\"y\":[-0.07301206141710281],\"z\":[0.007379760034382343],\"type\":\"scatter3d\"},{\"hovertemplate\":\"color=blade<br>0=%{x}<br>1=%{y}<br>2=%{z}<extra></extra>\",\"legendgroup\":\"blade\",\"marker\":{\"color\":\"#FF97FF\",\"symbol\":\"circle\"},\"mode\":\"markers\",\"name\":\"blade\",\"scene\":\"scene\",\"showlegend\":true,\"x\":[0.39058414101600647],\"y\":[0.11084084957838058],\"z\":[-0.010103888809680939],\"type\":\"scatter3d\"},{\"hovertemplate\":\"color=long<br>0=%{x}<br>1=%{y}<br>2=%{z}<extra></extra>\",\"legendgroup\":\"long\",\"marker\":{\"color\":\"#FECB52\",\"symbol\":\"circle\"},\"mode\":\"markers\",\"name\":\"long\",\"scene\":\"scene\",\"showlegend\":true,\"x\":[0.41279441118240356],\"y\":[0.09529265016317368],\"z\":[0.0843452736735344],\"type\":\"scatter3d\"},{\"hovertemplate\":\"color=how<br>0=%{x}<br>1=%{y}<br>2=%{z}<extra></extra>\",\"legendgroup\":\"how\",\"marker\":{\"color\":\"#636efa\",\"symbol\":\"circle\"},\"mode\":\"markers\",\"name\":\"how\",\"scene\":\"scene\",\"showlegend\":true,\"x\":[0.445946604013443],\"y\":[0.01283931639045477],\"z\":[0.006083866581320763],\"type\":\"scatter3d\"},{\"hovertemplate\":\"color=thing<br>0=%{x}<br>1=%{y}<br>2=%{z}<extra></extra>\",\"legendgroup\":\"thing\",\"marker\":{\"color\":\"#EF553B\",\"symbol\":\"circle\"},\"mode\":\"markers\",\"name\":\"thing\",\"scene\":\"scene\",\"showlegend\":true,\"x\":[0.502170979976654],\"y\":[-0.0192936472594738],\"z\":[0.012132775038480759],\"type\":\"scatter3d\"},{\"hovertemplate\":\"color=bit<br>0=%{x}<br>1=%{y}<br>2=%{z}<extra></extra>\",\"legendgroup\":\"bit\",\"marker\":{\"color\":\"#00cc96\",\"symbol\":\"circle\"},\"mode\":\"markers\",\"name\":\"bit\",\"scene\":\"scene\",\"showlegend\":true,\"x\":[0.5131577849388123],\"y\":[0.24384059011936188],\"z\":[0.20587877929210663],\"type\":\"scatter3d\"},{\"hovertemplate\":\"color=while<br>0=%{x}<br>1=%{y}<br>2=%{z}<extra></extra>\",\"legendgroup\":\"while\",\"marker\":{\"color\":\"#ab63fa\",\"symbol\":\"circle\"},\"mode\":\"markers\",\"name\":\"while\",\"scene\":\"scene\",\"showlegend\":true,\"x\":[0.3874155282974243],\"y\":[-0.024693818762898445],\"z\":[0.24134403467178345],\"type\":\"scatter3d\"},{\"hovertemplate\":\"color=keep<br>0=%{x}<br>1=%{y}<br>2=%{z}<extra></extra>\",\"legendgroup\":\"keep\",\"marker\":{\"color\":\"#FFA15A\",\"symbol\":\"circle\"},\"mode\":\"markers\",\"name\":\"keep\",\"scene\":\"scene\",\"showlegend\":true,\"x\":[0.34926506876945496],\"y\":[0.03506048768758774],\"z\":[0.30511850118637085],\"type\":\"scatter3d\"},{\"hovertemplate\":\"color=want<br>0=%{x}<br>1=%{y}<br>2=%{z}<extra></extra>\",\"legendgroup\":\"want\",\"marker\":{\"color\":\"#19d3f3\",\"symbol\":\"circle\"},\"mode\":\"markers\",\"name\":\"want\",\"scene\":\"scene\",\"showlegend\":true,\"x\":[0.36710798740386963],\"y\":[0.06330316513776779],\"z\":[0.04570654407143593],\"type\":\"scatter3d\"},{\"hovertemplate\":\"color=we<br>0=%{x}<br>1=%{y}<br>2=%{z}<extra></extra>\",\"legendgroup\":\"we\",\"marker\":{\"color\":\"#FF6692\",\"symbol\":\"circle\"},\"mode\":\"markers\",\"name\":\"we\",\"scene\":\"scene\",\"showlegend\":true,\"x\":[0.3217571973800659],\"y\":[-0.40799111127853394],\"z\":[0.022067667916417122],\"type\":\"scatter3d\"},{\"hovertemplate\":\"color=right<br>0=%{x}<br>1=%{y}<br>2=%{z}<extra></extra>\",\"legendgroup\":\"right\",\"marker\":{\"color\":\"#B6E880\",\"symbol\":\"circle\"},\"mode\":\"markers\",\"name\":\"right\",\"scene\":\"scene\",\"showlegend\":true,\"x\":[0.4453459084033966],\"y\":[0.28922703862190247],\"z\":[0.06472931057214737],\"type\":\"scatter3d\"},{\"hovertemplate\":\"color=were<br>0=%{x}<br>1=%{y}<br>2=%{z}<extra></extra>\",\"legendgroup\":\"were\",\"marker\":{\"color\":\"#FF97FF\",\"symbol\":\"circle\"},\"mode\":\"markers\",\"name\":\"were\",\"scene\":\"scene\",\"showlegend\":true,\"x\":[0.17209675908088684],\"y\":[0.11015858501195908],\"z\":[0.07039956003427505],\"type\":\"scatter3d\"},{\"hovertemplate\":\"color=been<br>0=%{x}<br>1=%{y}<br>2=%{z}<extra></extra>\",\"legendgroup\":\"been\",\"marker\":{\"color\":\"#FECB52\",\"symbol\":\"circle\"},\"mode\":\"markers\",\"name\":\"been\",\"scene\":\"scene\",\"showlegend\":true,\"x\":[0.19814342260360718],\"y\":[-0.0412510447204113],\"z\":[-0.0720347911119461],\"type\":\"scatter3d\"},{\"hovertemplate\":\"color=gun<br>0=%{x}<br>1=%{y}<br>2=%{z}<extra></extra>\",\"legendgroup\":\"gun\",\"marker\":{\"color\":\"#636efa\",\"symbol\":\"circle\"},\"mode\":\"markers\",\"name\":\"gun\",\"scene\":\"scene\",\"showlegend\":true,\"x\":[0.44814807176589966],\"y\":[0.18146231770515442],\"z\":[-0.12782345712184906],\"type\":\"scatter3d\"},{\"hovertemplate\":\"color=did<br>0=%{x}<br>1=%{y}<br>2=%{z}<extra></extra>\",\"legendgroup\":\"did\",\"marker\":{\"color\":\"#EF553B\",\"symbol\":\"circle\"},\"mode\":\"markers\",\"name\":\"did\",\"scene\":\"scene\",\"showlegend\":true,\"x\":[0.2798061668872833],\"y\":[0.13073669373989105],\"z\":[0.04489332064986229],\"type\":\"scatter3d\"},{\"hovertemplate\":\"color=see<br>0=%{x}<br>1=%{y}<br>2=%{z}<extra></extra>\",\"legendgroup\":\"see\",\"marker\":{\"color\":\"#00cc96\",\"symbol\":\"circle\"},\"mode\":\"markers\",\"name\":\"see\",\"scene\":\"scene\",\"showlegend\":true,\"x\":[0.37295395135879517],\"y\":[0.00749014550819993],\"z\":[0.026953060179948807],\"type\":\"scatter3d\"},{\"hovertemplate\":\"color=few<br>0=%{x}<br>1=%{y}<br>2=%{z}<extra></extra>\",\"legendgroup\":\"few\",\"marker\":{\"color\":\"#ab63fa\",\"symbol\":\"circle\"},\"mode\":\"markers\",\"name\":\"few\",\"scene\":\"scene\",\"showlegend\":true,\"x\":[0.2288789004087448],\"y\":[0.08990289270877838],\"z\":[0.07393325865268707],\"type\":\"scatter3d\"},{\"hovertemplate\":\"color=perfect<br>0=%{x}<br>1=%{y}<br>2=%{z}<extra></extra>\",\"legendgroup\":\"perfect\",\"marker\":{\"color\":\"#FFA15A\",\"symbol\":\"circle\"},\"mode\":\"markers\",\"name\":\"perfect\",\"scene\":\"scene\",\"showlegend\":true,\"x\":[0.2885509729385376],\"y\":[0.3053347170352936],\"z\":[-0.10128127038478851],\"type\":\"scatter3d\"},{\"hovertemplate\":\"color=love<br>0=%{x}<br>1=%{y}<br>2=%{z}<extra></extra>\",\"legendgroup\":\"love\",\"marker\":{\"color\":\"#19d3f3\",\"symbol\":\"circle\"},\"mode\":\"markers\",\"name\":\"love\",\"scene\":\"scene\",\"showlegend\":true,\"x\":[0.1449260115623474],\"y\":[0.2086731642484665],\"z\":[-0.06181453913450241],\"type\":\"scatter3d\"},{\"hovertemplate\":\"color=think<br>0=%{x}<br>1=%{y}<br>2=%{z}<extra></extra>\",\"legendgroup\":\"think\",\"marker\":{\"color\":\"#FF6692\",\"symbol\":\"circle\"},\"mode\":\"markers\",\"name\":\"think\",\"scene\":\"scene\",\"showlegend\":true,\"x\":[0.44473451375961304],\"y\":[0.008960595354437828],\"z\":[-0.05879557132720947],\"type\":\"scatter3d\"},{\"hovertemplate\":\"color=set<br>0=%{x}<br>1=%{y}<br>2=%{z}<extra></extra>\",\"legendgroup\":\"set\",\"marker\":{\"color\":\"#B6E880\",\"symbol\":\"circle\"},\"mode\":\"markers\",\"name\":\"set\",\"scene\":\"scene\",\"showlegend\":true,\"x\":[0.4128500819206238],\"y\":[0.08473239094018936],\"z\":[-0.08203204721212387],\"type\":\"scatter3d\"},{\"hovertemplate\":\"color=without<br>0=%{x}<br>1=%{y}<br>2=%{z}<extra></extra>\",\"legendgroup\":\"without\",\"marker\":{\"color\":\"#FF97FF\",\"symbol\":\"circle\"},\"mode\":\"markers\",\"name\":\"without\",\"scene\":\"scene\",\"showlegend\":true,\"x\":[0.2538071870803833],\"y\":[0.2553970217704773],\"z\":[0.2268398553133011],\"type\":\"scatter3d\"},{\"hovertemplate\":\"color=re<br>0=%{x}<br>1=%{y}<br>2=%{z}<extra></extra>\",\"legendgroup\":\"re\",\"marker\":{\"color\":\"#FECB52\",\"symbol\":\"circle\"},\"mode\":\"markers\",\"name\":\"re\",\"scene\":\"scene\",\"showlegend\":true,\"x\":[0.25572407245635986],\"y\":[0.07959549129009247],\"z\":[0.15768234431743622],\"type\":\"scatter3d\"},{\"hovertemplate\":\"color=fits<br>0=%{x}<br>1=%{y}<br>2=%{z}<extra></extra>\",\"legendgroup\":\"fits\",\"marker\":{\"color\":\"#636efa\",\"symbol\":\"circle\"},\"mode\":\"markers\",\"name\":\"fits\",\"scene\":\"scene\",\"showlegend\":true,\"x\":[0.32467031478881836],\"y\":[0.34226417541503906],\"z\":[0.0014070336474105716],\"type\":\"scatter3d\"},{\"hovertemplate\":\"color=pretty<br>0=%{x}<br>1=%{y}<br>2=%{z}<extra></extra>\",\"legendgroup\":\"pretty\",\"marker\":{\"color\":\"#EF553B\",\"symbol\":\"circle\"},\"mode\":\"markers\",\"name\":\"pretty\",\"scene\":\"scene\",\"showlegend\":true,\"x\":[0.4029708206653595],\"y\":[0.2053489238023758],\"z\":[0.12486739456653595],\"type\":\"scatter3d\"},{\"hovertemplate\":\"color=handle<br>0=%{x}<br>1=%{y}<br>2=%{z}<extra></extra>\",\"legendgroup\":\"handle\",\"marker\":{\"color\":\"#00cc96\",\"symbol\":\"circle\"},\"mode\":\"markers\",\"name\":\"handle\",\"scene\":\"scene\",\"showlegend\":true,\"x\":[0.49331822991371155],\"y\":[0.3413817584514618],\"z\":[0.15068665146827698],\"type\":\"scatter3d\"},{\"hovertemplate\":\"color=lot<br>0=%{x}<br>1=%{y}<br>2=%{z}<extra></extra>\",\"legendgroup\":\"lot\",\"marker\":{\"color\":\"#ab63fa\",\"symbol\":\"circle\"},\"mode\":\"markers\",\"name\":\"lot\",\"scene\":\"scene\",\"showlegend\":true,\"x\":[0.32159194350242615],\"y\":[-0.01508786529302597],\"z\":[0.023673539981245995],\"type\":\"scatter3d\"},{\"hovertemplate\":\"color=take<br>0=%{x}<br>1=%{y}<br>2=%{z}<extra></extra>\",\"legendgroup\":\"take\",\"marker\":{\"color\":\"#FFA15A\",\"symbol\":\"circle\"},\"mode\":\"markers\",\"name\":\"take\",\"scene\":\"scene\",\"showlegend\":true,\"x\":[0.4163014888763428],\"y\":[0.010743369348347187],\"z\":[0.21448521316051483],\"type\":\"scatter3d\"},{\"hovertemplate\":\"color=most<br>0=%{x}<br>1=%{y}<br>2=%{z}<extra></extra>\",\"legendgroup\":\"most\",\"marker\":{\"color\":\"#19d3f3\",\"symbol\":\"circle\"},\"mode\":\"markers\",\"name\":\"most\",\"scene\":\"scene\",\"showlegend\":true,\"x\":[0.30060821771621704],\"y\":[0.04746513068675995],\"z\":[-0.09478909522294998],\"type\":\"scatter3d\"},{\"hovertemplate\":\"color=case<br>0=%{x}<br>1=%{y}<br>2=%{z}<extra></extra>\",\"legendgroup\":\"case\",\"marker\":{\"color\":\"#FF6692\",\"symbol\":\"circle\"},\"mode\":\"markers\",\"name\":\"case\",\"scene\":\"scene\",\"showlegend\":true,\"x\":[0.3925536572933197],\"y\":[0.19087530672550201],\"z\":[-0.09849753975868225],\"type\":\"scatter3d\"},{\"hovertemplate\":\"color=sure<br>0=%{x}<br>1=%{y}<br>2=%{z}<extra></extra>\",\"legendgroup\":\"sure\",\"marker\":{\"color\":\"#B6E880\",\"symbol\":\"circle\"},\"mode\":\"markers\",\"name\":\"sure\",\"scene\":\"scene\",\"showlegend\":true,\"x\":[0.4563111960887909],\"y\":[0.07789917290210724],\"z\":[0.029676107689738274],\"type\":\"scatter3d\"},{\"hovertemplate\":\"color=should<br>0=%{x}<br>1=%{y}<br>2=%{z}<extra></extra>\",\"legendgroup\":\"should\",\"marker\":{\"color\":\"#FF97FF\",\"symbol\":\"circle\"},\"mode\":\"markers\",\"name\":\"should\",\"scene\":\"scene\",\"showlegend\":true,\"x\":[0.2713627219200134],\"y\":[0.17412199079990387],\"z\":[-0.05754447355866432],\"type\":\"scatter3d\"},{\"hovertemplate\":\"color=easily<br>0=%{x}<br>1=%{y}<br>2=%{z}<extra></extra>\",\"legendgroup\":\"easily\",\"marker\":{\"color\":\"#FECB52\",\"symbol\":\"circle\"},\"mode\":\"markers\",\"name\":\"easily\",\"scene\":\"scene\",\"showlegend\":true,\"x\":[0.4366353750228882],\"y\":[0.34889522194862366],\"z\":[0.22540804743766785],\"type\":\"scatter3d\"},{\"hovertemplate\":\"color=scope<br>0=%{x}<br>1=%{y}<br>2=%{z}<extra></extra>\",\"legendgroup\":\"scope\",\"marker\":{\"color\":\"#636efa\",\"symbol\":\"circle\"},\"mode\":\"markers\",\"name\":\"scope\",\"scene\":\"scene\",\"showlegend\":true,\"x\":[0.3835548460483551],\"y\":[0.2543611228466034],\"z\":[-0.27483466267585754],\"type\":\"scatter3d\"},{\"hovertemplate\":\"color=carry<br>0=%{x}<br>1=%{y}<br>2=%{z}<extra></extra>\",\"legendgroup\":\"carry\",\"marker\":{\"color\":\"#EF553B\",\"symbol\":\"circle\"},\"mode\":\"markers\",\"name\":\"carry\",\"scene\":\"scene\",\"showlegend\":true,\"x\":[0.389278769493103],\"y\":[0.05419974401593208],\"z\":[0.004904075525701046],\"type\":\"scatter3d\"},{\"hovertemplate\":\"color=weight<br>0=%{x}<br>1=%{y}<br>2=%{z}<extra></extra>\",\"legendgroup\":\"weight\",\"marker\":{\"color\":\"#00cc96\",\"symbol\":\"circle\"},\"mode\":\"markers\",\"name\":\"weight\",\"scene\":\"scene\",\"showlegend\":true,\"x\":[0.4362618625164032],\"y\":[0.11018835753202438],\"z\":[0.053180865943431854],\"type\":\"scatter3d\"},{\"hovertemplate\":\"color=side<br>0=%{x}<br>1=%{y}<br>2=%{z}<extra></extra>\",\"legendgroup\":\"side\",\"marker\":{\"color\":\"#ab63fa\",\"symbol\":\"circle\"},\"mode\":\"markers\",\"name\":\"side\",\"scene\":\"scene\",\"showlegend\":true,\"x\":[0.5471948981285095],\"y\":[0.2990599572658539],\"z\":[0.16788648068904877],\"type\":\"scatter3d\"},{\"hovertemplate\":\"color=big<br>0=%{x}<br>1=%{y}<br>2=%{z}<extra></extra>\",\"legendgroup\":\"big\",\"marker\":{\"color\":\"#FFA15A\",\"symbol\":\"circle\"},\"mode\":\"markers\",\"name\":\"big\",\"scene\":\"scene\",\"showlegend\":true,\"x\":[0.3847978711128235],\"y\":[0.15899384021759033],\"z\":[0.007134325336664915],\"type\":\"scatter3d\"},{\"hovertemplate\":\"color=hold<br>0=%{x}<br>1=%{y}<br>2=%{z}<extra></extra>\",\"legendgroup\":\"hold\",\"marker\":{\"color\":\"#19d3f3\",\"symbol\":\"circle\"},\"mode\":\"markers\",\"name\":\"hold\",\"scene\":\"scene\",\"showlegend\":true,\"x\":[0.4863618314266205],\"y\":[0.29151901602745056],\"z\":[0.24257102608680725],\"type\":\"scatter3d\"},{\"hovertemplate\":\"color=plastic<br>0=%{x}<br>1=%{y}<br>2=%{z}<extra></extra>\",\"legendgroup\":\"plastic\",\"marker\":{\"color\":\"#FF6692\",\"symbol\":\"circle\"},\"mode\":\"markers\",\"name\":\"plastic\",\"scene\":\"scene\",\"showlegend\":true,\"x\":[0.4806823134422302],\"y\":[0.3495767414569855],\"z\":[0.24749979376792908],\"type\":\"scatter3d\"},{\"hovertemplate\":\"color=makes<br>0=%{x}<br>1=%{y}<br>2=%{z}<extra></extra>\",\"legendgroup\":\"makes\",\"marker\":{\"color\":\"#B6E880\",\"symbol\":\"circle\"},\"mode\":\"markers\",\"name\":\"makes\",\"scene\":\"scene\",\"showlegend\":true,\"x\":[0.2007649540901184],\"y\":[0.3045734465122223],\"z\":[0.14267759025096893],\"type\":\"scatter3d\"},{\"hovertemplate\":\"color=best<br>0=%{x}<br>1=%{y}<br>2=%{z}<extra></extra>\",\"legendgroup\":\"best\",\"marker\":{\"color\":\"#FF97FF\",\"symbol\":\"circle\"},\"mode\":\"markers\",\"name\":\"best\",\"scene\":\"scene\",\"showlegend\":true,\"x\":[0.2717708647251129],\"y\":[0.1236901730298996],\"z\":[-0.20110246539115906],\"type\":\"scatter3d\"},{\"hovertemplate\":\"color=another<br>0=%{x}<br>1=%{y}<br>2=%{z}<extra></extra>\",\"legendgroup\":\"another\",\"marker\":{\"color\":\"#FECB52\",\"symbol\":\"circle\"},\"mode\":\"markers\",\"name\":\"another\",\"scene\":\"scene\",\"showlegend\":true,\"x\":[0.3340549170970917],\"y\":[0.11979854106903076],\"z\":[-0.24028818309307098],\"type\":\"scatter3d\"},{\"hovertemplate\":\"color=say<br>0=%{x}<br>1=%{y}<br>2=%{z}<extra></extra>\",\"legendgroup\":\"say\",\"marker\":{\"color\":\"#636efa\",\"symbol\":\"circle\"},\"mode\":\"markers\",\"name\":\"say\",\"scene\":\"scene\",\"showlegend\":true,\"x\":[0.3367123603820801],\"y\":[0.03332166746258736],\"z\":[-0.08822626620531082],\"type\":\"scatter3d\"},{\"hovertemplate\":\"color=feel<br>0=%{x}<br>1=%{y}<br>2=%{z}<extra></extra>\",\"legendgroup\":\"feel\",\"marker\":{\"color\":\"#EF553B\",\"symbol\":\"circle\"},\"mode\":\"markers\",\"name\":\"feel\",\"scene\":\"scene\",\"showlegend\":true,\"x\":[0.43619129061698914],\"y\":[0.10614316910505295],\"z\":[0.14154772460460663],\"type\":\"scatter3d\"},{\"hovertemplate\":\"color=know<br>0=%{x}<br>1=%{y}<br>2=%{z}<extra></extra>\",\"legendgroup\":\"know\",\"marker\":{\"color\":\"#00cc96\",\"symbol\":\"circle\"},\"mode\":\"markers\",\"name\":\"know\",\"scene\":\"scene\",\"showlegend\":true,\"x\":[0.35661405324935913],\"y\":[-0.06392142921686172],\"z\":[-0.051369283348321915],\"type\":\"scatter3d\"},{\"hovertemplate\":\"color=doesn<br>0=%{x}<br>1=%{y}<br>2=%{z}<extra></extra>\",\"legendgroup\":\"doesn\",\"marker\":{\"color\":\"#ab63fa\",\"symbol\":\"circle\"},\"mode\":\"markers\",\"name\":\"doesn\",\"scene\":\"scene\",\"showlegend\":true,\"x\":[0.351080060005188],\"y\":[0.2269611805677414],\"z\":[0.15812692046165466],\"type\":\"scatter3d\"},{\"hovertemplate\":\"color=far<br>0=%{x}<br>1=%{y}<br>2=%{z}<extra></extra>\",\"legendgroup\":\"far\",\"marker\":{\"color\":\"#FFA15A\",\"symbol\":\"circle\"},\"mode\":\"markers\",\"name\":\"far\",\"scene\":\"scene\",\"showlegend\":true,\"x\":[0.31147581338882446],\"y\":[0.09528833627700806],\"z\":[-0.016867825761437416],\"type\":\"scatter3d\"},{\"hovertemplate\":\"color=day<br>0=%{x}<br>1=%{y}<br>2=%{z}<extra></extra>\",\"legendgroup\":\"day\",\"marker\":{\"color\":\"#19d3f3\",\"symbol\":\"circle\"},\"mode\":\"markers\",\"name\":\"day\",\"scene\":\"scene\",\"showlegend\":true,\"x\":[0.35642826557159424],\"y\":[-0.3103801906108856],\"z\":[0.03044407069683075],\"type\":\"scatter3d\"},{\"hovertemplate\":\"color=seems<br>0=%{x}<br>1=%{y}<br>2=%{z}<extra></extra>\",\"legendgroup\":\"seems\",\"marker\":{\"color\":\"#FF6692\",\"symbol\":\"circle\"},\"mode\":\"markers\",\"name\":\"seems\",\"scene\":\"scene\",\"showlegend\":true,\"x\":[0.3153286874294281],\"y\":[0.25849729776382446],\"z\":[0.09883781522512436],\"type\":\"scatter3d\"},{\"hovertemplate\":\"color=going<br>0=%{x}<br>1=%{y}<br>2=%{z}<extra></extra>\",\"legendgroup\":\"going\",\"marker\":{\"color\":\"#B6E880\",\"symbol\":\"circle\"},\"mode\":\"markers\",\"name\":\"going\",\"scene\":\"scene\",\"showlegend\":true,\"x\":[0.40330833196640015],\"y\":[-0.07160349935293198],\"z\":[0.06683116406202316],\"type\":\"scatter3d\"},{\"hovertemplate\":\"color=comfortable<br>0=%{x}<br>1=%{y}<br>2=%{z}<extra></extra>\",\"legendgroup\":\"comfortable\",\"marker\":{\"color\":\"#FF97FF\",\"symbol\":\"circle\"},\"mode\":\"markers\",\"name\":\"comfortable\",\"scene\":\"scene\",\"showlegend\":true,\"x\":[0.3734257221221924],\"y\":[0.15641845762729645],\"z\":[0.11073151230812073],\"type\":\"scatter3d\"},{\"hovertemplate\":\"color=looking<br>0=%{x}<br>1=%{y}<br>2=%{z}<extra></extra>\",\"legendgroup\":\"looking\",\"marker\":{\"color\":\"#FECB52\",\"symbol\":\"circle\"},\"mode\":\"markers\",\"name\":\"looking\",\"scene\":\"scene\",\"showlegend\":true,\"x\":[0.32280394434928894],\"y\":[0.06831767410039902],\"z\":[-0.12242193520069122],\"type\":\"scatter3d\"},{\"hovertemplate\":\"color=through<br>0=%{x}<br>1=%{y}<br>2=%{z}<extra></extra>\",\"legendgroup\":\"through\",\"marker\":{\"color\":\"#636efa\",\"symbol\":\"circle\"},\"mode\":\"markers\",\"name\":\"through\",\"scene\":\"scene\",\"showlegend\":true,\"x\":[0.26828545331954956],\"y\":[0.14118380844593048],\"z\":[0.2556377649307251],\"type\":\"scatter3d\"},{\"hovertemplate\":\"color=fine<br>0=%{x}<br>1=%{y}<br>2=%{z}<extra></extra>\",\"legendgroup\":\"fine\",\"marker\":{\"color\":\"#EF553B\",\"symbol\":\"circle\"},\"mode\":\"markers\",\"name\":\"fine\",\"scene\":\"scene\",\"showlegend\":true,\"x\":[0.38555818796157837],\"y\":[0.3079439103603363],\"z\":[0.03199314326047897],\"type\":\"scatter3d\"},{\"hovertemplate\":\"color=something<br>0=%{x}<br>1=%{y}<br>2=%{z}<extra></extra>\",\"legendgroup\":\"something\",\"marker\":{\"color\":\"#00cc96\",\"symbol\":\"circle\"},\"mode\":\"markers\",\"name\":\"something\",\"scene\":\"scene\",\"showlegend\":true,\"x\":[0.4610944092273712],\"y\":[-0.10153581202030182],\"z\":[-0.02088516391813755],\"type\":\"scatter3d\"},{\"hovertemplate\":\"color=hand<br>0=%{x}<br>1=%{y}<br>2=%{z}<extra></extra>\",\"legendgroup\":\"hand\",\"marker\":{\"color\":\"#ab63fa\",\"symbol\":\"circle\"},\"mode\":\"markers\",\"name\":\"hand\",\"scene\":\"scene\",\"showlegend\":true,\"x\":[0.49451130628585815],\"y\":[0.17003943026065826],\"z\":[0.12930279970169067],\"type\":\"scatter3d\"},{\"hovertemplate\":\"color=ll<br>0=%{x}<br>1=%{y}<br>2=%{z}<extra></extra>\",\"legendgroup\":\"ll\",\"marker\":{\"color\":\"#FFA15A\",\"symbol\":\"circle\"},\"mode\":\"markers\",\"name\":\"ll\",\"scene\":\"scene\",\"showlegend\":true,\"x\":[0.30606403946876526],\"y\":[0.038787711411714554],\"z\":[0.07020241022109985],\"type\":\"scatter3d\"},{\"hovertemplate\":\"color=though<br>0=%{x}<br>1=%{y}<br>2=%{z}<extra></extra>\",\"legendgroup\":\"though\",\"marker\":{\"color\":\"#19d3f3\",\"symbol\":\"circle\"},\"mode\":\"markers\",\"name\":\"though\",\"scene\":\"scene\",\"showlegend\":true,\"x\":[0.5187366604804993],\"y\":[0.11605360358953476],\"z\":[0.07946940511465073],\"type\":\"scatter3d\"},{\"hovertemplate\":\"color=hard<br>0=%{x}<br>1=%{y}<br>2=%{z}<extra></extra>\",\"legendgroup\":\"hard\",\"marker\":{\"color\":\"#FF6692\",\"symbol\":\"circle\"},\"mode\":\"markers\",\"name\":\"hard\",\"scene\":\"scene\",\"showlegend\":true,\"x\":[0.40982964634895325],\"y\":[0.2092248648405075],\"z\":[0.21946297585964203],\"type\":\"scatter3d\"},{\"hovertemplate\":\"color=find<br>0=%{x}<br>1=%{y}<br>2=%{z}<extra></extra>\",\"legendgroup\":\"find\",\"marker\":{\"color\":\"#B6E880\",\"symbol\":\"circle\"},\"mode\":\"markers\",\"name\":\"find\",\"scene\":\"scene\",\"showlegend\":true,\"x\":[0.4014715254306793],\"y\":[0.04791710898280144],\"z\":[0.00015075659030117095],\"type\":\"scatter3d\"},{\"hovertemplate\":\"color=new<br>0=%{x}<br>1=%{y}<br>2=%{z}<extra></extra>\",\"legendgroup\":\"new\",\"marker\":{\"color\":\"#FF97FF\",\"symbol\":\"circle\"},\"mode\":\"markers\",\"name\":\"new\",\"scene\":\"scene\",\"showlegend\":true,\"x\":[0.21329301595687866],\"y\":[0.09142591059207916],\"z\":[-0.25236812233924866],\"type\":\"scatter3d\"},{\"hovertemplate\":\"color=looks<br>0=%{x}<br>1=%{y}<br>2=%{z}<extra></extra>\",\"legendgroup\":\"looks\",\"marker\":{\"color\":\"#FECB52\",\"symbol\":\"circle\"},\"mode\":\"markers\",\"name\":\"looks\",\"scene\":\"scene\",\"showlegend\":true,\"x\":[0.32946133613586426],\"y\":[0.24007055163383484],\"z\":[-0.0553019642829895],\"type\":\"scatter3d\"},{\"hovertemplate\":\"color=same<br>0=%{x}<br>1=%{y}<br>2=%{z}<extra></extra>\",\"legendgroup\":\"same\",\"marker\":{\"color\":\"#636efa\",\"symbol\":\"circle\"},\"mode\":\"markers\",\"name\":\"same\",\"scene\":\"scene\",\"showlegend\":true,\"x\":[0.3070893883705139],\"y\":[0.16317561268806458],\"z\":[-0.25474733114242554],\"type\":\"scatter3d\"},{\"hovertemplate\":\"color=look<br>0=%{x}<br>1=%{y}<br>2=%{z}<extra></extra>\",\"legendgroup\":\"look\",\"marker\":{\"color\":\"#EF553B\",\"symbol\":\"circle\"},\"mode\":\"markers\",\"name\":\"look\",\"scene\":\"scene\",\"showlegend\":true,\"x\":[0.3725297152996063],\"y\":[0.08057434111833572],\"z\":[-0.07199708372354507],\"type\":\"scatter3d\"},{\"hovertemplate\":\"color=since<br>0=%{x}<br>1=%{y}<br>2=%{z}<extra></extra>\",\"legendgroup\":\"since\",\"marker\":{\"color\":\"#00cc96\",\"symbol\":\"circle\"},\"mode\":\"markers\",\"name\":\"since\",\"scene\":\"scene\",\"showlegend\":true,\"x\":[0.3928440809249878],\"y\":[-0.00723378686234355],\"z\":[-0.06990136951208115],\"type\":\"scatter3d\"},{\"hovertemplate\":\"color=top<br>0=%{x}<br>1=%{y}<br>2=%{z}<extra></extra>\",\"legendgroup\":\"top\",\"marker\":{\"color\":\"#ab63fa\",\"symbol\":\"circle\"},\"mode\":\"markers\",\"name\":\"top\",\"scene\":\"scene\",\"showlegend\":true,\"x\":[0.48322585225105286],\"y\":[0.3092636466026306],\"z\":[0.19908678531646729],\"type\":\"scatter3d\"},{\"hovertemplate\":\"color=tool<br>0=%{x}<br>1=%{y}<br>2=%{z}<extra></extra>\",\"legendgroup\":\"tool\",\"marker\":{\"color\":\"#FFA15A\",\"symbol\":\"circle\"},\"mode\":\"markers\",\"name\":\"tool\",\"scene\":\"scene\",\"showlegend\":true,\"x\":[0.3669777512550354],\"y\":[0.14157430827617645],\"z\":[-0.20734232664108276],\"type\":\"scatter3d\"},{\"hovertemplate\":\"color=their<br>0=%{x}<br>1=%{y}<br>2=%{z}<extra></extra>\",\"legendgroup\":\"their\",\"marker\":{\"color\":\"#19d3f3\",\"symbol\":\"circle\"},\"mode\":\"markers\",\"name\":\"their\",\"scene\":\"scene\",\"showlegend\":true,\"x\":[0.1432604044675827],\"y\":[-0.037821050733327866],\"z\":[-0.18302223086357117],\"type\":\"scatter3d\"},{\"hovertemplate\":\"color=where<br>0=%{x}<br>1=%{y}<br>2=%{z}<extra></extra>\",\"legendgroup\":\"where\",\"marker\":{\"color\":\"#FF6692\",\"symbol\":\"circle\"},\"mode\":\"markers\",\"name\":\"where\",\"scene\":\"scene\",\"showlegend\":true,\"x\":[0.4508455693721771],\"y\":[0.044423963874578476],\"z\":[0.1495503932237625],\"type\":\"scatter3d\"},{\"hovertemplate\":\"color=both<br>0=%{x}<br>1=%{y}<br>2=%{z}<extra></extra>\",\"legendgroup\":\"both\",\"marker\":{\"color\":\"#B6E880\",\"symbol\":\"circle\"},\"mode\":\"markers\",\"name\":\"both\",\"scene\":\"scene\",\"showlegend\":true,\"x\":[0.19574782252311707],\"y\":[0.2341451495885849],\"z\":[-0.12443694472312927],\"type\":\"scatter3d\"},{\"hovertemplate\":\"color=before<br>0=%{x}<br>1=%{y}<br>2=%{z}<extra></extra>\",\"legendgroup\":\"before\",\"marker\":{\"color\":\"#FF97FF\",\"symbol\":\"circle\"},\"mode\":\"markers\",\"name\":\"before\",\"scene\":\"scene\",\"showlegend\":true,\"x\":[0.26255717873573303],\"y\":[-0.013309020549058914],\"z\":[0.07314533740282059],\"type\":\"scatter3d\"},{\"hovertemplate\":\"color=range<br>0=%{x}<br>1=%{y}<br>2=%{z}<extra></extra>\",\"legendgroup\":\"range\",\"marker\":{\"color\":\"#FECB52\",\"symbol\":\"circle\"},\"mode\":\"markers\",\"name\":\"range\",\"scene\":\"scene\",\"showlegend\":true,\"x\":[0.3678240478038788],\"y\":[0.01432899571955204],\"z\":[-0.1378301978111267],\"type\":\"scatter3d\"},{\"hovertemplate\":\"color=didn<br>0=%{x}<br>1=%{y}<br>2=%{z}<extra></extra>\",\"legendgroup\":\"didn\",\"marker\":{\"color\":\"#636efa\",\"symbol\":\"circle\"},\"mode\":\"markers\",\"name\":\"didn\",\"scene\":\"scene\",\"showlegend\":true,\"x\":[0.28451016545295715],\"y\":[0.14368665218353271],\"z\":[0.019790176302194595],\"type\":\"scatter3d\"},{\"hovertemplate\":\"color=many<br>0=%{x}<br>1=%{y}<br>2=%{z}<extra></extra>\",\"legendgroup\":\"many\",\"marker\":{\"color\":\"#EF553B\",\"symbol\":\"circle\"},\"mode\":\"markers\",\"name\":\"many\",\"scene\":\"scene\",\"showlegend\":true,\"x\":[0.19166135787963867],\"y\":[0.0034381323494017124],\"z\":[-0.12850543856620789],\"type\":\"scatter3d\"},{\"hovertemplate\":\"color=last<br>0=%{x}<br>1=%{y}<br>2=%{z}<extra></extra>\",\"legendgroup\":\"last\",\"marker\":{\"color\":\"#00cc96\",\"symbol\":\"circle\"},\"mode\":\"markers\",\"name\":\"last\",\"scene\":\"scene\",\"showlegend\":true,\"x\":[0.33281999826431274],\"y\":[0.029257815331220627],\"z\":[0.026992784813046455],\"type\":\"scatter3d\"},{\"hovertemplate\":\"color=large<br>0=%{x}<br>1=%{y}<br>2=%{z}<extra></extra>\",\"legendgroup\":\"large\",\"marker\":{\"color\":\"#ab63fa\",\"symbol\":\"circle\"},\"mode\":\"markers\",\"name\":\"large\",\"scene\":\"scene\",\"showlegend\":true,\"x\":[0.3791504204273224],\"y\":[0.21037141978740692],\"z\":[0.01677103526890278],\"type\":\"scatter3d\"},{\"hovertemplate\":\"color=grip<br>0=%{x}<br>1=%{y}<br>2=%{z}<extra></extra>\",\"legendgroup\":\"grip\",\"marker\":{\"color\":\"#FFA15A\",\"symbol\":\"circle\"},\"mode\":\"markers\",\"name\":\"grip\",\"scene\":\"scene\",\"showlegend\":true,\"x\":[0.4630278944969177],\"y\":[0.3731984496116638],\"z\":[0.05666916444897652],\"type\":\"scatter3d\"},{\"hovertemplate\":\"color=however<br>0=%{x}<br>1=%{y}<br>2=%{z}<extra></extra>\",\"legendgroup\":\"however\",\"marker\":{\"color\":\"#19d3f3\",\"symbol\":\"circle\"},\"mode\":\"markers\",\"name\":\"however\",\"scene\":\"scene\",\"showlegend\":true,\"x\":[0.5343490839004517],\"y\":[0.14268872141838074],\"z\":[-0.034238431602716446],\"type\":\"scatter3d\"},{\"hovertemplate\":\"color=heavy<br>0=%{x}<br>1=%{y}<br>2=%{z}<extra></extra>\",\"legendgroup\":\"heavy\",\"marker\":{\"color\":\"#FF6692\",\"symbol\":\"circle\"},\"mode\":\"markers\",\"name\":\"heavy\",\"scene\":\"scene\",\"showlegend\":true,\"x\":[0.39957162737846375],\"y\":[0.22763298451900482],\"z\":[0.10750089585781097],\"type\":\"scatter3d\"},{\"hovertemplate\":\"color=never<br>0=%{x}<br>1=%{y}<br>2=%{z}<extra></extra>\",\"legendgroup\":\"never\",\"marker\":{\"color\":\"#B6E880\",\"symbol\":\"circle\"},\"mode\":\"markers\",\"name\":\"never\",\"scene\":\"scene\",\"showlegend\":true,\"x\":[0.2990724742412567],\"y\":[-0.047357041388750076],\"z\":[0.020915698260068893],\"type\":\"scatter3d\"},{\"hovertemplate\":\"color=again<br>0=%{x}<br>1=%{y}<br>2=%{z}<extra></extra>\",\"legendgroup\":\"again\",\"marker\":{\"color\":\"#FF97FF\",\"symbol\":\"circle\"},\"mode\":\"markers\",\"name\":\"again\",\"scene\":\"scene\",\"showlegend\":true,\"x\":[0.388517826795578],\"y\":[0.08588118106126785],\"z\":[-0.014851325191557407],\"type\":\"scatter3d\"},{\"hovertemplate\":\"color=pocket<br>0=%{x}<br>1=%{y}<br>2=%{z}<extra></extra>\",\"legendgroup\":\"pocket\",\"marker\":{\"color\":\"#FECB52\",\"symbol\":\"circle\"},\"mode\":\"markers\",\"name\":\"pocket\",\"scene\":\"scene\",\"showlegend\":true,\"x\":[0.46723002195358276],\"y\":[0.11833655089139938],\"z\":[0.04316597431898117],\"type\":\"scatter3d\"},{\"hovertemplate\":\"color=bottle<br>0=%{x}<br>1=%{y}<br>2=%{z}<extra></extra>\",\"legendgroup\":\"bottle\",\"marker\":{\"color\":\"#636efa\",\"symbol\":\"circle\"},\"mode\":\"markers\",\"name\":\"bottle\",\"scene\":\"scene\",\"showlegend\":true,\"x\":[0.39811021089553833],\"y\":[-0.0764605700969696],\"z\":[0.06939252465963364],\"type\":\"scatter3d\"},{\"hovertemplate\":\"color=high<br>0=%{x}<br>1=%{y}<br>2=%{z}<extra></extra>\",\"legendgroup\":\"high\",\"marker\":{\"color\":\"#EF553B\",\"symbol\":\"circle\"},\"mode\":\"markers\",\"name\":\"high\",\"scene\":\"scene\",\"showlegend\":true,\"x\":[0.3153565227985382],\"y\":[0.2013503760099411],\"z\":[-0.08988962322473526],\"type\":\"scatter3d\"},{\"hovertemplate\":\"color=mount<br>0=%{x}<br>1=%{y}<br>2=%{z}<extra></extra>\",\"legendgroup\":\"mount\",\"marker\":{\"color\":\"#00cc96\",\"symbol\":\"circle\"},\"mode\":\"markers\",\"name\":\"mount\",\"scene\":\"scene\",\"showlegend\":true,\"x\":[0.43204256892204285],\"y\":[0.49939772486686707],\"z\":[-0.19520795345306396],\"type\":\"scatter3d\"},{\"hovertemplate\":\"color=problem<br>0=%{x}<br>1=%{y}<br>2=%{z}<extra></extra>\",\"legendgroup\":\"problem\",\"marker\":{\"color\":\"#ab63fa\",\"symbol\":\"circle\"},\"mode\":\"markers\",\"name\":\"problem\",\"scene\":\"scene\",\"showlegend\":true,\"x\":[0.4721103310585022],\"y\":[0.11379452794790268],\"z\":[0.0699051097035408],\"type\":\"scatter3d\"},{\"hovertemplate\":\"color=rifle<br>0=%{x}<br>1=%{y}<br>2=%{z}<extra></extra>\",\"legendgroup\":\"rifle\",\"marker\":{\"color\":\"#FFA15A\",\"symbol\":\"circle\"},\"mode\":\"markers\",\"name\":\"rifle\",\"scene\":\"scene\",\"showlegend\":true,\"x\":[0.40919315814971924],\"y\":[0.2573370039463043],\"z\":[-0.1854449361562729],\"type\":\"scatter3d\"},{\"hovertemplate\":\"color=may<br>0=%{x}<br>1=%{y}<br>2=%{z}<extra></extra>\",\"legendgroup\":\"may\",\"marker\":{\"color\":\"#19d3f3\",\"symbol\":\"circle\"},\"mode\":\"markers\",\"name\":\"may\",\"scene\":\"scene\",\"showlegend\":true,\"x\":[0.31761619448661804],\"y\":[0.11149334907531738],\"z\":[0.06403206288814545],\"type\":\"scatter3d\"},{\"hovertemplate\":\"color=sharp<br>0=%{x}<br>1=%{y}<br>2=%{z}<extra></extra>\",\"legendgroup\":\"sharp\",\"marker\":{\"color\":\"#FF6692\",\"symbol\":\"circle\"},\"mode\":\"markers\",\"name\":\"sharp\",\"scene\":\"scene\",\"showlegend\":true,\"x\":[0.3506784737110138],\"y\":[0.18535342812538147],\"z\":[0.07010658830404282],\"type\":\"scatter3d\"},{\"hovertemplate\":\"color=money<br>0=%{x}<br>1=%{y}<br>2=%{z}<extra></extra>\",\"legendgroup\":\"money\",\"marker\":{\"color\":\"#B6E880\",\"symbol\":\"circle\"},\"mode\":\"markers\",\"name\":\"money\",\"scene\":\"scene\",\"showlegend\":true,\"x\":[0.3262903094291687],\"y\":[0.08175969868898392],\"z\":[-0.20559436082839966],\"type\":\"scatter3d\"},{\"hovertemplate\":\"color=years<br>0=%{x}<br>1=%{y}<br>2=%{z}<extra></extra>\",\"legendgroup\":\"years\",\"marker\":{\"color\":\"#FF97FF\",\"symbol\":\"circle\"},\"mode\":\"markers\",\"name\":\"years\",\"scene\":\"scene\",\"showlegend\":true,\"x\":[0.2696343958377838],\"y\":[-0.17284636199474335],\"z\":[-0.15320025384426117],\"type\":\"scatter3d\"},{\"hovertemplate\":\"color=pack<br>0=%{x}<br>1=%{y}<br>2=%{z}<extra></extra>\",\"legendgroup\":\"pack\",\"marker\":{\"color\":\"#FECB52\",\"symbol\":\"circle\"},\"mode\":\"markers\",\"name\":\"pack\",\"scene\":\"scene\",\"showlegend\":true,\"x\":[0.3923652172088623],\"y\":[-0.11549180001020432],\"z\":[0.0041449060663580894],\"type\":\"scatter3d\"},{\"hovertemplate\":\"color=being<br>0=%{x}<br>1=%{y}<br>2=%{z}<extra></extra>\",\"legendgroup\":\"being\",\"marker\":{\"color\":\"#636efa\",\"symbol\":\"circle\"},\"mode\":\"markers\",\"name\":\"being\",\"scene\":\"scene\",\"showlegend\":true,\"x\":[0.36450377106666565],\"y\":[-0.022097274661064148],\"z\":[0.06031019240617752],\"type\":\"scatter3d\"},{\"hovertemplate\":\"color=comes<br>0=%{x}<br>1=%{y}<br>2=%{z}<extra></extra>\",\"legendgroup\":\"comes\",\"marker\":{\"color\":\"#EF553B\",\"symbol\":\"circle\"},\"mode\":\"markers\",\"name\":\"comes\",\"scene\":\"scene\",\"showlegend\":true,\"x\":[0.3211752772331238],\"y\":[0.2379181981086731],\"z\":[0.09209548681974411],\"type\":\"scatter3d\"},{\"hovertemplate\":\"color=steel<br>0=%{x}<br>1=%{y}<br>2=%{z}<extra></extra>\",\"legendgroup\":\"steel\",\"marker\":{\"color\":\"#00cc96\",\"symbol\":\"circle\"},\"mode\":\"markers\",\"name\":\"steel\",\"scene\":\"scene\",\"showlegend\":true,\"x\":[0.2766839861869812],\"y\":[0.1531812995672226],\"z\":[-0.056266456842422485],\"type\":\"scatter3d\"},{\"hovertemplate\":\"color=every<br>0=%{x}<br>1=%{y}<br>2=%{z}<extra></extra>\",\"legendgroup\":\"every\",\"marker\":{\"color\":\"#ab63fa\",\"symbol\":\"circle\"},\"mode\":\"markers\",\"name\":\"every\",\"scene\":\"scene\",\"showlegend\":true,\"x\":[0.3039276599884033],\"y\":[0.02432098425924778],\"z\":[0.006814142689108849],\"type\":\"scatter3d\"},{\"hovertemplate\":\"color=box<br>0=%{x}<br>1=%{y}<br>2=%{z}<extra></extra>\",\"legendgroup\":\"box\",\"marker\":{\"color\":\"#FFA15A\",\"symbol\":\"circle\"},\"mode\":\"markers\",\"name\":\"box\",\"scene\":\"scene\",\"showlegend\":true,\"x\":[0.40357518196105957],\"y\":[0.08988845348358154],\"z\":[0.003470512107014656],\"type\":\"scatter3d\"},{\"hovertemplate\":\"color=sight<br>0=%{x}<br>1=%{y}<br>2=%{z}<extra></extra>\",\"legendgroup\":\"sight\",\"marker\":{\"color\":\"#19d3f3\",\"symbol\":\"circle\"},\"mode\":\"markers\",\"name\":\"sight\",\"scene\":\"scene\",\"showlegend\":true,\"x\":[0.41932201385498047],\"y\":[0.2719923257827759],\"z\":[-0.22630976140499115],\"type\":\"scatter3d\"},{\"hovertemplate\":\"color=solid<br>0=%{x}<br>1=%{y}<br>2=%{z}<extra></extra>\",\"legendgroup\":\"solid\",\"marker\":{\"color\":\"#FF6692\",\"symbol\":\"circle\"},\"mode\":\"markers\",\"name\":\"solid\",\"scene\":\"scene\",\"showlegend\":true,\"x\":[0.37825968861579895],\"y\":[0.49279749393463135],\"z\":[-0.024518636986613274],\"type\":\"scatter3d\"},{\"hovertemplate\":\"color=came<br>0=%{x}<br>1=%{y}<br>2=%{z}<extra></extra>\",\"legendgroup\":\"came\",\"marker\":{\"color\":\"#B6E880\",\"symbol\":\"circle\"},\"mode\":\"markers\",\"name\":\"came\",\"scene\":\"scene\",\"showlegend\":true,\"x\":[0.25001245737075806],\"y\":[0.230612114071846],\"z\":[0.011101914569735527],\"type\":\"scatter3d\"},{\"hovertemplate\":\"color=cheap<br>0=%{x}<br>1=%{y}<br>2=%{z}<extra></extra>\",\"legendgroup\":\"cheap\",\"marker\":{\"color\":\"#FF97FF\",\"symbol\":\"circle\"},\"mode\":\"markers\",\"name\":\"cheap\",\"scene\":\"scene\",\"showlegend\":true,\"x\":[0.3461299240589142],\"y\":[0.3000586926937103],\"z\":[-0.08654014021158218],\"type\":\"scatter3d\"},{\"hovertemplate\":\"color=purchased<br>0=%{x}<br>1=%{y}<br>2=%{z}<extra></extra>\",\"legendgroup\":\"purchased\",\"marker\":{\"color\":\"#FECB52\",\"symbol\":\"circle\"},\"mode\":\"markers\",\"name\":\"purchased\",\"scene\":\"scene\",\"showlegend\":true,\"x\":[0.10411856323480606],\"y\":[0.1071854680776596],\"z\":[-0.297024130821228],\"type\":\"scatter3d\"},{\"hovertemplate\":\"color=different<br>0=%{x}<br>1=%{y}<br>2=%{z}<extra></extra>\",\"legendgroup\":\"different\",\"marker\":{\"color\":\"#636efa\",\"symbol\":\"circle\"},\"mode\":\"markers\",\"name\":\"different\",\"scene\":\"scene\",\"showlegend\":true,\"x\":[0.36635661125183105],\"y\":[0.13475319743156433],\"z\":[-0.21414701640605927],\"type\":\"scatter3d\"},{\"hovertemplate\":\"color=getting<br>0=%{x}<br>1=%{y}<br>2=%{z}<extra></extra>\",\"legendgroup\":\"getting\",\"marker\":{\"color\":\"#EF553B\",\"symbol\":\"circle\"},\"mode\":\"markers\",\"name\":\"getting\",\"scene\":\"scene\",\"showlegend\":true,\"x\":[0.4355009198188782],\"y\":[-0.0644884705543518],\"z\":[0.18827638030052185],\"type\":\"scatter3d\"},{\"hovertemplate\":\"color=needed<br>0=%{x}<br>1=%{y}<br>2=%{z}<extra></extra>\",\"legendgroup\":\"needed\",\"marker\":{\"color\":\"#00cc96\",\"symbol\":\"circle\"},\"mode\":\"markers\",\"name\":\"needed\",\"scene\":\"scene\",\"showlegend\":true,\"x\":[0.3256341516971588],\"y\":[0.1918962150812149],\"z\":[0.012295214459300041],\"type\":\"scatter3d\"},{\"hovertemplate\":\"color=wear<br>0=%{x}<br>1=%{y}<br>2=%{z}<extra></extra>\",\"legendgroup\":\"wear\",\"marker\":{\"color\":\"#ab63fa\",\"symbol\":\"circle\"},\"mode\":\"markers\",\"name\":\"wear\",\"scene\":\"scene\",\"showlegend\":true,\"x\":[0.4023039638996124],\"y\":[-0.09694419056177139],\"z\":[0.20944583415985107],\"type\":\"scatter3d\"},{\"hovertemplate\":\"color=once<br>0=%{x}<br>1=%{y}<br>2=%{z}<extra></extra>\",\"legendgroup\":\"once\",\"marker\":{\"color\":\"#FFA15A\",\"symbol\":\"circle\"},\"mode\":\"markers\",\"name\":\"once\",\"scene\":\"scene\",\"showlegend\":true,\"x\":[0.45961812138557434],\"y\":[0.14063407480716705],\"z\":[0.20860324800014496],\"type\":\"scatter3d\"},{\"hovertemplate\":\"color=found<br>0=%{x}<br>1=%{y}<br>2=%{z}<extra></extra>\",\"legendgroup\":\"found\",\"marker\":{\"color\":\"#19d3f3\",\"symbol\":\"circle\"},\"mode\":\"markers\",\"name\":\"found\",\"scene\":\"scene\",\"showlegend\":true,\"x\":[0.2535512149333954],\"y\":[0.1077859178185463],\"z\":[-0.00797104649245739],\"type\":\"scatter3d\"},{\"hovertemplate\":\"color=those<br>0=%{x}<br>1=%{y}<br>2=%{z}<extra></extra>\",\"legendgroup\":\"those\",\"marker\":{\"color\":\"#FF6692\",\"symbol\":\"circle\"},\"mode\":\"markers\",\"name\":\"those\",\"scene\":\"scene\",\"showlegend\":true,\"x\":[0.24157224595546722],\"y\":[-0.06536107510328293],\"z\":[-0.06854971498250961],\"type\":\"scatter3d\"},{\"hovertemplate\":\"color=amazon<br>0=%{x}<br>1=%{y}<br>2=%{z}<extra></extra>\",\"legendgroup\":\"amazon\",\"marker\":{\"color\":\"#B6E880\",\"symbol\":\"circle\"},\"mode\":\"markers\",\"name\":\"amazon\",\"scene\":\"scene\",\"showlegend\":true,\"x\":[0.2524861991405487],\"y\":[-0.0438164584338665],\"z\":[-0.36327698826789856],\"type\":\"scatter3d\"},{\"hovertemplate\":\"color=who<br>0=%{x}<br>1=%{y}<br>2=%{z}<extra></extra>\",\"legendgroup\":\"who\",\"marker\":{\"color\":\"#FF97FF\",\"symbol\":\"circle\"},\"mode\":\"markers\",\"name\":\"who\",\"scene\":\"scene\",\"showlegend\":true,\"x\":[0.27356255054473877],\"y\":[-0.1576816588640213],\"z\":[-0.19261786341667175],\"type\":\"scatter3d\"},{\"hovertemplate\":\"color=place<br>0=%{x}<br>1=%{y}<br>2=%{z}<extra></extra>\",\"legendgroup\":\"place\",\"marker\":{\"color\":\"#FECB52\",\"symbol\":\"circle\"},\"mode\":\"markers\",\"name\":\"place\",\"scene\":\"scene\",\"showlegend\":true,\"x\":[0.5364508032798767],\"y\":[0.2555418908596039],\"z\":[0.23173527419567108],\"type\":\"scatter3d\"},{\"hovertemplate\":\"color=front<br>0=%{x}<br>1=%{y}<br>2=%{z}<extra></extra>\",\"legendgroup\":\"front\",\"marker\":{\"color\":\"#636efa\",\"symbol\":\"circle\"},\"mode\":\"markers\",\"name\":\"front\",\"scene\":\"scene\",\"showlegend\":true,\"x\":[0.4721609055995941],\"y\":[0.3598988652229309],\"z\":[0.043527036905288696],\"type\":\"scatter3d\"},{\"hovertemplate\":\"color=come<br>0=%{x}<br>1=%{y}<br>2=%{z}<extra></extra>\",\"legendgroup\":\"come\",\"marker\":{\"color\":\"#EF553B\",\"symbol\":\"circle\"},\"mode\":\"markers\",\"name\":\"come\",\"scene\":\"scene\",\"showlegend\":true,\"x\":[0.4231003224849701],\"y\":[0.09048191457986832],\"z\":[0.10366888344287872],\"type\":\"scatter3d\"},{\"hovertemplate\":\"color=worth<br>0=%{x}<br>1=%{y}<br>2=%{z}<extra></extra>\",\"legendgroup\":\"worth\",\"marker\":{\"color\":\"#00cc96\",\"symbol\":\"circle\"},\"mode\":\"markers\",\"name\":\"worth\",\"scene\":\"scene\",\"showlegend\":true,\"x\":[0.23959852755069733],\"y\":[0.15081551671028137],\"z\":[-0.05026160553097725],\"type\":\"scatter3d\"},{\"hovertemplate\":\"color=give<br>0=%{x}<br>1=%{y}<br>2=%{z}<extra></extra>\",\"legendgroup\":\"give\",\"marker\":{\"color\":\"#ab63fa\",\"symbol\":\"circle\"},\"mode\":\"markers\",\"name\":\"give\",\"scene\":\"scene\",\"showlegend\":true,\"x\":[0.30755308270454407],\"y\":[0.1090821698307991],\"z\":[0.055197302252054214],\"type\":\"scatter3d\"},{\"hovertemplate\":\"color=probably<br>0=%{x}<br>1=%{y}<br>2=%{z}<extra></extra>\",\"legendgroup\":\"probably\",\"marker\":{\"color\":\"#FFA15A\",\"symbol\":\"circle\"},\"mode\":\"markers\",\"name\":\"probably\",\"scene\":\"scene\",\"showlegend\":true,\"x\":[0.46594908833503723],\"y\":[-0.01710308901965618],\"z\":[-0.022627651691436768],\"type\":\"scatter3d\"},{\"hovertemplate\":\"color=old<br>0=%{x}<br>1=%{y}<br>2=%{z}<extra></extra>\",\"legendgroup\":\"old\",\"marker\":{\"color\":\"#19d3f3\",\"symbol\":\"circle\"},\"mode\":\"markers\",\"name\":\"old\",\"scene\":\"scene\",\"showlegend\":true,\"x\":[0.282036155462265],\"y\":[0.023062454536557198],\"z\":[-0.07133927941322327],\"type\":\"scatter3d\"},{\"hovertemplate\":\"color=end<br>0=%{x}<br>1=%{y}<br>2=%{z}<extra></extra>\",\"legendgroup\":\"end\",\"marker\":{\"color\":\"#FF6692\",\"symbol\":\"circle\"},\"mode\":\"markers\",\"name\":\"end\",\"scene\":\"scene\",\"showlegend\":true,\"x\":[0.46178320050239563],\"y\":[0.2145714908838272],\"z\":[0.1342305690050125],\"type\":\"scatter3d\"},{\"hovertemplate\":\"color=less<br>0=%{x}<br>1=%{y}<br>2=%{z}<extra></extra>\",\"legendgroup\":\"less\",\"marker\":{\"color\":\"#B6E880\",\"symbol\":\"circle\"},\"mode\":\"markers\",\"name\":\"less\",\"scene\":\"scene\",\"showlegend\":true,\"x\":[0.31992411613464355],\"y\":[0.0971541702747345],\"z\":[-0.05229616537690163],\"type\":\"scatter3d\"},{\"hovertemplate\":\"color=extra<br>0=%{x}<br>1=%{y}<br>2=%{z}<extra></extra>\",\"legendgroup\":\"extra\",\"marker\":{\"color\":\"#FF97FF\",\"symbol\":\"circle\"},\"mode\":\"markers\",\"name\":\"extra\",\"scene\":\"scene\",\"showlegend\":true,\"x\":[0.408237099647522],\"y\":[0.24727772176265717],\"z\":[-0.02804720588028431],\"type\":\"scatter3d\"},{\"hovertemplate\":\"color=belt<br>0=%{x}<br>1=%{y}<br>2=%{z}<extra></extra>\",\"legendgroup\":\"belt\",\"marker\":{\"color\":\"#FECB52\",\"symbol\":\"circle\"},\"mode\":\"markers\",\"name\":\"belt\",\"scene\":\"scene\",\"showlegend\":true,\"x\":[0.4707082509994507],\"y\":[0.21763068437576294],\"z\":[-0.06964394450187683],\"type\":\"scatter3d\"},{\"hovertemplate\":\"color=tight<br>0=%{x}<br>1=%{y}<br>2=%{z}<extra></extra>\",\"legendgroup\":\"tight\",\"marker\":{\"color\":\"#636efa\",\"symbol\":\"circle\"},\"mode\":\"markers\",\"name\":\"tight\",\"scene\":\"scene\",\"showlegend\":true,\"x\":[0.5279621481895447],\"y\":[0.4556449055671692],\"z\":[0.21412856876850128],\"type\":\"scatter3d\"},{\"hovertemplate\":\"color=perfectly<br>0=%{x}<br>1=%{y}<br>2=%{z}<extra></extra>\",\"legendgroup\":\"perfectly\",\"marker\":{\"color\":\"#EF553B\",\"symbol\":\"circle\"},\"mode\":\"markers\",\"name\":\"perfectly\",\"scene\":\"scene\",\"showlegend\":true,\"x\":[0.2956908345222473],\"y\":[0.41464701294898987],\"z\":[-0.07367094606161118],\"type\":\"scatter3d\"},{\"hovertemplate\":\"color=able<br>0=%{x}<br>1=%{y}<br>2=%{z}<extra></extra>\",\"legendgroup\":\"able\",\"marker\":{\"color\":\"#00cc96\",\"symbol\":\"circle\"},\"mode\":\"markers\",\"name\":\"able\",\"scene\":\"scene\",\"showlegend\":true,\"x\":[0.3807375729084015],\"y\":[0.10958230495452881],\"z\":[0.07042805850505829],\"type\":\"scatter3d\"},{\"hovertemplate\":\"color=inside<br>0=%{x}<br>1=%{y}<br>2=%{z}<extra></extra>\",\"legendgroup\":\"inside\",\"marker\":{\"color\":\"#ab63fa\",\"symbol\":\"circle\"},\"mode\":\"markers\",\"name\":\"inside\",\"scene\":\"scene\",\"showlegend\":true,\"x\":[0.4628860354423523],\"y\":[0.20965120196342468],\"z\":[0.417488157749176],\"type\":\"scatter3d\"},{\"hovertemplate\":\"color=actually<br>0=%{x}<br>1=%{y}<br>2=%{z}<extra></extra>\",\"legendgroup\":\"actually\",\"marker\":{\"color\":\"#FFA15A\",\"symbol\":\"circle\"},\"mode\":\"markers\",\"name\":\"actually\",\"scene\":\"scene\",\"showlegend\":true,\"x\":[0.5218942761421204],\"y\":[0.08068829774856567],\"z\":[-0.01721571758389473],\"type\":\"scatter3d\"},{\"hovertemplate\":\"color=things<br>0=%{x}<br>1=%{y}<br>2=%{z}<extra></extra>\",\"legendgroup\":\"things\",\"marker\":{\"color\":\"#19d3f3\",\"symbol\":\"circle\"},\"mode\":\"markers\",\"name\":\"things\",\"scene\":\"scene\",\"showlegend\":true,\"x\":[0.4627951979637146],\"y\":[-0.2152578979730606],\"z\":[0.07822961360216141],\"type\":\"scatter3d\"},{\"hovertemplate\":\"color=holster<br>0=%{x}<br>1=%{y}<br>2=%{z}<extra></extra>\",\"legendgroup\":\"holster\",\"marker\":{\"color\":\"#FF6692\",\"symbol\":\"circle\"},\"mode\":\"markers\",\"name\":\"holster\",\"scene\":\"scene\",\"showlegend\":true,\"x\":[0.4270191192626953],\"y\":[0.1736329346895218],\"z\":[-0.18890604376792908],\"type\":\"scatter3d\"},{\"hovertemplate\":\"color=quite<br>0=%{x}<br>1=%{y}<br>2=%{z}<extra></extra>\",\"legendgroup\":\"quite\",\"marker\":{\"color\":\"#B6E880\",\"symbol\":\"circle\"},\"mode\":\"markers\",\"name\":\"quite\",\"scene\":\"scene\",\"showlegend\":true,\"x\":[0.4395945966243744],\"y\":[0.14422352612018585],\"z\":[0.1167808324098587],\"type\":\"scatter3d\"},{\"hovertemplate\":\"color=item<br>0=%{x}<br>1=%{y}<br>2=%{z}<extra></extra>\",\"legendgroup\":\"item\",\"marker\":{\"color\":\"#FF97FF\",\"symbol\":\"circle\"},\"mode\":\"markers\",\"name\":\"item\",\"scene\":\"scene\",\"showlegend\":true,\"x\":[0.28080353140830994],\"y\":[-0.021561522036790848],\"z\":[-0.3471969962120056],\"type\":\"scatter3d\"},{\"hovertemplate\":\"color=sturdy<br>0=%{x}<br>1=%{y}<br>2=%{z}<extra></extra>\",\"legendgroup\":\"sturdy\",\"marker\":{\"color\":\"#FECB52\",\"symbol\":\"circle\"},\"mode\":\"markers\",\"name\":\"sturdy\",\"scene\":\"scene\",\"showlegend\":true,\"x\":[0.40633854269981384],\"y\":[0.40362441539764404],\"z\":[0.061008937656879425],\"type\":\"scatter3d\"},{\"hovertemplate\":\"color=yet<br>0=%{x}<br>1=%{y}<br>2=%{z}<extra></extra>\",\"legendgroup\":\"yet\",\"marker\":{\"color\":\"#636efa\",\"symbol\":\"circle\"},\"mode\":\"markers\",\"name\":\"yet\",\"scene\":\"scene\",\"showlegend\":true,\"x\":[0.4018927216529846],\"y\":[0.07491615414619446],\"z\":[0.07183477282524109],\"type\":\"scatter3d\"},{\"hovertemplate\":\"color=job<br>0=%{x}<br>1=%{y}<br>2=%{z}<extra></extra>\",\"legendgroup\":\"job\",\"marker\":{\"color\":\"#EF553B\",\"symbol\":\"circle\"},\"mode\":\"markers\",\"name\":\"job\",\"scene\":\"scene\",\"showlegend\":true,\"x\":[0.3622131943702698],\"y\":[0.11064638197422028],\"z\":[0.02819446660578251],\"type\":\"scatter3d\"},{\"hovertemplate\":\"color=open<br>0=%{x}<br>1=%{y}<br>2=%{z}<extra></extra>\",\"legendgroup\":\"open\",\"marker\":{\"color\":\"#00cc96\",\"symbol\":\"circle\"},\"mode\":\"markers\",\"name\":\"open\",\"scene\":\"scene\",\"showlegend\":true,\"x\":[0.5156569480895996],\"y\":[0.17643137276172638],\"z\":[0.2766060531139374],\"type\":\"scatter3d\"},{\"hovertemplate\":\"color=lock<br>0=%{x}<br>1=%{y}<br>2=%{z}<extra></extra>\",\"legendgroup\":\"lock\",\"marker\":{\"color\":\"#ab63fa\",\"symbol\":\"circle\"},\"mode\":\"markers\",\"name\":\"lock\",\"scene\":\"scene\",\"showlegend\":true,\"x\":[0.49819499254226685],\"y\":[0.29761019349098206],\"z\":[-0.009233786724507809],\"type\":\"scatter3d\"},{\"hovertemplate\":\"color=times<br>0=%{x}<br>1=%{y}<br>2=%{z}<extra></extra>\",\"legendgroup\":\"times\",\"marker\":{\"color\":\"#FFA15A\",\"symbol\":\"circle\"},\"mode\":\"markers\",\"name\":\"times\",\"scene\":\"scene\",\"showlegend\":true,\"x\":[0.4291437268257141],\"y\":[-0.13236264884471893],\"z\":[0.11262591928243637],\"type\":\"scatter3d\"},{\"hovertemplate\":\"color=holds<br>0=%{x}<br>1=%{y}<br>2=%{z}<extra></extra>\",\"legendgroup\":\"holds\",\"marker\":{\"color\":\"#19d3f3\",\"symbol\":\"circle\"},\"mode\":\"markers\",\"name\":\"holds\",\"scene\":\"scene\",\"showlegend\":true,\"x\":[0.32930800318717957],\"y\":[0.376138299703598],\"z\":[0.17126227915287018],\"type\":\"scatter3d\"},{\"hovertemplate\":\"color=he<br>0=%{x}<br>1=%{y}<br>2=%{z}<extra></extra>\",\"legendgroup\":\"he\",\"marker\":{\"color\":\"#FF6692\",\"symbol\":\"circle\"},\"mode\":\"markers\",\"name\":\"he\",\"scene\":\"scene\",\"showlegend\":true,\"x\":[0.30903494358062744],\"y\":[-0.17584608495235443],\"z\":[-0.04984382912516594],\"type\":\"scatter3d\"},{\"hovertemplate\":\"color=might<br>0=%{x}<br>1=%{y}<br>2=%{z}<extra></extra>\",\"legendgroup\":\"might\",\"marker\":{\"color\":\"#B6E880\",\"symbol\":\"circle\"},\"mode\":\"markers\",\"name\":\"might\",\"scene\":\"scene\",\"showlegend\":true,\"x\":[0.3329187333583832],\"y\":[0.09460823237895966],\"z\":[0.08684170991182327],\"type\":\"scatter3d\"},{\"hovertemplate\":\"color=highly<br>0=%{x}<br>1=%{y}<br>2=%{z}<extra></extra>\",\"legendgroup\":\"highly\",\"marker\":{\"color\":\"#FF97FF\",\"symbol\":\"circle\"},\"mode\":\"markers\",\"name\":\"highly\",\"scene\":\"scene\",\"showlegend\":true,\"x\":[0.23638702929019928],\"y\":[0.14021198451519012],\"z\":[-0.09450438618659973],\"type\":\"scatter3d\"},{\"hovertemplate\":\"color=overall<br>0=%{x}<br>1=%{y}<br>2=%{z}<extra></extra>\",\"legendgroup\":\"overall\",\"marker\":{\"color\":\"#FECB52\",\"symbol\":\"circle\"},\"mode\":\"markers\",\"name\":\"overall\",\"scene\":\"scene\",\"showlegend\":true,\"x\":[0.3404026925563812],\"y\":[0.31584468483924866],\"z\":[-0.04275649040937424],\"type\":\"scatter3d\"},{\"hovertemplate\":\"color=took<br>0=%{x}<br>1=%{y}<br>2=%{z}<extra></extra>\",\"legendgroup\":\"took\",\"marker\":{\"color\":\"#636efa\",\"symbol\":\"circle\"},\"mode\":\"markers\",\"name\":\"took\",\"scene\":\"scene\",\"showlegend\":true,\"x\":[0.17706139385700226],\"y\":[0.1551264077425003],\"z\":[0.13317471742630005],\"type\":\"scatter3d\"},{\"hovertemplate\":\"color=knives<br>0=%{x}<br>1=%{y}<br>2=%{z}<extra></extra>\",\"legendgroup\":\"knives\",\"marker\":{\"color\":\"#EF553B\",\"symbol\":\"circle\"},\"mode\":\"markers\",\"name\":\"knives\",\"scene\":\"scene\",\"showlegend\":true,\"x\":[0.2511792480945587],\"y\":[-0.1372940093278885],\"z\":[-0.2430461049079895],\"type\":\"scatter3d\"},{\"hovertemplate\":\"color=happy<br>0=%{x}<br>1=%{y}<br>2=%{z}<extra></extra>\",\"legendgroup\":\"happy\",\"marker\":{\"color\":\"#00cc96\",\"symbol\":\"circle\"},\"mode\":\"markers\",\"name\":\"happy\",\"scene\":\"scene\",\"showlegend\":true,\"x\":[0.25769850611686707],\"y\":[0.1393430233001709],\"z\":[-0.1468169093132019],\"type\":\"scatter3d\"},{\"hovertemplate\":\"color=people<br>0=%{x}<br>1=%{y}<br>2=%{z}<extra></extra>\",\"legendgroup\":\"people\",\"marker\":{\"color\":\"#ab63fa\",\"symbol\":\"circle\"},\"mode\":\"markers\",\"name\":\"people\",\"scene\":\"scene\",\"showlegend\":true,\"x\":[0.3463982045650482],\"y\":[-0.2300967127084732],\"z\":[-0.06657592207193375],\"type\":\"scatter3d\"},{\"hovertemplate\":\"color=several<br>0=%{x}<br>1=%{y}<br>2=%{z}<extra></extra>\",\"legendgroup\":\"several\",\"marker\":{\"color\":\"#FFA15A\",\"symbol\":\"circle\"},\"mode\":\"markers\",\"name\":\"several\",\"scene\":\"scene\",\"showlegend\":true,\"x\":[0.13947796821594238],\"y\":[0.06793128699064255],\"z\":[-0.052824731916189194],\"type\":\"scatter3d\"},{\"hovertemplate\":\"color=having<br>0=%{x}<br>1=%{y}<br>2=%{z}<extra></extra>\",\"legendgroup\":\"having\",\"marker\":{\"color\":\"#19d3f3\",\"symbol\":\"circle\"},\"mode\":\"markers\",\"name\":\"having\",\"scene\":\"scene\",\"showlegend\":true,\"x\":[0.3344818651676178],\"y\":[-0.04127703234553337],\"z\":[0.09545228630304337],\"type\":\"scatter3d\"},{\"hovertemplate\":\"color=own<br>0=%{x}<br>1=%{y}<br>2=%{z}<extra></extra>\",\"legendgroup\":\"own\",\"marker\":{\"color\":\"#FF6692\",\"symbol\":\"circle\"},\"mode\":\"markers\",\"name\":\"own\",\"scene\":\"scene\",\"showlegend\":true,\"x\":[0.2649223208427429],\"y\":[0.005284968297928572],\"z\":[-0.3042623996734619],\"type\":\"scatter3d\"},{\"hovertemplate\":\"color=stars<br>0=%{x}<br>1=%{y}<br>2=%{z}<extra></extra>\",\"legendgroup\":\"stars\",\"marker\":{\"color\":\"#B6E880\",\"symbol\":\"circle\"},\"mode\":\"markers\",\"name\":\"stars\",\"scene\":\"scene\",\"showlegend\":true,\"x\":[0.39996472001075745],\"y\":[0.13780339062213898],\"z\":[-0.10729548335075378],\"type\":\"scatter3d\"},{\"hovertemplate\":\"color=excellent<br>0=%{x}<br>1=%{y}<br>2=%{z}<extra></extra>\",\"legendgroup\":\"excellent\",\"marker\":{\"color\":\"#FF97FF\",\"symbol\":\"circle\"},\"mode\":\"markers\",\"name\":\"excellent\",\"scene\":\"scene\",\"showlegend\":true,\"x\":[0.18617907166481018],\"y\":[0.280546635389328],\"z\":[-0.20484456419944763],\"type\":\"scatter3d\"},{\"hovertemplate\":\"color=design<br>0=%{x}<br>1=%{y}<br>2=%{z}<extra></extra>\",\"legendgroup\":\"design\",\"marker\":{\"color\":\"#FECB52\",\"symbol\":\"circle\"},\"mode\":\"markers\",\"name\":\"design\",\"scene\":\"scene\",\"showlegend\":true,\"x\":[0.35872653126716614],\"y\":[0.2297794669866562],\"z\":[-0.16591031849384308],\"type\":\"scatter3d\"},{\"hovertemplate\":\"color=always<br>0=%{x}<br>1=%{y}<br>2=%{z}<extra></extra>\",\"legendgroup\":\"always\",\"marker\":{\"color\":\"#636efa\",\"symbol\":\"circle\"},\"mode\":\"markers\",\"name\":\"always\",\"scene\":\"scene\",\"showlegend\":true,\"x\":[0.306174099445343],\"y\":[-0.17065656185150146],\"z\":[-0.02724229171872139],\"type\":\"scatter3d\"},{\"hovertemplate\":\"color=try<br>0=%{x}<br>1=%{y}<br>2=%{z}<extra></extra>\",\"legendgroup\":\"try\",\"marker\":{\"color\":\"#EF553B\",\"symbol\":\"circle\"},\"mode\":\"markers\",\"name\":\"try\",\"scene\":\"scene\",\"showlegend\":true,\"x\":[0.4071885049343109],\"y\":[-0.041705358773469925],\"z\":[0.03519069403409958],\"type\":\"scatter3d\"},{\"hovertemplate\":\"color=under<br>0=%{x}<br>1=%{y}<br>2=%{z}<extra></extra>\",\"legendgroup\":\"under\",\"marker\":{\"color\":\"#00cc96\",\"symbol\":\"circle\"},\"mode\":\"markers\",\"name\":\"under\",\"scene\":\"scene\",\"showlegend\":true,\"x\":[0.31214070320129395],\"y\":[0.21836546063423157],\"z\":[0.20604519546031952],\"type\":\"scatter3d\"},{\"hovertemplate\":\"color=anything<br>0=%{x}<br>1=%{y}<br>2=%{z}<extra></extra>\",\"legendgroup\":\"anything\",\"marker\":{\"color\":\"#ab63fa\",\"symbol\":\"circle\"},\"mode\":\"markers\",\"name\":\"anything\",\"scene\":\"scene\",\"showlegend\":true,\"x\":[0.47387945652008057],\"y\":[-0.018425319343805313],\"z\":[0.06723029911518097],\"type\":\"scatter3d\"},{\"hovertemplate\":\"color=bad<br>0=%{x}<br>1=%{y}<br>2=%{z}<extra></extra>\",\"legendgroup\":\"bad\",\"marker\":{\"color\":\"#FFA15A\",\"symbol\":\"circle\"},\"mode\":\"markers\",\"name\":\"bad\",\"scene\":\"scene\",\"showlegend\":true,\"x\":[0.3475230634212494],\"y\":[0.08527474850416183],\"z\":[0.03693747892975807],\"type\":\"scatter3d\"},{\"hovertemplate\":\"color=each<br>0=%{x}<br>1=%{y}<br>2=%{z}<extra></extra>\",\"legendgroup\":\"each\",\"marker\":{\"color\":\"#19d3f3\",\"symbol\":\"circle\"},\"mode\":\"markers\",\"name\":\"each\",\"scene\":\"scene\",\"showlegend\":true,\"x\":[0.3855113983154297],\"y\":[0.10234562307596207],\"z\":[0.07508942484855652],\"type\":\"scatter3d\"},{\"hovertemplate\":\"color=purchase<br>0=%{x}<br>1=%{y}<br>2=%{z}<extra></extra>\",\"legendgroup\":\"purchase\",\"marker\":{\"color\":\"#FF6692\",\"symbol\":\"circle\"},\"mode\":\"markers\",\"name\":\"purchase\",\"scene\":\"scene\",\"showlegend\":true,\"x\":[0.2662431001663208],\"y\":[0.032853227108716965],\"z\":[-0.2844915986061096],\"type\":\"scatter3d\"},{\"hovertemplate\":\"color=camping<br>0=%{x}<br>1=%{y}<br>2=%{z}<extra></extra>\",\"legendgroup\":\"camping\",\"marker\":{\"color\":\"#B6E880\",\"symbol\":\"circle\"},\"mode\":\"markers\",\"name\":\"camping\",\"scene\":\"scene\",\"showlegend\":true,\"x\":[0.2804439067840576],\"y\":[-0.33908629417419434],\"z\":[0.030999476090073586],\"type\":\"scatter3d\"},{\"hovertemplate\":\"color=kit<br>0=%{x}<br>1=%{y}<br>2=%{z}<extra></extra>\",\"legendgroup\":\"kit\",\"marker\":{\"color\":\"#FF97FF\",\"symbol\":\"circle\"},\"mode\":\"markers\",\"name\":\"kit\",\"scene\":\"scene\",\"showlegend\":true,\"x\":[0.261636346578598],\"y\":[0.0052174776792526245],\"z\":[-0.16367949545383453],\"type\":\"scatter3d\"},{\"hovertemplate\":\"color=couple<br>0=%{x}<br>1=%{y}<br>2=%{z}<extra></extra>\",\"legendgroup\":\"couple\",\"marker\":{\"color\":\"#FECB52\",\"symbol\":\"circle\"},\"mode\":\"markers\",\"name\":\"couple\",\"scene\":\"scene\",\"showlegend\":true,\"x\":[0.2131931483745575],\"y\":[0.07753778994083405],\"z\":[0.08397117257118225],\"type\":\"scatter3d\"},{\"hovertemplate\":\"color=definitely<br>0=%{x}<br>1=%{y}<br>2=%{z}<extra></extra>\",\"legendgroup\":\"definitely\",\"marker\":{\"color\":\"#636efa\",\"symbol\":\"circle\"},\"mode\":\"markers\",\"name\":\"definitely\",\"scene\":\"scene\",\"showlegend\":true,\"x\":[0.3449469804763794],\"y\":[0.09110479056835175],\"z\":[-0.06748156994581223],\"type\":\"scatter3d\"},{\"hovertemplate\":\"color=everything<br>0=%{x}<br>1=%{y}<br>2=%{z}<extra></extra>\",\"legendgroup\":\"everything\",\"marker\":{\"color\":\"#EF553B\",\"symbol\":\"circle\"},\"mode\":\"markers\",\"name\":\"everything\",\"scene\":\"scene\",\"showlegend\":true,\"x\":[0.4368428587913513],\"y\":[0.04764465615153313],\"z\":[-0.02633349969983101],\"type\":\"scatter3d\"},{\"hovertemplate\":\"color=wanted<br>0=%{x}<br>1=%{y}<br>2=%{z}<extra></extra>\",\"legendgroup\":\"wanted\",\"marker\":{\"color\":\"#00cc96\",\"symbol\":\"circle\"},\"mode\":\"markers\",\"name\":\"wanted\",\"scene\":\"scene\",\"showlegend\":true,\"x\":[0.19197885692119598],\"y\":[0.07680846005678177],\"z\":[-0.15930959582328796],\"type\":\"scatter3d\"},{\"hovertemplate\":\"color=tried<br>0=%{x}<br>1=%{y}<br>2=%{z}<extra></extra>\",\"legendgroup\":\"tried\",\"marker\":{\"color\":\"#ab63fa\",\"symbol\":\"circle\"},\"mode\":\"markers\",\"name\":\"tried\",\"scene\":\"scene\",\"showlegend\":true,\"x\":[0.27910149097442627],\"y\":[0.08389980345964432],\"z\":[0.118365079164505],\"type\":\"scatter3d\"},{\"hovertemplate\":\"color=here<br>0=%{x}<br>1=%{y}<br>2=%{z}<extra></extra>\",\"legendgroup\":\"here\",\"marker\":{\"color\":\"#FFA15A\",\"symbol\":\"circle\"},\"mode\":\"markers\",\"name\":\"here\",\"scene\":\"scene\",\"showlegend\":true,\"x\":[0.19038580358028412],\"y\":[-0.12293871492147446],\"z\":[-0.32382312417030334],\"type\":\"scatter3d\"},{\"hovertemplate\":\"color=stuff<br>0=%{x}<br>1=%{y}<br>2=%{z}<extra></extra>\",\"legendgroup\":\"stuff\",\"marker\":{\"color\":\"#19d3f3\",\"symbol\":\"circle\"},\"mode\":\"markers\",\"name\":\"stuff\",\"scene\":\"scene\",\"showlegend\":true,\"x\":[0.354210764169693],\"y\":[-0.22963088750839233],\"z\":[0.11526498198509216],\"type\":\"scatter3d\"},{\"hovertemplate\":\"color=full<br>0=%{x}<br>1=%{y}<br>2=%{z}<extra></extra>\",\"legendgroup\":\"full\",\"marker\":{\"color\":\"#FF6692\",\"symbol\":\"circle\"},\"mode\":\"markers\",\"name\":\"full\",\"scene\":\"scene\",\"showlegend\":true,\"x\":[0.3765691816806793],\"y\":[0.17766612768173218],\"z\":[0.05882981792092323],\"type\":\"scatter3d\"},{\"hovertemplate\":\"color=worked<br>0=%{x}<br>1=%{y}<br>2=%{z}<extra></extra>\",\"legendgroup\":\"worked\",\"marker\":{\"color\":\"#B6E880\",\"symbol\":\"circle\"},\"mode\":\"markers\",\"name\":\"worked\",\"scene\":\"scene\",\"showlegend\":true,\"x\":[0.24430033564567566],\"y\":[0.08999040722846985],\"z\":[0.06594353914260864],\"type\":\"scatter3d\"},{\"hovertemplate\":\"color=reviews<br>0=%{x}<br>1=%{y}<br>2=%{z}<extra></extra>\",\"legendgroup\":\"reviews\",\"marker\":{\"color\":\"#FF97FF\",\"symbol\":\"circle\"},\"mode\":\"markers\",\"name\":\"reviews\",\"scene\":\"scene\",\"showlegend\":true,\"x\":[0.2538774311542511],\"y\":[-0.0041885580867528915],\"z\":[-0.20185299217700958],\"type\":\"scatter3d\"},{\"hovertemplate\":\"color=edge<br>0=%{x}<br>1=%{y}<br>2=%{z}<extra></extra>\",\"legendgroup\":\"edge\",\"marker\":{\"color\":\"#FECB52\",\"symbol\":\"circle\"},\"mode\":\"markers\",\"name\":\"edge\",\"scene\":\"scene\",\"showlegend\":true,\"x\":[0.4205003082752228],\"y\":[0.09833581745624542],\"z\":[0.0697515457868576],\"type\":\"scatter3d\"},{\"hovertemplate\":\"color=sheath<br>0=%{x}<br>1=%{y}<br>2=%{z}<extra></extra>\",\"legendgroup\":\"sheath\",\"marker\":{\"color\":\"#636efa\",\"symbol\":\"circle\"},\"mode\":\"markers\",\"name\":\"sheath\",\"scene\":\"scene\",\"showlegend\":true,\"x\":[0.3838646709918976],\"y\":[0.20706352591514587],\"z\":[-0.04437418282032013],\"type\":\"scatter3d\"},{\"hovertemplate\":\"color=clip<br>0=%{x}<br>1=%{y}<br>2=%{z}<extra></extra>\",\"legendgroup\":\"clip\",\"marker\":{\"color\":\"#EF553B\",\"symbol\":\"circle\"},\"mode\":\"markers\",\"name\":\"clip\",\"scene\":\"scene\",\"showlegend\":true,\"x\":[0.5197470784187317],\"y\":[0.34725847840309143],\"z\":[0.037428367882966995],\"type\":\"scatter3d\"},{\"hovertemplate\":\"color=point<br>0=%{x}<br>1=%{y}<br>2=%{z}<extra></extra>\",\"legendgroup\":\"point\",\"marker\":{\"color\":\"#00cc96\",\"symbol\":\"circle\"},\"mode\":\"markers\",\"name\":\"point\",\"scene\":\"scene\",\"showlegend\":true,\"x\":[0.41736558079719543],\"y\":[0.19509357213974],\"z\":[-0.034547314047813416],\"type\":\"scatter3d\"},{\"hovertemplate\":\"color=metal<br>0=%{x}<br>1=%{y}<br>2=%{z}<extra></extra>\",\"legendgroup\":\"metal\",\"marker\":{\"color\":\"#ab63fa\",\"symbol\":\"circle\"},\"mode\":\"markers\",\"name\":\"metal\",\"scene\":\"scene\",\"showlegend\":true,\"x\":[0.46519196033477783],\"y\":[0.4024859666824341],\"z\":[0.22413380444049835],\"type\":\"scatter3d\"},{\"hovertemplate\":\"color=shooting<br>0=%{x}<br>1=%{y}<br>2=%{z}<extra></extra>\",\"legendgroup\":\"shooting\",\"marker\":{\"color\":\"#FFA15A\",\"symbol\":\"circle\"},\"mode\":\"markers\",\"name\":\"shooting\",\"scene\":\"scene\",\"showlegend\":true,\"x\":[0.3871552050113678],\"y\":[-0.025958973914384842],\"z\":[-0.017371026799082756],\"type\":\"scatter3d\"},{\"hovertemplate\":\"color=won<br>0=%{x}<br>1=%{y}<br>2=%{z}<extra></extra>\",\"legendgroup\":\"won\",\"marker\":{\"color\":\"#19d3f3\",\"symbol\":\"circle\"},\"mode\":\"markers\",\"name\":\"won\",\"scene\":\"scene\",\"showlegend\":true,\"x\":[0.27279776334762573],\"y\":[0.1795801818370819],\"z\":[0.1511969119310379],\"type\":\"scatter3d\"},{\"hovertemplate\":\"color=ordered<br>0=%{x}<br>1=%{y}<br>2=%{z}<extra></extra>\",\"legendgroup\":\"ordered\",\"marker\":{\"color\":\"#FF6692\",\"symbol\":\"circle\"},\"mode\":\"markers\",\"name\":\"ordered\",\"scene\":\"scene\",\"showlegend\":true,\"x\":[0.18085280060768127],\"y\":[0.12612490355968475],\"z\":[-0.2312796711921692],\"type\":\"scatter3d\"},{\"hovertemplate\":\"color=hands<br>0=%{x}<br>1=%{y}<br>2=%{z}<extra></extra>\",\"legendgroup\":\"hands\",\"marker\":{\"color\":\"#B6E880\",\"symbol\":\"circle\"},\"mode\":\"markers\",\"name\":\"hands\",\"scene\":\"scene\",\"showlegend\":true,\"x\":[0.48099759221076965],\"y\":[-0.014226073399186134],\"z\":[0.175418421626091],\"type\":\"scatter3d\"},{\"hovertemplate\":\"color=thought<br>0=%{x}<br>1=%{y}<br>2=%{z}<extra></extra>\",\"legendgroup\":\"thought\",\"marker\":{\"color\":\"#FF97FF\",\"symbol\":\"circle\"},\"mode\":\"markers\",\"name\":\"thought\",\"scene\":\"scene\",\"showlegend\":true,\"x\":[0.34829747676849365],\"y\":[0.04817752167582512],\"z\":[-0.06446874886751175],\"type\":\"scatter3d\"},{\"hovertemplate\":\"color=ever<br>0=%{x}<br>1=%{y}<br>2=%{z}<extra></extra>\",\"legendgroup\":\"ever\",\"marker\":{\"color\":\"#FECB52\",\"symbol\":\"circle\"},\"mode\":\"markers\",\"name\":\"ever\",\"scene\":\"scene\",\"showlegend\":true,\"x\":[0.37956702709198],\"y\":[-0.013637670315802097],\"z\":[-0.06389391422271729],\"type\":\"scatter3d\"},{\"hovertemplate\":\"color=said<br>0=%{x}<br>1=%{y}<br>2=%{z}<extra></extra>\",\"legendgroup\":\"said\",\"marker\":{\"color\":\"#636efa\",\"symbol\":\"circle\"},\"mode\":\"markers\",\"name\":\"said\",\"scene\":\"scene\",\"showlegend\":true,\"x\":[0.25389334559440613],\"y\":[0.10511356592178345],\"z\":[-0.10595832765102386],\"type\":\"scatter3d\"},{\"hovertemplate\":\"color=mine<br>0=%{x}<br>1=%{y}<br>2=%{z}<extra></extra>\",\"legendgroup\":\"mine\",\"marker\":{\"color\":\"#EF553B\",\"symbol\":\"circle\"},\"mode\":\"markers\",\"name\":\"mine\",\"scene\":\"scene\",\"showlegend\":true,\"x\":[0.4159923791885376],\"y\":[0.052456509321928024],\"z\":[-0.10762348771095276],\"type\":\"scatter3d\"},{\"hovertemplate\":\"color=strap<br>0=%{x}<br>1=%{y}<br>2=%{z}<extra></extra>\",\"legendgroup\":\"strap\",\"marker\":{\"color\":\"#00cc96\",\"symbol\":\"circle\"},\"mode\":\"markers\",\"name\":\"strap\",\"scene\":\"scene\",\"showlegend\":true,\"x\":[0.5137932300567627],\"y\":[0.2968657612800598],\"z\":[0.10258271545171738],\"type\":\"scatter3d\"},{\"hovertemplate\":\"color=bottom<br>0=%{x}<br>1=%{y}<br>2=%{z}<extra></extra>\",\"legendgroup\":\"bottom\",\"marker\":{\"color\":\"#ab63fa\",\"symbol\":\"circle\"},\"mode\":\"markers\",\"name\":\"bottom\",\"scene\":\"scene\",\"showlegend\":true,\"x\":[0.4990181624889374],\"y\":[0.2941698133945465],\"z\":[0.26462966203689575],\"type\":\"scatter3d\"},{\"hovertemplate\":\"color=away<br>0=%{x}<br>1=%{y}<br>2=%{z}<extra></extra>\",\"legendgroup\":\"away\",\"marker\":{\"color\":\"#FFA15A\",\"symbol\":\"circle\"},\"mode\":\"markers\",\"name\":\"away\",\"scene\":\"scene\",\"showlegend\":true,\"x\":[0.37853360176086426],\"y\":[-0.05914117023348808],\"z\":[0.21048679947853088],\"type\":\"scatter3d\"},{\"hovertemplate\":\"color=watch<br>0=%{x}<br>1=%{y}<br>2=%{z}<extra></extra>\",\"legendgroup\":\"watch\",\"marker\":{\"color\":\"#19d3f3\",\"symbol\":\"circle\"},\"mode\":\"markers\",\"name\":\"watch\",\"scene\":\"scene\",\"showlegend\":true,\"x\":[0.32892605662345886],\"y\":[-0.18486559391021729],\"z\":[-0.19291771948337555],\"type\":\"scatter3d\"},{\"hovertemplate\":\"color=piece<br>0=%{x}<br>1=%{y}<br>2=%{z}<extra></extra>\",\"legendgroup\":\"piece\",\"marker\":{\"color\":\"#FF6692\",\"symbol\":\"circle\"},\"mode\":\"markers\",\"name\":\"piece\",\"scene\":\"scene\",\"showlegend\":true,\"x\":[0.3675185441970825],\"y\":[0.2535528540611267],\"z\":[0.05942452698945999],\"type\":\"scatter3d\"},{\"hovertemplate\":\"color=almost<br>0=%{x}<br>1=%{y}<br>2=%{z}<extra></extra>\",\"legendgroup\":\"almost\",\"marker\":{\"color\":\"#B6E880\",\"symbol\":\"circle\"},\"mode\":\"markers\",\"name\":\"almost\",\"scene\":\"scene\",\"showlegend\":true,\"x\":[0.33604830503463745],\"y\":[0.1313789039850235],\"z\":[0.03096972033381462],\"type\":\"scatter3d\"},{\"hovertemplate\":\"color=part<br>0=%{x}<br>1=%{y}<br>2=%{z}<extra></extra>\",\"legendgroup\":\"part\",\"marker\":{\"color\":\"#FF97FF\",\"symbol\":\"circle\"},\"mode\":\"markers\",\"name\":\"part\",\"scene\":\"scene\",\"showlegend\":true,\"x\":[0.44933798909187317],\"y\":[0.13583087921142578],\"z\":[0.04949413612484932],\"type\":\"scatter3d\"},{\"hovertemplate\":\"color=feels<br>0=%{x}<br>1=%{y}<br>2=%{z}<extra></extra>\",\"legendgroup\":\"feels\",\"marker\":{\"color\":\"#FECB52\",\"symbol\":\"circle\"},\"mode\":\"markers\",\"name\":\"feels\",\"scene\":\"scene\",\"showlegend\":true,\"x\":[0.3707839548587799],\"y\":[0.28472352027893066],\"z\":[0.16795796155929565],\"type\":\"scatter3d\"},{\"hovertemplate\":\"color=real<br>0=%{x}<br>1=%{y}<br>2=%{z}<extra></extra>\",\"legendgroup\":\"real\",\"marker\":{\"color\":\"#636efa\",\"symbol\":\"circle\"},\"mode\":\"markers\",\"name\":\"real\",\"scene\":\"scene\",\"showlegend\":true,\"x\":[0.3006415367126465],\"y\":[0.1524077206850052],\"z\":[-0.10297982394695282],\"type\":\"scatter3d\"},{\"hovertemplate\":\"color=our<br>0=%{x}<br>1=%{y}<br>2=%{z}<extra></extra>\",\"legendgroup\":\"our\",\"marker\":{\"color\":\"#EF553B\",\"symbol\":\"circle\"},\"mode\":\"markers\",\"name\":\"our\",\"scene\":\"scene\",\"showlegend\":true,\"x\":[0.15652187168598175],\"y\":[-0.2589164972305298],\"z\":[0.03468600660562515],\"type\":\"scatter3d\"},{\"hovertemplate\":\"color=air<br>0=%{x}<br>1=%{y}<br>2=%{z}<extra></extra>\",\"legendgroup\":\"air\",\"marker\":{\"color\":\"#00cc96\",\"symbol\":\"circle\"},\"mode\":\"markers\",\"name\":\"air\",\"scene\":\"scene\",\"showlegend\":true,\"x\":[0.40528246760368347],\"y\":[-0.1290251612663269],\"z\":[0.17995260655879974],\"type\":\"scatter3d\"},{\"hovertemplate\":\"color=black<br>0=%{x}<br>1=%{y}<br>2=%{z}<extra></extra>\",\"legendgroup\":\"black\",\"marker\":{\"color\":\"#ab63fa\",\"symbol\":\"circle\"},\"mode\":\"markers\",\"name\":\"black\",\"scene\":\"scene\",\"showlegend\":true,\"x\":[0.31121906638145447],\"y\":[0.1974899172782898],\"z\":[-0.05673130974173546],\"type\":\"scatter3d\"},{\"hovertemplate\":\"color=strong<br>0=%{x}<br>1=%{y}<br>2=%{z}<extra></extra>\",\"legendgroup\":\"strong\",\"marker\":{\"color\":\"#FFA15A\",\"symbol\":\"circle\"},\"mode\":\"markers\",\"name\":\"strong\",\"scene\":\"scene\",\"showlegend\":true,\"x\":[0.3775186240673065],\"y\":[0.3170585334300995],\"z\":[0.1754627823829651],\"type\":\"scatter3d\"},{\"hovertemplate\":\"color=review<br>0=%{x}<br>1=%{y}<br>2=%{z}<extra></extra>\",\"legendgroup\":\"review\",\"marker\":{\"color\":\"#19d3f3\",\"symbol\":\"circle\"},\"mode\":\"markers\",\"name\":\"review\",\"scene\":\"scene\",\"showlegend\":true,\"x\":[0.2496110200881958],\"y\":[-0.07709994912147522],\"z\":[-0.31122294068336487],\"type\":\"scatter3d\"},{\"hovertemplate\":\"color=year<br>0=%{x}<br>1=%{y}<br>2=%{z}<extra></extra>\",\"legendgroup\":\"year\",\"marker\":{\"color\":\"#FF6692\",\"symbol\":\"circle\"},\"mode\":\"markers\",\"name\":\"year\",\"scene\":\"scene\",\"showlegend\":true,\"x\":[0.26203930377960205],\"y\":[-0.19538907706737518],\"z\":[-0.08971158415079117],\"type\":\"scatter3d\"},{\"hovertemplate\":\"color=durable<br>0=%{x}<br>1=%{y}<br>2=%{z}<extra></extra>\",\"legendgroup\":\"durable\",\"marker\":{\"color\":\"#B6E880\",\"symbol\":\"circle\"},\"mode\":\"markers\",\"name\":\"durable\",\"scene\":\"scene\",\"showlegend\":true,\"x\":[0.3278028070926666],\"y\":[0.22278514504432678],\"z\":[0.07625839859247208],\"type\":\"scatter3d\"},{\"hovertemplate\":\"color=pistol<br>0=%{x}<br>1=%{y}<br>2=%{z}<extra></extra>\",\"legendgroup\":\"pistol\",\"marker\":{\"color\":\"#FF97FF\",\"symbol\":\"circle\"},\"mode\":\"markers\",\"name\":\"pistol\",\"scene\":\"scene\",\"showlegend\":true,\"x\":[0.4077759385108948],\"y\":[0.33837878704071045],\"z\":[-0.22682484984397888],\"type\":\"scatter3d\"},{\"hovertemplate\":\"color=quick<br>0=%{x}<br>1=%{y}<br>2=%{z}<extra></extra>\",\"legendgroup\":\"quick\",\"marker\":{\"color\":\"#FECB52\",\"symbol\":\"circle\"},\"mode\":\"markers\",\"name\":\"quick\",\"scene\":\"scene\",\"showlegend\":true,\"x\":[0.3586810827255249],\"y\":[0.29943475127220154],\"z\":[-0.02446162886917591],\"type\":\"scatter3d\"},{\"hovertemplate\":\"color=low<br>0=%{x}<br>1=%{y}<br>2=%{z}<extra></extra>\",\"legendgroup\":\"low\",\"marker\":{\"color\":\"#636efa\",\"symbol\":\"circle\"},\"mode\":\"markers\",\"name\":\"low\",\"scene\":\"scene\",\"showlegend\":true,\"x\":[0.34372302889823914],\"y\":[0.17891250550746918],\"z\":[-0.07523290067911148],\"type\":\"scatter3d\"},{\"hovertemplate\":\"color=room<br>0=%{x}<br>1=%{y}<br>2=%{z}<extra></extra>\",\"legendgroup\":\"room\",\"marker\":{\"color\":\"#EF553B\",\"symbol\":\"circle\"},\"mode\":\"markers\",\"name\":\"room\",\"scene\":\"scene\",\"showlegend\":true,\"x\":[0.4521300196647644],\"y\":[0.006747276522219181],\"z\":[0.10898087918758392],\"type\":\"scatter3d\"},{\"hovertemplate\":\"color=material<br>0=%{x}<br>1=%{y}<br>2=%{z}<extra></extra>\",\"legendgroup\":\"material\",\"marker\":{\"color\":\"#00cc96\",\"symbol\":\"circle\"},\"mode\":\"markers\",\"name\":\"material\",\"scene\":\"scene\",\"showlegend\":true,\"x\":[0.45718181133270264],\"y\":[0.14795947074890137],\"z\":[0.2405017912387848],\"type\":\"scatter3d\"},{\"hovertemplate\":\"color=battery<br>0=%{x}<br>1=%{y}<br>2=%{z}<extra></extra>\",\"legendgroup\":\"battery\",\"marker\":{\"color\":\"#ab63fa\",\"symbol\":\"circle\"},\"mode\":\"markers\",\"name\":\"battery\",\"scene\":\"scene\",\"showlegend\":true,\"x\":[0.43524056673049927],\"y\":[0.013702934607863426],\"z\":[-0.08565469086170197],\"type\":\"scatter3d\"},{\"hovertemplate\":\"color=isn<br>0=%{x}<br>1=%{y}<br>2=%{z}<extra></extra>\",\"legendgroup\":\"isn\",\"marker\":{\"color\":\"#FFA15A\",\"symbol\":\"circle\"},\"mode\":\"markers\",\"name\":\"isn\",\"scene\":\"scene\",\"showlegend\":true,\"x\":[0.2665761113166809],\"y\":[0.21339982748031616],\"z\":[0.10604558140039444],\"type\":\"scatter3d\"},{\"hovertemplate\":\"color=ride<br>0=%{x}<br>1=%{y}<br>2=%{z}<extra></extra>\",\"legendgroup\":\"ride\",\"marker\":{\"color\":\"#19d3f3\",\"symbol\":\"circle\"},\"mode\":\"markers\",\"name\":\"ride\",\"scene\":\"scene\",\"showlegend\":true,\"x\":[0.4522216320037842],\"y\":[-0.20314328372478485],\"z\":[0.13018472492694855],\"type\":\"scatter3d\"},{\"hovertemplate\":\"color=clean<br>0=%{x}<br>1=%{y}<br>2=%{z}<extra></extra>\",\"legendgroup\":\"clean\",\"marker\":{\"color\":\"#FF6692\",\"symbol\":\"circle\"},\"mode\":\"markers\",\"name\":\"clean\",\"scene\":\"scene\",\"showlegend\":true,\"x\":[0.4163489043712616],\"y\":[0.015107245184481144],\"z\":[0.3682159185409546],\"type\":\"scatter3d\"},{\"hovertemplate\":\"color=stock<br>0=%{x}<br>1=%{y}<br>2=%{z}<extra></extra>\",\"legendgroup\":\"stock\",\"marker\":{\"color\":\"#B6E880\",\"symbol\":\"circle\"},\"mode\":\"markers\",\"name\":\"stock\",\"scene\":\"scene\",\"showlegend\":true,\"x\":[0.44562992453575134],\"y\":[0.4292360842227936],\"z\":[-0.14337685704231262],\"type\":\"scatter3d\"},{\"hovertemplate\":\"color=ar<br>0=%{x}<br>1=%{y}<br>2=%{z}<extra></extra>\",\"legendgroup\":\"ar\",\"marker\":{\"color\":\"#FF97FF\",\"symbol\":\"circle\"},\"mode\":\"markers\",\"name\":\"ar\",\"scene\":\"scene\",\"showlegend\":true,\"x\":[0.38548505306243896],\"y\":[0.31152400374412537],\"z\":[-0.29320913553237915],\"type\":\"scatter3d\"},{\"hovertemplate\":\"color=simple<br>0=%{x}<br>1=%{y}<br>2=%{z}<extra></extra>\",\"legendgroup\":\"simple\",\"marker\":{\"color\":\"#FECB52\",\"symbol\":\"circle\"},\"mode\":\"markers\",\"name\":\"simple\",\"scene\":\"scene\",\"showlegend\":true,\"x\":[0.3139351010322571],\"y\":[0.3158365488052368],\"z\":[-0.06814368814229965],\"type\":\"scatter3d\"},{\"hovertemplate\":\"color=install<br>0=%{x}<br>1=%{y}<br>2=%{z}<extra></extra>\",\"legendgroup\":\"install\",\"marker\":{\"color\":\"#636efa\",\"symbol\":\"circle\"},\"mode\":\"markers\",\"name\":\"install\",\"scene\":\"scene\",\"showlegend\":true,\"x\":[0.4034295380115509],\"y\":[0.4020422697067261],\"z\":[-0.054697100073099136],\"type\":\"scatter3d\"},{\"hovertemplate\":\"color=cut<br>0=%{x}<br>1=%{y}<br>2=%{z}<extra></extra>\",\"legendgroup\":\"cut\",\"marker\":{\"color\":\"#EF553B\",\"symbol\":\"circle\"},\"mode\":\"markers\",\"name\":\"cut\",\"scene\":\"scene\",\"showlegend\":true,\"x\":[0.4650055468082428],\"y\":[0.1669711470603943],\"z\":[0.36640626192092896],\"type\":\"scatter3d\"},{\"hovertemplate\":\"color=bright<br>0=%{x}<br>1=%{y}<br>2=%{z}<extra></extra>\",\"legendgroup\":\"bright\",\"marker\":{\"color\":\"#00cc96\",\"symbol\":\"circle\"},\"mode\":\"markers\",\"name\":\"bright\",\"scene\":\"scene\",\"showlegend\":true,\"x\":[0.3761157989501953],\"y\":[0.014299875125288963],\"z\":[-0.0736188217997551],\"type\":\"scatter3d\"},{\"hovertemplate\":\"color=smaller<br>0=%{x}<br>1=%{y}<br>2=%{z}<extra></extra>\",\"legendgroup\":\"smaller\",\"marker\":{\"color\":\"#ab63fa\",\"symbol\":\"circle\"},\"mode\":\"markers\",\"name\":\"smaller\",\"scene\":\"scene\",\"showlegend\":true,\"x\":[0.4398617744445801],\"y\":[0.20137357711791992],\"z\":[-0.10205354541540146],\"type\":\"scatter3d\"},{\"hovertemplate\":\"color=seem<br>0=%{x}<br>1=%{y}<br>2=%{z}<extra></extra>\",\"legendgroup\":\"seem\",\"marker\":{\"color\":\"#FFA15A\",\"symbol\":\"circle\"},\"mode\":\"markers\",\"name\":\"seem\",\"scene\":\"scene\",\"showlegend\":true,\"x\":[0.36074671149253845],\"y\":[0.16229304671287537],\"z\":[0.16500744223594666],\"type\":\"scatter3d\"},{\"hovertemplate\":\"color=cold<br>0=%{x}<br>1=%{y}<br>2=%{z}<extra></extra>\",\"legendgroup\":\"cold\",\"marker\":{\"color\":\"#19d3f3\",\"symbol\":\"circle\"},\"mode\":\"markers\",\"name\":\"cold\",\"scene\":\"scene\",\"showlegend\":true,\"x\":[0.2985583245754242],\"y\":[-0.22224672138690948],\"z\":[0.1308393031358719],\"type\":\"scatter3d\"},{\"hovertemplate\":\"color=three<br>0=%{x}<br>1=%{y}<br>2=%{z}<extra></extra>\",\"legendgroup\":\"three\",\"marker\":{\"color\":\"#FF6692\",\"symbol\":\"circle\"},\"mode\":\"markers\",\"name\":\"three\",\"scene\":\"scene\",\"showlegend\":true,\"x\":[0.2505841553211212],\"y\":[0.11750917136669159],\"z\":[-0.07961694151163101],\"type\":\"scatter3d\"},{\"hovertemplate\":\"color=red<br>0=%{x}<br>1=%{y}<br>2=%{z}<extra></extra>\",\"legendgroup\":\"red\",\"marker\":{\"color\":\"#B6E880\",\"symbol\":\"circle\"},\"mode\":\"markers\",\"name\":\"red\",\"scene\":\"scene\",\"showlegend\":true,\"x\":[0.3323808014392853],\"y\":[0.18545420467853546],\"z\":[-0.19222792983055115],\"type\":\"scatter3d\"},{\"hovertemplate\":\"color=tent<br>0=%{x}<br>1=%{y}<br>2=%{z}<extra></extra>\",\"legendgroup\":\"tent\",\"marker\":{\"color\":\"#FF97FF\",\"symbol\":\"circle\"},\"mode\":\"markers\",\"name\":\"tent\",\"scene\":\"scene\",\"showlegend\":true,\"x\":[0.41186681389808655],\"y\":[-0.25360310077667236],\"z\":[0.1266736537218094],\"type\":\"scatter3d\"},{\"hovertemplate\":\"color=days<br>0=%{x}<br>1=%{y}<br>2=%{z}<extra></extra>\",\"legendgroup\":\"days\",\"marker\":{\"color\":\"#FECB52\",\"symbol\":\"circle\"},\"mode\":\"markers\",\"name\":\"days\",\"scene\":\"scene\",\"showlegend\":true,\"x\":[0.33943691849708557],\"y\":[-0.27767592668533325],\"z\":[0.033722009509801865],\"type\":\"scatter3d\"},{\"hovertemplate\":\"color=either<br>0=%{x}<br>1=%{y}<br>2=%{z}<extra></extra>\",\"legendgroup\":\"either\",\"marker\":{\"color\":\"#636efa\",\"symbol\":\"circle\"},\"mode\":\"markers\",\"name\":\"either\",\"scene\":\"scene\",\"showlegend\":true,\"x\":[0.5007531046867371],\"y\":[0.1702856421470642],\"z\":[0.07662146538496017],\"type\":\"scatter3d\"},{\"hovertemplate\":\"color=head<br>0=%{x}<br>1=%{y}<br>2=%{z}<extra></extra>\",\"legendgroup\":\"head\",\"marker\":{\"color\":\"#EF553B\",\"symbol\":\"circle\"},\"mode\":\"markers\",\"name\":\"head\",\"scene\":\"scene\",\"showlegend\":true,\"x\":[0.4935067892074585],\"y\":[0.0689392015337944],\"z\":[0.18673022091388702],\"type\":\"scatter3d\"},{\"hovertemplate\":\"color=anyone<br>0=%{x}<br>1=%{y}<br>2=%{z}<extra></extra>\",\"legendgroup\":\"anyone\",\"marker\":{\"color\":\"#00cc96\",\"symbol\":\"circle\"},\"mode\":\"markers\",\"name\":\"anyone\",\"scene\":\"scene\",\"showlegend\":true,\"x\":[0.24138446152210236],\"y\":[0.084197498857975],\"z\":[-0.1128874272108078],\"type\":\"scatter3d\"},{\"hovertemplate\":\"color=straps<br>0=%{x}<br>1=%{y}<br>2=%{z}<extra></extra>\",\"legendgroup\":\"straps\",\"marker\":{\"color\":\"#ab63fa\",\"symbol\":\"circle\"},\"mode\":\"markers\",\"name\":\"straps\",\"scene\":\"scene\",\"showlegend\":true,\"x\":[0.49314257502555847],\"y\":[0.23874017596244812],\"z\":[0.10405533015727997],\"type\":\"scatter3d\"},{\"hovertemplate\":\"color=etc<br>0=%{x}<br>1=%{y}<br>2=%{z}<extra></extra>\",\"legendgroup\":\"etc\",\"marker\":{\"color\":\"#FFA15A\",\"symbol\":\"circle\"},\"mode\":\"markers\",\"name\":\"etc\",\"scene\":\"scene\",\"showlegend\":true,\"x\":[0.11456480622291565],\"y\":[0.05148221552371979],\"z\":[0.19908764958381653],\"type\":\"scatter3d\"},{\"hovertemplate\":\"color=fast<br>0=%{x}<br>1=%{y}<br>2=%{z}<extra></extra>\",\"legendgroup\":\"fast\",\"marker\":{\"color\":\"#19d3f3\",\"symbol\":\"circle\"},\"mode\":\"markers\",\"name\":\"fast\",\"scene\":\"scene\",\"showlegend\":true,\"x\":[0.301424115896225],\"y\":[0.13067947328090668],\"z\":[0.019791552796959877],\"type\":\"scatter3d\"},{\"hovertemplate\":\"color=must<br>0=%{x}<br>1=%{y}<br>2=%{z}<extra></extra>\",\"legendgroup\":\"must\",\"marker\":{\"color\":\"#FF6692\",\"symbol\":\"circle\"},\"mode\":\"markers\",\"name\":\"must\",\"scene\":\"scene\",\"showlegend\":true,\"x\":[0.21192853152751923],\"y\":[0.1655954122543335],\"z\":[-0.1243307814002037],\"type\":\"scatter3d\"},{\"hovertemplate\":\"color=issue<br>0=%{x}<br>1=%{y}<br>2=%{z}<extra></extra>\",\"legendgroup\":\"issue\",\"marker\":{\"color\":\"#B6E880\",\"symbol\":\"circle\"},\"mode\":\"markers\",\"name\":\"issue\",\"scene\":\"scene\",\"showlegend\":true,\"x\":[0.43523380160331726],\"y\":[0.11022672802209854],\"z\":[-0.03256157785654068],\"type\":\"scatter3d\"},{\"hovertemplate\":\"color=pump<br>0=%{x}<br>1=%{y}<br>2=%{z}<extra></extra>\",\"legendgroup\":\"pump\",\"marker\":{\"color\":\"#FF97FF\",\"symbol\":\"circle\"},\"mode\":\"markers\",\"name\":\"pump\",\"scene\":\"scene\",\"showlegend\":true,\"x\":[0.43344196677207947],\"y\":[-0.001680750516243279],\"z\":[-0.01718127727508545],\"type\":\"scatter3d\"},{\"hovertemplate\":\"color=seat<br>0=%{x}<br>1=%{y}<br>2=%{z}<extra></extra>\",\"legendgroup\":\"seat\",\"marker\":{\"color\":\"#FECB52\",\"symbol\":\"circle\"},\"mode\":\"markers\",\"name\":\"seat\",\"scene\":\"scene\",\"showlegend\":true,\"x\":[0.4976021945476532],\"y\":[0.1682160198688507],\"z\":[0.01486431434750557],\"type\":\"scatter3d\"},{\"hovertemplate\":\"color=minutes<br>0=%{x}<br>1=%{y}<br>2=%{z}<extra></extra>\",\"legendgroup\":\"minutes\",\"marker\":{\"color\":\"#636efa\",\"symbol\":\"circle\"},\"mode\":\"markers\",\"name\":\"minutes\",\"scene\":\"scene\",\"showlegend\":true,\"x\":[0.4348730146884918],\"y\":[-0.06726482510566711],\"z\":[0.13326402008533478],\"type\":\"scatter3d\"},{\"hovertemplate\":\"color=easier<br>0=%{x}<br>1=%{y}<br>2=%{z}<extra></extra>\",\"legendgroup\":\"easier\",\"marker\":{\"color\":\"#EF553B\",\"symbol\":\"circle\"},\"mode\":\"markers\",\"name\":\"easier\",\"scene\":\"scene\",\"showlegend\":true,\"x\":[0.414180189371109],\"y\":[0.18999163806438446],\"z\":[0.07212082296609879],\"type\":\"scatter3d\"},{\"hovertemplate\":\"color=built<br>0=%{x}<br>1=%{y}<br>2=%{z}<extra></extra>\",\"legendgroup\":\"built\",\"marker\":{\"color\":\"#00cc96\",\"symbol\":\"circle\"},\"mode\":\"markers\",\"name\":\"built\",\"scene\":\"scene\",\"showlegend\":true,\"x\":[0.32549577951431274],\"y\":[0.24247492849826813],\"z\":[-0.06834190338850021],\"type\":\"scatter3d\"},{\"hovertemplate\":\"color=longer<br>0=%{x}<br>1=%{y}<br>2=%{z}<extra></extra>\",\"legendgroup\":\"longer\",\"marker\":{\"color\":\"#ab63fa\",\"symbol\":\"circle\"},\"mode\":\"markers\",\"name\":\"longer\",\"scene\":\"scene\",\"showlegend\":true,\"x\":[0.4802019000053406],\"y\":[0.12088797986507416],\"z\":[0.01107174064964056],\"type\":\"scatter3d\"},{\"hovertemplate\":\"color=home<br>0=%{x}<br>1=%{y}<br>2=%{z}<extra></extra>\",\"legendgroup\":\"home\",\"marker\":{\"color\":\"#FFA15A\",\"symbol\":\"circle\"},\"mode\":\"markers\",\"name\":\"home\",\"scene\":\"scene\",\"showlegend\":true,\"x\":[0.3758222460746765],\"y\":[-0.25510159134864807],\"z\":[-0.04453355446457863],\"type\":\"scatter3d\"},{\"hovertemplate\":\"color=nothing<br>0=%{x}<br>1=%{y}<br>2=%{z}<extra></extra>\",\"legendgroup\":\"nothing\",\"marker\":{\"color\":\"#19d3f3\",\"symbol\":\"circle\"},\"mode\":\"markers\",\"name\":\"nothing\",\"scene\":\"scene\",\"showlegend\":true,\"x\":[0.32112470269203186],\"y\":[0.07268853485584259],\"z\":[0.03718798607587814],\"type\":\"scatter3d\"},{\"hovertemplate\":\"color=others<br>0=%{x}<br>1=%{y}<br>2=%{z}<extra></extra>\",\"legendgroup\":\"others\",\"marker\":{\"color\":\"#FF6692\",\"symbol\":\"circle\"},\"mode\":\"markers\",\"name\":\"others\",\"scene\":\"scene\",\"showlegend\":true,\"x\":[0.37688708305358887],\"y\":[-0.007849173620343208],\"z\":[-0.1464744657278061],\"type\":\"scatter3d\"},{\"hovertemplate\":\"color=quickly<br>0=%{x}<br>1=%{y}<br>2=%{z}<extra></extra>\",\"legendgroup\":\"quickly\",\"marker\":{\"color\":\"#B6E880\",\"symbol\":\"circle\"},\"mode\":\"markers\",\"name\":\"quickly\",\"scene\":\"scene\",\"showlegend\":true,\"x\":[0.36344486474990845],\"y\":[0.13026195764541626],\"z\":[0.17469221353530884],\"type\":\"scatter3d\"},{\"hovertemplate\":\"color=problems<br>0=%{x}<br>1=%{y}<br>2=%{z}<extra></extra>\",\"legendgroup\":\"problems\",\"marker\":{\"color\":\"#FF97FF\",\"symbol\":\"circle\"},\"mode\":\"markers\",\"name\":\"problems\",\"scene\":\"scene\",\"showlegend\":true,\"x\":[0.3842056095600128],\"y\":[0.07836645841598511],\"z\":[0.01063503883779049],\"type\":\"scatter3d\"},{\"hovertemplate\":\"color=short<br>0=%{x}<br>1=%{y}<br>2=%{z}<extra></extra>\",\"legendgroup\":\"short\",\"marker\":{\"color\":\"#FECB52\",\"symbol\":\"circle\"},\"mode\":\"markers\",\"name\":\"short\",\"scene\":\"scene\",\"showlegend\":true,\"x\":[0.4113437235355377],\"y\":[0.19868774712085724],\"z\":[0.0006813990185037255],\"type\":\"scatter3d\"},{\"hovertemplate\":\"color=why<br>0=%{x}<br>1=%{y}<br>2=%{z}<extra></extra>\",\"legendgroup\":\"why\",\"marker\":{\"color\":\"#636efa\",\"symbol\":\"circle\"},\"mode\":\"markers\",\"name\":\"why\",\"scene\":\"scene\",\"showlegend\":true,\"x\":[0.33528202772140503],\"y\":[0.0638602152466774],\"z\":[-0.2005164474248886],\"type\":\"scatter3d\"},{\"hovertemplate\":\"color=target<br>0=%{x}<br>1=%{y}<br>2=%{z}<extra></extra>\",\"legendgroup\":\"target\",\"marker\":{\"color\":\"#EF553B\",\"symbol\":\"circle\"},\"mode\":\"markers\",\"name\":\"target\",\"scene\":\"scene\",\"showlegend\":true,\"x\":[0.419220507144928],\"y\":[0.015201355330646038],\"z\":[-0.008383520878851414],\"type\":\"scatter3d\"},{\"hovertemplate\":\"color=haven<br>0=%{x}<br>1=%{y}<br>2=%{z}<extra></extra>\",\"legendgroup\":\"haven\",\"marker\":{\"color\":\"#00cc96\",\"symbol\":\"circle\"},\"mode\":\"markers\",\"name\":\"haven\",\"scene\":\"scene\",\"showlegend\":true,\"x\":[0.28596171736717224],\"y\":[0.08787485212087631],\"z\":[0.08788889646530151],\"type\":\"scatter3d\"},{\"hovertemplate\":\"color=close<br>0=%{x}<br>1=%{y}<br>2=%{z}<extra></extra>\",\"legendgroup\":\"close\",\"marker\":{\"color\":\"#ab63fa\",\"symbol\":\"circle\"},\"mode\":\"markers\",\"name\":\"close\",\"scene\":\"scene\",\"showlegend\":true,\"x\":[0.46634024381637573],\"y\":[0.2771884500980377],\"z\":[0.13944366574287415],\"type\":\"scatter3d\"},{\"hovertemplate\":\"color=ones<br>0=%{x}<br>1=%{y}<br>2=%{z}<extra></extra>\",\"legendgroup\":\"ones\",\"marker\":{\"color\":\"#FFA15A\",\"symbol\":\"circle\"},\"mode\":\"markers\",\"name\":\"ones\",\"scene\":\"scene\",\"showlegend\":true,\"x\":[0.40321508049964905],\"y\":[-0.04792812094092369],\"z\":[-0.09519417583942413],\"type\":\"scatter3d\"},{\"hovertemplate\":\"color=deal<br>0=%{x}<br>1=%{y}<br>2=%{z}<extra></extra>\",\"legendgroup\":\"deal\",\"marker\":{\"color\":\"#19d3f3\",\"symbol\":\"circle\"},\"mode\":\"markers\",\"name\":\"deal\",\"scene\":\"scene\",\"showlegend\":true,\"x\":[0.35999706387519836],\"y\":[0.04870622977614403],\"z\":[-0.06283979117870331],\"type\":\"scatter3d\"},{\"hovertemplate\":\"color=expensive<br>0=%{x}<br>1=%{y}<br>2=%{z}<extra></extra>\",\"legendgroup\":\"expensive\",\"marker\":{\"color\":\"#FF6692\",\"symbol\":\"circle\"},\"mode\":\"markers\",\"name\":\"expensive\",\"scene\":\"scene\",\"showlegend\":true,\"x\":[0.2637540102005005],\"y\":[0.08411630243062973],\"z\":[-0.22448550164699554],\"type\":\"scatter3d\"},{\"hovertemplate\":\"color=help<br>0=%{x}<br>1=%{y}<br>2=%{z}<extra></extra>\",\"legendgroup\":\"help\",\"marker\":{\"color\":\"#B6E880\",\"symbol\":\"circle\"},\"mode\":\"markers\",\"name\":\"help\",\"scene\":\"scene\",\"showlegend\":true,\"x\":[0.3801085352897644],\"y\":[0.00789023470133543],\"z\":[0.22880570590496063],\"type\":\"scatter3d\"},{\"hovertemplate\":\"color=cleaning<br>0=%{x}<br>1=%{y}<br>2=%{z}<extra></extra>\",\"legendgroup\":\"cleaning\",\"marker\":{\"color\":\"#FF97FF\",\"symbol\":\"circle\"},\"mode\":\"markers\",\"name\":\"cleaning\",\"scene\":\"scene\",\"showlegend\":true,\"x\":[0.34431976079940796],\"y\":[0.08661875128746033],\"z\":[0.11599983274936676],\"type\":\"scatter3d\"},{\"hovertemplate\":\"color=bar<br>0=%{x}<br>1=%{y}<br>2=%{z}<extra></extra>\",\"legendgroup\":\"bar\",\"marker\":{\"color\":\"#FECB52\",\"symbol\":\"circle\"},\"mode\":\"markers\",\"name\":\"bar\",\"scene\":\"scene\",\"showlegend\":true,\"x\":[0.47342929244041443],\"y\":[0.24703510105609894],\"z\":[-0.03041473589837551],\"type\":\"scatter3d\"},{\"hovertemplate\":\"color=larger<br>0=%{x}<br>1=%{y}<br>2=%{z}<extra></extra>\",\"legendgroup\":\"larger\",\"marker\":{\"color\":\"#636efa\",\"symbol\":\"circle\"},\"mode\":\"markers\",\"name\":\"larger\",\"scene\":\"scene\",\"showlegend\":true,\"x\":[0.4203278720378876],\"y\":[0.19114570319652557],\"z\":[-0.09073854237794876],\"type\":\"scatter3d\"},{\"hovertemplate\":\"color=pull<br>0=%{x}<br>1=%{y}<br>2=%{z}<extra></extra>\",\"legendgroup\":\"pull\",\"marker\":{\"color\":\"#EF553B\",\"symbol\":\"circle\"},\"mode\":\"markers\",\"name\":\"pull\",\"scene\":\"scene\",\"showlegend\":true,\"x\":[0.5970274209976196],\"y\":[0.22676365077495575],\"z\":[0.3282294273376465],\"type\":\"scatter3d\"},{\"hovertemplate\":\"color=night<br>0=%{x}<br>1=%{y}<br>2=%{z}<extra></extra>\",\"legendgroup\":\"night\",\"marker\":{\"color\":\"#00cc96\",\"symbol\":\"circle\"},\"mode\":\"markers\",\"name\":\"night\",\"scene\":\"scene\",\"showlegend\":true,\"x\":[0.35834670066833496],\"y\":[-0.2590588629245758],\"z\":[0.042684704065322876],\"type\":\"scatter3d\"},{\"hovertemplate\":\"color=went<br>0=%{x}<br>1=%{y}<br>2=%{z}<extra></extra>\",\"legendgroup\":\"went\",\"marker\":{\"color\":\"#ab63fa\",\"symbol\":\"circle\"},\"mode\":\"markers\",\"name\":\"went\",\"scene\":\"scene\",\"showlegend\":true,\"x\":[0.18655380606651306],\"y\":[0.03208130598068237],\"z\":[0.01762053184211254],\"type\":\"scatter3d\"},{\"hovertemplate\":\"color=maybe<br>0=%{x}<br>1=%{y}<br>2=%{z}<extra></extra>\",\"legendgroup\":\"maybe\",\"marker\":{\"color\":\"#FFA15A\",\"symbol\":\"circle\"},\"mode\":\"markers\",\"name\":\"maybe\",\"scene\":\"scene\",\"showlegend\":true,\"x\":[0.4067506194114685],\"y\":[0.049640804529190063],\"z\":[0.09903480112552643],\"type\":\"scatter3d\"},{\"hovertemplate\":\"color=wish<br>0=%{x}<br>1=%{y}<br>2=%{z}<extra></extra>\",\"legendgroup\":\"wish\",\"marker\":{\"color\":\"#19d3f3\",\"symbol\":\"circle\"},\"mode\":\"markers\",\"name\":\"wish\",\"scene\":\"scene\",\"showlegend\":true,\"x\":[0.38936272263526917],\"y\":[0.2360420823097229],\"z\":[-0.050229500979185104],\"type\":\"scatter3d\"},{\"hovertemplate\":\"color=left<br>0=%{x}<br>1=%{y}<br>2=%{z}<extra></extra>\",\"legendgroup\":\"left\",\"marker\":{\"color\":\"#FF6692\",\"symbol\":\"circle\"},\"mode\":\"markers\",\"name\":\"left\",\"scene\":\"scene\",\"showlegend\":true,\"x\":[0.4461345672607422],\"y\":[0.11011464148759842],\"z\":[0.2362099587917328],\"type\":\"scatter3d\"},{\"hovertemplate\":\"color=second<br>0=%{x}<br>1=%{y}<br>2=%{z}<extra></extra>\",\"legendgroup\":\"second\",\"marker\":{\"color\":\"#B6E880\",\"symbol\":\"circle\"},\"mode\":\"markers\",\"name\":\"second\",\"scene\":\"scene\",\"showlegend\":true,\"x\":[0.35320737957954407],\"y\":[0.13548697531223297],\"z\":[-0.14808909595012665],\"type\":\"scatter3d\"},{\"hovertemplate\":\"color=rubber<br>0=%{x}<br>1=%{y}<br>2=%{z}<extra></extra>\",\"legendgroup\":\"rubber\",\"marker\":{\"color\":\"#FF97FF\",\"symbol\":\"circle\"},\"mode\":\"markers\",\"name\":\"rubber\",\"scene\":\"scene\",\"showlegend\":true,\"x\":[0.4657832384109497],\"y\":[0.3534507751464844],\"z\":[0.2971738874912262],\"type\":\"scatter3d\"},{\"hovertemplate\":\"color=rack<br>0=%{x}<br>1=%{y}<br>2=%{z}<extra></extra>\",\"legendgroup\":\"rack\",\"marker\":{\"color\":\"#FECB52\",\"symbol\":\"circle\"},\"mode\":\"markers\",\"name\":\"rack\",\"scene\":\"scene\",\"showlegend\":true,\"x\":[0.45097488164901733],\"y\":[0.19238314032554626],\"z\":[-0.12431606650352478],\"type\":\"scatter3d\"},{\"hovertemplate\":\"color=cool<br>0=%{x}<br>1=%{y}<br>2=%{z}<extra></extra>\",\"legendgroup\":\"cool\",\"marker\":{\"color\":\"#636efa\",\"symbol\":\"circle\"},\"mode\":\"markers\",\"name\":\"cool\",\"scene\":\"scene\",\"showlegend\":true,\"x\":[0.3252849876880646],\"y\":[0.06538022309541702],\"z\":[0.08310462534427643],\"type\":\"scatter3d\"},{\"hovertemplate\":\"color=break<br>0=%{x}<br>1=%{y}<br>2=%{z}<extra></extra>\",\"legendgroup\":\"break\",\"marker\":{\"color\":\"#EF553B\",\"symbol\":\"circle\"},\"mode\":\"markers\",\"name\":\"break\",\"scene\":\"scene\",\"showlegend\":true,\"x\":[0.5290719866752625],\"y\":[0.12945784628391266],\"z\":[0.29500165581703186],\"type\":\"scatter3d\"},{\"hovertemplate\":\"color=order<br>0=%{x}<br>1=%{y}<br>2=%{z}<extra></extra>\",\"legendgroup\":\"order\",\"marker\":{\"color\":\"#00cc96\",\"symbol\":\"circle\"},\"mode\":\"markers\",\"name\":\"order\",\"scene\":\"scene\",\"showlegend\":true,\"x\":[0.3946366012096405],\"y\":[0.06256869435310364],\"z\":[-0.1555815488100052],\"type\":\"scatter3d\"},{\"hovertemplate\":\"color=buying<br>0=%{x}<br>1=%{y}<br>2=%{z}<extra></extra>\",\"legendgroup\":\"buying\",\"marker\":{\"color\":\"#ab63fa\",\"symbol\":\"circle\"},\"mode\":\"markers\",\"name\":\"buying\",\"scene\":\"scene\",\"showlegend\":true,\"x\":[0.30770671367645264],\"y\":[0.0005433930782601237],\"z\":[-0.1797109991312027],\"type\":\"scatter3d\"},{\"hovertemplate\":\"color=super<br>0=%{x}<br>1=%{y}<br>2=%{z}<extra></extra>\",\"legendgroup\":\"super\",\"marker\":{\"color\":\"#FFA15A\",\"symbol\":\"circle\"},\"mode\":\"markers\",\"name\":\"super\",\"scene\":\"scene\",\"showlegend\":true,\"x\":[0.31663283705711365],\"y\":[0.25396275520324707],\"z\":[0.08173158764839172],\"type\":\"scatter3d\"},{\"hovertemplate\":\"color=rounds<br>0=%{x}<br>1=%{y}<br>2=%{z}<extra></extra>\",\"legendgroup\":\"rounds\",\"marker\":{\"color\":\"#19d3f3\",\"symbol\":\"circle\"},\"mode\":\"markers\",\"name\":\"rounds\",\"scene\":\"scene\",\"showlegend\":true,\"x\":[0.46234792470932007],\"y\":[0.1368934065103531],\"z\":[0.009274700656533241],\"type\":\"scatter3d\"},{\"hovertemplate\":\"color=ball<br>0=%{x}<br>1=%{y}<br>2=%{z}<extra></extra>\",\"legendgroup\":\"ball\",\"marker\":{\"color\":\"#FF6692\",\"symbol\":\"circle\"},\"mode\":\"markers\",\"name\":\"ball\",\"scene\":\"scene\",\"showlegend\":true,\"x\":[0.4717162549495697],\"y\":[-0.1602795422077179],\"z\":[0.1536228209733963],\"type\":\"scatter3d\"},{\"hovertemplate\":\"color=cost<br>0=%{x}<br>1=%{y}<br>2=%{z}<extra></extra>\",\"legendgroup\":\"cost\",\"marker\":{\"color\":\"#B6E880\",\"symbol\":\"circle\"},\"mode\":\"markers\",\"name\":\"cost\",\"scene\":\"scene\",\"showlegend\":true,\"x\":[0.2639736831188202],\"y\":[0.09695315361022949],\"z\":[-0.2410455048084259],\"type\":\"scatter3d\"},{\"hovertemplate\":\"color=type<br>0=%{x}<br>1=%{y}<br>2=%{z}<extra></extra>\",\"legendgroup\":\"type\",\"marker\":{\"color\":\"#FF97FF\",\"symbol\":\"circle\"},\"mode\":\"markers\",\"name\":\"type\",\"scene\":\"scene\",\"showlegend\":true,\"x\":[0.2583947479724884],\"y\":[0.18344411253929138],\"z\":[-0.13714882731437683],\"type\":\"scatter3d\"},{\"hovertemplate\":\"color=read<br>0=%{x}<br>1=%{y}<br>2=%{z}<extra></extra>\",\"legendgroup\":\"read\",\"marker\":{\"color\":\"#FECB52\",\"symbol\":\"circle\"},\"mode\":\"markers\",\"name\":\"read\",\"scene\":\"scene\",\"showlegend\":true,\"x\":[0.3042911887168884],\"y\":[0.028623776510357857],\"z\":[-0.05087153613567352],\"type\":\"scatter3d\"},{\"hovertemplate\":\"color=fire<br>0=%{x}<br>1=%{y}<br>2=%{z}<extra></extra>\",\"legendgroup\":\"fire\",\"marker\":{\"color\":\"#636efa\",\"symbol\":\"circle\"},\"mode\":\"markers\",\"name\":\"fire\",\"scene\":\"scene\",\"showlegend\":true,\"x\":[0.4155864417552948],\"y\":[-0.09320313483476639],\"z\":[0.14658580720424652],\"type\":\"scatter3d\"},{\"hovertemplate\":\"color=between<br>0=%{x}<br>1=%{y}<br>2=%{z}<extra></extra>\",\"legendgroup\":\"between\",\"marker\":{\"color\":\"#EF553B\",\"symbol\":\"circle\"},\"mode\":\"markers\",\"name\":\"between\",\"scene\":\"scene\",\"showlegend\":true,\"x\":[0.24589332938194275],\"y\":[0.299420028924942],\"z\":[0.11505984514951706],\"type\":\"scatter3d\"},{\"hovertemplate\":\"color=products<br>0=%{x}<br>1=%{y}<br>2=%{z}<extra></extra>\",\"legendgroup\":\"products\",\"marker\":{\"color\":\"#00cc96\",\"symbol\":\"circle\"},\"mode\":\"markers\",\"name\":\"products\",\"scene\":\"scene\",\"showlegend\":true,\"x\":[0.20814622938632965],\"y\":[-0.14092983305454254],\"z\":[-0.31663551926612854],\"type\":\"scatter3d\"},{\"hovertemplate\":\"color=such<br>0=%{x}<br>1=%{y}<br>2=%{z}<extra></extra>\",\"legendgroup\":\"such\",\"marker\":{\"color\":\"#ab63fa\",\"symbol\":\"circle\"},\"mode\":\"markers\",\"name\":\"such\",\"scene\":\"scene\",\"showlegend\":true,\"x\":[0.20046618580818176],\"y\":[0.047040458768606186],\"z\":[-0.07525377720594406],\"type\":\"scatter3d\"},{\"hovertemplate\":\"color=done<br>0=%{x}<br>1=%{y}<br>2=%{z}<extra></extra>\",\"legendgroup\":\"done\",\"marker\":{\"color\":\"#FFA15A\",\"symbol\":\"circle\"},\"mode\":\"markers\",\"name\":\"done\",\"scene\":\"scene\",\"showlegend\":true,\"x\":[0.3639576733112335],\"y\":[0.08417947590351105],\"z\":[0.07241121679544449],\"type\":\"scatter3d\"},{\"hovertemplate\":\"color=batteries<br>0=%{x}<br>1=%{y}<br>2=%{z}<extra></extra>\",\"legendgroup\":\"batteries\",\"marker\":{\"color\":\"#19d3f3\",\"symbol\":\"circle\"},\"mode\":\"markers\",\"name\":\"batteries\",\"scene\":\"scene\",\"showlegend\":true,\"x\":[0.4573960304260254],\"y\":[-0.04101141542196274],\"z\":[-0.10278579592704773],\"type\":\"scatter3d\"},{\"hovertemplate\":\"color=line<br>0=%{x}<br>1=%{y}<br>2=%{z}<extra></extra>\",\"legendgroup\":\"line\",\"marker\":{\"color\":\"#FF6692\",\"symbol\":\"circle\"},\"mode\":\"markers\",\"name\":\"line\",\"scene\":\"scene\",\"showlegend\":true,\"x\":[0.36397165060043335],\"y\":[0.11868021637201309],\"z\":[-0.03435394540429115],\"type\":\"scatter3d\"},{\"hovertemplate\":\"color=screw<br>0=%{x}<br>1=%{y}<br>2=%{z}<extra></extra>\",\"legendgroup\":\"screw\",\"marker\":{\"color\":\"#B6E880\",\"symbol\":\"circle\"},\"mode\":\"markers\",\"name\":\"screw\",\"scene\":\"scene\",\"showlegend\":true,\"x\":[0.5654545426368713],\"y\":[0.42613354325294495],\"z\":[0.07588402926921844],\"type\":\"scatter3d\"},{\"hovertemplate\":\"color=needs<br>0=%{x}<br>1=%{y}<br>2=%{z}<extra></extra>\",\"legendgroup\":\"needs\",\"marker\":{\"color\":\"#FF97FF\",\"symbol\":\"circle\"},\"mode\":\"markers\",\"name\":\"needs\",\"scene\":\"scene\",\"showlegend\":true,\"x\":[0.2957545816898346],\"y\":[0.15180201828479767],\"z\":[-0.048420630395412445],\"type\":\"scatter3d\"},{\"hovertemplate\":\"color=gear<br>0=%{x}<br>1=%{y}<br>2=%{z}<extra></extra>\",\"legendgroup\":\"gear\",\"marker\":{\"color\":\"#FECB52\",\"symbol\":\"circle\"},\"mode\":\"markers\",\"name\":\"gear\",\"scene\":\"scene\",\"showlegend\":true,\"x\":[0.2942230999469757],\"y\":[-0.14468945562839508],\"z\":[-0.07797548174858093],\"type\":\"scatter3d\"},{\"hovertemplate\":\"color=awesome<br>0=%{x}<br>1=%{y}<br>2=%{z}<extra></extra>\",\"legendgroup\":\"awesome\",\"marker\":{\"color\":\"#636efa\",\"symbol\":\"circle\"},\"mode\":\"markers\",\"name\":\"awesome\",\"scene\":\"scene\",\"showlegend\":true,\"x\":[0.21568475663661957],\"y\":[0.30172353982925415],\"z\":[-0.18708132207393646],\"type\":\"scatter3d\"},{\"hovertemplate\":\"color=together<br>0=%{x}<br>1=%{y}<br>2=%{z}<extra></extra>\",\"legendgroup\":\"together\",\"marker\":{\"color\":\"#EF553B\",\"symbol\":\"circle\"},\"mode\":\"markers\",\"name\":\"together\",\"scene\":\"scene\",\"showlegend\":true,\"x\":[0.3853553533554077],\"y\":[0.23952831327915192],\"z\":[0.12385846674442291],\"type\":\"scatter3d\"},{\"hovertemplate\":\"color=rear<br>0=%{x}<br>1=%{y}<br>2=%{z}<extra></extra>\",\"legendgroup\":\"rear\",\"marker\":{\"color\":\"#00cc96\",\"symbol\":\"circle\"},\"mode\":\"markers\",\"name\":\"rear\",\"scene\":\"scene\",\"showlegend\":true,\"x\":[0.46809250116348267],\"y\":[0.4001915454864502],\"z\":[-0.05499648302793503],\"type\":\"scatter3d\"},{\"hovertemplate\":\"color=store<br>0=%{x}<br>1=%{y}<br>2=%{z}<extra></extra>\",\"legendgroup\":\"store\",\"marker\":{\"color\":\"#ab63fa\",\"symbol\":\"circle\"},\"mode\":\"markers\",\"name\":\"store\",\"scene\":\"scene\",\"showlegend\":true,\"x\":[0.3566562235355377],\"y\":[-0.028801949694752693],\"z\":[0.015940437093377113],\"type\":\"scatter3d\"},{\"hovertemplate\":\"color=add<br>0=%{x}<br>1=%{y}<br>2=%{z}<extra></extra>\",\"legendgroup\":\"add\",\"marker\":{\"color\":\"#FFA15A\",\"symbol\":\"circle\"},\"mode\":\"markers\",\"name\":\"add\",\"scene\":\"scene\",\"showlegend\":true,\"x\":[0.34746795892715454],\"y\":[0.20203857123851776],\"z\":[0.016980882734060287],\"type\":\"scatter3d\"},{\"hovertemplate\":\"color=least<br>0=%{x}<br>1=%{y}<br>2=%{z}<extra></extra>\",\"legendgroup\":\"least\",\"marker\":{\"color\":\"#19d3f3\",\"symbol\":\"circle\"},\"mode\":\"markers\",\"name\":\"least\",\"scene\":\"scene\",\"showlegend\":true,\"x\":[0.368885338306427],\"y\":[-0.0023552386555820704],\"z\":[-0.028086699545383453],\"type\":\"scatter3d\"},{\"hovertemplate\":\"color=especially<br>0=%{x}<br>1=%{y}<br>2=%{z}<extra></extra>\",\"legendgroup\":\"especially\",\"marker\":{\"color\":\"#FF6692\",\"symbol\":\"circle\"},\"mode\":\"markers\",\"name\":\"especially\",\"scene\":\"scene\",\"showlegend\":true,\"x\":[0.3154645264148712],\"y\":[0.02822316437959671],\"z\":[0.083036407828331],\"type\":\"scatter3d\"},{\"hovertemplate\":\"color=during<br>0=%{x}<br>1=%{y}<br>2=%{z}<extra></extra>\",\"legendgroup\":\"during\",\"marker\":{\"color\":\"#B6E880\",\"symbol\":\"circle\"},\"mode\":\"markers\",\"name\":\"during\",\"scene\":\"scene\",\"showlegend\":true,\"x\":[0.2656051516532898],\"y\":[-0.09301029145717621],\"z\":[0.2317640483379364],\"type\":\"scatter3d\"},{\"hovertemplate\":\"color=unit<br>0=%{x}<br>1=%{y}<br>2=%{z}<extra></extra>\",\"legendgroup\":\"unit\",\"marker\":{\"color\":\"#FF97FF\",\"symbol\":\"circle\"},\"mode\":\"markers\",\"name\":\"unit\",\"scene\":\"scene\",\"showlegend\":true,\"x\":[0.44180330634117126],\"y\":[0.04838676005601883],\"z\":[-0.1818048506975174],\"type\":\"scatter3d\"},{\"hovertemplate\":\"color=exactly<br>0=%{x}<br>1=%{y}<br>2=%{z}<extra></extra>\",\"legendgroup\":\"exactly\",\"marker\":{\"color\":\"#FECB52\",\"symbol\":\"circle\"},\"mode\":\"markers\",\"name\":\"exactly\",\"scene\":\"scene\",\"showlegend\":true,\"x\":[0.34397605061531067],\"y\":[0.23607155680656433],\"z\":[-0.1588202863931656],\"type\":\"scatter3d\"},{\"hovertemplate\":\"color=instead<br>0=%{x}<br>1=%{y}<br>2=%{z}<extra></extra>\",\"legendgroup\":\"instead\",\"marker\":{\"color\":\"#636efa\",\"symbol\":\"circle\"},\"mode\":\"markers\",\"name\":\"instead\",\"scene\":\"scene\",\"showlegend\":true,\"x\":[0.2805417776107788],\"y\":[0.1825558841228485],\"z\":[-0.05504686385393143],\"type\":\"scatter3d\"},{\"hovertemplate\":\"color=secure<br>0=%{x}<br>1=%{y}<br>2=%{z}<extra></extra>\",\"legendgroup\":\"secure\",\"marker\":{\"color\":\"#EF553B\",\"symbol\":\"circle\"},\"mode\":\"markers\",\"name\":\"secure\",\"scene\":\"scene\",\"showlegend\":true,\"x\":[0.48247814178466797],\"y\":[0.48561403155326843],\"z\":[0.14438588917255402],\"type\":\"scatter3d\"},{\"hovertemplate\":\"color=thick<br>0=%{x}<br>1=%{y}<br>2=%{z}<extra></extra>\",\"legendgroup\":\"thick\",\"marker\":{\"color\":\"#00cc96\",\"symbol\":\"circle\"},\"mode\":\"markers\",\"name\":\"thick\",\"scene\":\"scene\",\"showlegend\":true,\"x\":[0.3851386308670044],\"y\":[0.27129748463630676],\"z\":[0.2201129049062729],\"type\":\"scatter3d\"},{\"hovertemplate\":\"color=rail<br>0=%{x}<br>1=%{y}<br>2=%{z}<extra></extra>\",\"legendgroup\":\"rail\",\"marker\":{\"color\":\"#ab63fa\",\"symbol\":\"circle\"},\"mode\":\"markers\",\"name\":\"rail\",\"scene\":\"scene\",\"showlegend\":true,\"x\":[0.46097254753112793],\"y\":[0.48807790875434875],\"z\":[-0.17549878358840942],\"type\":\"scatter3d\"},{\"hovertemplate\":\"color=tube<br>0=%{x}<br>1=%{y}<br>2=%{z}<extra></extra>\",\"legendgroup\":\"tube\",\"marker\":{\"color\":\"#FFA15A\",\"symbol\":\"circle\"},\"mode\":\"markers\",\"name\":\"tube\",\"scene\":\"scene\",\"showlegend\":true,\"x\":[0.4881103038787842],\"y\":[0.21596945822238922],\"z\":[0.12371087819337845],\"type\":\"scatter3d\"},{\"hovertemplate\":\"color=let<br>0=%{x}<br>1=%{y}<br>2=%{z}<extra></extra>\",\"legendgroup\":\"let\",\"marker\":{\"color\":\"#19d3f3\",\"symbol\":\"circle\"},\"mode\":\"markers\",\"name\":\"let\",\"scene\":\"scene\",\"showlegend\":true,\"x\":[0.30056121945381165],\"y\":[8.798574708634987e-05],\"z\":[0.16072531044483185],\"type\":\"scatter3d\"},{\"hovertemplate\":\"color=car<br>0=%{x}<br>1=%{y}<br>2=%{z}<extra></extra>\",\"legendgroup\":\"car\",\"marker\":{\"color\":\"#FF6692\",\"symbol\":\"circle\"},\"mode\":\"markers\",\"name\":\"car\",\"scene\":\"scene\",\"showlegend\":true,\"x\":[0.40905165672302246],\"y\":[-0.2574295997619629],\"z\":[0.12996481359004974],\"type\":\"scatter3d\"},{\"hovertemplate\":\"color=pouch<br>0=%{x}<br>1=%{y}<br>2=%{z}<extra></extra>\",\"legendgroup\":\"pouch\",\"marker\":{\"color\":\"#B6E880\",\"symbol\":\"circle\"},\"mode\":\"markers\",\"name\":\"pouch\",\"scene\":\"scene\",\"showlegend\":true,\"x\":[0.4267452359199524],\"y\":[0.19172675907611847],\"z\":[-0.07079432904720306],\"type\":\"scatter3d\"},{\"hovertemplate\":\"color=expected<br>0=%{x}<br>1=%{y}<br>2=%{z}<extra></extra>\",\"legendgroup\":\"expected\",\"marker\":{\"color\":\"#FF97FF\",\"symbol\":\"circle\"},\"mode\":\"markers\",\"name\":\"expected\",\"scene\":\"scene\",\"showlegend\":true,\"x\":[0.3410039246082306],\"y\":[0.20174023509025574],\"z\":[-0.04985803738236427],\"type\":\"scatter3d\"},{\"hovertemplate\":\"color=color<br>0=%{x}<br>1=%{y}<br>2=%{z}<extra></extra>\",\"legendgroup\":\"color\",\"marker\":{\"color\":\"#FECB52\",\"symbol\":\"circle\"},\"mode\":\"markers\",\"name\":\"color\",\"scene\":\"scene\",\"showlegend\":true,\"x\":[0.3635445833206177],\"y\":[-0.03034432791173458],\"z\":[-0.08801288902759552],\"type\":\"scatter3d\"},{\"hovertemplate\":\"color=road<br>0=%{x}<br>1=%{y}<br>2=%{z}<extra></extra>\",\"legendgroup\":\"road\",\"marker\":{\"color\":\"#636efa\",\"symbol\":\"circle\"},\"mode\":\"markers\",\"name\":\"road\",\"scene\":\"scene\",\"showlegend\":true,\"x\":[0.3695012629032135],\"y\":[-0.15031103789806366],\"z\":[0.04905256628990173],\"type\":\"scatter3d\"},{\"hovertemplate\":\"color=gloves<br>0=%{x}<br>1=%{y}<br>2=%{z}<extra></extra>\",\"legendgroup\":\"gloves\",\"marker\":{\"color\":\"#EF553B\",\"symbol\":\"circle\"},\"mode\":\"markers\",\"name\":\"gloves\",\"scene\":\"scene\",\"showlegend\":true,\"x\":[0.3027954399585724],\"y\":[-0.08348895609378815],\"z\":[0.09187908470630646],\"type\":\"scatter3d\"},{\"hovertemplate\":\"color=takes<br>0=%{x}<br>1=%{y}<br>2=%{z}<extra></extra>\",\"legendgroup\":\"takes\",\"marker\":{\"color\":\"#00cc96\",\"symbol\":\"circle\"},\"mode\":\"markers\",\"name\":\"takes\",\"scene\":\"scene\",\"showlegend\":true,\"x\":[0.28654545545578003],\"y\":[0.1762925684452057],\"z\":[0.24122613668441772],\"type\":\"scatter3d\"},{\"hovertemplate\":\"color=pair<br>0=%{x}<br>1=%{y}<br>2=%{z}<extra></extra>\",\"legendgroup\":\"pair\",\"marker\":{\"color\":\"#ab63fa\",\"symbol\":\"circle\"},\"mode\":\"markers\",\"name\":\"pair\",\"scene\":\"scene\",\"showlegend\":true,\"x\":[0.2717830240726471],\"y\":[-0.032425425946712494],\"z\":[-0.1116396114230156],\"type\":\"scatter3d\"},{\"hovertemplate\":\"color=barrel<br>0=%{x}<br>1=%{y}<br>2=%{z}<extra></extra>\",\"legendgroup\":\"barrel\",\"marker\":{\"color\":\"#FFA15A\",\"symbol\":\"circle\"},\"mode\":\"markers\",\"name\":\"barrel\",\"scene\":\"scene\",\"showlegend\":true,\"x\":[0.5040786862373352],\"y\":[0.3676080107688904],\"z\":[0.03192954882979393],\"type\":\"scatter3d\"},{\"hovertemplate\":\"color=doing<br>0=%{x}<br>1=%{y}<br>2=%{z}<extra></extra>\",\"legendgroup\":\"doing\",\"marker\":{\"color\":\"#19d3f3\",\"symbol\":\"circle\"},\"mode\":\"markers\",\"name\":\"doing\",\"scene\":\"scene\",\"showlegend\":true,\"x\":[0.35745617747306824],\"y\":[-0.12102118134498596],\"z\":[0.12986551225185394],\"type\":\"scatter3d\"},{\"hovertemplate\":\"color=issues<br>0=%{x}<br>1=%{y}<br>2=%{z}<extra></extra>\",\"legendgroup\":\"issues\",\"marker\":{\"color\":\"#FF6692\",\"symbol\":\"circle\"},\"mode\":\"markers\",\"name\":\"issues\",\"scene\":\"scene\",\"showlegend\":true,\"x\":[0.3662871718406677],\"y\":[0.09376022964715958],\"z\":[-0.0069229514338076115],\"type\":\"scatter3d\"},{\"hovertemplate\":\"color=run<br>0=%{x}<br>1=%{y}<br>2=%{z}<extra></extra>\",\"legendgroup\":\"run\",\"marker\":{\"color\":\"#B6E880\",\"symbol\":\"circle\"},\"mode\":\"markers\",\"name\":\"run\",\"scene\":\"scene\",\"showlegend\":true,\"x\":[0.4172390103340149],\"y\":[-0.2168968915939331],\"z\":[0.2279902696609497],\"type\":\"scatter3d\"},{\"hovertemplate\":\"color=ok<br>0=%{x}<br>1=%{y}<br>2=%{z}<extra></extra>\",\"legendgroup\":\"ok\",\"marker\":{\"color\":\"#FF97FF\",\"symbol\":\"circle\"},\"mode\":\"markers\",\"name\":\"ok\",\"scene\":\"scene\",\"showlegend\":true,\"x\":[0.42087849974632263],\"y\":[0.2347053438425064],\"z\":[-0.03173099085688591],\"type\":\"scatter3d\"},{\"hovertemplate\":\"color=remove<br>0=%{x}<br>1=%{y}<br>2=%{z}<extra></extra>\",\"legendgroup\":\"remove\",\"marker\":{\"color\":\"#FECB52\",\"symbol\":\"circle\"},\"mode\":\"markers\",\"name\":\"remove\",\"scene\":\"scene\",\"showlegend\":true,\"x\":[0.5032346248626709],\"y\":[0.3575780391693115],\"z\":[0.2676864266395569],\"type\":\"scatter3d\"},{\"hovertemplate\":\"color=next<br>0=%{x}<br>1=%{y}<br>2=%{z}<extra></extra>\",\"legendgroup\":\"next\",\"marker\":{\"color\":\"#636efa\",\"symbol\":\"circle\"},\"mode\":\"markers\",\"name\":\"next\",\"scene\":\"scene\",\"showlegend\":true,\"x\":[0.3375619053840637],\"y\":[-0.020452864468097687],\"z\":[0.03609225153923035],\"type\":\"scatter3d\"},{\"hovertemplate\":\"color=plus<br>0=%{x}<br>1=%{y}<br>2=%{z}<extra></extra>\",\"legendgroup\":\"plus\",\"marker\":{\"color\":\"#EF553B\",\"symbol\":\"circle\"},\"mode\":\"markers\",\"name\":\"plus\",\"scene\":\"scene\",\"showlegend\":true,\"x\":[0.308294415473938],\"y\":[0.23363812267780304],\"z\":[-0.07061993330717087],\"type\":\"scatter3d\"},{\"hovertemplate\":\"color=feet<br>0=%{x}<br>1=%{y}<br>2=%{z}<extra></extra>\",\"legendgroup\":\"feet\",\"marker\":{\"color\":\"#00cc96\",\"symbol\":\"circle\"},\"mode\":\"markers\",\"name\":\"feet\",\"scene\":\"scene\",\"showlegend\":true,\"x\":[0.4997507929801941],\"y\":[-0.1534956693649292],\"z\":[0.2893511652946472],\"type\":\"scatter3d\"},{\"hovertemplate\":\"color=inch<br>0=%{x}<br>1=%{y}<br>2=%{z}<extra></extra>\",\"legendgroup\":\"inch\",\"marker\":{\"color\":\"#ab63fa\",\"symbol\":\"circle\"},\"mode\":\"markers\",\"name\":\"inch\",\"scene\":\"scene\",\"showlegend\":true,\"x\":[0.40876859426498413],\"y\":[0.3006819486618042],\"z\":[-0.07588104903697968],\"type\":\"scatter3d\"},{\"hovertemplate\":\"color=dry<br>0=%{x}<br>1=%{y}<br>2=%{z}<extra></extra>\",\"legendgroup\":\"dry\",\"marker\":{\"color\":\"#FFA15A\",\"symbol\":\"circle\"},\"mode\":\"markers\",\"name\":\"dry\",\"scene\":\"scene\",\"showlegend\":true,\"x\":[0.36289727687835693],\"y\":[-0.16636905074119568],\"z\":[0.4563807547092438],\"type\":\"scatter3d\"},{\"hovertemplate\":\"color=safe<br>0=%{x}<br>1=%{y}<br>2=%{z}<extra></extra>\",\"legendgroup\":\"safe\",\"marker\":{\"color\":\"#19d3f3\",\"symbol\":\"circle\"},\"mode\":\"markers\",\"name\":\"safe\",\"scene\":\"scene\",\"showlegend\":true,\"x\":[0.3877366781234741],\"y\":[-0.037015922367572784],\"z\":[0.02517404966056347],\"type\":\"scatter3d\"},{\"hovertemplate\":\"color=mm<br>0=%{x}<br>1=%{y}<br>2=%{z}<extra></extra>\",\"legendgroup\":\"mm\",\"marker\":{\"color\":\"#FF6692\",\"symbol\":\"circle\"},\"mode\":\"markers\",\"name\":\"mm\",\"scene\":\"scene\",\"showlegend\":true,\"x\":[0.33525291085243225],\"y\":[0.41340598464012146],\"z\":[-0.29458045959472656],\"type\":\"scatter3d\"},{\"hovertemplate\":\"color=cover<br>0=%{x}<br>1=%{y}<br>2=%{z}<extra></extra>\",\"legendgroup\":\"cover\",\"marker\":{\"color\":\"#B6E880\",\"symbol\":\"circle\"},\"mode\":\"markers\",\"name\":\"cover\",\"scene\":\"scene\",\"showlegend\":true,\"x\":[0.4434540271759033],\"y\":[0.23412559926509857],\"z\":[0.2291303277015686],\"type\":\"scatter3d\"},{\"hovertemplate\":\"color=already<br>0=%{x}<br>1=%{y}<br>2=%{z}<extra></extra>\",\"legendgroup\":\"already\",\"marker\":{\"color\":\"#FF97FF\",\"symbol\":\"circle\"},\"mode\":\"markers\",\"name\":\"already\",\"scene\":\"scene\",\"showlegend\":true,\"x\":[0.273923397064209],\"y\":[0.07097010314464569],\"z\":[-0.17730730772018433],\"type\":\"scatter3d\"},{\"hovertemplate\":\"color=itself<br>0=%{x}<br>1=%{y}<br>2=%{z}<extra></extra>\",\"legendgroup\":\"itself\",\"marker\":{\"color\":\"#FECB52\",\"symbol\":\"circle\"},\"mode\":\"markers\",\"name\":\"itself\",\"scene\":\"scene\",\"showlegend\":true,\"x\":[0.4771251678466797],\"y\":[0.3060048818588257],\"z\":[0.12524335086345673],\"type\":\"scatter3d\"},{\"hovertemplate\":\"color=expect<br>0=%{x}<br>1=%{y}<br>2=%{z}<extra></extra>\",\"legendgroup\":\"expect\",\"marker\":{\"color\":\"#636efa\",\"symbol\":\"circle\"},\"mode\":\"markers\",\"name\":\"expect\",\"scene\":\"scene\",\"showlegend\":true,\"x\":[0.33892714977264404],\"y\":[0.086592897772789],\"z\":[-0.0011221675667911768],\"type\":\"scatter3d\"},{\"hovertemplate\":\"color=chain<br>0=%{x}<br>1=%{y}<br>2=%{z}<extra></extra>\",\"legendgroup\":\"chain\",\"marker\":{\"color\":\"#EF553B\",\"symbol\":\"circle\"},\"mode\":\"markers\",\"name\":\"chain\",\"scene\":\"scene\",\"showlegend\":true,\"x\":[0.4580612778663635],\"y\":[0.0071310498751699924],\"z\":[0.022556385025382042],\"type\":\"scatter3d\"},{\"hovertemplate\":\"color=riding<br>0=%{x}<br>1=%{y}<br>2=%{z}<extra></extra>\",\"legendgroup\":\"riding\",\"marker\":{\"color\":\"#00cc96\",\"symbol\":\"circle\"},\"mode\":\"markers\",\"name\":\"riding\",\"scene\":\"scene\",\"showlegend\":true,\"x\":[0.4226545989513397],\"y\":[-0.18169580399990082],\"z\":[0.12657839059829712],\"type\":\"scatter3d\"},{\"hovertemplate\":\"color=model<br>0=%{x}<br>1=%{y}<br>2=%{z}<extra></extra>\",\"legendgroup\":\"model\",\"marker\":{\"color\":\"#ab63fa\",\"symbol\":\"circle\"},\"mode\":\"markers\",\"name\":\"model\",\"scene\":\"scene\",\"showlegend\":true,\"x\":[0.2437313348054886],\"y\":[0.14848871529102325],\"z\":[-0.5915127992630005],\"type\":\"scatter3d\"},{\"hovertemplate\":\"color=loose<br>0=%{x}<br>1=%{y}<br>2=%{z}<extra></extra>\",\"legendgroup\":\"loose\",\"marker\":{\"color\":\"#FFA15A\",\"symbol\":\"circle\"},\"mode\":\"markers\",\"name\":\"loose\",\"scene\":\"scene\",\"showlegend\":true,\"x\":[0.5487948656082153],\"y\":[0.4060802757740021],\"z\":[0.2629860043525696],\"type\":\"scatter3d\"},{\"hovertemplate\":\"color=tools<br>0=%{x}<br>1=%{y}<br>2=%{z}<extra></extra>\",\"legendgroup\":\"tools\",\"marker\":{\"color\":\"#19d3f3\",\"symbol\":\"circle\"},\"mode\":\"markers\",\"name\":\"tools\",\"scene\":\"scene\",\"showlegend\":true,\"x\":[0.3938611149787903],\"y\":[0.05913444608449936],\"z\":[-0.1514943540096283],\"type\":\"scatter3d\"},{\"hovertemplate\":\"color=she<br>0=%{x}<br>1=%{y}<br>2=%{z}<extra></extra>\",\"legendgroup\":\"she\",\"marker\":{\"color\":\"#FF6692\",\"symbol\":\"circle\"},\"mode\":\"markers\",\"name\":\"she\",\"scene\":\"scene\",\"showlegend\":true,\"x\":[0.34553542733192444],\"y\":[-0.19047947227954865],\"z\":[0.006684786640107632],\"type\":\"scatter3d\"},{\"hovertemplate\":\"color=tire<br>0=%{x}<br>1=%{y}<br>2=%{z}<extra></extra>\",\"legendgroup\":\"tire\",\"marker\":{\"color\":\"#B6E880\",\"symbol\":\"circle\"},\"mode\":\"markers\",\"name\":\"tire\",\"scene\":\"scene\",\"showlegend\":true,\"x\":[0.47408604621887207],\"y\":[0.006665740627795458],\"z\":[0.04603368043899536],\"type\":\"scatter3d\"},{\"hovertemplate\":\"color=mounted<br>0=%{x}<br>1=%{y}<br>2=%{z}<extra></extra>\",\"legendgroup\":\"mounted\",\"marker\":{\"color\":\"#FF97FF\",\"symbol\":\"circle\"},\"mode\":\"markers\",\"name\":\"mounted\",\"scene\":\"scene\",\"showlegend\":true,\"x\":[0.33220744132995605],\"y\":[0.4554746448993683],\"z\":[-0.1386318802833557],\"type\":\"scatter3d\"},{\"hovertemplate\":\"color=designed<br>0=%{x}<br>1=%{y}<br>2=%{z}<extra></extra>\",\"legendgroup\":\"designed\",\"marker\":{\"color\":\"#FECB52\",\"symbol\":\"circle\"},\"mode\":\"markers\",\"name\":\"designed\",\"scene\":\"scene\",\"showlegend\":true,\"x\":[0.2852952480316162],\"y\":[0.22307536005973816],\"z\":[-0.06848698109388351],\"type\":\"scatter3d\"},{\"hovertemplate\":\"color=else<br>0=%{x}<br>1=%{y}<br>2=%{z}<extra></extra>\",\"legendgroup\":\"else\",\"marker\":{\"color\":\"#636efa\",\"symbol\":\"circle\"},\"mode\":\"markers\",\"name\":\"else\",\"scene\":\"scene\",\"showlegend\":true,\"x\":[0.3274767994880676],\"y\":[0.03659266233444214],\"z\":[-0.01394644659012556],\"type\":\"scatter3d\"},{\"hovertemplate\":\"color=although<br>0=%{x}<br>1=%{y}<br>2=%{z}<extra></extra>\",\"legendgroup\":\"although\",\"marker\":{\"color\":\"#EF553B\",\"symbol\":\"circle\"},\"mode\":\"markers\",\"name\":\"although\",\"scene\":\"scene\",\"showlegend\":true,\"x\":[0.4869631230831146],\"y\":[0.1339171677827835],\"z\":[-0.01827329210937023],\"type\":\"scatter3d\"},{\"hovertemplate\":\"color=shot<br>0=%{x}<br>1=%{y}<br>2=%{z}<extra></extra>\",\"legendgroup\":\"shot\",\"marker\":{\"color\":\"#00cc96\",\"symbol\":\"circle\"},\"mode\":\"markers\",\"name\":\"shot\",\"scene\":\"scene\",\"showlegend\":true,\"x\":[0.40582746267318726],\"y\":[0.0786885991692543],\"z\":[-0.01632443256676197],\"type\":\"scatter3d\"},{\"hovertemplate\":\"color=kind<br>0=%{x}<br>1=%{y}<br>2=%{z}<extra></extra>\",\"legendgroup\":\"kind\",\"marker\":{\"color\":\"#ab63fa\",\"symbol\":\"circle\"},\"mode\":\"markers\",\"name\":\"kind\",\"scene\":\"scene\",\"showlegend\":true,\"x\":[0.36406633257865906],\"y\":[0.05694734677672386],\"z\":[0.09367057681083679],\"type\":\"scatter3d\"},{\"hovertemplate\":\"color=update<br>0=%{x}<br>1=%{y}<br>2=%{z}<extra></extra>\",\"legendgroup\":\"update\",\"marker\":{\"color\":\"#FFA15A\",\"symbol\":\"circle\"},\"mode\":\"markers\",\"name\":\"update\",\"scene\":\"scene\",\"showlegend\":true,\"x\":[0.2739221453666687],\"y\":[-0.019377361983060837],\"z\":[-0.181168794631958],\"type\":\"scatter3d\"},{\"hovertemplate\":\"color=months<br>0=%{x}<br>1=%{y}<br>2=%{z}<extra></extra>\",\"legendgroup\":\"months\",\"marker\":{\"color\":\"#19d3f3\",\"symbol\":\"circle\"},\"mode\":\"markers\",\"name\":\"months\",\"scene\":\"scene\",\"showlegend\":true,\"x\":[0.342972993850708],\"y\":[-0.11535294353961945],\"z\":[-0.02880062721669674],\"type\":\"scatter3d\"},{\"hovertemplate\":\"color=system<br>0=%{x}<br>1=%{y}<br>2=%{z}<extra></extra>\",\"legendgroup\":\"system\",\"marker\":{\"color\":\"#FF6692\",\"symbol\":\"circle\"},\"mode\":\"markers\",\"name\":\"system\",\"scene\":\"scene\",\"showlegend\":true,\"x\":[0.2957575023174286],\"y\":[0.200252965092659],\"z\":[-0.2381850779056549],\"type\":\"scatter3d\"},{\"hovertemplate\":\"color=gets<br>0=%{x}<br>1=%{y}<br>2=%{z}<extra></extra>\",\"legendgroup\":\"gets\",\"marker\":{\"color\":\"#B6E880\",\"symbol\":\"circle\"},\"mode\":\"markers\",\"name\":\"gets\",\"scene\":\"scene\",\"showlegend\":true,\"x\":[0.3122096359729767],\"y\":[0.016417061910033226],\"z\":[0.3421211838722229],\"type\":\"scatter3d\"},{\"hovertemplate\":\"color=length<br>0=%{x}<br>1=%{y}<br>2=%{z}<extra></extra>\",\"legendgroup\":\"length\",\"marker\":{\"color\":\"#FF97FF\",\"symbol\":\"circle\"},\"mode\":\"markers\",\"name\":\"length\",\"scene\":\"scene\",\"showlegend\":true,\"x\":[0.4795408546924591],\"y\":[0.29807960987091064],\"z\":[-0.026067456230521202],\"type\":\"scatter3d\"},{\"hovertemplate\":\"color=decent<br>0=%{x}<br>1=%{y}<br>2=%{z}<extra></extra>\",\"legendgroup\":\"decent\",\"marker\":{\"color\":\"#FECB52\",\"symbol\":\"circle\"},\"mode\":\"markers\",\"name\":\"decent\",\"scene\":\"scene\",\"showlegend\":true,\"x\":[0.33418598771095276],\"y\":[0.31998369097709656],\"z\":[-0.03635444492101669],\"type\":\"scatter3d\"},{\"hovertemplate\":\"color=his<br>0=%{x}<br>1=%{y}<br>2=%{z}<extra></extra>\",\"legendgroup\":\"his\",\"marker\":{\"color\":\"#636efa\",\"symbol\":\"circle\"},\"mode\":\"markers\",\"name\":\"his\",\"scene\":\"scene\",\"showlegend\":true,\"x\":[0.1827874779701233],\"y\":[-0.06339482218027115],\"z\":[-0.03702601417899132],\"type\":\"scatter3d\"},{\"hovertemplate\":\"color=sights<br>0=%{x}<br>1=%{y}<br>2=%{z}<extra></extra>\",\"legendgroup\":\"sights\",\"marker\":{\"color\":\"#EF553B\",\"symbol\":\"circle\"},\"mode\":\"markers\",\"name\":\"sights\",\"scene\":\"scene\",\"showlegend\":true,\"x\":[0.39877089858055115],\"y\":[0.18455460667610168],\"z\":[-0.21070653200149536],\"type\":\"scatter3d\"},{\"hovertemplate\":\"color=reason<br>0=%{x}<br>1=%{y}<br>2=%{z}<extra></extra>\",\"legendgroup\":\"reason\",\"marker\":{\"color\":\"#00cc96\",\"symbol\":\"circle\"},\"mode\":\"markers\",\"name\":\"reason\",\"scene\":\"scene\",\"showlegend\":true,\"x\":[0.38942885398864746],\"y\":[0.02675730362534523],\"z\":[-0.15530213713645935],\"type\":\"scatter3d\"},{\"hovertemplate\":\"color=screws<br>0=%{x}<br>1=%{y}<br>2=%{z}<extra></extra>\",\"legendgroup\":\"screws\",\"marker\":{\"color\":\"#ab63fa\",\"symbol\":\"circle\"},\"mode\":\"markers\",\"name\":\"screws\",\"scene\":\"scene\",\"showlegend\":true,\"x\":[0.509553074836731],\"y\":[0.4062303900718689],\"z\":[0.005782896187156439],\"type\":\"scatter3d\"},{\"hovertemplate\":\"color=wouldn<br>0=%{x}<br>1=%{y}<br>2=%{z}<extra></extra>\",\"legendgroup\":\"wouldn\",\"marker\":{\"color\":\"#FFA15A\",\"symbol\":\"circle\"},\"mode\":\"markers\",\"name\":\"wouldn\",\"scene\":\"scene\",\"showlegend\":true,\"x\":[0.2736324369907379],\"y\":[0.14175397157669067],\"z\":[0.0477975532412529],\"type\":\"scatter3d\"},{\"hovertemplate\":\"color=adjust<br>0=%{x}<br>1=%{y}<br>2=%{z}<extra></extra>\",\"legendgroup\":\"adjust\",\"marker\":{\"color\":\"#19d3f3\",\"symbol\":\"circle\"},\"mode\":\"markers\",\"name\":\"adjust\",\"scene\":\"scene\",\"showlegend\":true,\"x\":[0.5451987385749817],\"y\":[0.36077627539634705],\"z\":[0.09679629653692245],\"type\":\"scatter3d\"},{\"hovertemplate\":\"color=fact<br>0=%{x}<br>1=%{y}<br>2=%{z}<extra></extra>\",\"legendgroup\":\"fact\",\"marker\":{\"color\":\"#FF6692\",\"symbol\":\"circle\"},\"mode\":\"markers\",\"name\":\"fact\",\"scene\":\"scene\",\"showlegend\":true,\"x\":[0.4534090757369995],\"y\":[0.04255156219005585],\"z\":[-0.11091050505638123],\"type\":\"scatter3d\"},{\"hovertemplate\":\"color=until<br>0=%{x}<br>1=%{y}<br>2=%{z}<extra></extra>\",\"legendgroup\":\"until\",\"marker\":{\"color\":\"#B6E880\",\"symbol\":\"circle\"},\"mode\":\"markers\",\"name\":\"until\",\"scene\":\"scene\",\"showlegend\":true,\"x\":[0.4409284293651581],\"y\":[0.025847189128398895],\"z\":[0.13651849329471588],\"type\":\"scatter3d\"},{\"hovertemplate\":\"color=dot<br>0=%{x}<br>1=%{y}<br>2=%{z}<extra></extra>\",\"legendgroup\":\"dot\",\"marker\":{\"color\":\"#FF97FF\",\"symbol\":\"circle\"},\"mode\":\"markers\",\"name\":\"dot\",\"scene\":\"scene\",\"showlegend\":true,\"x\":[0.39727500081062317],\"y\":[0.12539488077163696],\"z\":[-0.20910723507404327],\"type\":\"scatter3d\"},{\"hovertemplate\":\"color=half<br>0=%{x}<br>1=%{y}<br>2=%{z}<extra></extra>\",\"legendgroup\":\"half\",\"marker\":{\"color\":\"#FECB52\",\"symbol\":\"circle\"},\"mode\":\"markers\",\"name\":\"half\",\"scene\":\"scene\",\"showlegend\":true,\"x\":[0.36330363154411316],\"y\":[0.09131546318531036],\"z\":[0.06283226609230042],\"type\":\"scatter3d\"},{\"hovertemplate\":\"color=value<br>0=%{x}<br>1=%{y}<br>2=%{z}<extra></extra>\",\"legendgroup\":\"value\",\"marker\":{\"color\":\"#636efa\",\"symbol\":\"circle\"},\"mode\":\"markers\",\"name\":\"value\",\"scene\":\"scene\",\"showlegend\":true,\"x\":[0.20902574062347412],\"y\":[0.048353634774684906],\"z\":[-0.3226242959499359],\"type\":\"scatter3d\"},{\"hovertemplate\":\"color=flat<br>0=%{x}<br>1=%{y}<br>2=%{z}<extra></extra>\",\"legendgroup\":\"flat\",\"marker\":{\"color\":\"#EF553B\",\"symbol\":\"circle\"},\"mode\":\"markers\",\"name\":\"flat\",\"scene\":\"scene\",\"showlegend\":true,\"x\":[0.488578200340271],\"y\":[0.21833783388137817],\"z\":[0.1969923973083496],\"type\":\"scatter3d\"},{\"hovertemplate\":\"color=ammo<br>0=%{x}<br>1=%{y}<br>2=%{z}<extra></extra>\",\"legendgroup\":\"ammo\",\"marker\":{\"color\":\"#00cc96\",\"symbol\":\"circle\"},\"mode\":\"markers\",\"name\":\"ammo\",\"scene\":\"scene\",\"showlegend\":true,\"x\":[0.38131481409072876],\"y\":[0.06856165081262589],\"z\":[-0.053288523107767105],\"type\":\"scatter3d\"},{\"hovertemplate\":\"color=instructions<br>0=%{x}<br>1=%{y}<br>2=%{z}<extra></extra>\",\"legendgroup\":\"instructions\",\"marker\":{\"color\":\"#ab63fa\",\"symbol\":\"circle\"},\"mode\":\"markers\",\"name\":\"instructions\",\"scene\":\"scene\",\"showlegend\":true,\"x\":[0.40736904740333557],\"y\":[0.052766744047403336],\"z\":[-0.05497976765036583],\"type\":\"scatter3d\"},{\"hovertemplate\":\"color=wrong<br>0=%{x}<br>1=%{y}<br>2=%{z}<extra></extra>\",\"legendgroup\":\"wrong\",\"marker\":{\"color\":\"#FFA15A\",\"symbol\":\"circle\"},\"mode\":\"markers\",\"name\":\"wrong\",\"scene\":\"scene\",\"showlegend\":true,\"x\":[0.3372543454170227],\"y\":[0.19816741347312927],\"z\":[-0.17746497690677643],\"type\":\"scatter3d\"},{\"hovertemplate\":\"color=standard<br>0=%{x}<br>1=%{y}<br>2=%{z}<extra></extra>\",\"legendgroup\":\"standard\",\"marker\":{\"color\":\"#19d3f3\",\"symbol\":\"circle\"},\"mode\":\"markers\",\"name\":\"standard\",\"scene\":\"scene\",\"showlegend\":true,\"x\":[0.30980998277664185],\"y\":[0.43770110607147217],\"z\":[-0.262276291847229],\"type\":\"scatter3d\"},{\"hovertemplate\":\"color=nicely<br>0=%{x}<br>1=%{y}<br>2=%{z}<extra></extra>\",\"legendgroup\":\"nicely\",\"marker\":{\"color\":\"#FF6692\",\"symbol\":\"circle\"},\"mode\":\"markers\",\"name\":\"nicely\",\"scene\":\"scene\",\"showlegend\":true,\"x\":[0.3500906527042389],\"y\":[0.38092246651649475],\"z\":[0.0974554568529129],\"type\":\"scatter3d\"},{\"hovertemplate\":\"color=received<br>0=%{x}<br>1=%{y}<br>2=%{z}<extra></extra>\",\"legendgroup\":\"received\",\"marker\":{\"color\":\"#B6E880\",\"symbol\":\"circle\"},\"mode\":\"markers\",\"name\":\"received\",\"scene\":\"scene\",\"showlegend\":true,\"x\":[0.17720361053943634],\"y\":[0.13823507726192474],\"z\":[-0.20876286923885345],\"type\":\"scatter3d\"},{\"hovertemplate\":\"color=life<br>0=%{x}<br>1=%{y}<br>2=%{z}<extra></extra>\",\"legendgroup\":\"life\",\"marker\":{\"color\":\"#FF97FF\",\"symbol\":\"circle\"},\"mode\":\"markers\",\"name\":\"life\",\"scene\":\"scene\",\"showlegend\":true,\"x\":[0.3207579255104065],\"y\":[-0.18704825639724731],\"z\":[-0.09703585505485535],\"type\":\"scatter3d\"},{\"hovertemplate\":\"color=working<br>0=%{x}<br>1=%{y}<br>2=%{z}<extra></extra>\",\"legendgroup\":\"working\",\"marker\":{\"color\":\"#FECB52\",\"symbol\":\"circle\"},\"mode\":\"markers\",\"name\":\"working\",\"scene\":\"scene\",\"showlegend\":true,\"x\":[0.4045926630496979],\"y\":[-0.10402512550354004],\"z\":[0.08921825885772705],\"type\":\"scatter3d\"},{\"hovertemplate\":\"color=laser<br>0=%{x}<br>1=%{y}<br>2=%{z}<extra></extra>\",\"legendgroup\":\"laser\",\"marker\":{\"color\":\"#636efa\",\"symbol\":\"circle\"},\"mode\":\"markers\",\"name\":\"laser\",\"scene\":\"scene\",\"showlegend\":true,\"x\":[0.42062169313430786],\"y\":[0.287905752658844],\"z\":[-0.2220379114151001],\"type\":\"scatter3d\"},{\"hovertemplate\":\"color=space<br>0=%{x}<br>1=%{y}<br>2=%{z}<extra></extra>\",\"legendgroup\":\"space\",\"marker\":{\"color\":\"#EF553B\",\"symbol\":\"circle\"},\"mode\":\"markers\",\"name\":\"space\",\"scene\":\"scene\",\"showlegend\":true,\"x\":[0.506334662437439],\"y\":[0.029542606323957443],\"z\":[0.0973179042339325],\"type\":\"scatter3d\"},{\"hovertemplate\":\"color=trying<br>0=%{x}<br>1=%{y}<br>2=%{z}<extra></extra>\",\"legendgroup\":\"trying\",\"marker\":{\"color\":\"#00cc96\",\"symbol\":\"circle\"},\"mode\":\"markers\",\"name\":\"trying\",\"scene\":\"scene\",\"showlegend\":true,\"x\":[0.3730264902114868],\"y\":[-0.006682802923023701],\"z\":[0.1525030881166458],\"type\":\"scatter3d\"},{\"hovertemplate\":\"color=due<br>0=%{x}<br>1=%{y}<br>2=%{z}<extra></extra>\",\"legendgroup\":\"due\",\"marker\":{\"color\":\"#ab63fa\",\"symbol\":\"circle\"},\"mode\":\"markers\",\"name\":\"due\",\"scene\":\"scene\",\"showlegend\":true,\"x\":[0.22825759649276733],\"y\":[0.24739433825016022],\"z\":[0.1141253113746643],\"type\":\"scatter3d\"},{\"hovertemplate\":\"color=shoot<br>0=%{x}<br>1=%{y}<br>2=%{z}<extra></extra>\",\"legendgroup\":\"shoot\",\"marker\":{\"color\":\"#FFA15A\",\"symbol\":\"circle\"},\"mode\":\"markers\",\"name\":\"shoot\",\"scene\":\"scene\",\"showlegend\":true,\"x\":[0.40643423795700073],\"y\":[-0.012995810247957706],\"z\":[0.0448877215385437],\"type\":\"scatter3d\"},{\"hovertemplate\":\"color=hit<br>0=%{x}<br>1=%{y}<br>2=%{z}<extra></extra>\",\"legendgroup\":\"hit\",\"marker\":{\"color\":\"#19d3f3\",\"symbol\":\"circle\"},\"mode\":\"markers\",\"name\":\"hit\",\"scene\":\"scene\",\"showlegend\":true,\"x\":[0.42444509267807007],\"y\":[-0.03003297559916973],\"z\":[0.28886374831199646],\"type\":\"scatter3d\"},{\"hovertemplate\":\"color=frame<br>0=%{x}<br>1=%{y}<br>2=%{z}<extra></extra>\",\"legendgroup\":\"frame\",\"marker\":{\"color\":\"#FF6692\",\"symbol\":\"circle\"},\"mode\":\"markers\",\"name\":\"frame\",\"scene\":\"scene\",\"showlegend\":true,\"x\":[0.4912213087081909],\"y\":[0.38352325558662415],\"z\":[0.055525995790958405],\"type\":\"scatter3d\"},{\"hovertemplate\":\"color=items<br>0=%{x}<br>1=%{y}<br>2=%{z}<extra></extra>\",\"legendgroup\":\"items\",\"marker\":{\"color\":\"#B6E880\",\"symbol\":\"circle\"},\"mode\":\"markers\",\"name\":\"items\",\"scene\":\"scene\",\"showlegend\":true,\"x\":[0.3577842712402344],\"y\":[-0.16747288405895233],\"z\":[-0.03033040650188923],\"type\":\"scatter3d\"},{\"hovertemplate\":\"color=power<br>0=%{x}<br>1=%{y}<br>2=%{z}<extra></extra>\",\"legendgroup\":\"power\",\"marker\":{\"color\":\"#FF97FF\",\"symbol\":\"circle\"},\"mode\":\"markers\",\"name\":\"power\",\"scene\":\"scene\",\"showlegend\":true,\"x\":[0.3773197531700134],\"y\":[-0.09831248968839645],\"z\":[-0.010149111971259117],\"type\":\"scatter3d\"},{\"hovertemplate\":\"color=brand<br>0=%{x}<br>1=%{y}<br>2=%{z}<extra></extra>\",\"legendgroup\":\"brand\",\"marker\":{\"color\":\"#FECB52\",\"symbol\":\"circle\"},\"mode\":\"markers\",\"name\":\"brand\",\"scene\":\"scene\",\"showlegend\":true,\"x\":[0.2135162502527237],\"y\":[-0.06577526777982712],\"z\":[-0.3592205345630646],\"type\":\"scatter3d\"},{\"hovertemplate\":\"color=stove<br>0=%{x}<br>1=%{y}<br>2=%{z}<extra></extra>\",\"legendgroup\":\"stove\",\"marker\":{\"color\":\"#636efa\",\"symbol\":\"circle\"},\"mode\":\"markers\",\"name\":\"stove\",\"scene\":\"scene\",\"showlegend\":true,\"x\":[0.3910728394985199],\"y\":[-0.18001073598861694],\"z\":[-0.028295312076807022],\"type\":\"scatter3d\"},{\"hovertemplate\":\"color=rather<br>0=%{x}<br>1=%{y}<br>2=%{z}<extra></extra>\",\"legendgroup\":\"rather\",\"marker\":{\"color\":\"#EF553B\",\"symbol\":\"circle\"},\"mode\":\"markers\",\"name\":\"rather\",\"scene\":\"scene\",\"showlegend\":true,\"x\":[0.3783341348171234],\"y\":[0.1713380515575409],\"z\":[0.05482759326696396],\"type\":\"scatter3d\"},{\"hovertemplate\":\"color=stay<br>0=%{x}<br>1=%{y}<br>2=%{z}<extra></extra>\",\"legendgroup\":\"stay\",\"marker\":{\"color\":\"#00cc96\",\"symbol\":\"circle\"},\"mode\":\"markers\",\"name\":\"stay\",\"scene\":\"scene\",\"showlegend\":true,\"x\":[0.49578410387039185],\"y\":[0.11879537999629974],\"z\":[0.3216530680656433],\"type\":\"scatter3d\"},{\"hovertemplate\":\"color=keeps<br>0=%{x}<br>1=%{y}<br>2=%{z}<extra></extra>\",\"legendgroup\":\"keeps\",\"marker\":{\"color\":\"#ab63fa\",\"symbol\":\"circle\"},\"mode\":\"markers\",\"name\":\"keeps\",\"scene\":\"scene\",\"showlegend\":true,\"x\":[0.22628037631511688],\"y\":[0.1678784340620041],\"z\":[0.3477877974510193],\"type\":\"scatter3d\"},{\"hovertemplate\":\"color=recommended<br>0=%{x}<br>1=%{y}<br>2=%{z}<extra></extra>\",\"legendgroup\":\"recommended\",\"marker\":{\"color\":\"#FFA15A\",\"symbol\":\"circle\"},\"mode\":\"markers\",\"name\":\"recommended\",\"scene\":\"scene\",\"showlegend\":true,\"x\":[0.16489189863204956],\"y\":[0.07595741748809814],\"z\":[-0.07769029587507248],\"type\":\"scatter3d\"},{\"hovertemplate\":\"color=wife<br>0=%{x}<br>1=%{y}<br>2=%{z}<extra></extra>\",\"legendgroup\":\"wife\",\"marker\":{\"color\":\"#19d3f3\",\"symbol\":\"circle\"},\"mode\":\"markers\",\"name\":\"wife\",\"scene\":\"scene\",\"showlegend\":true,\"x\":[0.2678103446960449],\"y\":[-0.16636575758457184],\"z\":[-0.18395836651325226],\"type\":\"scatter3d\"},{\"hovertemplate\":\"color=difficult<br>0=%{x}<br>1=%{y}<br>2=%{z}<extra></extra>\",\"legendgroup\":\"difficult\",\"marker\":{\"color\":\"#FF6692\",\"symbol\":\"circle\"},\"mode\":\"markers\",\"name\":\"difficult\",\"scene\":\"scene\",\"showlegend\":true,\"x\":[0.44701555371284485],\"y\":[0.2554267942905426],\"z\":[0.12993162870407104],\"type\":\"scatter3d\"},{\"hovertemplate\":\"color=extremely<br>0=%{x}<br>1=%{y}<br>2=%{z}<extra></extra>\",\"legendgroup\":\"extremely\",\"marker\":{\"color\":\"#B6E880\",\"symbol\":\"circle\"},\"mode\":\"markers\",\"name\":\"extremely\",\"scene\":\"scene\",\"showlegend\":true,\"x\":[0.2827252745628357],\"y\":[0.21917466819286346],\"z\":[0.010380078107118607],\"type\":\"scatter3d\"},{\"hovertemplate\":\"color=accurate<br>0=%{x}<br>1=%{y}<br>2=%{z}<extra></extra>\",\"legendgroup\":\"accurate\",\"marker\":{\"color\":\"#FF97FF\",\"symbol\":\"circle\"},\"mode\":\"markers\",\"name\":\"accurate\",\"scene\":\"scene\",\"showlegend\":true,\"x\":[0.35485517978668213],\"y\":[0.058953091502189636],\"z\":[-0.1762673258781433],\"type\":\"scatter3d\"},{\"hovertemplate\":\"color=star<br>0=%{x}<br>1=%{y}<br>2=%{z}<extra></extra>\",\"legendgroup\":\"star\",\"marker\":{\"color\":\"#FECB52\",\"symbol\":\"circle\"},\"mode\":\"markers\",\"name\":\"star\",\"scene\":\"scene\",\"showlegend\":true,\"x\":[0.35288524627685547],\"y\":[0.1769762635231018],\"z\":[-0.1032707467675209],\"type\":\"scatter3d\"}],                        {\"template\":{\"data\":{\"histogram2dcontour\":[{\"type\":\"histogram2dcontour\",\"colorbar\":{\"outlinewidth\":0,\"ticks\":\"\"},\"colorscale\":[[0.0,\"#0d0887\"],[0.1111111111111111,\"#46039f\"],[0.2222222222222222,\"#7201a8\"],[0.3333333333333333,\"#9c179e\"],[0.4444444444444444,\"#bd3786\"],[0.5555555555555556,\"#d8576b\"],[0.6666666666666666,\"#ed7953\"],[0.7777777777777778,\"#fb9f3a\"],[0.8888888888888888,\"#fdca26\"],[1.0,\"#f0f921\"]]}],\"choropleth\":[{\"type\":\"choropleth\",\"colorbar\":{\"outlinewidth\":0,\"ticks\":\"\"}}],\"histogram2d\":[{\"type\":\"histogram2d\",\"colorbar\":{\"outlinewidth\":0,\"ticks\":\"\"},\"colorscale\":[[0.0,\"#0d0887\"],[0.1111111111111111,\"#46039f\"],[0.2222222222222222,\"#7201a8\"],[0.3333333333333333,\"#9c179e\"],[0.4444444444444444,\"#bd3786\"],[0.5555555555555556,\"#d8576b\"],[0.6666666666666666,\"#ed7953\"],[0.7777777777777778,\"#fb9f3a\"],[0.8888888888888888,\"#fdca26\"],[1.0,\"#f0f921\"]]}],\"heatmap\":[{\"type\":\"heatmap\",\"colorbar\":{\"outlinewidth\":0,\"ticks\":\"\"},\"colorscale\":[[0.0,\"#0d0887\"],[0.1111111111111111,\"#46039f\"],[0.2222222222222222,\"#7201a8\"],[0.3333333333333333,\"#9c179e\"],[0.4444444444444444,\"#bd3786\"],[0.5555555555555556,\"#d8576b\"],[0.6666666666666666,\"#ed7953\"],[0.7777777777777778,\"#fb9f3a\"],[0.8888888888888888,\"#fdca26\"],[1.0,\"#f0f921\"]]}],\"heatmapgl\":[{\"type\":\"heatmapgl\",\"colorbar\":{\"outlinewidth\":0,\"ticks\":\"\"},\"colorscale\":[[0.0,\"#0d0887\"],[0.1111111111111111,\"#46039f\"],[0.2222222222222222,\"#7201a8\"],[0.3333333333333333,\"#9c179e\"],[0.4444444444444444,\"#bd3786\"],[0.5555555555555556,\"#d8576b\"],[0.6666666666666666,\"#ed7953\"],[0.7777777777777778,\"#fb9f3a\"],[0.8888888888888888,\"#fdca26\"],[1.0,\"#f0f921\"]]}],\"contourcarpet\":[{\"type\":\"contourcarpet\",\"colorbar\":{\"outlinewidth\":0,\"ticks\":\"\"}}],\"contour\":[{\"type\":\"contour\",\"colorbar\":{\"outlinewidth\":0,\"ticks\":\"\"},\"colorscale\":[[0.0,\"#0d0887\"],[0.1111111111111111,\"#46039f\"],[0.2222222222222222,\"#7201a8\"],[0.3333333333333333,\"#9c179e\"],[0.4444444444444444,\"#bd3786\"],[0.5555555555555556,\"#d8576b\"],[0.6666666666666666,\"#ed7953\"],[0.7777777777777778,\"#fb9f3a\"],[0.8888888888888888,\"#fdca26\"],[1.0,\"#f0f921\"]]}],\"surface\":[{\"type\":\"surface\",\"colorbar\":{\"outlinewidth\":0,\"ticks\":\"\"},\"colorscale\":[[0.0,\"#0d0887\"],[0.1111111111111111,\"#46039f\"],[0.2222222222222222,\"#7201a8\"],[0.3333333333333333,\"#9c179e\"],[0.4444444444444444,\"#bd3786\"],[0.5555555555555556,\"#d8576b\"],[0.6666666666666666,\"#ed7953\"],[0.7777777777777778,\"#fb9f3a\"],[0.8888888888888888,\"#fdca26\"],[1.0,\"#f0f921\"]]}],\"mesh3d\":[{\"type\":\"mesh3d\",\"colorbar\":{\"outlinewidth\":0,\"ticks\":\"\"}}],\"scatter\":[{\"fillpattern\":{\"fillmode\":\"overlay\",\"size\":10,\"solidity\":0.2},\"type\":\"scatter\"}],\"parcoords\":[{\"type\":\"parcoords\",\"line\":{\"colorbar\":{\"outlinewidth\":0,\"ticks\":\"\"}}}],\"scatterpolargl\":[{\"type\":\"scatterpolargl\",\"marker\":{\"colorbar\":{\"outlinewidth\":0,\"ticks\":\"\"}}}],\"bar\":[{\"error_x\":{\"color\":\"#2a3f5f\"},\"error_y\":{\"color\":\"#2a3f5f\"},\"marker\":{\"line\":{\"color\":\"#E5ECF6\",\"width\":0.5},\"pattern\":{\"fillmode\":\"overlay\",\"size\":10,\"solidity\":0.2}},\"type\":\"bar\"}],\"scattergeo\":[{\"type\":\"scattergeo\",\"marker\":{\"colorbar\":{\"outlinewidth\":0,\"ticks\":\"\"}}}],\"scatterpolar\":[{\"type\":\"scatterpolar\",\"marker\":{\"colorbar\":{\"outlinewidth\":0,\"ticks\":\"\"}}}],\"histogram\":[{\"marker\":{\"pattern\":{\"fillmode\":\"overlay\",\"size\":10,\"solidity\":0.2}},\"type\":\"histogram\"}],\"scattergl\":[{\"type\":\"scattergl\",\"marker\":{\"colorbar\":{\"outlinewidth\":0,\"ticks\":\"\"}}}],\"scatter3d\":[{\"type\":\"scatter3d\",\"line\":{\"colorbar\":{\"outlinewidth\":0,\"ticks\":\"\"}},\"marker\":{\"colorbar\":{\"outlinewidth\":0,\"ticks\":\"\"}}}],\"scattermapbox\":[{\"type\":\"scattermapbox\",\"marker\":{\"colorbar\":{\"outlinewidth\":0,\"ticks\":\"\"}}}],\"scatterternary\":[{\"type\":\"scatterternary\",\"marker\":{\"colorbar\":{\"outlinewidth\":0,\"ticks\":\"\"}}}],\"scattercarpet\":[{\"type\":\"scattercarpet\",\"marker\":{\"colorbar\":{\"outlinewidth\":0,\"ticks\":\"\"}}}],\"carpet\":[{\"aaxis\":{\"endlinecolor\":\"#2a3f5f\",\"gridcolor\":\"white\",\"linecolor\":\"white\",\"minorgridcolor\":\"white\",\"startlinecolor\":\"#2a3f5f\"},\"baxis\":{\"endlinecolor\":\"#2a3f5f\",\"gridcolor\":\"white\",\"linecolor\":\"white\",\"minorgridcolor\":\"white\",\"startlinecolor\":\"#2a3f5f\"},\"type\":\"carpet\"}],\"table\":[{\"cells\":{\"fill\":{\"color\":\"#EBF0F8\"},\"line\":{\"color\":\"white\"}},\"header\":{\"fill\":{\"color\":\"#C8D4E3\"},\"line\":{\"color\":\"white\"}},\"type\":\"table\"}],\"barpolar\":[{\"marker\":{\"line\":{\"color\":\"#E5ECF6\",\"width\":0.5},\"pattern\":{\"fillmode\":\"overlay\",\"size\":10,\"solidity\":0.2}},\"type\":\"barpolar\"}],\"pie\":[{\"automargin\":true,\"type\":\"pie\"}]},\"layout\":{\"autotypenumbers\":\"strict\",\"colorway\":[\"#636efa\",\"#EF553B\",\"#00cc96\",\"#ab63fa\",\"#FFA15A\",\"#19d3f3\",\"#FF6692\",\"#B6E880\",\"#FF97FF\",\"#FECB52\"],\"font\":{\"color\":\"#2a3f5f\"},\"hovermode\":\"closest\",\"hoverlabel\":{\"align\":\"left\"},\"paper_bgcolor\":\"white\",\"plot_bgcolor\":\"#E5ECF6\",\"polar\":{\"bgcolor\":\"#E5ECF6\",\"angularaxis\":{\"gridcolor\":\"white\",\"linecolor\":\"white\",\"ticks\":\"\"},\"radialaxis\":{\"gridcolor\":\"white\",\"linecolor\":\"white\",\"ticks\":\"\"}},\"ternary\":{\"bgcolor\":\"#E5ECF6\",\"aaxis\":{\"gridcolor\":\"white\",\"linecolor\":\"white\",\"ticks\":\"\"},\"baxis\":{\"gridcolor\":\"white\",\"linecolor\":\"white\",\"ticks\":\"\"},\"caxis\":{\"gridcolor\":\"white\",\"linecolor\":\"white\",\"ticks\":\"\"}},\"coloraxis\":{\"colorbar\":{\"outlinewidth\":0,\"ticks\":\"\"}},\"colorscale\":{\"sequential\":[[0.0,\"#0d0887\"],[0.1111111111111111,\"#46039f\"],[0.2222222222222222,\"#7201a8\"],[0.3333333333333333,\"#9c179e\"],[0.4444444444444444,\"#bd3786\"],[0.5555555555555556,\"#d8576b\"],[0.6666666666666666,\"#ed7953\"],[0.7777777777777778,\"#fb9f3a\"],[0.8888888888888888,\"#fdca26\"],[1.0,\"#f0f921\"]],\"sequentialminus\":[[0.0,\"#0d0887\"],[0.1111111111111111,\"#46039f\"],[0.2222222222222222,\"#7201a8\"],[0.3333333333333333,\"#9c179e\"],[0.4444444444444444,\"#bd3786\"],[0.5555555555555556,\"#d8576b\"],[0.6666666666666666,\"#ed7953\"],[0.7777777777777778,\"#fb9f3a\"],[0.8888888888888888,\"#fdca26\"],[1.0,\"#f0f921\"]],\"diverging\":[[0,\"#8e0152\"],[0.1,\"#c51b7d\"],[0.2,\"#de77ae\"],[0.3,\"#f1b6da\"],[0.4,\"#fde0ef\"],[0.5,\"#f7f7f7\"],[0.6,\"#e6f5d0\"],[0.7,\"#b8e186\"],[0.8,\"#7fbc41\"],[0.9,\"#4d9221\"],[1,\"#276419\"]]},\"xaxis\":{\"gridcolor\":\"white\",\"linecolor\":\"white\",\"ticks\":\"\",\"title\":{\"standoff\":15},\"zerolinecolor\":\"white\",\"automargin\":true,\"zerolinewidth\":2},\"yaxis\":{\"gridcolor\":\"white\",\"linecolor\":\"white\",\"ticks\":\"\",\"title\":{\"standoff\":15},\"zerolinecolor\":\"white\",\"automargin\":true,\"zerolinewidth\":2},\"scene\":{\"xaxis\":{\"backgroundcolor\":\"#E5ECF6\",\"gridcolor\":\"white\",\"linecolor\":\"white\",\"showbackground\":true,\"ticks\":\"\",\"zerolinecolor\":\"white\",\"gridwidth\":2},\"yaxis\":{\"backgroundcolor\":\"#E5ECF6\",\"gridcolor\":\"white\",\"linecolor\":\"white\",\"showbackground\":true,\"ticks\":\"\",\"zerolinecolor\":\"white\",\"gridwidth\":2},\"zaxis\":{\"backgroundcolor\":\"#E5ECF6\",\"gridcolor\":\"white\",\"linecolor\":\"white\",\"showbackground\":true,\"ticks\":\"\",\"zerolinecolor\":\"white\",\"gridwidth\":2}},\"shapedefaults\":{\"line\":{\"color\":\"#2a3f5f\"}},\"annotationdefaults\":{\"arrowcolor\":\"#2a3f5f\",\"arrowhead\":0,\"arrowwidth\":1},\"geo\":{\"bgcolor\":\"white\",\"landcolor\":\"#E5ECF6\",\"subunitcolor\":\"white\",\"showland\":true,\"showlakes\":true,\"lakecolor\":\"white\"},\"title\":{\"x\":0.05},\"mapbox\":{\"style\":\"light\"}}},\"scene\":{\"domain\":{\"x\":[0.0,1.0],\"y\":[0.0,1.0]},\"xaxis\":{\"title\":{\"text\":\"0\"}},\"yaxis\":{\"title\":{\"text\":\"1\"}},\"zaxis\":{\"title\":{\"text\":\"2\"}}},\"legend\":{\"title\":{\"text\":\"color\"},\"tracegroupgap\":0},\"margin\":{\"t\":60}},                        {\"responsive\": true}                    ).then(function(){\n",
       "                            \n",
       "var gd = document.getElementById('ac7b3b4a-3ba3-434c-b90c-eb46a3548285');\n",
       "var x = new MutationObserver(function (mutations, observer) {{\n",
       "        var display = window.getComputedStyle(gd).display;\n",
       "        if (!display || display === 'none') {{\n",
       "            console.log([gd, 'removed!']);\n",
       "            Plotly.purge(gd);\n",
       "            observer.disconnect();\n",
       "        }}\n",
       "}});\n",
       "\n",
       "// Listen for the removal of the full notebook cells\n",
       "var notebookContainer = gd.closest('#notebook-container');\n",
       "if (notebookContainer) {{\n",
       "    x.observe(notebookContainer, {childList: true});\n",
       "}}\n",
       "\n",
       "// Listen for the clearing of the current output cell\n",
       "var outputEl = gd.closest('.output');\n",
       "if (outputEl) {{\n",
       "    x.observe(outputEl, {childList: true});\n",
       "}}\n",
       "\n",
       "                        })                };                });            </script>        </div>"
      ]
     },
     "metadata": {},
     "output_type": "display_data"
    }
   ],
   "source": [
    "import plotly.express as px\n",
    "fig = px.scatter_3d(x[:500],x=0,y=1,z=2,color=y[:500])\n",
    "fig.show()"
   ]
  }
 ],
 "metadata": {
  "kernelspec": {
   "display_name": "Python 3 (ipykernel)",
   "language": "python",
   "name": "python3"
  },
  "language_info": {
   "codemirror_mode": {
    "name": "ipython",
    "version": 3
   },
   "file_extension": ".py",
   "mimetype": "text/x-python",
   "name": "python",
   "nbconvert_exporter": "python",
   "pygments_lexer": "ipython3",
   "version": "3.10.9"
  }
 },
 "nbformat": 4,
 "nbformat_minor": 5
}
